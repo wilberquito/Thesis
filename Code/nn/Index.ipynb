{
  "nbformat": 4,
  "nbformat_minor": 0,
  "metadata": {
    "colab": {
      "provenance": [],
      "authorship_tag": "ABX9TyOSVMQp0GJnI0Mcym6DQmca",
      "include_colab_link": true
    },
    "kernelspec": {
      "name": "python3",
      "display_name": "Python 3"
    },
    "language_info": {
      "name": "python"
    }
  },
  "cells": [
    {
      "cell_type": "markdown",
      "metadata": {
        "id": "view-in-github",
        "colab_type": "text"
      },
      "source": [
        "<a href=\"https://colab.research.google.com/github/wilberquito/Thesis/blob/main/Code/nn/Index.ipynb\" target=\"_parent\"><img src=\"https://colab.research.google.com/assets/colab-badge.svg\" alt=\"Open In Colab\"/></a>"
      ]
    },
    {
      "cell_type": "markdown",
      "source": [
        "# Index thesis"
      ],
      "metadata": {
        "id": "k1zBBGFuCB6e"
      }
    },
    {
      "cell_type": "markdown",
      "source": [
        "## TOC\n",
        "\n",
        "* [Data exploration]()\n",
        "* [ResNet 18]()\n",
        "  * [v1]()\n",
        "  * [v2]()\n",
        "  * [v3]()\n",
        "  * [v4]()"
      ],
      "metadata": {
        "id": "NqMUyYPnCYEl"
      }
    }
  ]
}