{
  "nbformat": 4,
  "nbformat_minor": 0,
  "metadata": {
    "colab": {
      "provenance": [],
      "gpuType": "T4",
      "authorship_tag": "ABX9TyNlYIYONkAVpQcpjl6P/rVV",
      "include_colab_link": true
    },
    "kernelspec": {
      "name": "python3",
      "display_name": "Python 3"
    },
    "language_info": {
      "name": "python"
    },
    "accelerator": "GPU",
    "gpuClass": "standard"
  },
  "cells": [
    {
      "cell_type": "markdown",
      "metadata": {
        "id": "view-in-github",
        "colab_type": "text"
      },
      "source": [
        "<a href=\"https://colab.research.google.com/github/wilberquito/Thesis/blob/main/Code/nn/notebooks/resnet18/ResNet18_V1.ipynb\" target=\"_parent\"><img src=\"https://colab.research.google.com/assets/colab-badge.svg\" alt=\"Open In Colab\"/></a>"
      ]
    },
    {
      "cell_type": "markdown",
      "source": [
        "# ResNet18, V1"
      ],
      "metadata": {
        "id": "pQ4e4uSMPOdU"
      }
    },
    {
      "cell_type": "code",
      "execution_count": 1,
      "metadata": {
        "colab": {
          "base_uri": "https://localhost:8080/"
        },
        "id": "038j2pIRO7Pn",
        "outputId": "78054818-e9d9-4b14-e0ad-03846627b780"
      },
      "outputs": [
        {
          "output_type": "stream",
          "name": "stdout",
          "text": [
            "Mounted at /content/drive\n",
            "In colab: True\n"
          ]
        }
      ],
      "source": [
        "import requests\n",
        "from pathlib import Path\n",
        "import pandas as pd\n",
        "import seaborn as sns\n",
        "from zipfile import ZipFile\n",
        "\n",
        "try:\n",
        "    import google.colab\n",
        "    from google.colab import drive\n",
        "    IN_COLAB = True\n",
        "    drive.mount('/content/drive')\n",
        "except:\n",
        "    IN_COLAB = False\n",
        "\n",
        "print(f\"In colab: {IN_COLAB}\")"
      ]
    },
    {
      "cell_type": "code",
      "source": [
        "def pull_code():\n",
        "  print(\"Unzipping the code from google drive\")\n",
        "  !rm -rf modular/\n",
        "  !unzip ./drive/MyDrive/modular.zip -d . >/dev/null 2>&1\n",
        "\n",
        "if IN_COLAB:\n",
        "    pull_code() "
      ],
      "metadata": {
        "colab": {
          "base_uri": "https://localhost:8080/"
        },
        "id": "gJg-N2eTPYOj",
        "outputId": "de356c87-407e-4afd-cd01-6f9d935f6bb9"
      },
      "execution_count": 2,
      "outputs": [
        {
          "output_type": "stream",
          "name": "stdout",
          "text": [
            "Unzipping the code from google drive\n"
          ]
        }
      ]
    },
    {
      "cell_type": "code",
      "source": [
        "def pull_data():\n",
        "  answer = input(\"You sure? Y/n\\n\")\n",
        "  if answer != \"Y\":\n",
        "    return\n",
        "\n",
        "  print(\"Unzipping the data from google drive\")\n",
        "  !rm -rf data.etl/\n",
        "  !unzip ./drive/MyDrive/data.zip -d . >/dev/null 2>&1\n",
        "\n",
        "if IN_COLAB:\n",
        "    pull_data() "
      ],
      "metadata": {
        "colab": {
          "base_uri": "https://localhost:8080/"
        },
        "id": "UU9tCVXlPbPf",
        "outputId": "2724e2bb-3910-4b5a-a64d-4f6e5a767a1b"
      },
      "execution_count": 3,
      "outputs": [
        {
          "output_type": "stream",
          "name": "stdout",
          "text": [
            "You sure? Y/n\n",
            "Y\n",
            "Unzipping the data from google drive\n"
          ]
        }
      ]
    },
    {
      "cell_type": "code",
      "source": [
        "!nvidia-smi"
      ],
      "metadata": {
        "colab": {
          "base_uri": "https://localhost:8080/"
        },
        "id": "VuSumJ8NP44v",
        "outputId": "24ab3301-a358-4a42-9566-3df3b7328d00"
      },
      "execution_count": 4,
      "outputs": [
        {
          "output_type": "stream",
          "name": "stdout",
          "text": [
            "Fri May 19 13:46:34 2023       \n",
            "+-----------------------------------------------------------------------------+\n",
            "| NVIDIA-SMI 525.85.12    Driver Version: 525.85.12    CUDA Version: 12.0     |\n",
            "|-------------------------------+----------------------+----------------------+\n",
            "| GPU  Name        Persistence-M| Bus-Id        Disp.A | Volatile Uncorr. ECC |\n",
            "| Fan  Temp  Perf  Pwr:Usage/Cap|         Memory-Usage | GPU-Util  Compute M. |\n",
            "|                               |                      |               MIG M. |\n",
            "|===============================+======================+======================|\n",
            "|   0  Tesla T4            Off  | 00000000:00:04.0 Off |                    0 |\n",
            "| N/A   50C    P8    10W /  70W |      0MiB / 15360MiB |      0%      Default |\n",
            "|                               |                      |                  N/A |\n",
            "+-------------------------------+----------------------+----------------------+\n",
            "                                                                               \n",
            "+-----------------------------------------------------------------------------+\n",
            "| Processes:                                                                  |\n",
            "|  GPU   GI   CI        PID   Type   Process name                  GPU Memory |\n",
            "|        ID   ID                                                   Usage      |\n",
            "|=============================================================================|\n",
            "|  No running processes found                                                 |\n",
            "+-----------------------------------------------------------------------------+\n"
          ]
        }
      ]
    },
    {
      "cell_type": "markdown",
      "source": [
        "## Scheduler"
      ],
      "metadata": {
        "id": "9hBlbZtRf-OA"
      }
    },
    {
      "cell_type": "code",
      "source": [
        "LEARNING_RATE = 1e-3\n",
        "EPOCHS = 25\n",
        "STEP_SIZE = 8"
      ],
      "metadata": {
        "id": "ih5FO6Dhhzme"
      },
      "execution_count": 7,
      "outputs": []
    },
    {
      "cell_type": "code",
      "source": [
        "import torch\n",
        "import torch.optim.lr_scheduler as lr_scheduler # Import your choice of scheduler here\n",
        "\n",
        "import matplotlib.pyplot as plt\n",
        "from matplotlib.ticker import MultipleLocator\n",
        "\n",
        "# Set model and optimizer\n",
        "model = torch.nn.Linear(2, 1)\n",
        "optimizer = torch.optim.SGD(model.parameters(), lr=LEARNING_RATE)\n",
        "\n",
        "# Define your scheduler here as described above\n",
        "# ...\n",
        "scheduler = lr_scheduler.StepLR(optimizer, step_size=STEP_SIZE, gamma=0.1)\n",
        "\n",
        "# Get learning rates as each training step\n",
        "learning_rates = []\n",
        "\n",
        "for i in range(EPOCHS):\n",
        "    optimizer.step()\n",
        "    learning_rates.append(optimizer.param_groups[0][\"lr\"])\n",
        "    scheduler.step()\n",
        "\n",
        "# Visualize learinig rate scheduler\n",
        "fig, ax = plt.subplots(1,1, figsize=(10,5))\n",
        "ax.plot(range(EPOCHS), \n",
        "        learning_rates,\n",
        "        marker='o', \n",
        "        color='black')\n",
        "ax.set_xlim([0, EPOCHS])\n",
        "ax.set_ylim([0, LEARNING_RATE + 0.0001])\n",
        "ax.set_xlabel('Steps')\n",
        "ax.set_ylabel('Learning Rate')\n",
        "ax.spines['top'].set_visible(False)\n",
        "ax.spines['right'].set_visible(False)\n",
        "plt.show()"
      ],
      "metadata": {
        "colab": {
          "base_uri": "https://localhost:8080/",
          "height": 465
        },
        "id": "QvbAZFMvVY1v",
        "outputId": "1eb46b2a-a540-40bb-dce2-11902c473ad3"
      },
      "execution_count": 8,
      "outputs": [
        {
          "output_type": "display_data",
          "data": {
            "text/plain": [
              "<Figure size 1000x500 with 1 Axes>"
            ],
            "image/png": "[encoded data removed]"
          },
          "metadata": {}
        }
      ]
    },
    {
      "cell_type": "markdown",
      "source": [
        "## Fine Tunning"
      ],
      "metadata": {
        "id": "QIQkjLZ3QUe2"
      }
    },
    {
      "cell_type": "code",
      "source": [
        "## Try a Resnet prediction\n",
        "from torchvision import models\n",
        "import torch\n",
        "import torch.nn as nn\n",
        "import torch.optim as optim\n",
        "from torch.optim import lr_scheduler\n",
        "import modular.engine as engine\n",
        "from torchvision.models import (ResNet18_Weights)\n",
        "from torch.utils.data import DataLoader\n",
        "import torch\n",
        "import modular.dataset as m_dataset\n",
        "from torchvision import transforms\n",
        "\n",
        "# Build the dataframes\n",
        "data_dir = 'data.etl'\n",
        "data_folder = '512'\n",
        "train_df, test_df, mapping = m_dataset.get_df(data_dir, data_folder)\n",
        "\n",
        "device = 'cuda' if torch.cuda.is_available() else 'cpu'\n",
        "\n",
        "model_ft = models.resnet18(weights=ResNet18_Weights.IMAGENET1K_V1)\n",
        "num_ftrs = model_ft.fc.in_features\n",
        "\n",
        "model_ft.fc = nn.Linear(num_ftrs, len(mapping))\n",
        "\n",
        "model_ft = model_ft.to(device)\n",
        "\n",
        "criterion = nn.CrossEntropyLoss()\n",
        "\n",
        "# Observe that all parameters are being optimized\n",
        "optimizer_ft = optim.SGD(model_ft.parameters(), lr=LEARNING_RATE, momentum=0.9)\n",
        "\n",
        "# Decay LR by a factor of 0.1 every 7 epochs\n",
        "exp_lr_scheduler = lr_scheduler.StepLR(optimizer_ft, step_size=STEP_SIZE, gamma=0.1)\n",
        "\n",
        "\n",
        "# Mapping from id to classname\n",
        "idx_to_class = { k : classname for classname, k in mapping.items() }\n",
        "\n",
        "# Train and validate dataset & dataloader\n",
        "train_df, validate_df = m_dataset.train_validate_split(train_df,\n",
        "                                                       random_state=42,\n",
        "                                                       validate_size=0.15)\n",
        "\n",
        "\n",
        "train_transform = transforms.Compose([\n",
        "    transforms.Resize(256),\n",
        "    transforms.CenterCrop(224),\n",
        "    transforms.ToTensor(),\n",
        "    transforms.Normalize(mean=[0.485, 0.456, 0.406], std=[0.229, 0.224, 0.225])\n",
        "])\n",
        "\n",
        "validate_transform = transforms.Compose([\n",
        "    transforms.Resize(256),\n",
        "    transforms.CenterCrop(224),\n",
        "    transforms.ToTensor(),\n",
        "    transforms.Normalize(mean=[0.485, 0.456, 0.406], std=[0.229, 0.224, 0.225])\n",
        "])\n",
        "\n",
        "train_dataset = m_dataset.MelanomaDataset(train_df,\n",
        "                                          mode='train',\n",
        "                                          transform=train_transform,\n",
        "                                          idx_to_class=idx_to_class)                                                       \n",
        "validate_dataset = m_dataset.MelanomaDataset(validate_df,\n",
        "                                             mode='validate',\n",
        "                                             transform=validate_transform,\n",
        "                                             idx_to_class=idx_to_class)                                                       \n",
        "\n",
        "batch_size = 512                                             \n",
        "\n",
        "train_dataloader = DataLoader(train_dataset, batch_size=batch_size, shuffle=True)\n",
        "validate_dataloader = DataLoader(validate_dataset, batch_size=batch_size, shuffle=False)\n",
        "\n",
        "# Test dataset and dataloader\n",
        "test_dataset = m_dataset.MelanomaDataset(test_df,\n",
        "                                         mode='test',\n",
        "                                         idx_to_class=idx_to_class)                                                       \n",
        "test_dataloader = DataLoader(test_dataset, batch_size=batch_size, shuffle=False)\n",
        "\n",
        "# Dataloaders\n",
        "train_dataloaders = {\n",
        "    'train': train_dataloader,\n",
        "    'val': validate_dataloader,\n",
        "}\n",
        "\n",
        "train_dataloaders_size = {\n",
        "    'train': len(train_dataset),\n",
        "    'val': len(validate_dataset),\n",
        "}\n",
        "\n",
        "model_ft = engine.train_model(model_ft, \n",
        "                              train_dataloaders,\n",
        "                              train_dataloaders_size,\n",
        "                              device,\n",
        "                              criterion, \n",
        "                              optimizer_ft, \n",
        "                              exp_lr_scheduler,\n",
        "                              num_epochs=25)"
      ],
      "metadata": {
        "colab": {
          "base_uri": "https://localhost:8080/",
          "height": 496
        },
        "id": "6V73HAnrP4Az",
        "outputId": "4c17b958-5c01-4e03-e892-e80cd06e42e4"
      },
      "execution_count": 5,
      "outputs": [
        {
          "output_type": "stream",
          "name": "stderr",
          "text": [
            "Downloading: \"https://download.pytorch.org/models/resnet18-f37072fd.pth\" to /root/.cache/torch/hub/checkpoints/resnet18-f37072fd.pth\n",
            "100%|██████████| 44.7M/44.7M [00:00<00:00, 169MB/s]\n"
          ]
        },
        {
          "output_type": "stream",
          "name": "stdout",
          "text": [
            "Epoch 1/25\n",
            "----------\n",
            "Train Loss: 1.1801 Train Acc: 0.5941\n",
            "Val Loss: 0.9395 Val Acc: 0.6714\n",
            "Epoch 2/25\n",
            "----------\n"
          ]
        },
        {
          "output_type": "error",
          "ename": "KeyboardInterrupt",
          "evalue": "ignored",
          "traceback": [
            "\u001b[0;31m---------------------------------------------------------------------------\u001b[0m",
            "\u001b[0;31mKeyboardInterrupt\u001b[0m                         Traceback (most recent call last)",
            "\u001b[0;32m<ipython-input-5-8ac1a16abd98>\u001b[0m in \u001b[0;36m<cell line: 91>\u001b[0;34m()\u001b[0m\n\u001b[1;32m     89\u001b[0m }\n\u001b[1;32m     90\u001b[0m \u001b[0;34m\u001b[0m\u001b[0m\n\u001b[0;32m---> 91\u001b[0;31m model_ft = engine.train_model(model_ft, \n\u001b[0m\u001b[1;32m     92\u001b[0m                               \u001b[0mtrain_dataloaders\u001b[0m\u001b[0;34m,\u001b[0m\u001b[0;34m\u001b[0m\u001b[0;34m\u001b[0m\u001b[0m\n\u001b[1;32m     93\u001b[0m                               \u001b[0mtrain_dataloaders_size\u001b[0m\u001b[0;34m,\u001b[0m\u001b[0;34m\u001b[0m\u001b[0;34m\u001b[0m\u001b[0m\n",
            "\u001b[0;32m/content/modular/engine.py\u001b[0m in \u001b[0;36mtrain_model\u001b[0;34m(model, dataloaders, dataset_sizes, device, criterion, optimizer, scheduler, num_epochs, patience, writter)\u001b[0m\n\u001b[1;32m     78\u001b[0m \u001b[0;34m\u001b[0m\u001b[0m\n\u001b[1;32m     79\u001b[0m                 \u001b[0;31m# statistics\u001b[0m\u001b[0;34m\u001b[0m\u001b[0;34m\u001b[0m\u001b[0m\n\u001b[0;32m---> 80\u001b[0;31m                 \u001b[0mrunning_loss\u001b[0m \u001b[0;34m+=\u001b[0m \u001b[0mloss\u001b[0m\u001b[0;34m.\u001b[0m\u001b[0mitem\u001b[0m\u001b[0;34m(\u001b[0m\u001b[0;34m)\u001b[0m \u001b[0;34m*\u001b[0m \u001b[0minputs\u001b[0m\u001b[0;34m.\u001b[0m\u001b[0msize\u001b[0m\u001b[0;34m(\u001b[0m\u001b[0;36m0\u001b[0m\u001b[0;34m)\u001b[0m\u001b[0;34m\u001b[0m\u001b[0;34m\u001b[0m\u001b[0m\n\u001b[0m\u001b[1;32m     81\u001b[0m                 \u001b[0mrunning_corrects\u001b[0m \u001b[0;34m+=\u001b[0m \u001b[0mtorch\u001b[0m\u001b[0;34m.\u001b[0m\u001b[0msum\u001b[0m\u001b[0;34m(\u001b[0m\u001b[0mpreds\u001b[0m \u001b[0;34m==\u001b[0m \u001b[0mlabels\u001b[0m\u001b[0;34m.\u001b[0m\u001b[0mdata\u001b[0m\u001b[0;34m)\u001b[0m\u001b[0;34m\u001b[0m\u001b[0;34m\u001b[0m\u001b[0m\n\u001b[1;32m     82\u001b[0m \u001b[0;34m\u001b[0m\u001b[0m\n",
            "\u001b[0;31mKeyboardInterrupt\u001b[0m: "
          ]
        }
      ]
    }
  ]
}