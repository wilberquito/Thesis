{
  "nbformat": 4,
  "nbformat_minor": 0,
  "metadata": {
    "colab": {
      "provenance": [],
      "gpuType": "T4",
      "authorship_tag": "ABX9TyOYLbopdIiROeSTu52/v8vH",
      "include_colab_link": true
    },
    "kernelspec": {
      "name": "python3",
      "display_name": "Python 3"
    },
    "language_info": {
      "name": "python"
    },
    "accelerator": "GPU",
    "gpuClass": "standard"
  },
  "cells": [
    {
      "cell_type": "markdown",
      "metadata": {
        "id": "view-in-github",
        "colab_type": "text"
      },
      "source": [
        "<a href=\"https://colab.research.google.com/github/wilberquito/Thesis/blob/main/Code/nn/notebooks/resnet18/ResNet18_V0.ipynb\" target=\"_parent\"><img src=\"https://colab.research.google.com/assets/colab-badge.svg\" alt=\"Open In Colab\"/></a>"
      ]
    },
    {
      "cell_type": "markdown",
      "source": [
        "# ResNet18, V0"
      ],
      "metadata": {
        "id": "SCQmC5kLPQT0"
      }
    },
    {
      "cell_type": "code",
      "execution_count": 1,
      "metadata": {
        "colab": {
          "base_uri": "https://localhost:8080/"
        },
        "id": "BKMCi7vmPGBB",
        "outputId": "7b0a7284-6bd4-4fc2-bfaa-92fd6ff9b8e5"
      },
      "outputs": [
        {
          "output_type": "stream",
          "name": "stdout",
          "text": [
            "\u001b[2K     \u001b[90m━━━━━━━━━━━━━━━━━━━━━━━━━━━━━━━━━━━━━━\u001b[0m \u001b[32m519.2/519.2 kB\u001b[0m \u001b[31m12.1 MB/s\u001b[0m eta \u001b[36m0:00:00\u001b[0m\n",
            "\u001b[2K     \u001b[90m━━━━━━━━━━━━━━━━━━━━━━━━━━━━━━━━━━━━━━━━\u001b[0m \u001b[32m1.4/1.4 MB\u001b[0m \u001b[31m46.6 MB/s\u001b[0m eta \u001b[36m0:00:00\u001b[0m\n",
            "\u001b[?25hmlxtend version: 0.22.0\n"
          ]
        }
      ],
      "source": [
        "try:\n",
        "    import torchmetrics, mlxtend\n",
        "    print(f\"mlxtend version: {mlxtend.__version__}\")\n",
        "    assert int(mlxtend.__version__.split(\".\")[1]) >= 19, \"mlxtend verison should be 0.19.0 or higher\"\n",
        "except:\n",
        "    !pip install -q torchmetrics -U mlxtend # <- Note: If you're using Google Colab, this may require restarting the runtime\n",
        "    import torchmetrics, mlxtend\n",
        "    print(f\"mlxtend version: {mlxtend.__version__}\")"
      ]
    },
    {
      "cell_type": "code",
      "source": [
        "import requests\n",
        "from pathlib import Path\n",
        "import pandas as pd\n",
        "import seaborn as sns\n",
        "from zipfile import ZipFile\n",
        "\n",
        "try:\n",
        "    import google.colab\n",
        "    from google.colab import drive\n",
        "    IN_COLAB = True\n",
        "    drive.mount('/content/drive')\n",
        "except:\n",
        "    IN_COLAB = False\n",
        "\n",
        "print(f\"In colab: {IN_COLAB}\")"
      ],
      "metadata": {
        "colab": {
          "base_uri": "https://localhost:8080/"
        },
        "id": "ihhQPJWuPUTg",
        "outputId": "a898cfee-9a95-494d-dfc5-742a3c5e80b0"
      },
      "execution_count": 2,
      "outputs": [
        {
          "output_type": "stream",
          "name": "stdout",
          "text": [
            "Mounted at /content/drive\n",
            "In colab: True\n"
          ]
        }
      ]
    },
    {
      "cell_type": "code",
      "source": [
        "def pull_code():\n",
        "  print(\"Unzipping the code from google drive\")\n",
        "  !rm -rf modular/\n",
        "  !unzip ./drive/MyDrive/wilberquito_thesis/modular.zip -d . >/dev/null 2>&1\n",
        "\n",
        "if IN_COLAB:\n",
        "    pull_code() "
      ],
      "metadata": {
        "colab": {
          "base_uri": "https://localhost:8080/"
        },
        "id": "EMF_xpcFPWI7",
        "outputId": "e00cbd45-71e2-4e61-f9a9-83c3acf7d1e7"
      },
      "execution_count": 3,
      "outputs": [
        {
          "output_type": "stream",
          "name": "stdout",
          "text": [
            "Unzipping the code from google drive\n"
          ]
        }
      ]
    },
    {
      "cell_type": "code",
      "source": [
        "def pull_data():\n",
        "  answer = input(\"You sure? Y/n\\n\")\n",
        "  if answer != \"Y\":\n",
        "    return\n",
        "\n",
        "  print(\"Unzipping the data from google drive\")\n",
        "  !rm -rf data.etl/\n",
        "  !unzip ./drive/MyDrive/wilberquito_thesis/data.zip -d . >/dev/null 2>&1\n",
        "\n",
        "if IN_COLAB:\n",
        "    pull_data() "
      ],
      "metadata": {
        "colab": {
          "base_uri": "https://localhost:8080/"
        },
        "id": "717hbqPVPYsZ",
        "outputId": "4aa811f7-280f-4102-950a-3da129209c26"
      },
      "execution_count": 4,
      "outputs": [
        {
          "output_type": "stream",
          "name": "stdout",
          "text": [
            "You sure? Y/n\n",
            "Y\n",
            "Unzipping the data from google drive\n"
          ]
        }
      ]
    },
    {
      "cell_type": "code",
      "source": [
        "!nvidia-smi"
      ],
      "metadata": {
        "colab": {
          "base_uri": "https://localhost:8080/"
        },
        "id": "pONAQx6IPadf",
        "outputId": "be517867-cf4d-410c-b26f-e2fa3e87c95c"
      },
      "execution_count": 5,
      "outputs": [
        {
          "output_type": "stream",
          "name": "stdout",
          "text": [
            "Fri May 26 09:02:09 2023       \n",
            "+-----------------------------------------------------------------------------+\n",
            "| NVIDIA-SMI 525.85.12    Driver Version: 525.85.12    CUDA Version: 12.0     |\n",
            "|-------------------------------+----------------------+----------------------+\n",
            "| GPU  Name        Persistence-M| Bus-Id        Disp.A | Volatile Uncorr. ECC |\n",
            "| Fan  Temp  Perf  Pwr:Usage/Cap|         Memory-Usage | GPU-Util  Compute M. |\n",
            "|                               |                      |               MIG M. |\n",
            "|===============================+======================+======================|\n",
            "|   0  Tesla T4            Off  | 00000000:00:04.0 Off |                    0 |\n",
            "| N/A   43C    P8     9W /  70W |      0MiB / 15360MiB |      0%      Default |\n",
            "|                               |                      |                  N/A |\n",
            "+-------------------------------+----------------------+----------------------+\n",
            "                                                                               \n",
            "+-----------------------------------------------------------------------------+\n",
            "| Processes:                                                                  |\n",
            "|  GPU   GI   CI        PID   Type   Process name                  GPU Memory |\n",
            "|        ID   ID                                                   Usage      |\n",
            "|=============================================================================|\n",
            "|  No running processes found                                                 |\n",
            "+-----------------------------------------------------------------------------+\n"
          ]
        }
      ]
    },
    {
      "cell_type": "markdown",
      "source": [
        "## Scheduler"
      ],
      "metadata": {
        "id": "pwtFfi4CP-He"
      }
    },
    {
      "cell_type": "code",
      "source": [
        "LEARNING_RATE = 1e-3\n",
        "EPOCHS = 20"
      ],
      "metadata": {
        "id": "RA4-dIrWP9ha"
      },
      "execution_count": 6,
      "outputs": []
    },
    {
      "cell_type": "markdown",
      "source": [
        "## Writter"
      ],
      "metadata": {
        "id": "uSJPNlzePtxU"
      }
    },
    {
      "cell_type": "code",
      "source": [
        "import modular.utility as m_utility\n",
        "\n",
        "writter = m_utility.model_writter('resnet18_v0')"
      ],
      "metadata": {
        "id": "ej88fTXiPhQX"
      },
      "execution_count": 7,
      "outputs": []
    },
    {
      "cell_type": "markdown",
      "source": [
        "## Train"
      ],
      "metadata": {
        "id": "uQGcGGcCP0TC"
      }
    },
    {
      "cell_type": "code",
      "source": [
        "from torchvision import models\n",
        "import torch\n",
        "import torch.nn as nn\n",
        "import torch.optim as optim\n",
        "from torch.optim import lr_scheduler\n",
        "from torchvision.models import (ResNet18_Weights)\n",
        "from torch.utils.data import DataLoader\n",
        "import torch\n",
        "import torchvision as tv\n",
        "import modular.dataset as m_dataset\n",
        "import modular.utility as m_utility\n",
        "import modular.engine as engine\n",
        "import modular.models as m_models\n",
        "\n",
        "# Set seed\n",
        "m_utility.set_seed(42)\n",
        "\n",
        "# Build the dataframes\n",
        "data_dir = 'data.etl'\n",
        "data_folder = '512'\n",
        "train_df, test_df, mapping = m_dataset.get_df(data_dir, data_folder)\n",
        "\n",
        "device = 'cuda' if torch.cuda.is_available() else 'cpu'\n",
        "\n",
        "out_features = len(mapping)\n",
        "model = m_models.ResNet18_Melanoma(out_features)\n",
        "model = model.to(device)\n",
        "\n",
        "criterion = nn.CrossEntropyLoss()\n",
        "\n",
        "# Observe that all parameters are being optimized\n",
        "optimizer = optim.SGD(model.parameters(), lr=LEARNING_RATE, momentum=0.9)\n",
        "\n",
        "# Mapping from id to classname\n",
        "idx_to_class = { k : classname for classname, k in mapping.items() }\n",
        "\n",
        "# Train and validate dataset & dataloader\n",
        "train_df, validate_df = m_dataset.train_validate_split(train_df,\n",
        "                                                       random_state=42,\n",
        "                                                       validate_size=0.15)\n",
        "\n",
        "\n",
        "\n",
        "train_transforms, val_transforms = m_dataset.get_transforms(image_size=256)\n",
        "train_transforms = val_transforms\n",
        "\n",
        "train_dataset = m_dataset.MelanomaDataset(train_df,\n",
        "                                          mode='train',\n",
        "                                          transforms=train_transforms,\n",
        "                                          idx_to_class=idx_to_class)                                                       \n",
        "validate_dataset = m_dataset.MelanomaDataset(validate_df,\n",
        "                                             mode='validate',\n",
        "                                             transforms=val_transforms,\n",
        "                                             idx_to_class=idx_to_class)                                                       \n",
        "\n",
        "batch_size = 400                                          \n",
        "\n",
        "train_dataloader = DataLoader(train_dataset, batch_size=batch_size, shuffle=True)\n",
        "validate_dataloader = DataLoader(validate_dataset, batch_size=batch_size, shuffle=False)\n",
        "\n",
        "# Test dataset and dataloader\n",
        "test_dataset = m_dataset.MelanomaDataset(test_df,\n",
        "                                         mode='test',\n",
        "                                         idx_to_class=idx_to_class)                                                       \n",
        "test_dataloader = DataLoader(test_dataset, batch_size=batch_size, shuffle=False)\n",
        "\n",
        "# Dataloaders\n",
        "dataloaders = {\n",
        "    'train': train_dataloader,\n",
        "    'val': validate_dataloader,\n",
        "}\n",
        "\n",
        "datasets_size = {\n",
        "    'train': len(train_dataset),\n",
        "    'val': len(validate_dataset),\n",
        "}\n",
        "\n",
        "about_data = {\n",
        "    'dataloaders': dataloaders,\n",
        "    'datasets': {\n",
        "        'size': datasets_size\n",
        "    }\n",
        "}\n",
        "\n",
        "MEL_IDX = 6 # Check data exploration notebook\n",
        "VAL_TIMES = 4\n",
        "\n",
        "model_ft, stats = engine.train_model(model, \n",
        "                                     MEL_IDX,\n",
        "                                     about_data,\n",
        "                                     device,\n",
        "                                     criterion, \n",
        "                                     optimizer, \n",
        "                                     num_epochs=EPOCHS,\n",
        "                                     writter=writter,\n",
        "                                     val_times=VAL_TIMES)"
      ],
      "metadata": {
        "colab": {
          "base_uri": "https://localhost:8080/"
        },
        "id": "Q94efm_APzMl",
        "outputId": "5e84e0e5-b0d0-479b-9820-3aca7e9ad8ca"
      },
      "execution_count": null,
      "outputs": [
        {
          "output_type": "stream",
          "name": "stderr",
          "text": [
            "Downloading: \"https://download.pytorch.org/models/resnet18-f37072fd.pth\" to /root/.cache/torch/hub/checkpoints/resnet18-f37072fd.pth\n",
            "100%|██████████| 44.7M/44.7M [00:00<00:00, 145MB/s]\n",
            "/usr/local/lib/python3.10/dist-packages/albumentations/augmentations/transforms.py:1765: UserWarning: blur_limit and sigma_limit minimum value can not be both equal to 0. blur_limit minimum value changed to 3.\n",
            "  warnings.warn(\n"
          ]
        },
        {
          "output_type": "stream",
          "name": "stdout",
          "text": [
            "Epoch 1/20\n",
            "----------\n",
            "Train OvR: 0.8005 \t|\tTrain Loss: 1.1176 \t|\tTrain Acc: 0.6250\n",
            "Val OvR: 0.8171 \t|\tVal Loss: 0.9044 \t|\tVal Acc: 0.6823\n",
            "=> Saving a new checkpoint\n",
            "Epoch 2/20\n",
            "----------\n",
            "Train OvR: 0.8591 \t|\tTrain Loss: 0.8566 \t|\tTrain Acc: 0.6992\n",
            "Val OvR: 0.8471 \t|\tVal Loss: 0.8277 \t|\tVal Acc: 0.7077\n",
            "=> Saving a new checkpoint\n",
            "Epoch 3/20\n",
            "----------\n",
            "Train OvR: 0.8618 \t|\tTrain Loss: 0.7883 \t|\tTrain Acc: 0.7205\n",
            "Val OvR: 0.8648 \t|\tVal Loss: 0.7877 \t|\tVal Acc: 0.7194\n",
            "=> Saving a new checkpoint\n",
            "Epoch 4/20\n",
            "----------\n",
            "Train OvR: 0.8890 \t|\tTrain Loss: 0.7384 \t|\tTrain Acc: 0.7372\n",
            "Val OvR: 0.8763 \t|\tVal Loss: 0.7560 \t|\tVal Acc: 0.7284\n",
            "=> Saving a new checkpoint\n",
            "Epoch 5/20\n",
            "----------\n",
            "Train OvR: 0.9309 \t|\tTrain Loss: 0.6977 \t|\tTrain Acc: 0.7512\n",
            "Val OvR: 0.8903 \t|\tVal Loss: 0.7305 \t|\tVal Acc: 0.7360\n",
            "=> Saving a new checkpoint\n",
            "Epoch 6/20\n",
            "----------\n",
            "Train OvR: 0.9029 \t|\tTrain Loss: 0.6579 \t|\tTrain Acc: 0.7638\n",
            "Val OvR: 0.8927 \t|\tVal Loss: 0.7116 \t|\tVal Acc: 0.7394\n",
            "=> Saving a new checkpoint\n",
            "Epoch 7/20\n",
            "----------\n",
            "Train OvR: 0.9704 \t|\tTrain Loss: 0.6250 \t|\tTrain Acc: 0.7752\n",
            "Val OvR: 0.8931 \t|\tVal Loss: 0.6922 \t|\tVal Acc: 0.7488\n",
            "=> Saving a new checkpoint\n",
            "Epoch 8/20\n",
            "----------\n",
            "Train OvR: 0.9328 \t|\tTrain Loss: 0.5907 \t|\tTrain Acc: 0.7882\n",
            "Val OvR: 0.8960 \t|\tVal Loss: 0.6755 \t|\tVal Acc: 0.7557\n",
            "=> Saving a new checkpoint\n",
            "Epoch 9/20\n",
            "----------\n",
            "Train OvR: 0.8947 \t|\tTrain Loss: 0.5574 \t|\tTrain Acc: 0.8012\n",
            "Val OvR: 0.9040 \t|\tVal Loss: 0.6665 \t|\tVal Acc: 0.7580\n",
            "=> Saving a new checkpoint\n",
            "Epoch 10/20\n",
            "----------\n",
            "Train OvR: 0.9393 \t|\tTrain Loss: 0.5280 \t|\tTrain Acc: 0.8139\n",
            "Val OvR: 0.9016 \t|\tVal Loss: 0.6550 \t|\tVal Acc: 0.7638\n",
            "=> Saving a new checkpoint\n",
            "Epoch 11/20\n",
            "----------\n",
            "Train OvR: 0.9337 \t|\tTrain Loss: 0.4962 \t|\tTrain Acc: 0.8264\n",
            "Val OvR: 0.8965 \t|\tVal Loss: 0.6435 \t|\tVal Acc: 0.7672\n",
            "=> Saving a new checkpoint\n",
            "Epoch 12/20\n",
            "----------\n",
            "Train OvR: 0.9364 \t|\tTrain Loss: 0.4646 \t|\tTrain Acc: 0.8392\n",
            "Val OvR: 0.9021 \t|\tVal Loss: 0.6343 \t|\tVal Acc: 0.7680\n",
            "=> Saving a new checkpoint\n",
            "Epoch 13/20\n",
            "----------\n"
          ]
        }
      ]
    },
    {
      "cell_type": "code",
      "source": [
        "if IN_COLAB:\n",
        "  from google.colab import files\n",
        "  files.download('resnet18_v1.pth.tar')\n",
        "  files.download('resnet18_v1.csv')"
      ],
      "metadata": {
        "id": "M7CzgagCVmtd"
      },
      "execution_count": null,
      "outputs": []
    },
    {
      "cell_type": "markdown",
      "source": [
        "## Train performance"
      ],
      "metadata": {
        "id": "DjKg4pI9Vs46"
      }
    },
    {
      "cell_type": "code",
      "source": [
        "def pull_models():\n",
        "  print(\"Loading models from google drive\")\n",
        "  !rm -rf resnet18/\n",
        "  !cp -r ./drive/MyDrive/wilberquito_thesis/models/resnet18 . >/dev/null 2>&1\n",
        "\n",
        "if IN_COLAB:\n",
        "    pull_models()\n",
        "     "
      ],
      "metadata": {
        "id": "uHgR-qmbVwTs"
      },
      "execution_count": null,
      "outputs": []
    },
    {
      "cell_type": "code",
      "source": [
        "import torch\n",
        "import modular.utility as m_utility\n",
        "import modular.models as m_models\n",
        "\n",
        "\n",
        "model_path = 'resnet18/resnet18_v0.pth.tar'\n",
        "checkpoint = torch.load(model_path)"
      ],
      "metadata": {
        "id": "MCdeWPJ0Vytn"
      },
      "execution_count": null,
      "outputs": []
    },
    {
      "cell_type": "markdown",
      "source": [
        "## Train vs Validate curves"
      ],
      "metadata": {
        "id": "FQuXm1aMV3pc"
      }
    },
    {
      "cell_type": "code",
      "source": [
        "m_utility.plot_curves(checkpoint['stats'])"
      ],
      "metadata": {
        "id": "hR7ypqO0V6mm"
      },
      "execution_count": null,
      "outputs": []
    },
    {
      "cell_type": "markdown",
      "source": [
        "## Melanoma vs Rest (AUC, OVR)"
      ],
      "metadata": {
        "id": "wTb4jShyV88X"
      }
    },
    {
      "cell_type": "code",
      "source": [
        "import torch\n",
        "import torchvision as tv\n",
        "import torch.nn as nn\n",
        "from torch.utils.data import DataLoader\n",
        "from torchvision.models import (ResNet18_Weights)\n",
        "import torchvision.models as models\n",
        "import modular.dataset as m_dataset\n",
        "import modular.utility as m_utility\n",
        "import modular.models as m_models\n",
        "\n",
        "\n",
        "# Set seed\n",
        "m_utility.set_seed(42)\n",
        "\n",
        "# Build the dataframes\n",
        "data_dir = 'data.etl'\n",
        "data_folder = '512'\n",
        "train_df, _, mapping = m_dataset.get_df(data_dir, data_folder)\n",
        "device = 'cuda' if torch.cuda.is_available() else 'cpu'\n",
        "\n",
        "batch_size = 512                                             \n",
        "\n",
        "# Mapping from id to classname\n",
        "idx_to_class = { k : classname for classname, k in mapping.items() }\n",
        "\n",
        "# Train and validate dataset & dataloader\n",
        "train_df, validate_df = m_dataset.train_validate_split(train_df,\n",
        "                                                       random_state=42,\n",
        "                                                       validate_size=0.15)\n",
        "\n",
        "\n",
        "_, val_transforms = m_dataset.get_transforms(image_size=256)\n",
        "\n",
        "validate_dataset = m_dataset.MelanomaDataset(validate_df,\n",
        "                                             mode='validate',\n",
        "                                             transforms=val_transforms,\n",
        "                                             idx_to_class=idx_to_class) \n",
        "validate_dataloader = DataLoader(validate_dataset, batch_size=batch_size, shuffle=False)\n",
        "class_names = [name for k,name in validate_dataset.idx_to_class.items()]\n",
        "\n",
        "out_features = len(mapping)\n",
        "model = m_models.ResNet18_Melanoma(out_features)\n",
        "model = model.to(device)\n",
        "\n",
        "model_state_dict = checkpoint['model_state_dict']\n",
        "model.load_state_dict(model_state_dict)\n",
        "model = model.to(device)\n",
        "\n",
        "MEL_IDX = 6 # Check data exploration notebook\n",
        "\n",
        "m_utility.plot_ovr_multiclass_roc(model,\n",
        "                                  MEL_IDX,\n",
        "                                  validate_dataloader,\n",
        "                                  device,\n",
        "                                  val_times=4)"
      ],
      "metadata": {
        "id": "8N_60S6lWAZ3"
      },
      "execution_count": null,
      "outputs": []
    },
    {
      "cell_type": "markdown",
      "source": [
        "## Confusion Matrix"
      ],
      "metadata": {
        "id": "RUT6qmY1WDOp"
      }
    },
    {
      "cell_type": "code",
      "source": [
        "import torch\n",
        "import torchvision as tv\n",
        "import torch.nn as nn\n",
        "from torch.utils.data import DataLoader\n",
        "from torchvision.models import (ResNet18_Weights)\n",
        "import torchvision.models as models\n",
        "import modular.dataset as m_dataset\n",
        "import modular.utility as m_utility\n",
        "import modular.models as m_models\n",
        "\n",
        "\n",
        "# Set seed\n",
        "m_utility.set_seed(42)\n",
        "\n",
        "# Build the dataframes\n",
        "data_dir = 'data.etl'\n",
        "data_folder = '512'\n",
        "train_df, _, mapping = m_dataset.get_df(data_dir, data_folder)\n",
        "device = 'cuda' if torch.cuda.is_available() else 'cpu'\n",
        "\n",
        "batch_size = 512                                             \n",
        "\n",
        "# Mapping from id to classname\n",
        "idx_to_class = { k : classname for classname, k in mapping.items() }\n",
        "\n",
        "# Train and validate dataset & dataloader\n",
        "train_df, validate_df = m_dataset.train_validate_split(train_df,\n",
        "                                                       random_state=42,\n",
        "                                                       validate_size=0.15)\n",
        "\n",
        "\n",
        "_, val_transforms = m_dataset.get_transforms(image_size=256)\n",
        "\n",
        "validate_dataset = m_dataset.MelanomaDataset(validate_df,\n",
        "                                             mode='validate',\n",
        "                                             transforms=val_transforms,\n",
        "                                             idx_to_class=idx_to_class) \n",
        "validate_dataloader = DataLoader(validate_dataset, batch_size=batch_size, shuffle=False)\n",
        "class_names = [name for k,name in validate_dataset.idx_to_class.items()]\n",
        "\n",
        "out_features = len(mapping)\n",
        "model = m_models.ResNet18_Melanoma(out_features)\n",
        "model = model.to(device)\n",
        "\n",
        "model_state_dict = checkpoint['model_state_dict']\n",
        "model.load_state_dict(model_state_dict)\n",
        "model = model.to(device)\n",
        "\n",
        "m_utility.plot_confusion_matrix(model,\n",
        "                                validate_dataloader,\n",
        "                                class_names,\n",
        "                                device,\n",
        "                                show_normed=True)"
      ],
      "metadata": {
        "id": "NeRvVmRvWGZx"
      },
      "execution_count": null,
      "outputs": []
    }
  ]
}