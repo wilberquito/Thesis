{
  "nbformat": 4,
  "nbformat_minor": 0,
  "metadata": {
    "colab": {
      "provenance": [],
      "authorship_tag": "ABX9TyN1sSyRJMQv0XwSog7PI56O",
      "include_colab_link": true
    },
    "kernelspec": {
      "name": "python3",
      "display_name": "Python 3"
    },
    "language_info": {
      "name": "python"
    }
  },
  "cells": [
    {
      "cell_type": "markdown",
      "metadata": {
        "id": "view-in-github",
        "colab_type": "text"
      },
      "source": [
        "<a href=\"https://colab.research.google.com/github/wilberquito/Thesis/blob/main/Code/nn/Index.ipynb\" target=\"_parent\"><img src=\"https://colab.research.google.com/assets/colab-badge.svg\" alt=\"Open In Colab\"/></a>"
      ]
    },
    {
      "cell_type": "markdown",
      "source": [
        "# Index thesis"
      ],
      "metadata": {
        "id": "k1zBBGFuCB6e"
      }
    },
    {
      "cell_type": "markdown",
      "source": [
        "* [Data exploration](https://github.com/wilberquito/Thesis/blob/main/Code/nn/notebooks/DataExploration.ipynb)\n",
        "* [ResNet 18]()\n",
        "  * [V1](https://github.com/wilberquito/Thesis/blob/main/Code/nn/notebooks/resnet18/ResNet18_V1.ipynb)\n",
        "  * [V2]()\n",
        "  * [V3]()\n",
        "  * [V4]()"
      ],
      "metadata": {
        "id": "NqMUyYPnCYEl"
      }
    },
    {
      "cell_type": "markdown",
      "source": [
        "## Data Exploration"
      ],
      "metadata": {
        "id": "ZZHjTUHCQlFI"
      }
    },
    {
      "cell_type": "markdown",
      "source": [
        "In this notebook we can see information about the images and it's metadata passed to the different trainned models."
      ],
      "metadata": {
        "id": "xtPhuIqyQnWp"
      }
    },
    {
      "cell_type": "markdown",
      "source": [
        "## ResNet 18"
      ],
      "metadata": {
        "id": "UT6n7U8WQ1Ix"
      }
    },
    {
      "cell_type": "markdown",
      "source": [
        "### V1"
      ],
      "metadata": {
        "id": "xRypiwB8Q45O"
      }
    },
    {
      "cell_type": "markdown",
      "source": [
        "- Transfer learning type: fine tunning\n",
        "- Optimizer: SGD\n",
        " - lr: 0.001\n",
        "- Scheduler: StepLR\n",
        " - decay: 0.1\n",
        " - step_size: 7\n",
        "- Epochs: 25\n",
        "- batch_size: 512\n",
        "- Data augmentation\n",
        " - Normalization\n"
      ],
      "metadata": {
        "id": "WV7VTFzuRAPd"
      }
    }
  ]
}