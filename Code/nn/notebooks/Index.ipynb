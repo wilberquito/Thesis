{
  "nbformat": 4,
  "nbformat_minor": 0,
  "metadata": {
    "colab": {
      "provenance": [],
      "include_colab_link": true
    },
    "kernelspec": {
      "name": "python3",
      "display_name": "Python 3"
    },
    "language_info": {
      "name": "python"
    }
  },
  "cells": [
    {
      "cell_type": "markdown",
      "metadata": {
        "id": "view-in-github",
        "colab_type": "text"
      },
      "source": [
        "<a href=\"https://colab.research.google.com/github/wilberquito/Thesis/blob/main/Code/nn/notebooks/Index.ipynb\" target=\"_parent\"><img src=\"https://colab.research.google.com/assets/colab-badge.svg\" alt=\"Open In Colab\"/></a>"
      ]
    },
    {
      "cell_type": "markdown",
      "source": [
        "# Index thesis"
      ],
      "metadata": {
        "id": "k1zBBGFuCB6e"
      }
    },
    {
      "cell_type": "markdown",
      "source": [
        "* [Data exploration](https://github.com/wilberquito/Thesis/blob/main/Code/nn/notebooks/DataExploration.ipynb)\n",
        "* [ResNet 18]()\n",
        "  * [V1](https://github.com/wilberquito/Thesis/blob/main/Code/nn/notebooks/resnet18/ResNet18_V1.ipynb)\n",
        "  * [V2](https://github.com/wilberquito/Thesis/blob/main/Code/nn/notebooks/resnet18/ResNet18_V2.ipynb)\n",
        "  * [V3]()\n",
        "  * [V4]()"
      ],
      "metadata": {
        "id": "NqMUyYPnCYEl"
      }
    },
    {
      "cell_type": "markdown",
      "source": [
        "## Data Exploration"
      ],
      "metadata": {
        "id": "ZZHjTUHCQlFI"
      }
    },
    {
      "cell_type": "markdown",
      "source": [
        "In this notebook we can see information about the images and it's metadata passed to the different trainned models."
      ],
      "metadata": {
        "id": "xtPhuIqyQnWp"
      }
    },
    {
      "cell_type": "markdown",
      "source": [
        "## ResNet 18"
      ],
      "metadata": {
        "id": "UT6n7U8WQ1Ix"
      }
    },
    {
      "cell_type": "markdown",
      "source": [
        "### V1"
      ],
      "metadata": {
        "id": "xRypiwB8Q45O"
      }
    },
    {
      "cell_type": "markdown",
      "source": [
        "https://github.com/wilberquito/Thesis/blob/main/Code/nn/notebooks/resnet18/ResNet18_V1.ipynb"
      ],
      "metadata": {
        "id": "2mPK6Q-9JgQl"
      }
    },
    {
      "cell_type": "markdown",
      "source": [
        "- transfer learning type: fine tunning\n",
        "- model: ResNet18_Melanoma\n",
        "- base: resnet18, IMAGENET1K_V1\n",
        "- optimizer: SGD\n",
        " - lr: 0.001\n",
        "- scheduler: StepLR\n",
        " - decay: 0.1\n",
        " - step_size: 7\n",
        "- epochs: 20\n",
        "- batch_size: 400\n",
        "- data augmentation: no\n",
        "- regularization: no"
      ],
      "metadata": {
        "id": "WV7VTFzuRAPd"
      }
    },
    {
      "cell_type": "markdown",
      "source": [
        "### V2"
      ],
      "metadata": {
        "id": "AOsJA9nUJjyd"
      }
    },
    {
      "cell_type": "markdown",
      "source": [
        "https://github.com/wilberquito/Thesis/blob/main/Code/nn/notebooks/resnet18/ResNet18_V2.ipynb"
      ],
      "metadata": {
        "id": "SotENKxSKGDq"
      }
    },
    {
      "cell_type": "markdown",
      "source": [
        "- transfer learning type: fine tunning\n",
        "- model: ResNet18_Melanoma\n",
        "- base: resnet18, IMAGENET1K_V1\n",
        "- optimizer: SGD\n",
        " - lr: 0.001\n",
        "- scheduler: CosineAnnealingLR\n",
        " - ETA_MIN:  2e-4\n",
        "- epochs: 20\n",
        "- batch_size: 400\n",
        "- data augmentation: no\n",
        "- regularization: no"
      ],
      "metadata": {
        "id": "uPTBpYE3Jnr9"
      }
    }
  ]
}