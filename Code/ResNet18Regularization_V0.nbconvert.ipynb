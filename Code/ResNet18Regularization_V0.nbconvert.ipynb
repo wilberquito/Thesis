{
 "cells": [
  {
   "cell_type": "markdown",
   "metadata": {
    "colab_type": "text",
    "id": "view-in-github"
   },
   "source": [
    "<a href=\"https://colab.research.google.com/github/wilberquito/Thesis/blob/main/Code/pytorch/notebooks/resnet18/ResNet18Regularization_V0.ipynb\" target=\"_parent\"><img src=\"https://colab.research.google.com/assets/colab-badge.svg\" alt=\"Open In Colab\"/></a>"
   ]
  },
  {
   "cell_type": "markdown",
   "metadata": {
    "id": "29zoFlPwleqF"
   },
   "source": [
    "# ResNet18 Regularization, V0"
   ]
  },
  {
   "cell_type": "code",
   "execution_count": 1,
   "metadata": {
    "execution": {
     "iopub.execute_input": "2023-06-22T09:57:39.623755Z",
     "iopub.status.busy": "2023-06-22T09:57:39.622779Z",
     "iopub.status.idle": "2023-06-22T09:57:42.707918Z",
     "shell.execute_reply": "2023-06-22T09:57:42.705296Z"
    },
    "id": "IX_9tuK6LeYc"
   },
   "outputs": [],
   "source": [
    "!pip install wandb >/dev/null 2>&1"
   ]
  },
  {
   "cell_type": "code",
   "execution_count": 2,
   "metadata": {
    "colab": {
     "base_uri": "https://localhost:8080/"
    },
    "execution": {
     "iopub.execute_input": "2023-06-22T09:57:42.716221Z",
     "iopub.status.busy": "2023-06-22T09:57:42.715594Z",
     "iopub.status.idle": "2023-06-22T09:57:47.489841Z",
     "shell.execute_reply": "2023-06-22T09:57:47.488701Z"
    },
    "id": "El9FpXH-eH9p",
    "outputId": "6c39c30d-5ef6-4107-8865-a3e61305b421"
   },
   "outputs": [
    {
     "name": "stdout",
     "output_type": "stream",
     "text": [
      "mlxtend version: 0.22.0\n"
     ]
    }
   ],
   "source": [
    "try:\n",
    "    import torchmetrics, mlxtend\n",
    "    print(f\"mlxtend version: {mlxtend.__version__}\")\n",
    "    assert int(mlxtend.__version__.split(\".\")[1]) >= 19, \"mlxtend verison should be 0.19.0 or higher\"\n",
    "except:\n",
    "    !pip install -q torchmetrics -U mlxtend # <- Note: If you're using Google Colab, this may require restarting the runtime\n",
    "    import torchmetrics, mlxtend\n",
    "    print(f\"mlxtend version: {mlxtend.__version__}\")"
   ]
  },
  {
   "cell_type": "code",
   "execution_count": 3,
   "metadata": {
    "colab": {
     "base_uri": "https://localhost:8080/"
    },
    "execution": {
     "iopub.execute_input": "2023-06-22T09:57:47.572343Z",
     "iopub.status.busy": "2023-06-22T09:57:47.571905Z",
     "iopub.status.idle": "2023-06-22T09:57:50.049100Z",
     "shell.execute_reply": "2023-06-22T09:57:50.047783Z"
    },
    "id": "_AN939rghul5",
    "outputId": "2da0e07d-9477-4ccf-8504-a123a810edb3"
   },
   "outputs": [
    {
     "name": "stdout",
     "output_type": "stream",
     "text": [
      "In colab: False\n"
     ]
    }
   ],
   "source": [
    "import requests\n",
    "from pathlib import Path\n",
    "import pandas as pd\n",
    "import seaborn as sns\n",
    "from zipfile import ZipFile\n",
    "\n",
    "try:\n",
    "    import google.colab\n",
    "    from google.colab import drive\n",
    "    IN_COLAB = True\n",
    "    drive.mount('/content/drive')\n",
    "except:\n",
    "    IN_COLAB = False\n",
    "\n",
    "print(f\"In colab: {IN_COLAB}\")"
   ]
  },
  {
   "cell_type": "code",
   "execution_count": 4,
   "metadata": {
    "colab": {
     "base_uri": "https://localhost:8080/"
    },
    "execution": {
     "iopub.execute_input": "2023-06-22T09:57:50.055176Z",
     "iopub.status.busy": "2023-06-22T09:57:50.054790Z",
     "iopub.status.idle": "2023-06-22T09:57:50.061499Z",
     "shell.execute_reply": "2023-06-22T09:57:50.060223Z"
    },
    "id": "0Y1rbOJ3hwRc",
    "outputId": "f9dac318-47c3-4a04-a357-87fca9f06d50"
   },
   "outputs": [],
   "source": [
    "def pull_code():\n",
    "  print(\"Unzipping the code from google drive\")\n",
    "  !rm -rf modular/\n",
    "  !unzip ./drive/MyDrive/wilberquito_thesis/modular.zip -d . >/dev/null 2>&1\n",
    "\n",
    "if IN_COLAB:\n",
    "    pull_code()"
   ]
  },
  {
   "cell_type": "code",
   "execution_count": 5,
   "metadata": {
    "colab": {
     "base_uri": "https://localhost:8080/"
    },
    "execution": {
     "iopub.execute_input": "2023-06-22T09:57:50.066985Z",
     "iopub.status.busy": "2023-06-22T09:57:50.066759Z",
     "iopub.status.idle": "2023-06-22T09:57:50.073485Z",
     "shell.execute_reply": "2023-06-22T09:57:50.072254Z"
    },
    "id": "SGWoaeFMh0GU",
    "outputId": "a730be6b-74f1-43d1-cde7-dba54c1a9ea3"
   },
   "outputs": [],
   "source": [
    "def pull_data():\n",
    "  answer = input(\"You sure? Y/n\\n\")\n",
    "  if answer != \"Y\":\n",
    "    return\n",
    "\n",
    "  print(\"Unzipping the data from google drive\")\n",
    "  !rm -rf data.etl/\n",
    "  !unzip ./drive/MyDrive/wilberquito_thesis/data.zip -d . >/dev/null 2>&1\n",
    "\n",
    "if IN_COLAB:\n",
    "    pull_data()"
   ]
  },
  {
   "cell_type": "code",
   "execution_count": 6,
   "metadata": {
    "colab": {
     "base_uri": "https://localhost:8080/"
    },
    "execution": {
     "iopub.execute_input": "2023-06-22T09:57:50.078819Z",
     "iopub.status.busy": "2023-06-22T09:57:50.078579Z",
     "iopub.status.idle": "2023-06-22T09:57:51.232785Z",
     "shell.execute_reply": "2023-06-22T09:57:51.230211Z"
    },
    "id": "Z1KxIfp6h2Vz",
    "outputId": "c979bf99-4f7c-49b8-b051-5382f5871a52"
   },
   "outputs": [
    {
     "name": "stdout",
     "output_type": "stream",
     "text": [
      "Thu Jun 22 09:57:50 2023       \r\n",
      "+-----------------------------------------------------------------------------+\r\n",
      "| NVIDIA-SMI 515.105.01   Driver Version: 515.105.01   CUDA Version: 11.7     |\r\n",
      "|-------------------------------+----------------------+----------------------+\r\n",
      "| GPU  Name        Persistence-M| Bus-Id        Disp.A | Volatile Uncorr. ECC |\r\n",
      "| Fan  Temp  Perf  Pwr:Usage/Cap|         Memory-Usage | GPU-Util  Compute M. |\r\n",
      "|                               |                      |               MIG M. |\r\n",
      "|===============================+======================+======================|\r\n",
      "|   0  NVIDIA A100 80G...  Off  | 00000000:31:00.0 Off |                   On |\r\n",
      "| N/A   44C    P0    47W / 300W |      0MiB / 81920MiB |     N/A      Default |\r\n",
      "|                               |                      |              Enabled |\r\n",
      "+-------------------------------+----------------------+----------------------+\r\n",
      "|   1  NVIDIA A100 80G...  Off  | 00000000:4B:00.0 Off |                   On |\r\n",
      "| N/A   51C    P0    46W / 300W |     45MiB / 81920MiB |     N/A      Default |\r\n",
      "|                               |                      |              Enabled |\r\n",
      "+-------------------------------+----------------------+----------------------+\r\n",
      "|   2  NVIDIA A100 80G...  Off  | 00000000:B1:00.0 Off |                    0 |\r\n",
      "| N/A   43C    P0    44W / 300W |      0MiB / 81920MiB |      0%      Default |\r\n",
      "|                               |                      |             Disabled |\r\n",
      "+-------------------------------+----------------------+----------------------+\r\n",
      "|   3  NVIDIA A100 80G...  Off  | 00000000:CA:00.0 Off |                    0 |\r\n",
      "| N/A   44C    P0    43W / 300W |      0MiB / 81920MiB |      0%      Default |\r\n",
      "|                               |                      |             Disabled |\r\n",
      "+-------------------------------+----------------------+----------------------+\r\n",
      "\r\n",
      "+-----------------------------------------------------------------------------+\r\n",
      "| MIG devices:                                                                |\r\n",
      "+------------------+----------------------+-----------+-----------------------+\r\n",
      "| GPU  GI  CI  MIG |         Memory-Usage |        Vol|         Shared        |\r\n",
      "|      ID  ID  Dev |           BAR1-Usage | SM     Unc| CE  ENC  DEC  OFA  JPG|\r\n",
      "|                  |                      |        ECC|                       |\r\n",
      "|==================+======================+===========+=======================|\r\n",
      "|  0    0   0   0  |      0MiB / 81111MiB | 98      0 |  7   0    5    1    1 |\r\n",
      "|                  |      1MiB / 13107... |           |                       |\r\n",
      "+------------------+----------------------+-----------+-----------------------+\r\n",
      "|  1    1   0   0  |     19MiB / 40192MiB | 42      0 |  3   0    2    0    0 |\r\n",
      "|                  |      0MiB / 65535MiB |           |                       |\r\n",
      "+------------------+----------------------+-----------+-----------------------+\r\n",
      "|  1    2   0   1  |     25MiB / 40192MiB | 56      0 |  4   0    2    0    0 |\r\n",
      "|                  |      0MiB / 65535MiB |           |                       |\r\n",
      "+------------------+----------------------+-----------+-----------------------+\r\n",
      "                                                                               \r\n",
      "+-----------------------------------------------------------------------------+\r\n",
      "| Processes:                                                                  |\r\n",
      "|  GPU   GI   CI        PID   Type   Process name                  GPU Memory |\r\n",
      "|        ID   ID                                                   Usage      |\r\n",
      "|=============================================================================|\r\n",
      "|  No running processes found                                                 |\r\n",
      "+-----------------------------------------------------------------------------+\r\n"
     ]
    }
   ],
   "source": [
    "!nvidia-smi"
   ]
  },
  {
   "cell_type": "markdown",
   "metadata": {
    "id": "02gLym20h-ZT"
   },
   "source": [
    "## Scheduler"
   ]
  },
  {
   "cell_type": "code",
   "execution_count": 7,
   "metadata": {
    "execution": {
     "iopub.execute_input": "2023-06-22T09:57:51.241107Z",
     "iopub.status.busy": "2023-06-22T09:57:51.240468Z",
     "iopub.status.idle": "2023-06-22T09:57:51.248825Z",
     "shell.execute_reply": "2023-06-22T09:57:51.247010Z"
    },
    "id": "_s6HZmhLh7m6"
   },
   "outputs": [],
   "source": [
    "LEARNING_RATE = 1e-3\n",
    "EPOCHS = 25"
   ]
  },
  {
   "cell_type": "markdown",
   "metadata": {
    "id": "R2DvJCwRLl-W"
   },
   "source": [
    "## Batch Size"
   ]
  },
  {
   "cell_type": "code",
   "execution_count": 8,
   "metadata": {
    "execution": {
     "iopub.execute_input": "2023-06-22T09:57:51.255734Z",
     "iopub.status.busy": "2023-06-22T09:57:51.255136Z",
     "iopub.status.idle": "2023-06-22T09:57:51.262994Z",
     "shell.execute_reply": "2023-06-22T09:57:51.260940Z"
    },
    "id": "GrTgaWP5LlUT"
   },
   "outputs": [],
   "source": [
    "BATCH_SIZE = 1024"
   ]
  },
  {
   "cell_type": "markdown",
   "metadata": {
    "id": "8dtGR1KCL0Gd"
   },
   "source": [
    "## WandB"
   ]
  },
  {
   "cell_type": "code",
   "execution_count": 9,
   "metadata": {
    "execution": {
     "iopub.execute_input": "2023-06-22T09:57:51.270351Z",
     "iopub.status.busy": "2023-06-22T09:57:51.269755Z",
     "iopub.status.idle": "2023-06-22T09:57:55.622330Z",
     "shell.execute_reply": "2023-06-22T09:57:55.620065Z"
    },
    "id": "P0kaGwtFL1_k"
   },
   "outputs": [
    {
     "name": "stderr",
     "output_type": "stream",
     "text": [
      "\u001b[34m\u001b[1mwandb\u001b[0m: Currently logged in as: \u001b[33mwilberquto\u001b[0m (\u001b[33mwilberquito\u001b[0m). Use \u001b[1m`wandb login --relogin`\u001b[0m to force relogin\n",
      "\u001b[34m\u001b[1mwandb\u001b[0m: \u001b[33mWARNING\u001b[0m If you're specifying your api key in code, ensure this code is not shared publicly.\n",
      "\u001b[34m\u001b[1mwandb\u001b[0m: \u001b[33mWARNING\u001b[0m Consider setting the WANDB_API_KEY environment variable, or running `wandb login` from the command line.\n",
      "\u001b[34m\u001b[1mwandb\u001b[0m: Appending key for api.wandb.ai to your netrc file: /home/student2/.netrc\n"
     ]
    },
    {
     "data": {
      "text/plain": [
       "True"
      ]
     },
     "execution_count": 9,
     "metadata": {},
     "output_type": "execute_result"
    }
   ],
   "source": [
    "import wandb\n",
    "\n",
    "key = \"c1121fe51146c1da87d1139239da7748c4e78665\"\n",
    "wandb.login(key=key)"
   ]
  },
  {
   "cell_type": "code",
   "execution_count": 10,
   "metadata": {
    "execution": {
     "iopub.execute_input": "2023-06-22T09:57:55.630354Z",
     "iopub.status.busy": "2023-06-22T09:57:55.629742Z",
     "iopub.status.idle": "2023-06-22T09:57:55.638443Z",
     "shell.execute_reply": "2023-06-22T09:57:55.636411Z"
    },
    "id": "9N1hXpJxL4PS"
   },
   "outputs": [],
   "source": [
    "wandb.finish()"
   ]
  },
  {
   "cell_type": "code",
   "execution_count": 11,
   "metadata": {
    "execution": {
     "iopub.execute_input": "2023-06-22T09:57:55.645543Z",
     "iopub.status.busy": "2023-06-22T09:57:55.644923Z",
     "iopub.status.idle": "2023-06-22T09:58:07.329347Z",
     "shell.execute_reply": "2023-06-22T09:58:07.327653Z"
    },
    "id": "5XiIaKwKL3qK"
   },
   "outputs": [
    {
     "name": "stderr",
     "output_type": "stream",
     "text": [
      "\u001b[34m\u001b[1mwandb\u001b[0m: Tracking run with wandb version 0.15.4\n",
      "\u001b[34m\u001b[1mwandb\u001b[0m: Run data is saved locally in \u001b[35m\u001b[1m/home/student2/thesis/pytorch/wandb/run-20230622_095755-mtzguin2\u001b[0m\n",
      "\u001b[34m\u001b[1mwandb\u001b[0m: Run \u001b[1m`wandb offline`\u001b[0m to turn off syncing.\n",
      "\u001b[34m\u001b[1mwandb\u001b[0m: Syncing run \u001b[33mResNet18R_V0\u001b[0m\n",
      "\u001b[34m\u001b[1mwandb\u001b[0m: ⭐️ View project at \u001b[34m\u001b[4mhttps://wandb.ai/wilberquito/melanoma_thesis\u001b[0m\n",
      "\u001b[34m\u001b[1mwandb\u001b[0m: 🚀 View run at \u001b[34m\u001b[4mhttps://wandb.ai/wilberquito/melanoma_thesis/runs/mtzguin2\u001b[0m\n"
     ]
    },
    {
     "data": {
      "text/html": [
       "<button onClick=\"this.nextSibling.style.display='block';this.style.display='none';\">Display W&B run</button><iframe src='https://wandb.ai/wilberquito/melanoma_thesis/runs/mtzguin2?jupyter=true' style='border:none;width:100%;height:420px;display:none;'></iframe>"
      ],
      "text/plain": [
       "<wandb.sdk.wandb_run.Run at 0x7efbbf174c70>"
      ]
     },
     "execution_count": 11,
     "metadata": {},
     "output_type": "execute_result"
    }
   ],
   "source": [
    "wandb.init(\n",
    "    project=\"melanoma_thesis\",\n",
    "    group=\"train_test\",\n",
    "    name=\"ResNet18R_V0\",\n",
    "    config={\n",
    "      \"architecture\": \"ResNet18\",\n",
    "      \"scheduler\": \"None\",\n",
    "      \"dataset\": \"ISIC\",\n",
    "      \"epochs\": EPOCHS,\n",
    "      \"batch_size\": BATCH_SIZE,\n",
    "      \"learning_rate\": LEARNING_RATE,\n",
    "      \"regularization\": [\"Dropout\", \"Data augmentation\"]\n",
    "      }\n",
    ")"
   ]
  },
  {
   "cell_type": "markdown",
   "metadata": {
    "id": "toJQZUrYiCWn"
   },
   "source": [
    "## Writter"
   ]
  },
  {
   "cell_type": "code",
   "execution_count": 12,
   "metadata": {
    "execution": {
     "iopub.execute_input": "2023-06-22T09:58:07.336983Z",
     "iopub.status.busy": "2023-06-22T09:58:07.336170Z",
     "iopub.status.idle": "2023-06-22T09:58:08.231110Z",
     "shell.execute_reply": "2023-06-22T09:58:08.229096Z"
    },
    "id": "Vjf6lckNiCzt"
   },
   "outputs": [],
   "source": [
    "import modular.utility as m_utility\n",
    "\n",
    "writter = m_utility.model_writter('resnet18regularization_v0')"
   ]
  },
  {
   "cell_type": "markdown",
   "metadata": {
    "id": "qh-bm8cUkYzu"
   },
   "source": [
    "## Train"
   ]
  },
  {
   "cell_type": "code",
   "execution_count": 13,
   "metadata": {
    "colab": {
     "base_uri": "https://localhost:8080/"
    },
    "execution": {
     "iopub.execute_input": "2023-06-22T09:58:08.238079Z",
     "iopub.status.busy": "2023-06-22T09:58:08.237799Z",
     "iopub.status.idle": "2023-06-23T05:24:34.687064Z",
     "shell.execute_reply": "2023-06-23T05:24:34.683556Z"
    },
    "id": "9dMZyFyGkZx2",
    "outputId": "e111b14c-9186-4966-d394-ae728a1f9580"
   },
   "outputs": [
    {
     "name": "stderr",
     "output_type": "stream",
     "text": [
      "/home/student2/.conda/envs/melanoma_nn/lib/python3.10/site-packages/albumentations/augmentations/blur/transforms.py:184: UserWarning: blur_limit and sigma_limit minimum value can not be both equal to 0. blur_limit minimum value changed to 3.\n",
      "  warnings.warn(\n"
     ]
    },
    {
     "name": "stdout",
     "output_type": "stream",
     "text": [
      "Epoch 1/25\n",
      "----------\n",
      "Train OvR: 0.5600 \t|\tTrain Loss: 1.4364 \t|\tTrain Acc: 0.5554\n",
      "Val OvR: 0.7252 \t|\tVal Loss: 1.1706 \t|\tVal Acc: 0.5925\n",
      "=> Saving a new checkpoint\n",
      "Epoch 2/25\n",
      "----------\n",
      "Train OvR: 0.7198 \t|\tTrain Loss: 1.1347 \t|\tTrain Acc: 0.6042\n",
      "Val OvR: 0.7712 \t|\tVal Loss: 1.0229 \t|\tVal Acc: 0.6433\n",
      "=> Saving a new checkpoint\n",
      "Epoch 3/25\n",
      "----------\n",
      "Train OvR: 0.7555 \t|\tTrain Loss: 1.0572 \t|\tTrain Acc: 0.6302\n",
      "Val OvR: 0.7924 \t|\tVal Loss: 0.9657 \t|\tVal Acc: 0.6590\n",
      "=> Saving a new checkpoint\n",
      "Epoch 4/25\n",
      "----------\n",
      "Train OvR: 0.7689 \t|\tTrain Loss: 1.0193 \t|\tTrain Acc: 0.6399\n",
      "Val OvR: 0.8085 \t|\tVal Loss: 0.9326 \t|\tVal Acc: 0.6686\n",
      "=> Saving a new checkpoint\n",
      "Epoch 5/25\n",
      "----------\n",
      "Train OvR: 0.7811 \t|\tTrain Loss: 0.9970 \t|\tTrain Acc: 0.6494\n",
      "Val OvR: 0.8176 \t|\tVal Loss: 0.9115 \t|\tVal Acc: 0.6721\n",
      "=> Saving a new checkpoint\n",
      "Epoch 6/25\n",
      "----------\n",
      "Train OvR: 0.7907 \t|\tTrain Loss: 0.9797 \t|\tTrain Acc: 0.6522\n",
      "Val OvR: 0.8233 \t|\tVal Loss: 0.8929 \t|\tVal Acc: 0.6766\n",
      "=> Saving a new checkpoint\n",
      "Epoch 7/25\n",
      "----------\n",
      "Train OvR: 0.7931 \t|\tTrain Loss: 0.9667 \t|\tTrain Acc: 0.6598\n",
      "Val OvR: 0.8280 \t|\tVal Loss: 0.8792 \t|\tVal Acc: 0.6807\n",
      "=> Saving a new checkpoint\n",
      "Epoch 8/25\n",
      "----------\n",
      "Train OvR: 0.8003 \t|\tTrain Loss: 0.9487 \t|\tTrain Acc: 0.6659\n",
      "Val OvR: 0.8324 \t|\tVal Loss: 0.8655 \t|\tVal Acc: 0.6862\n",
      "=> Saving a new checkpoint\n",
      "Epoch 9/25\n",
      "----------\n",
      "Train OvR: 0.8047 \t|\tTrain Loss: 0.9361 \t|\tTrain Acc: 0.6698\n",
      "Val OvR: 0.8380 \t|\tVal Loss: 0.8543 \t|\tVal Acc: 0.6932\n",
      "=> Saving a new checkpoint\n",
      "Epoch 10/25\n",
      "----------\n",
      "Train OvR: 0.8073 \t|\tTrain Loss: 0.9265 \t|\tTrain Acc: 0.6709\n",
      "Val OvR: 0.8399 \t|\tVal Loss: 0.8478 \t|\tVal Acc: 0.6887\n",
      "=> Saving a new checkpoint\n",
      "Epoch 11/25\n",
      "----------\n",
      "Train OvR: 0.8115 \t|\tTrain Loss: 0.9147 \t|\tTrain Acc: 0.6738\n",
      "Val OvR: 0.8441 \t|\tVal Loss: 0.8329 \t|\tVal Acc: 0.6990\n",
      "=> Saving a new checkpoint\n",
      "Epoch 12/25\n",
      "----------\n",
      "Train OvR: 0.8167 \t|\tTrain Loss: 0.9042 \t|\tTrain Acc: 0.6800\n",
      "Val OvR: 0.8475 \t|\tVal Loss: 0.8238 \t|\tVal Acc: 0.7035\n",
      "=> Saving a new checkpoint\n",
      "Epoch 13/25\n",
      "----------\n",
      "Train OvR: 0.8134 \t|\tTrain Loss: 0.9056 \t|\tTrain Acc: 0.6802\n",
      "Val OvR: 0.8502 \t|\tVal Loss: 0.8159 \t|\tVal Acc: 0.7057\n",
      "=> Saving a new checkpoint\n",
      "Epoch 14/25\n",
      "----------\n",
      "Train OvR: 0.8154 \t|\tTrain Loss: 0.8930 \t|\tTrain Acc: 0.6843\n",
      "Val OvR: 0.8527 \t|\tVal Loss: 0.8097 \t|\tVal Acc: 0.7063\n",
      "=> Saving a new checkpoint\n",
      "Epoch 15/25\n",
      "----------\n",
      "Train OvR: 0.8192 \t|\tTrain Loss: 0.8833 \t|\tTrain Acc: 0.6857\n",
      "Val OvR: 0.8553 \t|\tVal Loss: 0.8018 \t|\tVal Acc: 0.7092\n",
      "=> Saving a new checkpoint\n",
      "Epoch 16/25\n",
      "----------\n",
      "Train OvR: 0.8178 \t|\tTrain Loss: 0.8828 \t|\tTrain Acc: 0.6868\n",
      "Val OvR: 0.8570 \t|\tVal Loss: 0.7948 \t|\tVal Acc: 0.7127\n",
      "=> Saving a new checkpoint\n",
      "Epoch 17/25\n",
      "----------\n",
      "Train OvR: 0.8218 \t|\tTrain Loss: 0.8753 \t|\tTrain Acc: 0.6891\n",
      "Val OvR: 0.8592 \t|\tVal Loss: 0.7891 \t|\tVal Acc: 0.7147\n",
      "=> Saving a new checkpoint\n",
      "Epoch 18/25\n",
      "----------\n",
      "Train OvR: 0.8243 \t|\tTrain Loss: 0.8674 \t|\tTrain Acc: 0.6888\n",
      "Val OvR: 0.8587 \t|\tVal Loss: 0.7843 \t|\tVal Acc: 0.7163\n",
      "=> Saving a new checkpoint\n",
      "Epoch 19/25\n",
      "----------\n",
      "Train OvR: 0.8228 \t|\tTrain Loss: 0.8652 \t|\tTrain Acc: 0.6897\n",
      "Val OvR: 0.8608 \t|\tVal Loss: 0.7791 \t|\tVal Acc: 0.7204\n",
      "=> Saving a new checkpoint\n",
      "Epoch 20/25\n",
      "----------\n",
      "Train OvR: 0.8310 \t|\tTrain Loss: 0.8566 \t|\tTrain Acc: 0.6939\n",
      "Val OvR: 0.8631 \t|\tVal Loss: 0.7708 \t|\tVal Acc: 0.7214\n",
      "=> Saving a new checkpoint\n",
      "Epoch 21/25\n",
      "----------\n",
      "Train OvR: 0.8300 \t|\tTrain Loss: 0.8518 \t|\tTrain Acc: 0.6951\n",
      "Val OvR: 0.8641 \t|\tVal Loss: 0.7646 \t|\tVal Acc: 0.7207\n",
      "=> Saving a new checkpoint\n",
      "Epoch 22/25\n",
      "----------\n",
      "Train OvR: 0.8311 \t|\tTrain Loss: 0.8512 \t|\tTrain Acc: 0.6942\n",
      "Val OvR: 0.8655 \t|\tVal Loss: 0.7613 \t|\tVal Acc: 0.7258\n",
      "=> Saving a new checkpoint\n",
      "Epoch 23/25\n",
      "----------\n",
      "Train OvR: 0.8290 \t|\tTrain Loss: 0.8491 \t|\tTrain Acc: 0.6965\n",
      "Val OvR: 0.8659 \t|\tVal Loss: 0.7571 \t|\tVal Acc: 0.7265\n",
      "=> Saving a new checkpoint\n",
      "Epoch 24/25\n",
      "----------\n",
      "Train OvR: 0.8372 \t|\tTrain Loss: 0.8354 \t|\tTrain Acc: 0.6999\n",
      "Val OvR: 0.8658 \t|\tVal Loss: 0.7530 \t|\tVal Acc: 0.7268\n",
      "=> Saving a new checkpoint\n",
      "Epoch 25/25\n",
      "----------\n",
      "Train OvR: 0.8344 \t|\tTrain Loss: 0.8339 \t|\tTrain Acc: 0.7006\n",
      "Val OvR: 0.8680 \t|\tVal Loss: 0.7490 \t|\tVal Acc: 0.7290\n",
      "=> Saving a new checkpoint\n",
      "\n",
      "Training completed after: 1166m 24s\n",
      "Best epoch: 25\n",
      "Best val OvR: 0.8680\n"
     ]
    }
   ],
   "source": [
    "from torchvision import models\n",
    "import torch\n",
    "import torch.nn as nn\n",
    "import torch.optim as optim\n",
    "from torch.optim import lr_scheduler\n",
    "from torchvision.models import (ResNet18_Weights)\n",
    "from torch.utils.data import DataLoader\n",
    "import torch\n",
    "import torchvision as tv\n",
    "import modular.dataset as m_dataset\n",
    "import modular.utility as m_utility\n",
    "import modular.engine as engine\n",
    "import modular.models as m_models\n",
    "\n",
    "# Set seed\n",
    "m_utility.set_seed(42)\n",
    "\n",
    "# Build the dataframes\n",
    "data_dir = 'data.etl'\n",
    "data_folder = '512'\n",
    "train_df, test_df, mapping = m_dataset.get_df(data_dir, data_folder)\n",
    "\n",
    "device = 'cuda' if torch.cuda.is_available() else 'cpu'\n",
    "\n",
    "out_features = len(mapping)\n",
    "model = m_models.ResNet18_Dropout_Melanoma(out_features)\n",
    "model = model.to(device)\n",
    "\n",
    "criterion = nn.CrossEntropyLoss()\n",
    "\n",
    "# Observe that all parameters are being optimized\n",
    "optimizer = optim.SGD(model.parameters(), lr=LEARNING_RATE, momentum=0.9)\n",
    "\n",
    "# Mapping from id to classname\n",
    "idx_to_class = { k : classname for classname, k in mapping.items() }\n",
    "\n",
    "# Train and validate dataset & dataloader\n",
    "train_df, validate_df = m_dataset.train_validate_split(train_df,\n",
    "                                                       random_state=42,\n",
    "                                                       validate_size=0.2)\n",
    "\n",
    "validate_df, test_df = m_dataset.train_validate_split(validate_df,\n",
    "                                                      random_state=42,\n",
    "                                                      validate_size=0.5)\n",
    "\n",
    "\n",
    "train_transforms, val_transforms = m_dataset.get_transforms(image_size=256)\n",
    "\n",
    "train_dataset = m_dataset.MelanomaDataset(train_df,\n",
    "                                          mode='train',\n",
    "                                          transforms=train_transforms,\n",
    "                                          idx_to_class=idx_to_class)\n",
    "validate_dataset = m_dataset.MelanomaDataset(validate_df,\n",
    "                                             mode='validate',\n",
    "                                             transforms=val_transforms,\n",
    "                                             idx_to_class=idx_to_class)\n",
    "\n",
    "batch_size = BATCH_SIZE\n",
    "\n",
    "train_dataloader = DataLoader(train_dataset, batch_size=batch_size, shuffle=True)\n",
    "validate_dataloader = DataLoader(validate_dataset, batch_size=batch_size, shuffle=False)\n",
    "\n",
    "# Test dataset and dataloader\n",
    "test_dataset = m_dataset.MelanomaDataset(test_df,\n",
    "                                         mode='test',\n",
    "                                         idx_to_class=idx_to_class)\n",
    "test_dataloader = DataLoader(test_dataset, batch_size=batch_size, shuffle=False)\n",
    "\n",
    "# Dataloaders\n",
    "dataloaders = {\n",
    "    'train': train_dataloader,\n",
    "    'val': validate_dataloader,\n",
    "}\n",
    "\n",
    "datasets_size = {\n",
    "    'train': len(train_dataset),\n",
    "    'val': len(validate_dataset),\n",
    "}\n",
    "\n",
    "about_data = {\n",
    "    'dataloaders': dataloaders,\n",
    "    'datasets': {\n",
    "        'size': datasets_size\n",
    "    }\n",
    "}\n",
    "\n",
    "MEL_IDX = 6 # Check data exploration notebook\n",
    "VAL_TIMES = 4\n",
    "\n",
    "model_ft, stats = engine.train_model(model,\n",
    "                                     MEL_IDX,\n",
    "                                     about_data,\n",
    "                                     device,\n",
    "                                     criterion,\n",
    "                                     optimizer,\n",
    "                                     num_epochs=EPOCHS,\n",
    "                                     writter=writter,\n",
    "                                     val_times=VAL_TIMES)"
   ]
  },
  {
   "cell_type": "code",
   "execution_count": 14,
   "metadata": {
    "execution": {
     "iopub.execute_input": "2023-06-23T05:24:34.698086Z",
     "iopub.status.busy": "2023-06-23T05:24:34.697319Z",
     "iopub.status.idle": "2023-06-23T05:24:51.703845Z",
     "shell.execute_reply": "2023-06-23T05:24:51.701597Z"
    },
    "id": "0mjcZPKNOkbf"
   },
   "outputs": [
    {
     "name": "stderr",
     "output_type": "stream",
     "text": [
      "\u001b[34m\u001b[1mwandb\u001b[0m: Waiting for W&B process to finish... \u001b[32m(success).\u001b[0m\n",
      "\u001b[34m\u001b[1mwandb\u001b[0m: \n",
      "\u001b[34m\u001b[1mwandb\u001b[0m: Run history:\n",
      "\u001b[34m\u001b[1mwandb\u001b[0m:  train_acc ▁▃▅▅▆▆▆▆▇▇▇▇▇▇▇▇▇▇▇██████\n",
      "\u001b[34m\u001b[1mwandb\u001b[0m: train_loss █▄▄▃▃▃▃▂▂▂▂▂▂▂▂▂▁▁▁▁▁▁▁▁▁\n",
      "\u001b[34m\u001b[1mwandb\u001b[0m:  train_ovr ▁▅▆▆▇▇▇▇▇▇▇▇▇▇███████████\n",
      "\u001b[34m\u001b[1mwandb\u001b[0m:    val_acc ▁▄▄▅▅▅▆▆▆▆▆▇▇▇▇▇▇▇███████\n",
      "\u001b[34m\u001b[1mwandb\u001b[0m:   val_loss █▆▅▄▄▃▃▃▃▃▂▂▂▂▂▂▂▂▁▁▁▁▁▁▁\n",
      "\u001b[34m\u001b[1mwandb\u001b[0m:    val_ovr ▁▃▄▅▆▆▆▆▇▇▇▇▇▇▇▇█████████\n",
      "\u001b[34m\u001b[1mwandb\u001b[0m: \n",
      "\u001b[34m\u001b[1mwandb\u001b[0m: Run summary:\n",
      "\u001b[34m\u001b[1mwandb\u001b[0m:  train_acc 0.7006\n",
      "\u001b[34m\u001b[1mwandb\u001b[0m: train_loss 0.8339\n",
      "\u001b[34m\u001b[1mwandb\u001b[0m:  train_ovr 0.8344\n",
      "\u001b[34m\u001b[1mwandb\u001b[0m:    val_acc 0.729\n",
      "\u001b[34m\u001b[1mwandb\u001b[0m:   val_loss 0.749\n",
      "\u001b[34m\u001b[1mwandb\u001b[0m:    val_ovr 0.868\n",
      "\u001b[34m\u001b[1mwandb\u001b[0m: \n",
      "\u001b[34m\u001b[1mwandb\u001b[0m: 🚀 View run \u001b[33mResNet18R_V0\u001b[0m at: \u001b[34m\u001b[4mhttps://wandb.ai/wilberquito/melanoma_thesis/runs/mtzguin2\u001b[0m\n",
      "\u001b[34m\u001b[1mwandb\u001b[0m: Synced 6 W&B file(s), 0 media file(s), 0 artifact file(s) and 0 other file(s)\n",
      "\u001b[34m\u001b[1mwandb\u001b[0m: Find logs at: \u001b[35m\u001b[1m./wandb/run-20230622_095755-mtzguin2/logs\u001b[0m\n"
     ]
    }
   ],
   "source": [
    "wandb.finish()"
   ]
  },
  {
   "cell_type": "code",
   "execution_count": 15,
   "metadata": {
    "execution": {
     "iopub.execute_input": "2023-06-23T05:24:51.711096Z",
     "iopub.status.busy": "2023-06-23T05:24:51.710482Z",
     "iopub.status.idle": "2023-06-23T05:24:52.599610Z",
     "shell.execute_reply": "2023-06-23T05:24:52.598065Z"
    },
    "id": "xb_ljGJnOmXr"
   },
   "outputs": [
    {
     "data": {
      "image/png": "[encoded data removed]",
      "text/plain": [
       "<Figure size 2100x700 with 3 Axes>"
      ]
     },
     "metadata": {},
     "output_type": "display_data"
    }
   ],
   "source": [
    "m_utility.plot_curves(stats)"
   ]
  },
  {
   "cell_type": "code",
   "execution_count": 16,
   "metadata": {
    "execution": {
     "iopub.execute_input": "2023-06-23T05:24:52.607353Z",
     "iopub.status.busy": "2023-06-23T05:24:52.607090Z",
     "iopub.status.idle": "2023-06-23T05:24:52.613031Z",
     "shell.execute_reply": "2023-06-23T05:24:52.611853Z"
    },
    "id": "Wigth2wsOoZJ"
   },
   "outputs": [],
   "source": [
    "if IN_COLAB:\n",
    "  from google.colab import files\n",
    "  files.download('resnet18regularization_v0.pth.tar')\n",
    "  files.download('resnet18regularization_v0.csv')"
   ]
  }
 ],
 "metadata": {
  "accelerator": "GPU",
  "colab": {
   "gpuType": "T4",
   "include_colab_link": true,
   "provenance": []
  },
  "kernelspec": {
   "display_name": "Python 3",
   "name": "python3"
  },
  "language_info": {
   "codemirror_mode": {
    "name": "ipython",
    "version": 3
   },
   "file_extension": ".py",
   "mimetype": "text/x-python",
   "name": "python",
   "nbconvert_exporter": "python",
   "pygments_lexer": "ipython3",
   "version": "3.10.11"
  }
 },
 "nbformat": 4,
 "nbformat_minor": 0
}
