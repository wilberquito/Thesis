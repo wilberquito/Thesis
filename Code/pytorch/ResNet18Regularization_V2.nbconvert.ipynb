{
 "cells": [
  {
   "cell_type": "markdown",
   "metadata": {
    "colab_type": "text",
    "id": "view-in-github"
   },
   "source": [
    "<a href=\"https://colab.research.google.com/github/wilberquito/Thesis/blob/main/Code/pytorch/notebooks/resnet18/ResNet18Regularization_V2.ipynb\" target=\"_parent\"><img src=\"https://colab.research.google.com/assets/colab-badge.svg\" alt=\"Open In Colab\"/></a>"
   ]
  },
  {
   "cell_type": "markdown",
   "metadata": {
    "id": "0m25gaWylVRY"
   },
   "source": [
    "# ResNet18 Regularization, V2\n"
   ]
  },
  {
   "cell_type": "code",
   "execution_count": 1,
   "metadata": {
    "execution": {
     "iopub.execute_input": "2023-06-26T05:39:02.836303Z",
     "iopub.status.busy": "2023-06-26T05:39:02.835906Z",
     "iopub.status.idle": "2023-06-26T05:39:04.979019Z",
     "shell.execute_reply": "2023-06-26T05:39:04.977615Z"
    },
    "id": "iYYRnDddCz7h"
   },
   "outputs": [],
   "source": [
    "!pip install wandb >/dev/null 2>&1"
   ]
  },
  {
   "cell_type": "code",
   "execution_count": 2,
   "metadata": {
    "colab": {
     "base_uri": "https://localhost:8080/"
    },
    "execution": {
     "iopub.execute_input": "2023-06-26T05:39:04.985963Z",
     "iopub.status.busy": "2023-06-26T05:39:04.985400Z",
     "iopub.status.idle": "2023-06-26T05:39:09.459561Z",
     "shell.execute_reply": "2023-06-26T05:39:09.458185Z"
    },
    "id": "Xv0CD_GUkO9S",
    "outputId": "64a76c84-662c-49a1-e7fa-49f24d9eeb41"
   },
   "outputs": [
    {
     "name": "stdout",
     "output_type": "stream",
     "text": [
      "mlxtend version: 0.22.0\n"
     ]
    }
   ],
   "source": [
    "try:\n",
    "    import torchmetrics, mlxtend\n",
    "    print(f\"mlxtend version: {mlxtend.__version__}\")\n",
    "    assert int(mlxtend.__version__.split(\".\")[1]) >= 19, \"mlxtend verison should be 0.19.0 or higher\"\n",
    "except:\n",
    "    !pip install -q torchmetrics -U mlxtend # <- Note: If you're using Google Colab, this may require restarting the runtime\n",
    "    import torchmetrics, mlxtend\n",
    "    print(f\"mlxtend version: {mlxtend.__version__}\")"
   ]
  },
  {
   "cell_type": "code",
   "execution_count": 3,
   "metadata": {
    "colab": {
     "base_uri": "https://localhost:8080/"
    },
    "execution": {
     "iopub.execute_input": "2023-06-26T05:39:09.522723Z",
     "iopub.status.busy": "2023-06-26T05:39:09.522278Z",
     "iopub.status.idle": "2023-06-26T05:39:11.028980Z",
     "shell.execute_reply": "2023-06-26T05:39:11.028003Z"
    },
    "id": "zCc7VneBluwq",
    "outputId": "933b25b2-3560-4caf-96e0-917a10536d96"
   },
   "outputs": [
    {
     "name": "stdout",
     "output_type": "stream",
     "text": [
      "In colab: False\n"
     ]
    }
   ],
   "source": [
    "import requests\n",
    "from pathlib import Path\n",
    "import pandas as pd\n",
    "import seaborn as sns\n",
    "from zipfile import ZipFile\n",
    "\n",
    "try:\n",
    "    import google.colab\n",
    "    from google.colab import drive\n",
    "    IN_COLAB = True\n",
    "    drive.mount('/content/drive')\n",
    "except:\n",
    "    IN_COLAB = False\n",
    "\n",
    "print(f\"In colab: {IN_COLAB}\")"
   ]
  },
  {
   "cell_type": "code",
   "execution_count": 4,
   "metadata": {
    "colab": {
     "base_uri": "https://localhost:8080/"
    },
    "execution": {
     "iopub.execute_input": "2023-06-26T05:39:11.034177Z",
     "iopub.status.busy": "2023-06-26T05:39:11.034002Z",
     "iopub.status.idle": "2023-06-26T05:39:11.039978Z",
     "shell.execute_reply": "2023-06-26T05:39:11.039059Z"
    },
    "id": "KeaUDzwHlwsu",
    "outputId": "52c484c0-237b-4c9f-98a6-e8cb84b922d5"
   },
   "outputs": [],
   "source": [
    "def pull_code():\n",
    "  print(\"Unzipping the code from google drive\")\n",
    "  !rm -rf modular/\n",
    "  !unzip ./drive/MyDrive/wilberquito_thesis/modular.zip -d . >/dev/null 2>&1\n",
    "\n",
    "if IN_COLAB:\n",
    "    pull_code()"
   ]
  },
  {
   "cell_type": "code",
   "execution_count": 5,
   "metadata": {
    "colab": {
     "base_uri": "https://localhost:8080/"
    },
    "execution": {
     "iopub.execute_input": "2023-06-26T05:39:11.044725Z",
     "iopub.status.busy": "2023-06-26T05:39:11.044566Z",
     "iopub.status.idle": "2023-06-26T05:39:11.051142Z",
     "shell.execute_reply": "2023-06-26T05:39:11.049919Z"
    },
    "id": "5WEHUnjilyq_",
    "outputId": "f3d24d14-6036-4359-bb98-f645a152db4d"
   },
   "outputs": [],
   "source": [
    "def pull_data():\n",
    "  answer = input(\"You sure? Y/n\\n\")\n",
    "  if answer != \"Y\":\n",
    "    return\n",
    "\n",
    "  print(\"Unzipping the data from google drive\")\n",
    "  !rm -rf data.etl/\n",
    "  !unzip ./drive/MyDrive/wilberquito_thesis/data.zip -d . >/dev/null 2>&1\n",
    "\n",
    "if IN_COLAB:\n",
    "    pull_data()"
   ]
  },
  {
   "cell_type": "code",
   "execution_count": 6,
   "metadata": {
    "colab": {
     "base_uri": "https://localhost:8080/"
    },
    "execution": {
     "iopub.execute_input": "2023-06-26T05:39:11.055938Z",
     "iopub.status.busy": "2023-06-26T05:39:11.055765Z",
     "iopub.status.idle": "2023-06-26T05:39:12.202147Z",
     "shell.execute_reply": "2023-06-26T05:39:12.200646Z"
    },
    "id": "N6qI1tTJl3Vg",
    "outputId": "37fad067-abaf-4ca2-e09b-0f29c7a4cd52"
   },
   "outputs": [
    {
     "name": "stdout",
     "output_type": "stream",
     "text": [
      "Mon Jun 26 05:39:11 2023       \r\n",
      "+-----------------------------------------------------------------------------+\r\n",
      "| NVIDIA-SMI 515.105.01   Driver Version: 515.105.01   CUDA Version: 11.7     |\r\n",
      "|-------------------------------+----------------------+----------------------+\r\n",
      "| GPU  Name        Persistence-M| Bus-Id        Disp.A | Volatile Uncorr. ECC |\r\n",
      "| Fan  Temp  Perf  Pwr:Usage/Cap|         Memory-Usage | GPU-Util  Compute M. |\r\n",
      "|                               |                      |               MIG M. |\r\n",
      "|===============================+======================+======================|\r\n",
      "|   0  NVIDIA A100 80G...  Off  | 00000000:31:00.0 Off |                   On |\r\n",
      "| N/A   43C    P0    47W / 300W |      0MiB / 81920MiB |     N/A      Default |\r\n",
      "|                               |                      |              Enabled |\r\n",
      "+-------------------------------+----------------------+----------------------+\r\n",
      "|   1  NVIDIA A100 80G...  Off  | 00000000:4B:00.0 Off |                   On |\r\n",
      "| N/A   49C    P0    45W / 300W |     45MiB / 81920MiB |     N/A      Default |\r\n",
      "|                               |                      |              Enabled |\r\n",
      "+-------------------------------+----------------------+----------------------+\r\n",
      "|   2  NVIDIA A100 80G...  Off  | 00000000:B1:00.0 Off |                    0 |\r\n",
      "| N/A   42C    P0    44W / 300W |      0MiB / 81920MiB |      0%      Default |\r\n",
      "|                               |                      |             Disabled |\r\n",
      "+-------------------------------+----------------------+----------------------+\r\n",
      "|   3  NVIDIA A100 80G...  Off  | 00000000:CA:00.0 Off |                    0 |\r\n",
      "| N/A   44C    P0    43W / 300W |      0MiB / 81920MiB |      0%      Default |\r\n",
      "|                               |                      |             Disabled |\r\n",
      "+-------------------------------+----------------------+----------------------+\r\n",
      "\r\n",
      "+-----------------------------------------------------------------------------+\r\n",
      "| MIG devices:                                                                |\r\n",
      "+------------------+----------------------+-----------+-----------------------+\r\n",
      "| GPU  GI  CI  MIG |         Memory-Usage |        Vol|         Shared        |\r\n",
      "|      ID  ID  Dev |           BAR1-Usage | SM     Unc| CE  ENC  DEC  OFA  JPG|\r\n",
      "|                  |                      |        ECC|                       |\r\n",
      "|==================+======================+===========+=======================|\r\n",
      "|  0    0   0   0  |      0MiB / 81111MiB | 98      0 |  7   0    5    1    1 |\r\n",
      "|                  |      1MiB / 13107... |           |                       |\r\n",
      "+------------------+----------------------+-----------+-----------------------+\r\n",
      "|  1    1   0   0  |     19MiB / 40192MiB | 42      0 |  3   0    2    0    0 |\r\n",
      "|                  |      0MiB / 65535MiB |           |                       |\r\n",
      "+------------------+----------------------+-----------+-----------------------+\r\n",
      "|  1    2   0   1  |     25MiB / 40192MiB | 56      0 |  4   0    2    0    0 |\r\n",
      "|                  |      0MiB / 65535MiB |           |                       |\r\n",
      "+------------------+----------------------+-----------+-----------------------+\r\n",
      "                                                                               \r\n",
      "+-----------------------------------------------------------------------------+\r\n",
      "| Processes:                                                                  |\r\n",
      "|  GPU   GI   CI        PID   Type   Process name                  GPU Memory |\r\n",
      "|        ID   ID                                                   Usage      |\r\n",
      "|=============================================================================|\r\n",
      "|  No running processes found                                                 |\r\n",
      "+-----------------------------------------------------------------------------+\r\n"
     ]
    }
   ],
   "source": [
    "!nvidia-smi"
   ]
  },
  {
   "cell_type": "markdown",
   "metadata": {
    "id": "uQH1UDiKl55a"
   },
   "source": [
    "## Scheduler"
   ]
  },
  {
   "cell_type": "code",
   "execution_count": 7,
   "metadata": {
    "execution": {
     "iopub.execute_input": "2023-06-26T05:39:12.209102Z",
     "iopub.status.busy": "2023-06-26T05:39:12.208557Z",
     "iopub.status.idle": "2023-06-26T05:39:12.215360Z",
     "shell.execute_reply": "2023-06-26T05:39:12.214137Z"
    },
    "id": "XkLFZ3pbl5b4"
   },
   "outputs": [],
   "source": [
    "LEARNING_RATE = 1e-3\n",
    "EPOCHS = 40\n",
    "ETA_MIN = 2e-4\n",
    "PATIENCE = 10"
   ]
  },
  {
   "cell_type": "code",
   "execution_count": 8,
   "metadata": {
    "colab": {
     "base_uri": "https://localhost:8080/",
     "height": 465
    },
    "execution": {
     "iopub.execute_input": "2023-06-26T05:39:12.221313Z",
     "iopub.status.busy": "2023-06-26T05:39:12.220921Z",
     "iopub.status.idle": "2023-06-26T05:39:13.216088Z",
     "shell.execute_reply": "2023-06-26T05:39:13.214705Z"
    },
    "id": "5O41digFmBK3",
    "outputId": "682b32ca-d1ad-4fb7-ff6c-8a8362c971e1"
   },
   "outputs": [
    {
     "data": {
      "image/png": "[encoded data removed]",
      "text/plain": [
       "<Figure size 720x360 with 1 Axes>"
      ]
     },
     "metadata": {
      "needs_background": "light"
     },
     "output_type": "display_data"
    }
   ],
   "source": [
    "import torch\n",
    "import torch.optim.lr_scheduler as lr_scheduler # Import your choice of scheduler here\n",
    "import modular.utility as m_utility\n",
    "\n",
    "# Set model and optimizer\n",
    "model = torch.nn.Linear(2, 1)\n",
    "optimizer = torch.optim.SGD(model.parameters(), lr=LEARNING_RATE)\n",
    "\n",
    "# Define your scheduler here as described above\n",
    "# ...\n",
    "scheduler = lr_scheduler.CosineAnnealingLR(optimizer,\n",
    "                                           T_max=EPOCHS,\n",
    "                                           eta_min=ETA_MIN)\n",
    "m_utility.plot_learning_rate_scheduler(optimizer,\n",
    "                                       scheduler,\n",
    "                                       LEARNING_RATE,\n",
    "                                       EPOCHS)"
   ]
  },
  {
   "cell_type": "markdown",
   "metadata": {
    "id": "c40sudULPTpc"
   },
   "source": [
    "## Batch Size"
   ]
  },
  {
   "cell_type": "code",
   "execution_count": 9,
   "metadata": {
    "execution": {
     "iopub.execute_input": "2023-06-26T05:39:13.222036Z",
     "iopub.status.busy": "2023-06-26T05:39:13.221802Z",
     "iopub.status.idle": "2023-06-26T05:39:13.227402Z",
     "shell.execute_reply": "2023-06-26T05:39:13.226089Z"
    },
    "id": "6ew5iPrwPSRy"
   },
   "outputs": [],
   "source": [
    "BATCH_SIZE = 1024"
   ]
  },
  {
   "cell_type": "markdown",
   "metadata": {
    "id": "OgT0K1VpPZC9"
   },
   "source": [
    "## WandB"
   ]
  },
  {
   "cell_type": "code",
   "execution_count": 10,
   "metadata": {
    "execution": {
     "iopub.execute_input": "2023-06-26T05:39:13.233277Z",
     "iopub.status.busy": "2023-06-26T05:39:13.232961Z",
     "iopub.status.idle": "2023-06-26T05:39:14.086615Z",
     "shell.execute_reply": "2023-06-26T05:39:14.085102Z"
    },
    "id": "1ahOJsFLPYda"
   },
   "outputs": [
    {
     "name": "stderr",
     "output_type": "stream",
     "text": [
      "Failed to detect the name of this notebook, you can set it manually with the WANDB_NOTEBOOK_NAME environment variable to enable code saving.\n",
      "\u001b[34m\u001b[1mwandb\u001b[0m: Currently logged in as: \u001b[33mwilberquto\u001b[0m (\u001b[33mwilberquito\u001b[0m). Use \u001b[1m`wandb login --relogin`\u001b[0m to force relogin\n",
      "\u001b[34m\u001b[1mwandb\u001b[0m: \u001b[33mWARNING\u001b[0m If you're specifying your api key in code, ensure this code is not shared publicly.\n",
      "\u001b[34m\u001b[1mwandb\u001b[0m: \u001b[33mWARNING\u001b[0m Consider setting the WANDB_API_KEY environment variable, or running `wandb login` from the command line.\n",
      "\u001b[34m\u001b[1mwandb\u001b[0m: Appending key for api.wandb.ai to your netrc file: /home/student2/.netrc\n"
     ]
    },
    {
     "data": {
      "text/plain": [
       "True"
      ]
     },
     "execution_count": 10,
     "metadata": {},
     "output_type": "execute_result"
    }
   ],
   "source": [
    "import wandb\n",
    "\n",
    "key = \"c1121fe51146c1da87d1139239da7748c4e78665\"\n",
    "wandb.login(key=key)"
   ]
  },
  {
   "cell_type": "code",
   "execution_count": 11,
   "metadata": {
    "execution": {
     "iopub.execute_input": "2023-06-26T05:39:14.092861Z",
     "iopub.status.busy": "2023-06-26T05:39:14.092457Z",
     "iopub.status.idle": "2023-06-26T05:39:14.098834Z",
     "shell.execute_reply": "2023-06-26T05:39:14.097339Z"
    },
    "id": "60sA7L1OPc2l"
   },
   "outputs": [],
   "source": [
    "wandb.finish()"
   ]
  },
  {
   "cell_type": "code",
   "execution_count": 12,
   "metadata": {
    "execution": {
     "iopub.execute_input": "2023-06-26T05:39:14.105047Z",
     "iopub.status.busy": "2023-06-26T05:39:14.104637Z",
     "iopub.status.idle": "2023-06-26T05:39:21.034172Z",
     "shell.execute_reply": "2023-06-26T05:39:21.033087Z"
    },
    "id": "auuUNkTvPh9-"
   },
   "outputs": [
    {
     "data": {
      "text/html": [
       "wandb version 0.15.4 is available!  To upgrade, please run:\n",
       " $ pip install wandb --upgrade"
      ],
      "text/plain": [
       "<IPython.core.display.HTML object>"
      ]
     },
     "metadata": {},
     "output_type": "display_data"
    },
    {
     "data": {
      "text/html": [
       "Tracking run with wandb version 0.12.17"
      ],
      "text/plain": [
       "<IPython.core.display.HTML object>"
      ]
     },
     "metadata": {},
     "output_type": "display_data"
    },
    {
     "data": {
      "text/html": [
       "Run data is saved locally in <code>/home/student2/thesis/pytorch/wandb/run-20230626_053914-haohfl7i</code>"
      ],
      "text/plain": [
       "<IPython.core.display.HTML object>"
      ]
     },
     "metadata": {},
     "output_type": "display_data"
    },
    {
     "data": {
      "text/html": [
       "Syncing run <strong><a href=\"https://wandb.ai/wilberquito/melanoma_thesis/runs/haohfl7i\" target=\"_blank\">ResNet18R_V2</a></strong> to <a href=\"https://wandb.ai/wilberquito/melanoma_thesis\" target=\"_blank\">Weights & Biases</a> (<a href=\"https://wandb.me/run\" target=\"_blank\">docs</a>)<br/>"
      ],
      "text/plain": [
       "<IPython.core.display.HTML object>"
      ]
     },
     "metadata": {},
     "output_type": "display_data"
    },
    {
     "data": {
      "text/html": [
       "<button onClick=\"this.nextSibling.style.display='block';this.style.display='none';\">Display W&B run</button><iframe src=\"https://wandb.ai/wilberquito/melanoma_thesis/runs/haohfl7i?jupyter=true\" style=\"border:none;width:100%;height:420px;display:none;\"></iframe>"
      ],
      "text/plain": [
       "<wandb.sdk.wandb_run.Run at 0x7f4127090cd0>"
      ]
     },
     "execution_count": 12,
     "metadata": {},
     "output_type": "execute_result"
    }
   ],
   "source": [
    "\n",
    "wandb.init(\n",
    "    # set the wandb project where this run will be logged\n",
    "    project=\"melanoma_thesis\",\n",
    "    group=\"train_test\",\n",
    "    name=\"ResNet18R_V2\",\n",
    "    config={\n",
    "      \"architecture\": \"ResNet18\",\n",
    "      \"scheduler\": \"CosineAnnealingLR\",\n",
    "      \"dataset\": \"ISIC\",\n",
    "      \"learning_rate\": LEARNING_RATE,\n",
    "      \"batch_size\": BATCH_SIZE,\n",
    "      \"epochs\": EPOCHS,\n",
    "      \"patience\": PATIENCE,\n",
    "      \"eta_min\": ETA_MIN,\n",
    "      \"regularization\": [\"Dropout\", \"Data augmentation\"]\n",
    "    }\n",
    ")"
   ]
  },
  {
   "cell_type": "markdown",
   "metadata": {
    "id": "F3jg8drVmHgx"
   },
   "source": [
    "## Writter"
   ]
  },
  {
   "cell_type": "code",
   "execution_count": 13,
   "metadata": {
    "execution": {
     "iopub.execute_input": "2023-06-26T05:39:21.040582Z",
     "iopub.status.busy": "2023-06-26T05:39:21.040047Z",
     "iopub.status.idle": "2023-06-26T05:39:21.109724Z",
     "shell.execute_reply": "2023-06-26T05:39:21.108734Z"
    },
    "id": "oQNAU1sLmGmz"
   },
   "outputs": [],
   "source": [
    "import modular.utility as m_utility\n",
    "\n",
    "writter = m_utility.model_writter('resnet18regularization_v2')"
   ]
  },
  {
   "cell_type": "markdown",
   "metadata": {
    "id": "eoheBTMImJgn"
   },
   "source": [
    "## Train"
   ]
  },
  {
   "cell_type": "code",
   "execution_count": 14,
   "metadata": {
    "colab": {
     "base_uri": "https://localhost:8080/"
    },
    "execution": {
     "iopub.execute_input": "2023-06-26T05:39:21.116055Z",
     "iopub.status.busy": "2023-06-26T05:39:21.115087Z",
     "iopub.status.idle": "2023-06-27T12:40:02.299266Z",
     "shell.execute_reply": "2023-06-27T12:40:02.297468Z"
    },
    "id": "pD8A-J7EmM0X",
    "outputId": "fca48605-b7bc-4e24-825f-cc1ce4e31723"
   },
   "outputs": [
    {
     "name": "stderr",
     "output_type": "stream",
     "text": [
      "/home/student2/.local/lib/python3.9/site-packages/albumentations/augmentations/blur/transforms.py:184: UserWarning: blur_limit and sigma_limit minimum value can not be both equal to 0. blur_limit minimum value changed to 3.\n",
      "  warnings.warn(\n"
     ]
    },
    {
     "name": "stdout",
     "output_type": "stream",
     "text": [
      "Epoch 1/40\n",
      "----------\n",
      "Train OvR: 0.5600 \t|\tTrain Loss: 1.4364 \t|\tTrain Acc: 0.5554\n",
      "Val OvR: 0.7252 \t|\tVal Loss: 1.1706 \t|\tVal Acc: 0.5925\n",
      "=> Saving a new checkpoint\n",
      "Epoch 2/40\n",
      "----------\n",
      "Train OvR: 0.7197 \t|\tTrain Loss: 1.1348 \t|\tTrain Acc: 0.6042\n",
      "Val OvR: 0.7712 \t|\tVal Loss: 1.0230 \t|\tVal Acc: 0.6436\n",
      "=> Saving a new checkpoint\n",
      "Epoch 3/40\n",
      "----------\n",
      "Train OvR: 0.7554 \t|\tTrain Loss: 1.0574 \t|\tTrain Acc: 0.6302\n",
      "Val OvR: 0.7924 \t|\tVal Loss: 0.9660 \t|\tVal Acc: 0.6583\n",
      "=> Saving a new checkpoint\n",
      "Epoch 4/40\n",
      "----------\n",
      "Train OvR: 0.7687 \t|\tTrain Loss: 1.0196 \t|\tTrain Acc: 0.6401\n",
      "Val OvR: 0.8084 \t|\tVal Loss: 0.9334 \t|\tVal Acc: 0.6673\n",
      "=> Saving a new checkpoint\n",
      "Epoch 5/40\n",
      "----------\n",
      "Train OvR: 0.7809 \t|\tTrain Loss: 0.9975 \t|\tTrain Acc: 0.6492\n",
      "Val OvR: 0.8171 \t|\tVal Loss: 0.9124 \t|\tVal Acc: 0.6718\n",
      "=> Saving a new checkpoint\n",
      "Epoch 6/40\n",
      "----------\n",
      "Train OvR: 0.7904 \t|\tTrain Loss: 0.9806 \t|\tTrain Acc: 0.6523\n",
      "Val OvR: 0.8228 \t|\tVal Loss: 0.8940 \t|\tVal Acc: 0.6756\n",
      "=> Saving a new checkpoint\n",
      "Epoch 7/40\n",
      "----------\n",
      "Train OvR: 0.7926 \t|\tTrain Loss: 0.9679 \t|\tTrain Acc: 0.6594\n",
      "Val OvR: 0.8276 \t|\tVal Loss: 0.8807 \t|\tVal Acc: 0.6798\n",
      "=> Saving a new checkpoint\n",
      "Epoch 8/40\n",
      "----------\n",
      "Train OvR: 0.7997 \t|\tTrain Loss: 0.9504 \t|\tTrain Acc: 0.6653\n",
      "Val OvR: 0.8318 \t|\tVal Loss: 0.8678 \t|\tVal Acc: 0.6871\n",
      "=> Saving a new checkpoint\n",
      "Epoch 9/40\n",
      "----------\n",
      "Train OvR: 0.8040 \t|\tTrain Loss: 0.9384 \t|\tTrain Acc: 0.6694\n",
      "Val OvR: 0.8369 \t|\tVal Loss: 0.8571 \t|\tVal Acc: 0.6913\n",
      "=> Saving a new checkpoint\n",
      "Epoch 10/40\n",
      "----------\n",
      "Train OvR: 0.8063 \t|\tTrain Loss: 0.9293 \t|\tTrain Acc: 0.6692\n",
      "Val OvR: 0.8388 \t|\tVal Loss: 0.8508 \t|\tVal Acc: 0.6875\n",
      "=> Saving a new checkpoint\n",
      "Epoch 11/40\n",
      "----------\n",
      "Train OvR: 0.8105 \t|\tTrain Loss: 0.9182 \t|\tTrain Acc: 0.6723\n",
      "Val OvR: 0.8430 \t|\tVal Loss: 0.8368 \t|\tVal Acc: 0.6971\n",
      "=> Saving a new checkpoint\n",
      "Epoch 12/40\n",
      "----------\n",
      "Train OvR: 0.8153 \t|\tTrain Loss: 0.9084 \t|\tTrain Acc: 0.6795\n",
      "Val OvR: 0.8461 \t|\tVal Loss: 0.8288 \t|\tVal Acc: 0.7006\n",
      "=> Saving a new checkpoint\n",
      "Epoch 13/40\n",
      "----------\n",
      "Train OvR: 0.8117 \t|\tTrain Loss: 0.9107 \t|\tTrain Acc: 0.6783\n",
      "Val OvR: 0.8482 \t|\tVal Loss: 0.8218 \t|\tVal Acc: 0.7028\n",
      "=> Saving a new checkpoint\n",
      "Epoch 14/40\n",
      "----------\n",
      "Train OvR: 0.8138 \t|\tTrain Loss: 0.8986 \t|\tTrain Acc: 0.6828\n",
      "Val OvR: 0.8504 \t|\tVal Loss: 0.8172 \t|\tVal Acc: 0.7031\n",
      "=> Saving a new checkpoint\n",
      "Epoch 15/40\n",
      "----------\n",
      "Train OvR: 0.8170 \t|\tTrain Loss: 0.8903 \t|\tTrain Acc: 0.6846\n",
      "Val OvR: 0.8529 \t|\tVal Loss: 0.8097 \t|\tVal Acc: 0.7057\n",
      "=> Saving a new checkpoint\n",
      "Epoch 16/40\n",
      "----------\n",
      "Train OvR: 0.8150 \t|\tTrain Loss: 0.8908 \t|\tTrain Acc: 0.6836\n",
      "Val OvR: 0.8543 \t|\tVal Loss: 0.8048 \t|\tVal Acc: 0.7073\n",
      "=> Saving a new checkpoint\n",
      "Epoch 17/40\n",
      "----------\n",
      "Train OvR: 0.8194 \t|\tTrain Loss: 0.8839 \t|\tTrain Acc: 0.6861\n",
      "Val OvR: 0.8562 \t|\tVal Loss: 0.8001 \t|\tVal Acc: 0.7127\n",
      "=> Saving a new checkpoint\n",
      "Epoch 18/40\n",
      "----------\n",
      "Train OvR: 0.8214 \t|\tTrain Loss: 0.8775 \t|\tTrain Acc: 0.6864\n",
      "Val OvR: 0.8561 \t|\tVal Loss: 0.7959 \t|\tVal Acc: 0.7134\n",
      "=> Saving a new checkpoint\n",
      "Epoch 19/40\n",
      "----------\n",
      "Train OvR: 0.8194 \t|\tTrain Loss: 0.8765 \t|\tTrain Acc: 0.6875\n",
      "Val OvR: 0.8576 \t|\tVal Loss: 0.7926 \t|\tVal Acc: 0.7147\n",
      "=> Saving a new checkpoint\n",
      "Epoch 20/40\n",
      "----------\n",
      "Train OvR: 0.8274 \t|\tTrain Loss: 0.8693 \t|\tTrain Acc: 0.6893\n",
      "Val OvR: 0.8592 \t|\tVal Loss: 0.7862 \t|\tVal Acc: 0.7159\n",
      "=> Saving a new checkpoint\n",
      "Epoch 21/40\n",
      "----------\n",
      "Train OvR: 0.8262 \t|\tTrain Loss: 0.8658 \t|\tTrain Acc: 0.6895\n",
      "Val OvR: 0.8603 \t|\tVal Loss: 0.7822 \t|\tVal Acc: 0.7179\n",
      "=> Saving a new checkpoint\n",
      "Epoch 22/40\n",
      "----------\n",
      "Train OvR: 0.8269 \t|\tTrain Loss: 0.8668 \t|\tTrain Acc: 0.6908\n",
      "Val OvR: 0.8615 \t|\tVal Loss: 0.7801 \t|\tVal Acc: 0.7169\n",
      "=> Saving a new checkpoint\n",
      "Epoch 23/40\n",
      "----------\n",
      "Train OvR: 0.8249 \t|\tTrain Loss: 0.8652 \t|\tTrain Acc: 0.6914\n",
      "Val OvR: 0.8616 \t|\tVal Loss: 0.7768 \t|\tVal Acc: 0.7182\n",
      "=> Saving a new checkpoint\n",
      "Epoch 24/40\n",
      "----------\n",
      "Train OvR: 0.8324 \t|\tTrain Loss: 0.8542 \t|\tTrain Acc: 0.6944\n",
      "Val OvR: 0.8620 \t|\tVal Loss: 0.7747 \t|\tVal Acc: 0.7194\n",
      "=> Saving a new checkpoint\n",
      "Epoch 25/40\n",
      "----------\n",
      "Train OvR: 0.8285 \t|\tTrain Loss: 0.8543 \t|\tTrain Acc: 0.6947\n",
      "Val OvR: 0.8626 \t|\tVal Loss: 0.7721 \t|\tVal Acc: 0.7185\n",
      "=> Saving a new checkpoint\n",
      "Epoch 26/40\n",
      "----------\n",
      "Train OvR: 0.8307 \t|\tTrain Loss: 0.8514 \t|\tTrain Acc: 0.6938\n",
      "Val OvR: 0.8635 \t|\tVal Loss: 0.7693 \t|\tVal Acc: 0.7198\n",
      "=> Saving a new checkpoint\n",
      "Epoch 27/40\n",
      "----------\n",
      "Train OvR: 0.8285 \t|\tTrain Loss: 0.8550 \t|\tTrain Acc: 0.6942\n",
      "Val OvR: 0.8636 \t|\tVal Loss: 0.7668 \t|\tVal Acc: 0.7217\n",
      "=> Saving a new checkpoint\n",
      "Epoch 28/40\n",
      "----------\n",
      "Train OvR: 0.8319 \t|\tTrain Loss: 0.8528 \t|\tTrain Acc: 0.6939\n",
      "Val OvR: 0.8639 \t|\tVal Loss: 0.7657 \t|\tVal Acc: 0.7233\n",
      "=> Saving a new checkpoint\n",
      "Epoch 29/40\n",
      "----------\n",
      "Train OvR: 0.8313 \t|\tTrain Loss: 0.8483 \t|\tTrain Acc: 0.6983\n",
      "Val OvR: 0.8648 \t|\tVal Loss: 0.7627 \t|\tVal Acc: 0.7236\n",
      "=> Saving a new checkpoint\n",
      "Epoch 30/40\n",
      "----------\n",
      "Train OvR: 0.8322 \t|\tTrain Loss: 0.8455 \t|\tTrain Acc: 0.6964\n",
      "Val OvR: 0.8647 \t|\tVal Loss: 0.7616 \t|\tVal Acc: 0.7246\n",
      "=> Saving a new checkpoint\n",
      "Epoch 31/40\n",
      "----------\n",
      "Train OvR: 0.8282 \t|\tTrain Loss: 0.8509 \t|\tTrain Acc: 0.6957\n",
      "Val OvR: 0.8650 \t|\tVal Loss: 0.7602 \t|\tVal Acc: 0.7255\n",
      "=> Saving a new checkpoint\n",
      "Epoch 32/40\n",
      "----------\n",
      "Train OvR: 0.8341 \t|\tTrain Loss: 0.8437 \t|\tTrain Acc: 0.6971\n",
      "Val OvR: 0.8658 \t|\tVal Loss: 0.7584 \t|\tVal Acc: 0.7249\n",
      "=> Saving a new checkpoint\n",
      "Epoch 33/40\n",
      "----------\n",
      "Train OvR: 0.8318 \t|\tTrain Loss: 0.8458 \t|\tTrain Acc: 0.6963\n",
      "Val OvR: 0.8654 \t|\tVal Loss: 0.7579 \t|\tVal Acc: 0.7252\n",
      "=> Saving a new checkpoint\n",
      "Epoch 34/40\n",
      "----------\n",
      "Train OvR: 0.8316 \t|\tTrain Loss: 0.8424 \t|\tTrain Acc: 0.6994\n",
      "Val OvR: 0.8658 \t|\tVal Loss: 0.7557 \t|\tVal Acc: 0.7262\n",
      "=> Saving a new checkpoint\n",
      "Epoch 35/40\n",
      "----------\n",
      "Train OvR: 0.8363 \t|\tTrain Loss: 0.8370 \t|\tTrain Acc: 0.7007\n",
      "Val OvR: 0.8661 \t|\tVal Loss: 0.7540 \t|\tVal Acc: 0.7271\n",
      "=> Saving a new checkpoint\n",
      "Epoch 36/40\n",
      "----------\n",
      "Train OvR: 0.8342 \t|\tTrain Loss: 0.8407 \t|\tTrain Acc: 0.6991\n",
      "Val OvR: 0.8666 \t|\tVal Loss: 0.7525 \t|\tVal Acc: 0.7268\n",
      "=> Saving a new checkpoint\n",
      "Epoch 37/40\n",
      "----------\n",
      "Train OvR: 0.8373 \t|\tTrain Loss: 0.8354 \t|\tTrain Acc: 0.7005\n",
      "Val OvR: 0.8669 \t|\tVal Loss: 0.7519 \t|\tVal Acc: 0.7258\n",
      "=> Saving a new checkpoint\n",
      "Epoch 38/40\n",
      "----------\n",
      "Train OvR: 0.8360 \t|\tTrain Loss: 0.8361 \t|\tTrain Acc: 0.7015\n",
      "Val OvR: 0.8671 \t|\tVal Loss: 0.7508 \t|\tVal Acc: 0.7274\n",
      "=> Saving a new checkpoint\n",
      "Epoch 39/40\n",
      "----------\n",
      "Train OvR: 0.8336 \t|\tTrain Loss: 0.8330 \t|\tTrain Acc: 0.7016\n",
      "Val OvR: 0.8672 \t|\tVal Loss: 0.7501 \t|\tVal Acc: 0.7274\n",
      "=> Saving a new checkpoint\n",
      "Epoch 40/40\n",
      "----------\n",
      "Train OvR: 0.8361 \t|\tTrain Loss: 0.8335 \t|\tTrain Acc: 0.7010\n",
      "Val OvR: 0.8675 \t|\tVal Loss: 0.7493 \t|\tVal Acc: 0.7274\n",
      "=> Saving a new checkpoint\n",
      "\n",
      "Training completed after: 1860m 32s\n",
      "Best epoch: 40\n",
      "Best val OvR: 0.8675\n"
     ]
    }
   ],
   "source": [
    "from torchvision import models\n",
    "import torch\n",
    "import torch.nn as nn\n",
    "import torch.optim as optim\n",
    "from torch.optim import lr_scheduler\n",
    "from torchvision.models import (ResNet18_Weights)\n",
    "from torch.utils.data import DataLoader\n",
    "import torch\n",
    "import torchvision as tv\n",
    "import modular.dataset as m_dataset\n",
    "import modular.utility as m_utility\n",
    "import modular.engine as engine\n",
    "import modular.models as m_models\n",
    "\n",
    "# Set seed\n",
    "m_utility.set_seed(42)\n",
    "\n",
    "# Build the dataframes\n",
    "data_dir = 'data.etl'\n",
    "data_folder = '512'\n",
    "train_df, test_df, mapping = m_dataset.get_df(data_dir, data_folder)\n",
    "\n",
    "device = 'cuda' if torch.cuda.is_available() else 'cpu'\n",
    "\n",
    "\n",
    "out_features = len(mapping)\n",
    "model_ft = m_models.ResNet18_Dropout_Melanoma(out_features)\n",
    "model_ft = model_ft.to(device)\n",
    "\n",
    "criterion = nn.CrossEntropyLoss()\n",
    "\n",
    "# Optimzier and Scheduler\n",
    "optimizer = optim.SGD(model_ft.parameters(), lr=LEARNING_RATE, momentum=0.9)\n",
    "\n",
    "scheduler = lr_scheduler.CosineAnnealingLR(optimizer,\n",
    "                                           T_max=EPOCHS,\n",
    "                                           eta_min=ETA_MIN)\n",
    "\n",
    "\n",
    "# Mapping from id to classname\n",
    "idx_to_class = { k : classname for classname, k in mapping.items() }\n",
    "\n",
    "# Train and validate dataset & dataloader\n",
    "train_df, validate_df = m_dataset.train_validate_split(train_df,\n",
    "                                                       random_state=42,\n",
    "                                                       validate_size=0.2)\n",
    "\n",
    "validate_df, test_df = m_dataset.train_validate_split(validate_df,\n",
    "                                                      random_state=42,\n",
    "                                                      validate_size=0.5)\n",
    "\n",
    "\n",
    "train_transforms, val_transforms = m_dataset.get_transforms(image_size=256)\n",
    "\n",
    "train_dataset = m_dataset.MelanomaDataset(train_df,\n",
    "                                          mode='train',\n",
    "                                          transforms=train_transforms,\n",
    "                                          idx_to_class=idx_to_class)\n",
    "validate_dataset = m_dataset.MelanomaDataset(validate_df,\n",
    "                                             mode='validate',\n",
    "                                             transforms=val_transforms,\n",
    "                                             idx_to_class=idx_to_class)\n",
    "\n",
    "batch_size = BATCH_SIZE\n",
    "\n",
    "train_dataloader = DataLoader(train_dataset, batch_size=batch_size, shuffle=True)\n",
    "validate_dataloader = DataLoader(validate_dataset, batch_size=batch_size, shuffle=False)\n",
    "\n",
    "# Test dataset and dataloader\n",
    "test_dataset = m_dataset.MelanomaDataset(test_df,\n",
    "                                         mode='test',\n",
    "                                         idx_to_class=idx_to_class)\n",
    "test_dataloader = DataLoader(test_dataset, batch_size=batch_size, shuffle=False)\n",
    "\n",
    "# Dataloaders\n",
    "dataloaders = {\n",
    "    'train': train_dataloader,\n",
    "    'val': validate_dataloader,\n",
    "}\n",
    "\n",
    "datasets_size = {\n",
    "    'train': len(train_dataset),\n",
    "    'val': len(validate_dataset),\n",
    "}\n",
    "\n",
    "about_data = {\n",
    "    'dataloaders': dataloaders,\n",
    "    'datasets': {\n",
    "        'size': datasets_size\n",
    "    }\n",
    "}\n",
    "\n",
    "MEL_IDX = 6 # Check data exploration notebook\n",
    "VAL_TIMES = 4\n",
    "\n",
    "model_ft, stats = engine.train_model(model_ft,\n",
    "                                     MEL_IDX,\n",
    "                                     about_data,\n",
    "                                     device,\n",
    "                                     criterion,\n",
    "                                     optimizer,\n",
    "                                     scheduler,\n",
    "                                     num_epochs=EPOCHS,\n",
    "                                     patience=PATIENCE,\n",
    "                                     writter=writter,\n",
    "                                     val_times=VAL_TIMES)"
   ]
  },
  {
   "cell_type": "code",
   "execution_count": 15,
   "metadata": {
    "execution": {
     "iopub.execute_input": "2023-06-27T12:40:02.307997Z",
     "iopub.status.busy": "2023-06-27T12:40:02.307526Z",
     "iopub.status.idle": "2023-06-27T12:40:12.654748Z",
     "shell.execute_reply": "2023-06-27T12:40:12.653462Z"
    },
    "id": "B4tutoS7PvWW"
   },
   "outputs": [
    {
     "data": {
      "text/html": [
       "Waiting for W&B process to finish... <strong style=\"color:green\">(success).</strong>"
      ],
      "text/plain": [
       "<IPython.core.display.HTML object>"
      ]
     },
     "metadata": {},
     "output_type": "display_data"
    },
    {
     "data": {
      "application/vnd.jupyter.widget-view+json": {
       "model_id": "2e491cb85a3749639264225869649cf3",
       "version_major": 2,
       "version_minor": 0
      },
      "text/plain": [
       "VBox(children=(Label(value='0.000 MB of 0.000 MB uploaded (0.000 MB deduped)\\r'), FloatProgress(value=1.0, max…"
      ]
     },
     "metadata": {},
     "output_type": "display_data"
    },
    {
     "data": {
      "text/html": [
       "<style>\n",
       "    table.wandb td:nth-child(1) { padding: 0 10px; text-align: left ; width: auto;} td:nth-child(2) {text-align: left ; width: 100%}\n",
       "    .wandb-row { display: flex; flex-direction: row; flex-wrap: wrap; justify-content: flex-start; width: 100% }\n",
       "    .wandb-col { display: flex; flex-direction: column; flex-basis: 100%; flex: 1; padding: 10px; }\n",
       "    </style>\n",
       "<div class=\"wandb-row\"><div class=\"wandb-col\"><h3>Run history:</h3><br/><table class=\"wandb\"><tr><td>train_acc</td><td>▁▃▅▅▅▆▆▆▆▆▇▇▇▇▇▇▇▇▇▇▇▇██████████████████</td></tr><tr><td>train_loss</td><td>█▅▄▃▃▃▃▂▂▂▂▂▂▂▂▂▂▂▂▁▁▁▁▁▁▁▁▁▁▁▁▁▁▁▁▁▁▁▁▁</td></tr><tr><td>train_ovr</td><td>▁▅▆▆▇▇▇▇▇▇▇▇▇▇▇▇████████████████████████</td></tr><tr><td>val_acc</td><td>▁▄▄▅▅▅▆▆▆▆▆▇▇▇▇▇▇▇▇▇█▇██████████████████</td></tr><tr><td>val_loss</td><td>█▆▅▄▄▃▃▃▃▃▂▂▂▂▂▂▂▂▂▂▂▂▁▁▁▁▁▁▁▁▁▁▁▁▁▁▁▁▁▁</td></tr><tr><td>val_ovr</td><td>▁▃▄▅▆▆▆▆▆▇▇▇▇▇▇▇▇▇██████████████████████</td></tr></table><br/></div><div class=\"wandb-col\"><h3>Run summary:</h3><br/><table class=\"wandb\"><tr><td>train_acc</td><td>0.701</td></tr><tr><td>train_loss</td><td>0.8335</td></tr><tr><td>train_ovr</td><td>0.8361</td></tr><tr><td>val_acc</td><td>0.7274</td></tr><tr><td>val_loss</td><td>0.7493</td></tr><tr><td>val_ovr</td><td>0.8675</td></tr></table><br/></div></div>"
      ],
      "text/plain": [
       "<IPython.core.display.HTML object>"
      ]
     },
     "metadata": {},
     "output_type": "display_data"
    },
    {
     "data": {
      "text/html": [
       "Synced <strong style=\"color:#cdcd00\">ResNet18R_V2</strong>: <a href=\"https://wandb.ai/wilberquito/melanoma_thesis/runs/haohfl7i\" target=\"_blank\">https://wandb.ai/wilberquito/melanoma_thesis/runs/haohfl7i</a><br/>Synced 6 W&B file(s), 0 media file(s), 0 artifact file(s) and 0 other file(s)"
      ],
      "text/plain": [
       "<IPython.core.display.HTML object>"
      ]
     },
     "metadata": {},
     "output_type": "display_data"
    },
    {
     "data": {
      "text/html": [
       "Find logs at: <code>./wandb/run-20230626_053914-haohfl7i/logs</code>"
      ],
      "text/plain": [
       "<IPython.core.display.HTML object>"
      ]
     },
     "metadata": {},
     "output_type": "display_data"
    }
   ],
   "source": [
    "wandb.finish()"
   ]
  },
  {
   "cell_type": "code",
   "execution_count": 16,
   "metadata": {
    "execution": {
     "iopub.execute_input": "2023-06-27T12:40:12.661400Z",
     "iopub.status.busy": "2023-06-27T12:40:12.660955Z",
     "iopub.status.idle": "2023-06-27T12:40:13.226666Z",
     "shell.execute_reply": "2023-06-27T12:40:13.225936Z"
    },
    "id": "adrLd2DpPw4F"
   },
   "outputs": [
    {
     "data": {
      "image/png": "[encoded data removed]",
      "text/plain": [
       "<Figure size 1512x504 with 3 Axes>"
      ]
     },
     "metadata": {
      "needs_background": "light"
     },
     "output_type": "display_data"
    }
   ],
   "source": [
    "m_utility.plot_curves(stats)"
   ]
  },
  {
   "cell_type": "code",
   "execution_count": 17,
   "metadata": {
    "execution": {
     "iopub.execute_input": "2023-06-27T12:40:13.234488Z",
     "iopub.status.busy": "2023-06-27T12:40:13.234326Z",
     "iopub.status.idle": "2023-06-27T12:40:13.238713Z",
     "shell.execute_reply": "2023-06-27T12:40:13.237741Z"
    },
    "id": "mqZf1bMnPyod"
   },
   "outputs": [],
   "source": [
    "if IN_COLAB:\n",
    "  from google.colab import files\n",
    "  files.download('resnet18regularization_v2.pth.tar')\n",
    "  files.download('resnet18regularization_v2.csv')"
   ]
  }
 ],
 "metadata": {
  "colab": {
   "gpuType": "T4",
   "include_colab_link": true,
   "provenance": []
  },
  "kernelspec": {
   "display_name": "Python 3",
   "name": "python3"
  },
  "language_info": {
   "codemirror_mode": {
    "name": "ipython",
    "version": 3
   },
   "file_extension": ".py",
   "mimetype": "text/x-python",
   "name": "python",
   "nbconvert_exporter": "python",
   "pygments_lexer": "ipython3",
   "version": "3.9.12"
  },
  "widgets": {
   "application/vnd.jupyter.widget-state+json": {
    "state": {
     "0fbfa3acb139405c810a37728b7ff736": {
      "model_module": "@jupyter-widgets/base",
      "model_module_version": "1.2.0",
      "model_name": "LayoutModel",
      "state": {
       "_model_module": "@jupyter-widgets/base",
       "_model_module_version": "1.2.0",
       "_model_name": "LayoutModel",
       "_view_count": null,
       "_view_module": "@jupyter-widgets/base",
       "_view_module_version": "1.2.0",
       "_view_name": "LayoutView",
       "align_content": null,
       "align_items": null,
       "align_self": null,
       "border": null,
       "bottom": null,
       "display": null,
       "flex": null,
       "flex_flow": null,
       "grid_area": null,
       "grid_auto_columns": null,
       "grid_auto_flow": null,
       "grid_auto_rows": null,
       "grid_column": null,
       "grid_gap": null,
       "grid_row": null,
       "grid_template_areas": null,
       "grid_template_columns": null,
       "grid_template_rows": null,
       "height": null,
       "justify_content": null,
       "justify_items": null,
       "left": null,
       "margin": null,
       "max_height": null,
       "max_width": null,
       "min_height": null,
       "min_width": null,
       "object_fit": null,
       "object_position": null,
       "order": null,
       "overflow": null,
       "overflow_x": null,
       "overflow_y": null,
       "padding": null,
       "right": null,
       "top": null,
       "visibility": null,
       "width": null
      }
     },
     "182171733d694f65b75aaac874b1e25d": {
      "model_module": "@jupyter-widgets/controls",
      "model_module_version": "1.5.0",
      "model_name": "DescriptionStyleModel",
      "state": {
       "_model_module": "@jupyter-widgets/controls",
       "_model_module_version": "1.5.0",
       "_model_name": "DescriptionStyleModel",
       "_view_count": null,
       "_view_module": "@jupyter-widgets/base",
       "_view_module_version": "1.2.0",
       "_view_name": "StyleView",
       "description_width": ""
      }
     },
     "1bfb1705ca634639b90b7b414094fa01": {
      "model_module": "@jupyter-widgets/base",
      "model_module_version": "1.2.0",
      "model_name": "LayoutModel",
      "state": {
       "_model_module": "@jupyter-widgets/base",
       "_model_module_version": "1.2.0",
       "_model_name": "LayoutModel",
       "_view_count": null,
       "_view_module": "@jupyter-widgets/base",
       "_view_module_version": "1.2.0",
       "_view_name": "LayoutView",
       "align_content": null,
       "align_items": null,
       "align_self": null,
       "border": null,
       "bottom": null,
       "display": null,
       "flex": null,
       "flex_flow": null,
       "grid_area": null,
       "grid_auto_columns": null,
       "grid_auto_flow": null,
       "grid_auto_rows": null,
       "grid_column": null,
       "grid_gap": null,
       "grid_row": null,
       "grid_template_areas": null,
       "grid_template_columns": null,
       "grid_template_rows": null,
       "height": null,
       "justify_content": null,
       "justify_items": null,
       "left": null,
       "margin": null,
       "max_height": null,
       "max_width": null,
       "min_height": null,
       "min_width": null,
       "object_fit": null,
       "object_position": null,
       "order": null,
       "overflow": null,
       "overflow_x": null,
       "overflow_y": null,
       "padding": null,
       "right": null,
       "top": null,
       "visibility": null,
       "width": null
      }
     },
     "2e491cb85a3749639264225869649cf3": {
      "model_module": "@jupyter-widgets/controls",
      "model_module_version": "1.5.0",
      "model_name": "VBoxModel",
      "state": {
       "_dom_classes": [],
       "_model_module": "@jupyter-widgets/controls",
       "_model_module_version": "1.5.0",
       "_model_name": "VBoxModel",
       "_view_count": null,
       "_view_module": "@jupyter-widgets/controls",
       "_view_module_version": "1.5.0",
       "_view_name": "VBoxView",
       "box_style": "",
       "children": [
        "IPY_MODEL_f2e9e6769ce84e889feb51c4bbe15fed",
        "IPY_MODEL_cfa84eeb9e6c4904b31389c0661e7a1c"
       ],
       "layout": "IPY_MODEL_0fbfa3acb139405c810a37728b7ff736"
      }
     },
     "36c378f0ed1e4469ae5aa1b4b53c7538": {
      "model_module": "@jupyter-widgets/base",
      "model_module_version": "1.2.0",
      "model_name": "LayoutModel",
      "state": {
       "_model_module": "@jupyter-widgets/base",
       "_model_module_version": "1.2.0",
       "_model_name": "LayoutModel",
       "_view_count": null,
       "_view_module": "@jupyter-widgets/base",
       "_view_module_version": "1.2.0",
       "_view_name": "LayoutView",
       "align_content": null,
       "align_items": null,
       "align_self": null,
       "border": null,
       "bottom": null,
       "display": null,
       "flex": null,
       "flex_flow": null,
       "grid_area": null,
       "grid_auto_columns": null,
       "grid_auto_flow": null,
       "grid_auto_rows": null,
       "grid_column": null,
       "grid_gap": null,
       "grid_row": null,
       "grid_template_areas": null,
       "grid_template_columns": null,
       "grid_template_rows": null,
       "height": null,
       "justify_content": null,
       "justify_items": null,
       "left": null,
       "margin": null,
       "max_height": null,
       "max_width": null,
       "min_height": null,
       "min_width": null,
       "object_fit": null,
       "object_position": null,
       "order": null,
       "overflow": null,
       "overflow_x": null,
       "overflow_y": null,
       "padding": null,
       "right": null,
       "top": null,
       "visibility": null,
       "width": null
      }
     },
     "4349e2cfceee49619fbd3d43809d6bc1": {
      "model_module": "@jupyter-widgets/controls",
      "model_module_version": "1.5.0",
      "model_name": "FloatProgressModel",
      "state": {
       "_dom_classes": [],
       "_model_module": "@jupyter-widgets/controls",
       "_model_module_version": "1.5.0",
       "_model_name": "FloatProgressModel",
       "_view_count": null,
       "_view_module": "@jupyter-widgets/controls",
       "_view_module_version": "1.5.0",
       "_view_name": "ProgressView",
       "bar_style": "",
       "description": "",
       "description_tooltip": null,
       "layout": "IPY_MODEL_e6f63eaf617b4bc3b3f585aaac135354",
       "max": 1.0,
       "min": 0.0,
       "orientation": "horizontal",
       "style": "IPY_MODEL_b6860d90d7324ceeb3ad634836cc1c93",
       "value": 0.0
      }
     },
     "4db8e9e32117480e91ff7fbe9a082986": {
      "model_module": "@jupyter-widgets/controls",
      "model_module_version": "1.5.0",
      "model_name": "LabelModel",
      "state": {
       "_dom_classes": [],
       "_model_module": "@jupyter-widgets/controls",
       "_model_module_version": "1.5.0",
       "_model_name": "LabelModel",
       "_view_count": null,
       "_view_module": "@jupyter-widgets/controls",
       "_view_module_version": "1.5.0",
       "_view_name": "LabelView",
       "description": "",
       "description_tooltip": null,
       "layout": "IPY_MODEL_c2c54bfb43a546f9b6472450be176552",
       "placeholder": "​",
       "style": "IPY_MODEL_182171733d694f65b75aaac874b1e25d",
       "value": ""
      }
     },
     "69cd6408b4764413abd12cf7553559d4": {
      "model_module": "@jupyter-widgets/controls",
      "model_module_version": "1.5.0",
      "model_name": "VBoxModel",
      "state": {
       "_dom_classes": [],
       "_model_module": "@jupyter-widgets/controls",
       "_model_module_version": "1.5.0",
       "_model_name": "VBoxModel",
       "_view_count": null,
       "_view_module": "@jupyter-widgets/controls",
       "_view_module_version": "1.5.0",
       "_view_name": "VBoxView",
       "box_style": "",
       "children": [
        "IPY_MODEL_4db8e9e32117480e91ff7fbe9a082986",
        "IPY_MODEL_4349e2cfceee49619fbd3d43809d6bc1"
       ],
       "layout": "IPY_MODEL_9d5a2f2aeb5545b7b2f965006b83596c"
      }
     },
     "9d5a2f2aeb5545b7b2f965006b83596c": {
      "model_module": "@jupyter-widgets/base",
      "model_module_version": "1.2.0",
      "model_name": "LayoutModel",
      "state": {
       "_model_module": "@jupyter-widgets/base",
       "_model_module_version": "1.2.0",
       "_model_name": "LayoutModel",
       "_view_count": null,
       "_view_module": "@jupyter-widgets/base",
       "_view_module_version": "1.2.0",
       "_view_name": "LayoutView",
       "align_content": null,
       "align_items": null,
       "align_self": null,
       "border": null,
       "bottom": null,
       "display": null,
       "flex": null,
       "flex_flow": null,
       "grid_area": null,
       "grid_auto_columns": null,
       "grid_auto_flow": null,
       "grid_auto_rows": null,
       "grid_column": null,
       "grid_gap": null,
       "grid_row": null,
       "grid_template_areas": null,
       "grid_template_columns": null,
       "grid_template_rows": null,
       "height": null,
       "justify_content": null,
       "justify_items": null,
       "left": null,
       "margin": null,
       "max_height": null,
       "max_width": null,
       "min_height": null,
       "min_width": null,
       "object_fit": null,
       "object_position": null,
       "order": null,
       "overflow": null,
       "overflow_x": null,
       "overflow_y": null,
       "padding": null,
       "right": null,
       "top": null,
       "visibility": null,
       "width": null
      }
     },
     "b572f65ee25e436196ebc8476bc71e3d": {
      "model_module": "@jupyter-widgets/controls",
      "model_module_version": "1.5.0",
      "model_name": "ProgressStyleModel",
      "state": {
       "_model_module": "@jupyter-widgets/controls",
       "_model_module_version": "1.5.0",
       "_model_name": "ProgressStyleModel",
       "_view_count": null,
       "_view_module": "@jupyter-widgets/base",
       "_view_module_version": "1.2.0",
       "_view_name": "StyleView",
       "bar_color": null,
       "description_width": ""
      }
     },
     "b6860d90d7324ceeb3ad634836cc1c93": {
      "model_module": "@jupyter-widgets/controls",
      "model_module_version": "1.5.0",
      "model_name": "ProgressStyleModel",
      "state": {
       "_model_module": "@jupyter-widgets/controls",
       "_model_module_version": "1.5.0",
       "_model_name": "ProgressStyleModel",
       "_view_count": null,
       "_view_module": "@jupyter-widgets/base",
       "_view_module_version": "1.2.0",
       "_view_name": "StyleView",
       "bar_color": null,
       "description_width": ""
      }
     },
     "c2c54bfb43a546f9b6472450be176552": {
      "model_module": "@jupyter-widgets/base",
      "model_module_version": "1.2.0",
      "model_name": "LayoutModel",
      "state": {
       "_model_module": "@jupyter-widgets/base",
       "_model_module_version": "1.2.0",
       "_model_name": "LayoutModel",
       "_view_count": null,
       "_view_module": "@jupyter-widgets/base",
       "_view_module_version": "1.2.0",
       "_view_name": "LayoutView",
       "align_content": null,
       "align_items": null,
       "align_self": null,
       "border": null,
       "bottom": null,
       "display": null,
       "flex": null,
       "flex_flow": null,
       "grid_area": null,
       "grid_auto_columns": null,
       "grid_auto_flow": null,
       "grid_auto_rows": null,
       "grid_column": null,
       "grid_gap": null,
       "grid_row": null,
       "grid_template_areas": null,
       "grid_template_columns": null,
       "grid_template_rows": null,
       "height": null,
       "justify_content": null,
       "justify_items": null,
       "left": null,
       "margin": null,
       "max_height": null,
       "max_width": null,
       "min_height": null,
       "min_width": null,
       "object_fit": null,
       "object_position": null,
       "order": null,
       "overflow": null,
       "overflow_x": null,
       "overflow_y": null,
       "padding": null,
       "right": null,
       "top": null,
       "visibility": null,
       "width": null
      }
     },
     "cfa84eeb9e6c4904b31389c0661e7a1c": {
      "model_module": "@jupyter-widgets/controls",
      "model_module_version": "1.5.0",
      "model_name": "FloatProgressModel",
      "state": {
       "_dom_classes": [],
       "_model_module": "@jupyter-widgets/controls",
       "_model_module_version": "1.5.0",
       "_model_name": "FloatProgressModel",
       "_view_count": null,
       "_view_module": "@jupyter-widgets/controls",
       "_view_module_version": "1.5.0",
       "_view_name": "ProgressView",
       "bar_style": "",
       "description": "",
       "description_tooltip": null,
       "layout": "IPY_MODEL_36c378f0ed1e4469ae5aa1b4b53c7538",
       "max": 1.0,
       "min": 0.0,
       "orientation": "horizontal",
       "style": "IPY_MODEL_b572f65ee25e436196ebc8476bc71e3d",
       "value": 1.0
      }
     },
     "d263241135f74dfdad4912f996033985": {
      "model_module": "@jupyter-widgets/controls",
      "model_module_version": "1.5.0",
      "model_name": "DescriptionStyleModel",
      "state": {
       "_model_module": "@jupyter-widgets/controls",
       "_model_module_version": "1.5.0",
       "_model_name": "DescriptionStyleModel",
       "_view_count": null,
       "_view_module": "@jupyter-widgets/base",
       "_view_module_version": "1.2.0",
       "_view_name": "StyleView",
       "description_width": ""
      }
     },
     "e6f63eaf617b4bc3b3f585aaac135354": {
      "model_module": "@jupyter-widgets/base",
      "model_module_version": "1.2.0",
      "model_name": "LayoutModel",
      "state": {
       "_model_module": "@jupyter-widgets/base",
       "_model_module_version": "1.2.0",
       "_model_name": "LayoutModel",
       "_view_count": null,
       "_view_module": "@jupyter-widgets/base",
       "_view_module_version": "1.2.0",
       "_view_name": "LayoutView",
       "align_content": null,
       "align_items": null,
       "align_self": null,
       "border": null,
       "bottom": null,
       "display": null,
       "flex": null,
       "flex_flow": null,
       "grid_area": null,
       "grid_auto_columns": null,
       "grid_auto_flow": null,
       "grid_auto_rows": null,
       "grid_column": null,
       "grid_gap": null,
       "grid_row": null,
       "grid_template_areas": null,
       "grid_template_columns": null,
       "grid_template_rows": null,
       "height": null,
       "justify_content": null,
       "justify_items": null,
       "left": null,
       "margin": null,
       "max_height": null,
       "max_width": null,
       "min_height": null,
       "min_width": null,
       "object_fit": null,
       "object_position": null,
       "order": null,
       "overflow": null,
       "overflow_x": null,
       "overflow_y": null,
       "padding": null,
       "right": null,
       "top": null,
       "visibility": null,
       "width": null
      }
     },
     "f2e9e6769ce84e889feb51c4bbe15fed": {
      "model_module": "@jupyter-widgets/controls",
      "model_module_version": "1.5.0",
      "model_name": "LabelModel",
      "state": {
       "_dom_classes": [],
       "_model_module": "@jupyter-widgets/controls",
       "_model_module_version": "1.5.0",
       "_model_name": "LabelModel",
       "_view_count": null,
       "_view_module": "@jupyter-widgets/controls",
       "_view_module_version": "1.5.0",
       "_view_name": "LabelView",
       "description": "",
       "description_tooltip": null,
       "layout": "IPY_MODEL_1bfb1705ca634639b90b7b414094fa01",
       "placeholder": "​",
       "style": "IPY_MODEL_d263241135f74dfdad4912f996033985",
       "value": "0.029 MB of 0.029 MB uploaded (0.000 MB deduped)\r"
      }
     }
    },
    "version_major": 2,
    "version_minor": 0
   }
  }
 },
 "nbformat": 4,
 "nbformat_minor": 0
}
