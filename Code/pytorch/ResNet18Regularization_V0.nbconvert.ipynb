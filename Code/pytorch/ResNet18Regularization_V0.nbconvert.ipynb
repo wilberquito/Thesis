{
 "cells": [
  {
   "cell_type": "markdown",
   "metadata": {
    "colab_type": "text",
    "id": "view-in-github"
   },
   "source": [
    "<a href=\"https://colab.research.google.com/github/wilberquito/Thesis/blob/main/Code/pytorch/notebooks/resnet18/ResNet18Regularization_V0.ipynb\" target=\"_parent\"><img src=\"https://colab.research.google.com/assets/colab-badge.svg\" alt=\"Open In Colab\"/></a>"
   ]
  },
  {
   "cell_type": "markdown",
   "metadata": {
    "id": "29zoFlPwleqF"
   },
   "source": [
    "# ResNet18 Regularization, V0"
   ]
  },
  {
   "cell_type": "code",
   "execution_count": 1,
   "metadata": {
    "execution": {
     "iopub.execute_input": "2023-06-24T16:25:38.985962Z",
     "iopub.status.busy": "2023-06-24T16:25:38.985250Z",
     "iopub.status.idle": "2023-06-24T16:25:42.182759Z",
     "shell.execute_reply": "2023-06-24T16:25:42.181340Z"
    },
    "id": "IX_9tuK6LeYc"
   },
   "outputs": [],
   "source": [
    "!pip install wandb >/dev/null 2>&1"
   ]
  },
  {
   "cell_type": "code",
   "execution_count": 2,
   "metadata": {
    "colab": {
     "base_uri": "https://localhost:8080/"
    },
    "execution": {
     "iopub.execute_input": "2023-06-24T16:25:42.189720Z",
     "iopub.status.busy": "2023-06-24T16:25:42.189153Z",
     "iopub.status.idle": "2023-06-24T16:25:47.437367Z",
     "shell.execute_reply": "2023-06-24T16:25:47.436207Z"
    },
    "id": "El9FpXH-eH9p",
    "outputId": "6c39c30d-5ef6-4107-8865-a3e61305b421"
   },
   "outputs": [
    {
     "name": "stdout",
     "output_type": "stream",
     "text": [
      "mlxtend version: 0.22.0\n"
     ]
    }
   ],
   "source": [
    "try:\n",
    "    import torchmetrics, mlxtend\n",
    "    print(f\"mlxtend version: {mlxtend.__version__}\")\n",
    "    assert int(mlxtend.__version__.split(\".\")[1]) >= 19, \"mlxtend verison should be 0.19.0 or higher\"\n",
    "except:\n",
    "    !pip install -q torchmetrics -U mlxtend # <- Note: If you're using Google Colab, this may require restarting the runtime\n",
    "    import torchmetrics, mlxtend\n",
    "    print(f\"mlxtend version: {mlxtend.__version__}\")"
   ]
  },
  {
   "cell_type": "code",
   "execution_count": 3,
   "metadata": {
    "colab": {
     "base_uri": "https://localhost:8080/"
    },
    "execution": {
     "iopub.execute_input": "2023-06-24T16:25:47.500204Z",
     "iopub.status.busy": "2023-06-24T16:25:47.499596Z",
     "iopub.status.idle": "2023-06-24T16:25:48.898303Z",
     "shell.execute_reply": "2023-06-24T16:25:48.897319Z"
    },
    "id": "_AN939rghul5",
    "outputId": "2da0e07d-9477-4ccf-8504-a123a810edb3"
   },
   "outputs": [
    {
     "name": "stdout",
     "output_type": "stream",
     "text": [
      "In colab: False\n"
     ]
    }
   ],
   "source": [
    "import requests\n",
    "from pathlib import Path\n",
    "import pandas as pd\n",
    "import seaborn as sns\n",
    "from zipfile import ZipFile\n",
    "\n",
    "try:\n",
    "    import google.colab\n",
    "    from google.colab import drive\n",
    "    IN_COLAB = True\n",
    "    drive.mount('/content/drive')\n",
    "except:\n",
    "    IN_COLAB = False\n",
    "\n",
    "print(f\"In colab: {IN_COLAB}\")"
   ]
  },
  {
   "cell_type": "code",
   "execution_count": 4,
   "metadata": {
    "execution": {
     "iopub.execute_input": "2023-06-24T16:25:48.902715Z",
     "iopub.status.busy": "2023-06-24T16:25:48.902561Z",
     "iopub.status.idle": "2023-06-24T16:25:48.908052Z",
     "shell.execute_reply": "2023-06-24T16:25:48.907110Z"
    },
    "id": "0Y1rbOJ3hwRc"
   },
   "outputs": [],
   "source": [
    "def pull_code():\n",
    "  print(\"Unzipping the code from google drive\")\n",
    "  !rm -rf modular/\n",
    "  !unzip ./drive/MyDrive/wilberquito_thesis/modular.zip -d . >/dev/null 2>&1\n",
    "\n",
    "if IN_COLAB:\n",
    "    pull_code()"
   ]
  },
  {
   "cell_type": "code",
   "execution_count": 5,
   "metadata": {
    "execution": {
     "iopub.execute_input": "2023-06-24T16:25:48.912384Z",
     "iopub.status.busy": "2023-06-24T16:25:48.912239Z",
     "iopub.status.idle": "2023-06-24T16:25:48.918155Z",
     "shell.execute_reply": "2023-06-24T16:25:48.917247Z"
    },
    "id": "SGWoaeFMh0GU"
   },
   "outputs": [],
   "source": [
    "def pull_data():\n",
    "  answer = input(\"You sure? Y/n\\n\")\n",
    "  if answer != \"Y\":\n",
    "    return\n",
    "\n",
    "  print(\"Unzipping the data from google drive\")\n",
    "  !rm -rf data.etl/\n",
    "  !unzip ./drive/MyDrive/wilberquito_thesis/data.zip -d . >/dev/null 2>&1\n",
    "\n",
    "if IN_COLAB:\n",
    "    pull_data()"
   ]
  },
  {
   "cell_type": "code",
   "execution_count": 6,
   "metadata": {
    "colab": {
     "base_uri": "https://localhost:8080/"
    },
    "execution": {
     "iopub.execute_input": "2023-06-24T16:25:48.923025Z",
     "iopub.status.busy": "2023-06-24T16:25:48.922889Z",
     "iopub.status.idle": "2023-06-24T16:25:50.026591Z",
     "shell.execute_reply": "2023-06-24T16:25:50.025821Z"
    },
    "id": "Z1KxIfp6h2Vz",
    "outputId": "c979bf99-4f7c-49b8-b051-5382f5871a52"
   },
   "outputs": [
    {
     "name": "stdout",
     "output_type": "stream",
     "text": [
      "Sat Jun 24 16:25:48 2023       \r\n",
      "+-----------------------------------------------------------------------------+\r\n",
      "| NVIDIA-SMI 515.105.01   Driver Version: 515.105.01   CUDA Version: 11.7     |\r\n",
      "|-------------------------------+----------------------+----------------------+\r\n",
      "| GPU  Name        Persistence-M| Bus-Id        Disp.A | Volatile Uncorr. ECC |\r\n",
      "| Fan  Temp  Perf  Pwr:Usage/Cap|         Memory-Usage | GPU-Util  Compute M. |\r\n",
      "|                               |                      |               MIG M. |\r\n",
      "|===============================+======================+======================|\r\n",
      "|   0  NVIDIA A100 80G...  Off  | 00000000:31:00.0 Off |                   On |\r\n",
      "| N/A   44C    P0    47W / 300W |      0MiB / 81920MiB |     N/A      Default |\r\n",
      "|                               |                      |              Enabled |\r\n",
      "+-------------------------------+----------------------+----------------------+\r\n",
      "|   1  NVIDIA A100 80G...  Off  | 00000000:4B:00.0 Off |                   On |\r\n",
      "| N/A   50C    P0    46W / 300W |     45MiB / 81920MiB |     N/A      Default |\r\n",
      "|                               |                      |              Enabled |\r\n",
      "+-------------------------------+----------------------+----------------------+\r\n",
      "|   2  NVIDIA A100 80G...  Off  | 00000000:B1:00.0 Off |                    0 |\r\n",
      "| N/A   54C    P0    78W / 300W |   9317MiB / 81920MiB |     40%      Default |\r\n",
      "|                               |                      |             Disabled |\r\n",
      "+-------------------------------+----------------------+----------------------+\r\n",
      "|   3  NVIDIA A100 80G...  Off  | 00000000:CA:00.0 Off |                    0 |\r\n",
      "| N/A   44C    P0    43W / 300W |      0MiB / 81920MiB |      0%      Default |\r\n",
      "|                               |                      |             Disabled |\r\n",
      "+-------------------------------+----------------------+----------------------+\r\n",
      "\r\n",
      "+-----------------------------------------------------------------------------+\r\n",
      "| MIG devices:                                                                |\r\n",
      "+------------------+----------------------+-----------+-----------------------+\r\n",
      "| GPU  GI  CI  MIG |         Memory-Usage |        Vol|         Shared        |\r\n",
      "|      ID  ID  Dev |           BAR1-Usage | SM     Unc| CE  ENC  DEC  OFA  JPG|\r\n",
      "|                  |                      |        ECC|                       |\r\n",
      "|==================+======================+===========+=======================|\r\n",
      "|  0    0   0   0  |      0MiB / 81111MiB | 98      0 |  7   0    5    1    1 |\r\n",
      "|                  |      1MiB / 13107... |           |                       |\r\n",
      "+------------------+----------------------+-----------+-----------------------+\r\n",
      "|  1    1   0   0  |     19MiB / 40192MiB | 42      0 |  3   0    2    0    0 |\r\n",
      "|                  |      0MiB / 65535MiB |           |                       |\r\n",
      "+------------------+----------------------+-----------+-----------------------+\r\n",
      "|  1    2   0   1  |     25MiB / 40192MiB | 56      0 |  4   0    2    0    0 |\r\n",
      "|                  |      0MiB / 65535MiB |           |                       |\r\n",
      "+------------------+----------------------+-----------+-----------------------+\r\n",
      "                                                                               \r\n",
      "+-----------------------------------------------------------------------------+\r\n",
      "| Processes:                                                                  |\r\n",
      "|  GPU   GI   CI        PID   Type   Process name                  GPU Memory |\r\n",
      "|        ID   ID                                                   Usage      |\r\n",
      "|=============================================================================|\r\n",
      "|    2   N/A  N/A   3149509      C   python                           9313MiB |\r\n",
      "+-----------------------------------------------------------------------------+\r\n"
     ]
    }
   ],
   "source": [
    "!nvidia-smi"
   ]
  },
  {
   "cell_type": "markdown",
   "metadata": {
    "id": "02gLym20h-ZT"
   },
   "source": [
    "## Scheduler"
   ]
  },
  {
   "cell_type": "code",
   "execution_count": 7,
   "metadata": {
    "execution": {
     "iopub.execute_input": "2023-06-24T16:25:50.029783Z",
     "iopub.status.busy": "2023-06-24T16:25:50.029624Z",
     "iopub.status.idle": "2023-06-24T16:25:50.033216Z",
     "shell.execute_reply": "2023-06-24T16:25:50.032639Z"
    },
    "id": "_s6HZmhLh7m6"
   },
   "outputs": [],
   "source": [
    "LEARNING_RATE = 1e-3\n",
    "EPOCHS = 40\n",
    "PATIENCE = 10"
   ]
  },
  {
   "cell_type": "markdown",
   "metadata": {
    "id": "R2DvJCwRLl-W"
   },
   "source": [
    "## Batch Size"
   ]
  },
  {
   "cell_type": "code",
   "execution_count": 8,
   "metadata": {
    "execution": {
     "iopub.execute_input": "2023-06-24T16:25:50.035124Z",
     "iopub.status.busy": "2023-06-24T16:25:50.034979Z",
     "iopub.status.idle": "2023-06-24T16:25:50.037935Z",
     "shell.execute_reply": "2023-06-24T16:25:50.037377Z"
    },
    "id": "GrTgaWP5LlUT"
   },
   "outputs": [],
   "source": [
    "BATCH_SIZE = 1024"
   ]
  },
  {
   "cell_type": "markdown",
   "metadata": {
    "id": "8dtGR1KCL0Gd"
   },
   "source": [
    "## WandB"
   ]
  },
  {
   "cell_type": "code",
   "execution_count": 9,
   "metadata": {
    "execution": {
     "iopub.execute_input": "2023-06-24T16:25:50.039824Z",
     "iopub.status.busy": "2023-06-24T16:25:50.039683Z",
     "iopub.status.idle": "2023-06-24T16:25:51.080743Z",
     "shell.execute_reply": "2023-06-24T16:25:51.079097Z"
    },
    "id": "P0kaGwtFL1_k",
    "outputId": "161934f8-e646-4377-cb16-9337d9877502"
   },
   "outputs": [
    {
     "name": "stderr",
     "output_type": "stream",
     "text": [
      "Failed to detect the name of this notebook, you can set it manually with the WANDB_NOTEBOOK_NAME environment variable to enable code saving.\n",
      "\u001b[34m\u001b[1mwandb\u001b[0m: Currently logged in as: \u001b[33mwilberquto\u001b[0m (\u001b[33mwilberquito\u001b[0m). Use \u001b[1m`wandb login --relogin`\u001b[0m to force relogin\n",
      "\u001b[34m\u001b[1mwandb\u001b[0m: \u001b[33mWARNING\u001b[0m If you're specifying your api key in code, ensure this code is not shared publicly.\n",
      "\u001b[34m\u001b[1mwandb\u001b[0m: \u001b[33mWARNING\u001b[0m Consider setting the WANDB_API_KEY environment variable, or running `wandb login` from the command line.\n",
      "\u001b[34m\u001b[1mwandb\u001b[0m: Appending key for api.wandb.ai to your netrc file: /home/student2/.netrc\n"
     ]
    },
    {
     "data": {
      "text/plain": [
       "True"
      ]
     },
     "execution_count": 9,
     "metadata": {},
     "output_type": "execute_result"
    }
   ],
   "source": [
    "import wandb\n",
    "\n",
    "key = \"c1121fe51146c1da87d1139239da7748c4e78665\"\n",
    "wandb.login(key=key)"
   ]
  },
  {
   "cell_type": "code",
   "execution_count": 10,
   "metadata": {
    "execution": {
     "iopub.execute_input": "2023-06-24T16:25:51.087312Z",
     "iopub.status.busy": "2023-06-24T16:25:51.086884Z",
     "iopub.status.idle": "2023-06-24T16:25:51.093580Z",
     "shell.execute_reply": "2023-06-24T16:25:51.092038Z"
    },
    "id": "9N1hXpJxL4PS"
   },
   "outputs": [],
   "source": [
    "wandb.finish()"
   ]
  },
  {
   "cell_type": "code",
   "execution_count": 11,
   "metadata": {
    "execution": {
     "iopub.execute_input": "2023-06-24T16:25:51.099650Z",
     "iopub.status.busy": "2023-06-24T16:25:51.099239Z",
     "iopub.status.idle": "2023-06-24T16:25:57.939820Z",
     "shell.execute_reply": "2023-06-24T16:25:57.938604Z"
    },
    "id": "5XiIaKwKL3qK",
    "outputId": "1b4599c0-dc23-4336-8a49-b1d2d71cca9c"
   },
   "outputs": [
    {
     "data": {
      "text/html": [
       "wandb version 0.15.4 is available!  To upgrade, please run:\n",
       " $ pip install wandb --upgrade"
      ],
      "text/plain": [
       "<IPython.core.display.HTML object>"
      ]
     },
     "metadata": {},
     "output_type": "display_data"
    },
    {
     "data": {
      "text/html": [
       "Tracking run with wandb version 0.12.17"
      ],
      "text/plain": [
       "<IPython.core.display.HTML object>"
      ]
     },
     "metadata": {},
     "output_type": "display_data"
    },
    {
     "data": {
      "text/html": [
       "Run data is saved locally in <code>/home/student2/thesis/pytorch/wandb/run-20230624_162551-2c7txle5</code>"
      ],
      "text/plain": [
       "<IPython.core.display.HTML object>"
      ]
     },
     "metadata": {},
     "output_type": "display_data"
    },
    {
     "data": {
      "text/html": [
       "Syncing run <strong><a href=\"https://wandb.ai/wilberquito/melanoma_thesis/runs/2c7txle5\" target=\"_blank\">ResNet18R_V0</a></strong> to <a href=\"https://wandb.ai/wilberquito/melanoma_thesis\" target=\"_blank\">Weights & Biases</a> (<a href=\"https://wandb.me/run\" target=\"_blank\">docs</a>)<br/>"
      ],
      "text/plain": [
       "<IPython.core.display.HTML object>"
      ]
     },
     "metadata": {},
     "output_type": "display_data"
    },
    {
     "data": {
      "text/html": [
       "<button onClick=\"this.nextSibling.style.display='block';this.style.display='none';\">Display W&B run</button><iframe src=\"https://wandb.ai/wilberquito/melanoma_thesis/runs/2c7txle5?jupyter=true\" style=\"border:none;width:100%;height:420px;display:none;\"></iframe>"
      ],
      "text/plain": [
       "<wandb.sdk.wandb_run.Run at 0x7f34b464d610>"
      ]
     },
     "execution_count": 11,
     "metadata": {},
     "output_type": "execute_result"
    }
   ],
   "source": [
    "wandb.init(\n",
    "    project=\"melanoma_thesis\",\n",
    "    group=\"train_test\",\n",
    "    name=\"ResNet18R_V0\",\n",
    "    config={\n",
    "      \"architecture\": \"ResNet18\",\n",
    "      \"scheduler\": \"None\",\n",
    "      \"dataset\": \"ISIC\",\n",
    "      \"epochs\": EPOCHS,\n",
    "      \"batch_size\": BATCH_SIZE,\n",
    "      \"learning_rate\": LEARNING_RATE,\n",
    "      \"patience\": PATIENCE,\n",
    "      \"regularization\": [\"Dropout\", \"Data augmentation\"]\n",
    "      }\n",
    ")"
   ]
  },
  {
   "cell_type": "markdown",
   "metadata": {
    "id": "toJQZUrYiCWn"
   },
   "source": [
    "## Writter"
   ]
  },
  {
   "cell_type": "code",
   "execution_count": 12,
   "metadata": {
    "execution": {
     "iopub.execute_input": "2023-06-24T16:25:57.944567Z",
     "iopub.status.busy": "2023-06-24T16:25:57.944157Z",
     "iopub.status.idle": "2023-06-24T16:25:58.526752Z",
     "shell.execute_reply": "2023-06-24T16:25:58.526241Z"
    },
    "id": "Vjf6lckNiCzt"
   },
   "outputs": [],
   "source": [
    "import modular.utility as m_utility\n",
    "\n",
    "writter = m_utility.model_writter('resnet18regularization_v0')"
   ]
  },
  {
   "cell_type": "markdown",
   "metadata": {
    "id": "qh-bm8cUkYzu"
   },
   "source": [
    "## Train"
   ]
  },
  {
   "cell_type": "code",
   "execution_count": 13,
   "metadata": {
    "colab": {
     "base_uri": "https://localhost:8080/"
    },
    "execution": {
     "iopub.execute_input": "2023-06-24T16:25:58.531498Z",
     "iopub.status.busy": "2023-06-24T16:25:58.531365Z",
     "iopub.status.idle": "2023-06-25T23:56:21.515462Z",
     "shell.execute_reply": "2023-06-25T23:56:21.513914Z"
    },
    "id": "9dMZyFyGkZx2",
    "outputId": "e111b14c-9186-4966-d394-ae728a1f9580"
   },
   "outputs": [
    {
     "name": "stderr",
     "output_type": "stream",
     "text": [
      "/home/student2/.local/lib/python3.9/site-packages/albumentations/augmentations/blur/transforms.py:184: UserWarning: blur_limit and sigma_limit minimum value can not be both equal to 0. blur_limit minimum value changed to 3.\n",
      "  warnings.warn(\n"
     ]
    },
    {
     "name": "stdout",
     "output_type": "stream",
     "text": [
      "Epoch 1/40\n",
      "----------\n",
      "Train OvR: 0.5600 \t|\tTrain Loss: 1.4364 \t|\tTrain Acc: 0.5554\n",
      "Val OvR: 0.7252 \t|\tVal Loss: 1.1706 \t|\tVal Acc: 0.5925\n",
      "=> Saving a new checkpoint\n",
      "Epoch 2/40\n",
      "----------\n",
      "Train OvR: 0.7198 \t|\tTrain Loss: 1.1347 \t|\tTrain Acc: 0.6042\n",
      "Val OvR: 0.7712 \t|\tVal Loss: 1.0229 \t|\tVal Acc: 0.6433\n",
      "=> Saving a new checkpoint\n",
      "Epoch 3/40\n",
      "----------\n",
      "Train OvR: 0.7555 \t|\tTrain Loss: 1.0572 \t|\tTrain Acc: 0.6302\n",
      "Val OvR: 0.7924 \t|\tVal Loss: 0.9657 \t|\tVal Acc: 0.6590\n",
      "=> Saving a new checkpoint\n",
      "Epoch 4/40\n",
      "----------\n",
      "Train OvR: 0.7689 \t|\tTrain Loss: 1.0193 \t|\tTrain Acc: 0.6399\n",
      "Val OvR: 0.8085 \t|\tVal Loss: 0.9326 \t|\tVal Acc: 0.6686\n",
      "=> Saving a new checkpoint\n",
      "Epoch 5/40\n",
      "----------\n",
      "Train OvR: 0.7811 \t|\tTrain Loss: 0.9970 \t|\tTrain Acc: 0.6494\n",
      "Val OvR: 0.8176 \t|\tVal Loss: 0.9115 \t|\tVal Acc: 0.6721\n",
      "=> Saving a new checkpoint\n",
      "Epoch 6/40\n",
      "----------\n",
      "Train OvR: 0.7907 \t|\tTrain Loss: 0.9797 \t|\tTrain Acc: 0.6522\n",
      "Val OvR: 0.8233 \t|\tVal Loss: 0.8929 \t|\tVal Acc: 0.6766\n",
      "=> Saving a new checkpoint\n",
      "Epoch 7/40\n",
      "----------\n",
      "Train OvR: 0.7931 \t|\tTrain Loss: 0.9667 \t|\tTrain Acc: 0.6598\n",
      "Val OvR: 0.8280 \t|\tVal Loss: 0.8792 \t|\tVal Acc: 0.6807\n",
      "=> Saving a new checkpoint\n",
      "Epoch 8/40\n",
      "----------\n",
      "Train OvR: 0.8003 \t|\tTrain Loss: 0.9487 \t|\tTrain Acc: 0.6659\n",
      "Val OvR: 0.8324 \t|\tVal Loss: 0.8655 \t|\tVal Acc: 0.6862\n",
      "=> Saving a new checkpoint\n",
      "Epoch 9/40\n",
      "----------\n",
      "Train OvR: 0.8047 \t|\tTrain Loss: 0.9361 \t|\tTrain Acc: 0.6698\n",
      "Val OvR: 0.8380 \t|\tVal Loss: 0.8543 \t|\tVal Acc: 0.6932\n",
      "=> Saving a new checkpoint\n",
      "Epoch 10/40\n",
      "----------\n",
      "Train OvR: 0.8073 \t|\tTrain Loss: 0.9265 \t|\tTrain Acc: 0.6709\n",
      "Val OvR: 0.8399 \t|\tVal Loss: 0.8478 \t|\tVal Acc: 0.6887\n",
      "=> Saving a new checkpoint\n",
      "Epoch 11/40\n",
      "----------\n",
      "Train OvR: 0.8115 \t|\tTrain Loss: 0.9147 \t|\tTrain Acc: 0.6738\n",
      "Val OvR: 0.8441 \t|\tVal Loss: 0.8329 \t|\tVal Acc: 0.6990\n",
      "=> Saving a new checkpoint\n",
      "Epoch 12/40\n",
      "----------\n",
      "Train OvR: 0.8167 \t|\tTrain Loss: 0.9042 \t|\tTrain Acc: 0.6800\n",
      "Val OvR: 0.8475 \t|\tVal Loss: 0.8238 \t|\tVal Acc: 0.7035\n",
      "=> Saving a new checkpoint\n",
      "Epoch 13/40\n",
      "----------\n",
      "Train OvR: 0.8134 \t|\tTrain Loss: 0.9056 \t|\tTrain Acc: 0.6802\n",
      "Val OvR: 0.8502 \t|\tVal Loss: 0.8159 \t|\tVal Acc: 0.7057\n",
      "=> Saving a new checkpoint\n",
      "Epoch 14/40\n",
      "----------\n",
      "Train OvR: 0.8154 \t|\tTrain Loss: 0.8930 \t|\tTrain Acc: 0.6843\n",
      "Val OvR: 0.8527 \t|\tVal Loss: 0.8097 \t|\tVal Acc: 0.7063\n",
      "=> Saving a new checkpoint\n",
      "Epoch 15/40\n",
      "----------\n",
      "Train OvR: 0.8192 \t|\tTrain Loss: 0.8833 \t|\tTrain Acc: 0.6857\n",
      "Val OvR: 0.8553 \t|\tVal Loss: 0.8018 \t|\tVal Acc: 0.7092\n",
      "=> Saving a new checkpoint\n",
      "Epoch 16/40\n",
      "----------\n",
      "Train OvR: 0.8178 \t|\tTrain Loss: 0.8828 \t|\tTrain Acc: 0.6868\n",
      "Val OvR: 0.8570 \t|\tVal Loss: 0.7948 \t|\tVal Acc: 0.7127\n",
      "=> Saving a new checkpoint\n",
      "Epoch 17/40\n",
      "----------\n",
      "Train OvR: 0.8218 \t|\tTrain Loss: 0.8753 \t|\tTrain Acc: 0.6891\n",
      "Val OvR: 0.8592 \t|\tVal Loss: 0.7891 \t|\tVal Acc: 0.7147\n",
      "=> Saving a new checkpoint\n",
      "Epoch 18/40\n",
      "----------\n",
      "Train OvR: 0.8243 \t|\tTrain Loss: 0.8674 \t|\tTrain Acc: 0.6888\n",
      "Val OvR: 0.8587 \t|\tVal Loss: 0.7843 \t|\tVal Acc: 0.7163\n",
      "=> Saving a new checkpoint\n",
      "Epoch 19/40\n",
      "----------\n",
      "Train OvR: 0.8228 \t|\tTrain Loss: 0.8652 \t|\tTrain Acc: 0.6897\n",
      "Val OvR: 0.8608 \t|\tVal Loss: 0.7791 \t|\tVal Acc: 0.7204\n",
      "=> Saving a new checkpoint\n",
      "Epoch 20/40\n",
      "----------\n",
      "Train OvR: 0.8310 \t|\tTrain Loss: 0.8566 \t|\tTrain Acc: 0.6939\n",
      "Val OvR: 0.8631 \t|\tVal Loss: 0.7708 \t|\tVal Acc: 0.7214\n",
      "=> Saving a new checkpoint\n",
      "Epoch 21/40\n",
      "----------\n",
      "Train OvR: 0.8300 \t|\tTrain Loss: 0.8518 \t|\tTrain Acc: 0.6951\n",
      "Val OvR: 0.8641 \t|\tVal Loss: 0.7646 \t|\tVal Acc: 0.7207\n",
      "=> Saving a new checkpoint\n",
      "Epoch 22/40\n",
      "----------\n"
     ]
    },
    {
     "name": "stderr",
     "output_type": "stream",
     "text": [
      "wandb: Network error (ReadTimeout), entering retry loop.\n",
      "wandb: Network error (ReadTimeout), entering retry loop.\n"
     ]
    },
    {
     "name": "stdout",
     "output_type": "stream",
     "text": [
      "Train OvR: 0.8311 \t|\tTrain Loss: 0.8512 \t|\tTrain Acc: 0.6942\n",
      "Val OvR: 0.8655 \t|\tVal Loss: 0.7613 \t|\tVal Acc: 0.7258\n",
      "=> Saving a new checkpoint\n",
      "Epoch 23/40\n",
      "----------\n"
     ]
    },
    {
     "name": "stderr",
     "output_type": "stream",
     "text": [
      "wandb: Network error (ReadTimeout), entering retry loop.\n"
     ]
    },
    {
     "name": "stdout",
     "output_type": "stream",
     "text": [
      "Train OvR: 0.8290 \t|\tTrain Loss: 0.8491 \t|\tTrain Acc: 0.6965\n",
      "Val OvR: 0.8659 \t|\tVal Loss: 0.7571 \t|\tVal Acc: 0.7265\n",
      "=> Saving a new checkpoint\n",
      "Epoch 24/40\n",
      "----------\n",
      "Train OvR: 0.8372 \t|\tTrain Loss: 0.8354 \t|\tTrain Acc: 0.6999\n",
      "Val OvR: 0.8658 \t|\tVal Loss: 0.7530 \t|\tVal Acc: 0.7268\n",
      "=> Saving a new checkpoint\n",
      "Epoch 25/40\n",
      "----------\n",
      "Train OvR: 0.8344 \t|\tTrain Loss: 0.8339 \t|\tTrain Acc: 0.7006\n",
      "Val OvR: 0.8680 \t|\tVal Loss: 0.7490 \t|\tVal Acc: 0.7290\n",
      "=> Saving a new checkpoint\n",
      "Epoch 26/40\n",
      "----------\n",
      "Train OvR: 0.8368 \t|\tTrain Loss: 0.8288 \t|\tTrain Acc: 0.7013\n",
      "Val OvR: 0.8678 \t|\tVal Loss: 0.7429 \t|\tVal Acc: 0.7290\n",
      "=> Saving a new checkpoint\n",
      "Epoch 27/40\n",
      "----------\n",
      "Train OvR: 0.8348 \t|\tTrain Loss: 0.8311 \t|\tTrain Acc: 0.7013\n",
      "Val OvR: 0.8682 \t|\tVal Loss: 0.7399 \t|\tVal Acc: 0.7303\n",
      "=> Saving a new checkpoint\n",
      "Epoch 28/40\n",
      "----------\n",
      "Train OvR: 0.8383 \t|\tTrain Loss: 0.8273 \t|\tTrain Acc: 0.7012\n",
      "Val OvR: 0.8695 \t|\tVal Loss: 0.7366 \t|\tVal Acc: 0.7332\n",
      "=> Saving a new checkpoint\n",
      "Epoch 29/40\n",
      "----------\n",
      "Train OvR: 0.8386 \t|\tTrain Loss: 0.8204 \t|\tTrain Acc: 0.7084\n",
      "Val OvR: 0.8706 \t|\tVal Loss: 0.7306 \t|\tVal Acc: 0.7354\n",
      "=> Saving a new checkpoint\n",
      "Epoch 30/40\n",
      "----------\n",
      "Train OvR: 0.8390 \t|\tTrain Loss: 0.8166 \t|\tTrain Acc: 0.7049\n",
      "Val OvR: 0.8700 \t|\tVal Loss: 0.7277 \t|\tVal Acc: 0.7370\n",
      "=> Saving a new checkpoint\n",
      "Epoch 31/40\n",
      "----------\n",
      "Train OvR: 0.8366 \t|\tTrain Loss: 0.8194 \t|\tTrain Acc: 0.7055\n",
      "Val OvR: 0.8714 \t|\tVal Loss: 0.7253 \t|\tVal Acc: 0.7364\n",
      "=> Saving a new checkpoint\n",
      "Epoch 32/40\n",
      "----------\n",
      "Train OvR: 0.8425 \t|\tTrain Loss: 0.8106 \t|\tTrain Acc: 0.7084\n",
      "Val OvR: 0.8718 \t|\tVal Loss: 0.7221 \t|\tVal Acc: 0.7396\n",
      "=> Saving a new checkpoint\n",
      "Epoch 33/40\n",
      "----------\n",
      "Train OvR: 0.8409 \t|\tTrain Loss: 0.8111 \t|\tTrain Acc: 0.7088\n",
      "Val OvR: 0.8716 \t|\tVal Loss: 0.7183 \t|\tVal Acc: 0.7386\n",
      "=> Saving a new checkpoint\n",
      "Epoch 34/40\n",
      "----------\n",
      "Train OvR: 0.8415 \t|\tTrain Loss: 0.8055 \t|\tTrain Acc: 0.7111\n",
      "Val OvR: 0.8723 \t|\tVal Loss: 0.7154 \t|\tVal Acc: 0.7396\n",
      "=> Saving a new checkpoint\n",
      "Epoch 35/40\n",
      "----------\n",
      "Train OvR: 0.8464 \t|\tTrain Loss: 0.7984 \t|\tTrain Acc: 0.7130\n",
      "Val OvR: 0.8728 \t|\tVal Loss: 0.7095 \t|\tVal Acc: 0.7422\n",
      "=> Saving a new checkpoint\n",
      "Epoch 36/40\n",
      "----------\n",
      "Train OvR: 0.8448 \t|\tTrain Loss: 0.8008 \t|\tTrain Acc: 0.7109\n",
      "Val OvR: 0.8734 \t|\tVal Loss: 0.7081 \t|\tVal Acc: 0.7422\n",
      "=> Saving a new checkpoint\n",
      "Epoch 37/40\n",
      "----------\n",
      "Train OvR: 0.8470 \t|\tTrain Loss: 0.7931 \t|\tTrain Acc: 0.7128\n",
      "Val OvR: 0.8754 \t|\tVal Loss: 0.7056 \t|\tVal Acc: 0.7441\n",
      "=> Saving a new checkpoint\n",
      "Epoch 38/40\n",
      "----------\n",
      "Train OvR: 0.8479 \t|\tTrain Loss: 0.7907 \t|\tTrain Acc: 0.7157\n",
      "Val OvR: 0.8757 \t|\tVal Loss: 0.7010 \t|\tVal Acc: 0.7447\n",
      "=> Saving a new checkpoint\n",
      "Epoch 39/40\n",
      "----------\n",
      "Train OvR: 0.8456 \t|\tTrain Loss: 0.7850 \t|\tTrain Acc: 0.7178\n",
      "Val OvR: 0.8761 \t|\tVal Loss: 0.6993 \t|\tVal Acc: 0.7489\n",
      "=> Saving a new checkpoint\n",
      "Epoch 40/40\n",
      "----------\n",
      "Train OvR: 0.8479 \t|\tTrain Loss: 0.7848 \t|\tTrain Acc: 0.7152\n",
      "Val OvR: 0.8765 \t|\tVal Loss: 0.6994 \t|\tVal Acc: 0.7498\n",
      "=> Saving a new checkpoint\n",
      "\n",
      "Training completed after: 1890m 4s\n",
      "Best epoch: 40\n",
      "Best val OvR: 0.8765\n"
     ]
    }
   ],
   "source": [
    "from torchvision import models\n",
    "import torch\n",
    "import torch.nn as nn\n",
    "import torch.optim as optim\n",
    "from torch.optim import lr_scheduler\n",
    "from torchvision.models import (ResNet18_Weights)\n",
    "from torch.utils.data import DataLoader\n",
    "import torch\n",
    "import torchvision as tv\n",
    "import modular.dataset as m_dataset\n",
    "import modular.utility as m_utility\n",
    "import modular.engine as engine\n",
    "import modular.models as m_models\n",
    "\n",
    "# Set seed\n",
    "m_utility.set_seed(42)\n",
    "\n",
    "# Build the dataframes\n",
    "data_dir = 'data.etl'\n",
    "data_folder = '512'\n",
    "train_df, test_df, mapping = m_dataset.get_df(data_dir, data_folder)\n",
    "\n",
    "device = 'cuda' if torch.cuda.is_available() else 'cpu'\n",
    "\n",
    "out_features = len(mapping)\n",
    "model = m_models.ResNet18_Dropout_Melanoma(out_features)\n",
    "model = model.to(device)\n",
    "\n",
    "criterion = nn.CrossEntropyLoss()\n",
    "\n",
    "# Observe that all parameters are being optimized\n",
    "optimizer = optim.SGD(model.parameters(), lr=LEARNING_RATE, momentum=0.9)\n",
    "\n",
    "# Mapping from id to classname\n",
    "idx_to_class = { k : classname for classname, k in mapping.items() }\n",
    "\n",
    "# Train and validate dataset & dataloader\n",
    "train_df, validate_df = m_dataset.train_validate_split(train_df,\n",
    "                                                       random_state=42,\n",
    "                                                       validate_size=0.2)\n",
    "\n",
    "validate_df, test_df = m_dataset.train_validate_split(validate_df,\n",
    "                                                      random_state=42,\n",
    "                                                      validate_size=0.5)\n",
    "\n",
    "\n",
    "train_transforms, val_transforms = m_dataset.get_transforms(image_size=256)\n",
    "\n",
    "train_dataset = m_dataset.MelanomaDataset(train_df,\n",
    "                                          mode='train',\n",
    "                                          transforms=train_transforms,\n",
    "                                          idx_to_class=idx_to_class)\n",
    "validate_dataset = m_dataset.MelanomaDataset(validate_df,\n",
    "                                             mode='validate',\n",
    "                                             transforms=val_transforms,\n",
    "                                             idx_to_class=idx_to_class)\n",
    "\n",
    "batch_size = BATCH_SIZE\n",
    "\n",
    "train_dataloader = DataLoader(train_dataset, batch_size=batch_size, shuffle=True)\n",
    "validate_dataloader = DataLoader(validate_dataset, batch_size=batch_size, shuffle=False)\n",
    "\n",
    "# Test dataset and dataloader\n",
    "test_dataset = m_dataset.MelanomaDataset(test_df,\n",
    "                                         mode='test',\n",
    "                                         idx_to_class=idx_to_class)\n",
    "test_dataloader = DataLoader(test_dataset, batch_size=batch_size, shuffle=False)\n",
    "\n",
    "# Dataloaders\n",
    "dataloaders = {\n",
    "    'train': train_dataloader,\n",
    "    'val': validate_dataloader,\n",
    "}\n",
    "\n",
    "datasets_size = {\n",
    "    'train': len(train_dataset),\n",
    "    'val': len(validate_dataset),\n",
    "}\n",
    "\n",
    "about_data = {\n",
    "    'dataloaders': dataloaders,\n",
    "    'datasets': {\n",
    "        'size': datasets_size\n",
    "    }\n",
    "}\n",
    "\n",
    "MEL_IDX = 6 # Check data exploration notebook\n",
    "VAL_TIMES = 4\n",
    "\n",
    "model_ft, stats = engine.train_model(model,\n",
    "                                     MEL_IDX,\n",
    "                                     about_data,\n",
    "                                     device,\n",
    "                                     criterion,\n",
    "                                     optimizer,\n",
    "                                     num_epochs=EPOCHS,\n",
    "                                     patience=PATIENCE,\n",
    "                                     writter=writter,\n",
    "                                     val_times=VAL_TIMES)"
   ]
  },
  {
   "cell_type": "code",
   "execution_count": 14,
   "metadata": {
    "execution": {
     "iopub.execute_input": "2023-06-25T23:56:21.522890Z",
     "iopub.status.busy": "2023-06-25T23:56:21.522238Z",
     "iopub.status.idle": "2023-06-25T23:56:27.367812Z",
     "shell.execute_reply": "2023-06-25T23:56:27.366570Z"
    },
    "id": "0mjcZPKNOkbf",
    "outputId": "e790be77-205d-4cce-c2c1-5e3ab5395cd5"
   },
   "outputs": [
    {
     "data": {
      "text/html": [
       "Waiting for W&B process to finish... <strong style=\"color:green\">(success).</strong>"
      ],
      "text/plain": [
       "<IPython.core.display.HTML object>"
      ]
     },
     "metadata": {},
     "output_type": "display_data"
    },
    {
     "data": {
      "application/vnd.jupyter.widget-view+json": {
       "model_id": "90665f68e4bf4fca9b80ff026a3f7e89",
       "version_major": 2,
       "version_minor": 0
      },
      "text/plain": [
       "VBox(children=(Label(value='0.000 MB of 0.000 MB uploaded (0.000 MB deduped)\\r'), FloatProgress(value=1.0, max…"
      ]
     },
     "metadata": {},
     "output_type": "display_data"
    },
    {
     "data": {
      "text/html": [
       "<style>\n",
       "    table.wandb td:nth-child(1) { padding: 0 10px; text-align: left ; width: auto;} td:nth-child(2) {text-align: left ; width: 100%}\n",
       "    .wandb-row { display: flex; flex-direction: row; flex-wrap: wrap; justify-content: flex-start; width: 100% }\n",
       "    .wandb-col { display: flex; flex-direction: column; flex-basis: 100%; flex: 1; padding: 10px; }\n",
       "    </style>\n",
       "<div class=\"wandb-row\"><div class=\"wandb-col\"><h3>Run history:</h3><br/><table class=\"wandb\"><tr><td>train_acc</td><td>▁▃▄▅▅▅▅▆▆▆▆▆▆▇▇▇▇▇▇▇▇▇▇▇▇▇▇▇█▇▇█████████</td></tr><tr><td>train_loss</td><td>█▅▄▄▃▃▃▃▃▃▂▂▂▂▂▂▂▂▂▂▂▂▂▂▂▁▁▁▁▁▁▁▁▁▁▁▁▁▁▁</td></tr><tr><td>train_ovr</td><td>▁▅▆▆▆▇▇▇▇▇▇▇▇▇▇▇▇▇▇█████████████████████</td></tr><tr><td>val_acc</td><td>▁▃▄▄▅▅▅▅▅▅▆▆▆▆▆▆▆▇▇▇▇▇▇▇▇▇▇▇▇▇▇█████████</td></tr><tr><td>val_loss</td><td>█▆▅▄▄▄▄▃▃▃▃▃▃▃▃▂▂▂▂▂▂▂▂▂▂▂▂▂▁▁▁▁▁▁▁▁▁▁▁▁</td></tr><tr><td>val_ovr</td><td>▁▃▄▅▅▆▆▆▆▆▇▇▇▇▇▇▇▇▇▇▇▇██████████████████</td></tr></table><br/></div><div class=\"wandb-col\"><h3>Run summary:</h3><br/><table class=\"wandb\"><tr><td>train_acc</td><td>0.7152</td></tr><tr><td>train_loss</td><td>0.7848</td></tr><tr><td>train_ovr</td><td>0.8479</td></tr><tr><td>val_acc</td><td>0.7498</td></tr><tr><td>val_loss</td><td>0.6994</td></tr><tr><td>val_ovr</td><td>0.8765</td></tr></table><br/></div></div>"
      ],
      "text/plain": [
       "<IPython.core.display.HTML object>"
      ]
     },
     "metadata": {},
     "output_type": "display_data"
    },
    {
     "data": {
      "text/html": [
       "Synced <strong style=\"color:#cdcd00\">ResNet18R_V0</strong>: <a href=\"https://wandb.ai/wilberquito/melanoma_thesis/runs/2c7txle5\" target=\"_blank\">https://wandb.ai/wilberquito/melanoma_thesis/runs/2c7txle5</a><br/>Synced 6 W&B file(s), 0 media file(s), 0 artifact file(s) and 0 other file(s)"
      ],
      "text/plain": [
       "<IPython.core.display.HTML object>"
      ]
     },
     "metadata": {},
     "output_type": "display_data"
    },
    {
     "data": {
      "text/html": [
       "Find logs at: <code>./wandb/run-20230624_162551-2c7txle5/logs</code>"
      ],
      "text/plain": [
       "<IPython.core.display.HTML object>"
      ]
     },
     "metadata": {},
     "output_type": "display_data"
    }
   ],
   "source": [
    "wandb.finish()"
   ]
  },
  {
   "cell_type": "code",
   "execution_count": 15,
   "metadata": {
    "execution": {
     "iopub.execute_input": "2023-06-25T23:56:27.373813Z",
     "iopub.status.busy": "2023-06-25T23:56:27.373247Z",
     "iopub.status.idle": "2023-06-25T23:56:27.783572Z",
     "shell.execute_reply": "2023-06-25T23:56:27.782945Z"
    },
    "id": "xb_ljGJnOmXr",
    "outputId": "94e2a6b7-1e5f-4aba-eddb-3cf0788b3b02"
   },
   "outputs": [
    {
     "data": {
      "image/png": "[encoded data removed]",
      "text/plain": [
       "<Figure size 1512x504 with 3 Axes>"
      ]
     },
     "metadata": {
      "needs_background": "light"
     },
     "output_type": "display_data"
    }
   ],
   "source": [
    "m_utility.plot_curves(stats)"
   ]
  },
  {
   "cell_type": "code",
   "execution_count": 16,
   "metadata": {
    "execution": {
     "iopub.execute_input": "2023-06-25T23:56:27.790394Z",
     "iopub.status.busy": "2023-06-25T23:56:27.790250Z",
     "iopub.status.idle": "2023-06-25T23:56:27.794703Z",
     "shell.execute_reply": "2023-06-25T23:56:27.793732Z"
    },
    "id": "Wigth2wsOoZJ"
   },
   "outputs": [],
   "source": [
    "if IN_COLAB:\n",
    "  from google.colab import files\n",
    "  files.download('resnet18regularization_v0.pth.tar')\n",
    "  files.download('resnet18regularization_v0.csv')"
   ]
  }
 ],
 "metadata": {
  "accelerator": "GPU",
  "colab": {
   "gpuType": "T4",
   "include_colab_link": true,
   "provenance": []
  },
  "kernelspec": {
   "display_name": "Python 3",
   "name": "python3"
  },
  "language_info": {
   "codemirror_mode": {
    "name": "ipython",
    "version": 3
   },
   "file_extension": ".py",
   "mimetype": "text/x-python",
   "name": "python",
   "nbconvert_exporter": "python",
   "pygments_lexer": "ipython3",
   "version": "3.9.12"
  },
  "widgets": {
   "application/vnd.jupyter.widget-state+json": {
    "state": {
     "0aa7acc8a1694bb6a096447d17000aee": {
      "model_module": "@jupyter-widgets/base",
      "model_module_version": "1.2.0",
      "model_name": "LayoutModel",
      "state": {
       "_model_module": "@jupyter-widgets/base",
       "_model_module_version": "1.2.0",
       "_model_name": "LayoutModel",
       "_view_count": null,
       "_view_module": "@jupyter-widgets/base",
       "_view_module_version": "1.2.0",
       "_view_name": "LayoutView",
       "align_content": null,
       "align_items": null,
       "align_self": null,
       "border": null,
       "bottom": null,
       "display": null,
       "flex": null,
       "flex_flow": null,
       "grid_area": null,
       "grid_auto_columns": null,
       "grid_auto_flow": null,
       "grid_auto_rows": null,
       "grid_column": null,
       "grid_gap": null,
       "grid_row": null,
       "grid_template_areas": null,
       "grid_template_columns": null,
       "grid_template_rows": null,
       "height": null,
       "justify_content": null,
       "justify_items": null,
       "left": null,
       "margin": null,
       "max_height": null,
       "max_width": null,
       "min_height": null,
       "min_width": null,
       "object_fit": null,
       "object_position": null,
       "order": null,
       "overflow": null,
       "overflow_x": null,
       "overflow_y": null,
       "padding": null,
       "right": null,
       "top": null,
       "visibility": null,
       "width": null
      }
     },
     "26bbaa2b54ca4b59b7140d04757de6c1": {
      "model_module": "@jupyter-widgets/controls",
      "model_module_version": "1.5.0",
      "model_name": "FloatProgressModel",
      "state": {
       "_dom_classes": [],
       "_model_module": "@jupyter-widgets/controls",
       "_model_module_version": "1.5.0",
       "_model_name": "FloatProgressModel",
       "_view_count": null,
       "_view_module": "@jupyter-widgets/controls",
       "_view_module_version": "1.5.0",
       "_view_name": "ProgressView",
       "bar_style": "",
       "description": "",
       "description_tooltip": null,
       "layout": "IPY_MODEL_77861f306b5a432b8e01620938ace481",
       "max": 1.0,
       "min": 0.0,
       "orientation": "horizontal",
       "style": "IPY_MODEL_afc7bba2b6094d649162b3ba8527da9a",
       "value": 1.0
      }
     },
     "2c3b1739c3ae4858895886e9553b4d0e": {
      "model_module": "@jupyter-widgets/controls",
      "model_module_version": "1.5.0",
      "model_name": "ProgressStyleModel",
      "state": {
       "_model_module": "@jupyter-widgets/controls",
       "_model_module_version": "1.5.0",
       "_model_name": "ProgressStyleModel",
       "_view_count": null,
       "_view_module": "@jupyter-widgets/base",
       "_view_module_version": "1.2.0",
       "_view_name": "StyleView",
       "bar_color": null,
       "description_width": ""
      }
     },
     "2ef0b9fd75a34052b3de9ae84e6e8134": {
      "model_module": "@jupyter-widgets/base",
      "model_module_version": "1.2.0",
      "model_name": "LayoutModel",
      "state": {
       "_model_module": "@jupyter-widgets/base",
       "_model_module_version": "1.2.0",
       "_model_name": "LayoutModel",
       "_view_count": null,
       "_view_module": "@jupyter-widgets/base",
       "_view_module_version": "1.2.0",
       "_view_name": "LayoutView",
       "align_content": null,
       "align_items": null,
       "align_self": null,
       "border": null,
       "bottom": null,
       "display": null,
       "flex": null,
       "flex_flow": null,
       "grid_area": null,
       "grid_auto_columns": null,
       "grid_auto_flow": null,
       "grid_auto_rows": null,
       "grid_column": null,
       "grid_gap": null,
       "grid_row": null,
       "grid_template_areas": null,
       "grid_template_columns": null,
       "grid_template_rows": null,
       "height": null,
       "justify_content": null,
       "justify_items": null,
       "left": null,
       "margin": null,
       "max_height": null,
       "max_width": null,
       "min_height": null,
       "min_width": null,
       "object_fit": null,
       "object_position": null,
       "order": null,
       "overflow": null,
       "overflow_x": null,
       "overflow_y": null,
       "padding": null,
       "right": null,
       "top": null,
       "visibility": null,
       "width": null
      }
     },
     "3282edb69e064efc809731fc945b3a81": {
      "model_module": "@jupyter-widgets/controls",
      "model_module_version": "1.5.0",
      "model_name": "DescriptionStyleModel",
      "state": {
       "_model_module": "@jupyter-widgets/controls",
       "_model_module_version": "1.5.0",
       "_model_name": "DescriptionStyleModel",
       "_view_count": null,
       "_view_module": "@jupyter-widgets/base",
       "_view_module_version": "1.2.0",
       "_view_name": "StyleView",
       "description_width": ""
      }
     },
     "77861f306b5a432b8e01620938ace481": {
      "model_module": "@jupyter-widgets/base",
      "model_module_version": "1.2.0",
      "model_name": "LayoutModel",
      "state": {
       "_model_module": "@jupyter-widgets/base",
       "_model_module_version": "1.2.0",
       "_model_name": "LayoutModel",
       "_view_count": null,
       "_view_module": "@jupyter-widgets/base",
       "_view_module_version": "1.2.0",
       "_view_name": "LayoutView",
       "align_content": null,
       "align_items": null,
       "align_self": null,
       "border": null,
       "bottom": null,
       "display": null,
       "flex": null,
       "flex_flow": null,
       "grid_area": null,
       "grid_auto_columns": null,
       "grid_auto_flow": null,
       "grid_auto_rows": null,
       "grid_column": null,
       "grid_gap": null,
       "grid_row": null,
       "grid_template_areas": null,
       "grid_template_columns": null,
       "grid_template_rows": null,
       "height": null,
       "justify_content": null,
       "justify_items": null,
       "left": null,
       "margin": null,
       "max_height": null,
       "max_width": null,
       "min_height": null,
       "min_width": null,
       "object_fit": null,
       "object_position": null,
       "order": null,
       "overflow": null,
       "overflow_x": null,
       "overflow_y": null,
       "padding": null,
       "right": null,
       "top": null,
       "visibility": null,
       "width": null
      }
     },
     "81849727fa80452ba8de06fb13a3160b": {
      "model_module": "@jupyter-widgets/controls",
      "model_module_version": "1.5.0",
      "model_name": "LabelModel",
      "state": {
       "_dom_classes": [],
       "_model_module": "@jupyter-widgets/controls",
       "_model_module_version": "1.5.0",
       "_model_name": "LabelModel",
       "_view_count": null,
       "_view_module": "@jupyter-widgets/controls",
       "_view_module_version": "1.5.0",
       "_view_name": "LabelView",
       "description": "",
       "description_tooltip": null,
       "layout": "IPY_MODEL_d9bc309e046241c693efd032afe34f2b",
       "placeholder": "​",
       "style": "IPY_MODEL_91a9f991b53843eb8735352caaeba233",
       "value": "0.029 MB of 0.029 MB uploaded (0.000 MB deduped)\r"
      }
     },
     "850e684c477c4955bd42274c2ada17ab": {
      "model_module": "@jupyter-widgets/base",
      "model_module_version": "1.2.0",
      "model_name": "LayoutModel",
      "state": {
       "_model_module": "@jupyter-widgets/base",
       "_model_module_version": "1.2.0",
       "_model_name": "LayoutModel",
       "_view_count": null,
       "_view_module": "@jupyter-widgets/base",
       "_view_module_version": "1.2.0",
       "_view_name": "LayoutView",
       "align_content": null,
       "align_items": null,
       "align_self": null,
       "border": null,
       "bottom": null,
       "display": null,
       "flex": null,
       "flex_flow": null,
       "grid_area": null,
       "grid_auto_columns": null,
       "grid_auto_flow": null,
       "grid_auto_rows": null,
       "grid_column": null,
       "grid_gap": null,
       "grid_row": null,
       "grid_template_areas": null,
       "grid_template_columns": null,
       "grid_template_rows": null,
       "height": null,
       "justify_content": null,
       "justify_items": null,
       "left": null,
       "margin": null,
       "max_height": null,
       "max_width": null,
       "min_height": null,
       "min_width": null,
       "object_fit": null,
       "object_position": null,
       "order": null,
       "overflow": null,
       "overflow_x": null,
       "overflow_y": null,
       "padding": null,
       "right": null,
       "top": null,
       "visibility": null,
       "width": null
      }
     },
     "8838bf1960b449ab89bddbcf7a8d7b46": {
      "model_module": "@jupyter-widgets/controls",
      "model_module_version": "1.5.0",
      "model_name": "FloatProgressModel",
      "state": {
       "_dom_classes": [],
       "_model_module": "@jupyter-widgets/controls",
       "_model_module_version": "1.5.0",
       "_model_name": "FloatProgressModel",
       "_view_count": null,
       "_view_module": "@jupyter-widgets/controls",
       "_view_module_version": "1.5.0",
       "_view_name": "ProgressView",
       "bar_style": "",
       "description": "",
       "description_tooltip": null,
       "layout": "IPY_MODEL_850e684c477c4955bd42274c2ada17ab",
       "max": 1.0,
       "min": 0.0,
       "orientation": "horizontal",
       "style": "IPY_MODEL_2c3b1739c3ae4858895886e9553b4d0e",
       "value": 0.0
      }
     },
     "90665f68e4bf4fca9b80ff026a3f7e89": {
      "model_module": "@jupyter-widgets/controls",
      "model_module_version": "1.5.0",
      "model_name": "VBoxModel",
      "state": {
       "_dom_classes": [],
       "_model_module": "@jupyter-widgets/controls",
       "_model_module_version": "1.5.0",
       "_model_name": "VBoxModel",
       "_view_count": null,
       "_view_module": "@jupyter-widgets/controls",
       "_view_module_version": "1.5.0",
       "_view_name": "VBoxView",
       "box_style": "",
       "children": [
        "IPY_MODEL_81849727fa80452ba8de06fb13a3160b",
        "IPY_MODEL_26bbaa2b54ca4b59b7140d04757de6c1"
       ],
       "layout": "IPY_MODEL_2ef0b9fd75a34052b3de9ae84e6e8134"
      }
     },
     "91a9f991b53843eb8735352caaeba233": {
      "model_module": "@jupyter-widgets/controls",
      "model_module_version": "1.5.0",
      "model_name": "DescriptionStyleModel",
      "state": {
       "_model_module": "@jupyter-widgets/controls",
       "_model_module_version": "1.5.0",
       "_model_name": "DescriptionStyleModel",
       "_view_count": null,
       "_view_module": "@jupyter-widgets/base",
       "_view_module_version": "1.2.0",
       "_view_name": "StyleView",
       "description_width": ""
      }
     },
     "acd3265ff0d94782a000dfdde171884e": {
      "model_module": "@jupyter-widgets/controls",
      "model_module_version": "1.5.0",
      "model_name": "LabelModel",
      "state": {
       "_dom_classes": [],
       "_model_module": "@jupyter-widgets/controls",
       "_model_module_version": "1.5.0",
       "_model_name": "LabelModel",
       "_view_count": null,
       "_view_module": "@jupyter-widgets/controls",
       "_view_module_version": "1.5.0",
       "_view_name": "LabelView",
       "description": "",
       "description_tooltip": null,
       "layout": "IPY_MODEL_0aa7acc8a1694bb6a096447d17000aee",
       "placeholder": "​",
       "style": "IPY_MODEL_3282edb69e064efc809731fc945b3a81",
       "value": ""
      }
     },
     "afc7bba2b6094d649162b3ba8527da9a": {
      "model_module": "@jupyter-widgets/controls",
      "model_module_version": "1.5.0",
      "model_name": "ProgressStyleModel",
      "state": {
       "_model_module": "@jupyter-widgets/controls",
       "_model_module_version": "1.5.0",
       "_model_name": "ProgressStyleModel",
       "_view_count": null,
       "_view_module": "@jupyter-widgets/base",
       "_view_module_version": "1.2.0",
       "_view_name": "StyleView",
       "bar_color": null,
       "description_width": ""
      }
     },
     "bbf063a4d35a4fe5bcdaa12da595c2be": {
      "model_module": "@jupyter-widgets/controls",
      "model_module_version": "1.5.0",
      "model_name": "VBoxModel",
      "state": {
       "_dom_classes": [],
       "_model_module": "@jupyter-widgets/controls",
       "_model_module_version": "1.5.0",
       "_model_name": "VBoxModel",
       "_view_count": null,
       "_view_module": "@jupyter-widgets/controls",
       "_view_module_version": "1.5.0",
       "_view_name": "VBoxView",
       "box_style": "",
       "children": [
        "IPY_MODEL_acd3265ff0d94782a000dfdde171884e",
        "IPY_MODEL_8838bf1960b449ab89bddbcf7a8d7b46"
       ],
       "layout": "IPY_MODEL_be396c728f63478e888ae9b5c25a6ed6"
      }
     },
     "be396c728f63478e888ae9b5c25a6ed6": {
      "model_module": "@jupyter-widgets/base",
      "model_module_version": "1.2.0",
      "model_name": "LayoutModel",
      "state": {
       "_model_module": "@jupyter-widgets/base",
       "_model_module_version": "1.2.0",
       "_model_name": "LayoutModel",
       "_view_count": null,
       "_view_module": "@jupyter-widgets/base",
       "_view_module_version": "1.2.0",
       "_view_name": "LayoutView",
       "align_content": null,
       "align_items": null,
       "align_self": null,
       "border": null,
       "bottom": null,
       "display": null,
       "flex": null,
       "flex_flow": null,
       "grid_area": null,
       "grid_auto_columns": null,
       "grid_auto_flow": null,
       "grid_auto_rows": null,
       "grid_column": null,
       "grid_gap": null,
       "grid_row": null,
       "grid_template_areas": null,
       "grid_template_columns": null,
       "grid_template_rows": null,
       "height": null,
       "justify_content": null,
       "justify_items": null,
       "left": null,
       "margin": null,
       "max_height": null,
       "max_width": null,
       "min_height": null,
       "min_width": null,
       "object_fit": null,
       "object_position": null,
       "order": null,
       "overflow": null,
       "overflow_x": null,
       "overflow_y": null,
       "padding": null,
       "right": null,
       "top": null,
       "visibility": null,
       "width": null
      }
     },
     "d9bc309e046241c693efd032afe34f2b": {
      "model_module": "@jupyter-widgets/base",
      "model_module_version": "1.2.0",
      "model_name": "LayoutModel",
      "state": {
       "_model_module": "@jupyter-widgets/base",
       "_model_module_version": "1.2.0",
       "_model_name": "LayoutModel",
       "_view_count": null,
       "_view_module": "@jupyter-widgets/base",
       "_view_module_version": "1.2.0",
       "_view_name": "LayoutView",
       "align_content": null,
       "align_items": null,
       "align_self": null,
       "border": null,
       "bottom": null,
       "display": null,
       "flex": null,
       "flex_flow": null,
       "grid_area": null,
       "grid_auto_columns": null,
       "grid_auto_flow": null,
       "grid_auto_rows": null,
       "grid_column": null,
       "grid_gap": null,
       "grid_row": null,
       "grid_template_areas": null,
       "grid_template_columns": null,
       "grid_template_rows": null,
       "height": null,
       "justify_content": null,
       "justify_items": null,
       "left": null,
       "margin": null,
       "max_height": null,
       "max_width": null,
       "min_height": null,
       "min_width": null,
       "object_fit": null,
       "object_position": null,
       "order": null,
       "overflow": null,
       "overflow_x": null,
       "overflow_y": null,
       "padding": null,
       "right": null,
       "top": null,
       "visibility": null,
       "width": null
      }
     }
    },
    "version_major": 2,
    "version_minor": 0
   }
  }
 },
 "nbformat": 4,
 "nbformat_minor": 0
}
