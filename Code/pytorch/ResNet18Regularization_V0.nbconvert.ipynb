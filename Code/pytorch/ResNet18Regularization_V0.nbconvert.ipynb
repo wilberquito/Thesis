{
 "cells": [
  {
   "cell_type": "markdown",
   "metadata": {
    "colab_type": "text",
    "id": "view-in-github"
   },
   "source": [
    "<a href=\"https://colab.research.google.com/github/wilberquito/Thesis/blob/main/Code/pytorch/notebooks/resnet18/ResNet18Regularization_V0.ipynb\" target=\"_parent\"><img src=\"https://colab.research.google.com/assets/colab-badge.svg\" alt=\"Open In Colab\"/></a>"
   ]
  },
  {
   "cell_type": "markdown",
   "metadata": {
    "id": "29zoFlPwleqF"
   },
   "source": [
    "# ResNet18 Regularization, V0"
   ]
  },
  {
   "cell_type": "code",
   "execution_count": 1,
   "metadata": {
    "execution": {
     "iopub.execute_input": "2023-06-20T11:06:30.144187Z",
     "iopub.status.busy": "2023-06-20T11:06:30.143618Z",
     "iopub.status.idle": "2023-06-20T11:06:32.765517Z",
     "shell.execute_reply": "2023-06-20T11:06:32.762897Z"
    },
    "id": "IX_9tuK6LeYc"
   },
   "outputs": [],
   "source": [
    "!pip install wandb >/dev/null 2>&1"
   ]
  },
  {
   "cell_type": "code",
   "execution_count": 2,
   "metadata": {
    "colab": {
     "base_uri": "https://localhost:8080/"
    },
    "execution": {
     "iopub.execute_input": "2023-06-20T11:06:32.774130Z",
     "iopub.status.busy": "2023-06-20T11:06:32.773506Z",
     "iopub.status.idle": "2023-06-20T11:06:37.456875Z",
     "shell.execute_reply": "2023-06-20T11:06:37.455552Z"
    },
    "id": "El9FpXH-eH9p",
    "outputId": "6c39c30d-5ef6-4107-8865-a3e61305b421"
   },
   "outputs": [
    {
     "name": "stdout",
     "output_type": "stream",
     "text": [
      "mlxtend version: 0.22.0\n"
     ]
    }
   ],
   "source": [
    "try:\n",
    "    import torchmetrics, mlxtend\n",
    "    print(f\"mlxtend version: {mlxtend.__version__}\")\n",
    "    assert int(mlxtend.__version__.split(\".\")[1]) >= 19, \"mlxtend verison should be 0.19.0 or higher\"\n",
    "except:\n",
    "    !pip install -q torchmetrics -U mlxtend # <- Note: If you're using Google Colab, this may require restarting the runtime\n",
    "    import torchmetrics, mlxtend\n",
    "    print(f\"mlxtend version: {mlxtend.__version__}\")"
   ]
  },
  {
   "cell_type": "code",
   "execution_count": 3,
   "metadata": {
    "colab": {
     "base_uri": "https://localhost:8080/"
    },
    "execution": {
     "iopub.execute_input": "2023-06-20T11:06:37.538675Z",
     "iopub.status.busy": "2023-06-20T11:06:37.538294Z",
     "iopub.status.idle": "2023-06-20T11:06:39.872387Z",
     "shell.execute_reply": "2023-06-20T11:06:39.871004Z"
    },
    "id": "_AN939rghul5",
    "outputId": "2da0e07d-9477-4ccf-8504-a123a810edb3"
   },
   "outputs": [
    {
     "name": "stdout",
     "output_type": "stream",
     "text": [
      "In colab: False\n"
     ]
    }
   ],
   "source": [
    "import requests\n",
    "from pathlib import Path\n",
    "import pandas as pd\n",
    "import seaborn as sns\n",
    "from zipfile import ZipFile\n",
    "\n",
    "try:\n",
    "    import google.colab\n",
    "    from google.colab import drive\n",
    "    IN_COLAB = True\n",
    "    drive.mount('/content/drive')\n",
    "except:\n",
    "    IN_COLAB = False\n",
    "\n",
    "print(f\"In colab: {IN_COLAB}\")"
   ]
  },
  {
   "cell_type": "code",
   "execution_count": 4,
   "metadata": {
    "colab": {
     "base_uri": "https://localhost:8080/"
    },
    "execution": {
     "iopub.execute_input": "2023-06-20T11:06:39.878227Z",
     "iopub.status.busy": "2023-06-20T11:06:39.877876Z",
     "iopub.status.idle": "2023-06-20T11:06:39.884710Z",
     "shell.execute_reply": "2023-06-20T11:06:39.883519Z"
    },
    "id": "0Y1rbOJ3hwRc",
    "outputId": "f9dac318-47c3-4a04-a357-87fca9f06d50"
   },
   "outputs": [],
   "source": [
    "def pull_code():\n",
    "  print(\"Unzipping the code from google drive\")\n",
    "  !rm -rf modular/\n",
    "  !unzip ./drive/MyDrive/wilberquito_thesis/modular.zip -d . >/dev/null 2>&1\n",
    "\n",
    "if IN_COLAB:\n",
    "    pull_code()"
   ]
  },
  {
   "cell_type": "code",
   "execution_count": 5,
   "metadata": {
    "colab": {
     "base_uri": "https://localhost:8080/"
    },
    "execution": {
     "iopub.execute_input": "2023-06-20T11:06:39.890299Z",
     "iopub.status.busy": "2023-06-20T11:06:39.890060Z",
     "iopub.status.idle": "2023-06-20T11:06:39.897259Z",
     "shell.execute_reply": "2023-06-20T11:06:39.896000Z"
    },
    "id": "SGWoaeFMh0GU",
    "outputId": "a730be6b-74f1-43d1-cde7-dba54c1a9ea3"
   },
   "outputs": [],
   "source": [
    "def pull_data():\n",
    "  answer = input(\"You sure? Y/n\\n\")\n",
    "  if answer != \"Y\":\n",
    "    return\n",
    "\n",
    "  print(\"Unzipping the data from google drive\")\n",
    "  !rm -rf data.etl/\n",
    "  !unzip ./drive/MyDrive/wilberquito_thesis/data.zip -d . >/dev/null 2>&1\n",
    "\n",
    "if IN_COLAB:\n",
    "    pull_data()"
   ]
  },
  {
   "cell_type": "code",
   "execution_count": 6,
   "metadata": {
    "colab": {
     "base_uri": "https://localhost:8080/"
    },
    "execution": {
     "iopub.execute_input": "2023-06-20T11:06:39.902310Z",
     "iopub.status.busy": "2023-06-20T11:06:39.902073Z",
     "iopub.status.idle": "2023-06-20T11:06:40.955726Z",
     "shell.execute_reply": "2023-06-20T11:06:40.953191Z"
    },
    "id": "Z1KxIfp6h2Vz",
    "outputId": "c979bf99-4f7c-49b8-b051-5382f5871a52"
   },
   "outputs": [
    {
     "name": "stdout",
     "output_type": "stream",
     "text": [
      "Tue Jun 20 11:06:39 2023       \r\n",
      "+-----------------------------------------------------------------------------+\r\n",
      "| NVIDIA-SMI 515.105.01   Driver Version: 515.105.01   CUDA Version: 11.7     |\r\n",
      "|-------------------------------+----------------------+----------------------+\r\n",
      "| GPU  Name        Persistence-M| Bus-Id        Disp.A | Volatile Uncorr. ECC |\r\n",
      "| Fan  Temp  Perf  Pwr:Usage/Cap|         Memory-Usage | GPU-Util  Compute M. |\r\n",
      "|                               |                      |               MIG M. |\r\n",
      "|===============================+======================+======================|\r\n",
      "|   0  NVIDIA A100 80G...  Off  | 00000000:31:00.0 Off |                   On |\r\n",
      "| N/A   43C    P0    47W / 300W |      0MiB / 81920MiB |     N/A      Default |\r\n",
      "|                               |                      |              Enabled |\r\n",
      "+-------------------------------+----------------------+----------------------+\r\n",
      "|   1  NVIDIA A100 80G...  Off  | 00000000:4B:00.0 Off |                   On |\r\n",
      "| N/A   63C    P0    77W / 300W |   1348MiB / 81920MiB |     N/A      Default |\r\n",
      "|                               |                      |              Enabled |\r\n",
      "+-------------------------------+----------------------+----------------------+\r\n",
      "|   2  NVIDIA A100 80G...  Off  | 00000000:B1:00.0 Off |                    0 |\r\n",
      "| N/A   42C    P0    44W / 300W |      0MiB / 81920MiB |      0%      Default |\r\n",
      "|                               |                      |             Disabled |\r\n",
      "+-------------------------------+----------------------+----------------------+\r\n",
      "|   3  NVIDIA A100 80G...  Off  | 00000000:CA:00.0 Off |                    0 |\r\n",
      "| N/A   43C    P0    43W / 300W |      0MiB / 81920MiB |      0%      Default |\r\n",
      "|                               |                      |             Disabled |\r\n",
      "+-------------------------------+----------------------+----------------------+\r\n",
      "\r\n",
      "+-----------------------------------------------------------------------------+\r\n",
      "| MIG devices:                                                                |\r\n",
      "+------------------+----------------------+-----------+-----------------------+\r\n",
      "| GPU  GI  CI  MIG |         Memory-Usage |        Vol|         Shared        |\r\n",
      "|      ID  ID  Dev |           BAR1-Usage | SM     Unc| CE  ENC  DEC  OFA  JPG|\r\n",
      "|                  |                      |        ECC|                       |\r\n",
      "|==================+======================+===========+=======================|\r\n",
      "|  0    0   0   0  |      0MiB / 81111MiB | 98      0 |  7   0    5    1    1 |\r\n",
      "|                  |      1MiB / 13107... |           |                       |\r\n",
      "+------------------+----------------------+-----------+-----------------------+\r\n",
      "|  1    1   0   0  |   1323MiB / 40192MiB | 42      0 |  3   0    2    0    0 |\r\n",
      "|                  |      2MiB / 65535MiB |           |                       |\r\n",
      "+------------------+----------------------+-----------+-----------------------+\r\n",
      "|  1    2   0   1  |     25MiB / 40192MiB | 56      0 |  4   0    2    0    0 |\r\n",
      "|                  |      0MiB / 65535MiB |           |                       |\r\n",
      "+------------------+----------------------+-----------+-----------------------+\r\n",
      "                                                                               \r\n",
      "+-----------------------------------------------------------------------------+\r\n",
      "| Processes:                                                                  |\r\n",
      "|  GPU   GI   CI        PID   Type   Process name                  GPU Memory |\r\n",
      "|        ID   ID                                                   Usage      |\r\n",
      "|=============================================================================|\r\n",
      "|    1    1    0    1593557      C   python3                          1297MiB |\r\n",
      "+-----------------------------------------------------------------------------+\r\n"
     ]
    }
   ],
   "source": [
    "!nvidia-smi"
   ]
  },
  {
   "cell_type": "markdown",
   "metadata": {
    "id": "02gLym20h-ZT"
   },
   "source": [
    "## Scheduler"
   ]
  },
  {
   "cell_type": "code",
   "execution_count": 7,
   "metadata": {
    "execution": {
     "iopub.execute_input": "2023-06-20T11:06:40.964273Z",
     "iopub.status.busy": "2023-06-20T11:06:40.963637Z",
     "iopub.status.idle": "2023-06-20T11:06:40.972246Z",
     "shell.execute_reply": "2023-06-20T11:06:40.970203Z"
    },
    "id": "_s6HZmhLh7m6"
   },
   "outputs": [],
   "source": [
    "LEARNING_RATE = 1e-3\n",
    "EPOCHS = 25"
   ]
  },
  {
   "cell_type": "markdown",
   "metadata": {
    "id": "R2DvJCwRLl-W"
   },
   "source": [
    "## Batch Size"
   ]
  },
  {
   "cell_type": "code",
   "execution_count": 8,
   "metadata": {
    "execution": {
     "iopub.execute_input": "2023-06-20T11:06:40.979694Z",
     "iopub.status.busy": "2023-06-20T11:06:40.979108Z",
     "iopub.status.idle": "2023-06-20T11:06:40.986942Z",
     "shell.execute_reply": "2023-06-20T11:06:40.984906Z"
    },
    "id": "GrTgaWP5LlUT"
   },
   "outputs": [],
   "source": [
    "BATCH_SIZE = 1024"
   ]
  },
  {
   "cell_type": "markdown",
   "metadata": {
    "id": "8dtGR1KCL0Gd"
   },
   "source": [
    "## WandB"
   ]
  },
  {
   "cell_type": "code",
   "execution_count": 9,
   "metadata": {
    "execution": {
     "iopub.execute_input": "2023-06-20T11:06:40.994560Z",
     "iopub.status.busy": "2023-06-20T11:06:40.993968Z",
     "iopub.status.idle": "2023-06-20T11:06:44.731541Z",
     "shell.execute_reply": "2023-06-20T11:06:44.729386Z"
    },
    "id": "P0kaGwtFL1_k"
   },
   "outputs": [
    {
     "name": "stderr",
     "output_type": "stream",
     "text": [
      "\u001b[34m\u001b[1mwandb\u001b[0m: Currently logged in as: \u001b[33mwilberquto\u001b[0m (\u001b[33mwilberquito\u001b[0m). Use \u001b[1m`wandb login --relogin`\u001b[0m to force relogin\n",
      "\u001b[34m\u001b[1mwandb\u001b[0m: \u001b[33mWARNING\u001b[0m If you're specifying your api key in code, ensure this code is not shared publicly.\n",
      "\u001b[34m\u001b[1mwandb\u001b[0m: \u001b[33mWARNING\u001b[0m Consider setting the WANDB_API_KEY environment variable, or running `wandb login` from the command line.\n",
      "\u001b[34m\u001b[1mwandb\u001b[0m: Appending key for api.wandb.ai to your netrc file: /home/student2/.netrc\n"
     ]
    },
    {
     "data": {
      "text/plain": [
       "True"
      ]
     },
     "execution_count": 9,
     "metadata": {},
     "output_type": "execute_result"
    }
   ],
   "source": [
    "import wandb\n",
    "\n",
    "key = \"c1121fe51146c1da87d1139239da7748c4e78665\"\n",
    "wandb.login(key=key)"
   ]
  },
  {
   "cell_type": "code",
   "execution_count": 10,
   "metadata": {
    "execution": {
     "iopub.execute_input": "2023-06-20T11:06:44.739358Z",
     "iopub.status.busy": "2023-06-20T11:06:44.738760Z",
     "iopub.status.idle": "2023-06-20T11:06:44.746992Z",
     "shell.execute_reply": "2023-06-20T11:06:44.744940Z"
    },
    "id": "9N1hXpJxL4PS"
   },
   "outputs": [],
   "source": [
    "wandb.finish()"
   ]
  },
  {
   "cell_type": "code",
   "execution_count": 11,
   "metadata": {
    "execution": {
     "iopub.execute_input": "2023-06-20T11:06:44.754161Z",
     "iopub.status.busy": "2023-06-20T11:06:44.753576Z",
     "iopub.status.idle": "2023-06-20T11:06:49.610896Z",
     "shell.execute_reply": "2023-06-20T11:06:49.609309Z"
    },
    "id": "5XiIaKwKL3qK"
   },
   "outputs": [
    {
     "name": "stderr",
     "output_type": "stream",
     "text": [
      "\u001b[34m\u001b[1mwandb\u001b[0m: Tracking run with wandb version 0.15.4\n",
      "\u001b[34m\u001b[1mwandb\u001b[0m: Run data is saved locally in \u001b[35m\u001b[1m/home/student2/thesis/pytorch/wandb/run-20230620_110644-uvswut8x\u001b[0m\n",
      "\u001b[34m\u001b[1mwandb\u001b[0m: Run \u001b[1m`wandb offline`\u001b[0m to turn off syncing.\n",
      "\u001b[34m\u001b[1mwandb\u001b[0m: Syncing run \u001b[33mResNet18R_V0\u001b[0m\n",
      "\u001b[34m\u001b[1mwandb\u001b[0m: ⭐️ View project at \u001b[34m\u001b[4mhttps://wandb.ai/wilberquito/melanoma_thesis\u001b[0m\n",
      "\u001b[34m\u001b[1mwandb\u001b[0m: 🚀 View run at \u001b[34m\u001b[4mhttps://wandb.ai/wilberquito/melanoma_thesis/runs/uvswut8x\u001b[0m\n"
     ]
    },
    {
     "data": {
      "text/html": [
       "<button onClick=\"this.nextSibling.style.display='block';this.style.display='none';\">Display W&B run</button><iframe src='https://wandb.ai/wilberquito/melanoma_thesis/runs/uvswut8x?jupyter=true' style='border:none;width:100%;height:420px;display:none;'></iframe>"
      ],
      "text/plain": [
       "<wandb.sdk.wandb_run.Run at 0x7f53cf97cc70>"
      ]
     },
     "execution_count": 11,
     "metadata": {},
     "output_type": "execute_result"
    }
   ],
   "source": [
    "wandb.init(\n",
    "    project=\"melanoma_thesis\",\n",
    "    group=\"train_test\",\n",
    "    name=\"ResNet18R_V0\",\n",
    "    config={\n",
    "      \"architecture\": \"ResNet18\",\n",
    "      \"scheduler\": \"None\",\n",
    "      \"dataset\": \"ISIC\",\n",
    "      \"epochs\": EPOCHS,\n",
    "      \"batch_size\": BATCH_SIZE,\n",
    "      \"learning_rate\": LEARNING_RATE,\n",
    "      \"regularization\": [\"Dropout\", \"Data augmentation\"]\n",
    "      }\n",
    ")"
   ]
  },
  {
   "cell_type": "markdown",
   "metadata": {
    "id": "toJQZUrYiCWn"
   },
   "source": [
    "## Writter"
   ]
  },
  {
   "cell_type": "code",
   "execution_count": 12,
   "metadata": {
    "execution": {
     "iopub.execute_input": "2023-06-20T11:06:49.618244Z",
     "iopub.status.busy": "2023-06-20T11:06:49.617479Z",
     "iopub.status.idle": "2023-06-20T11:06:50.223142Z",
     "shell.execute_reply": "2023-06-20T11:06:50.221155Z"
    },
    "id": "Vjf6lckNiCzt"
   },
   "outputs": [],
   "source": [
    "import modular.utility as m_utility\n",
    "\n",
    "writter = m_utility.model_writter('resnet18regularization_v0')"
   ]
  },
  {
   "cell_type": "markdown",
   "metadata": {
    "id": "qh-bm8cUkYzu"
   },
   "source": [
    "## Train"
   ]
  },
  {
   "cell_type": "code",
   "execution_count": 13,
   "metadata": {
    "colab": {
     "base_uri": "https://localhost:8080/"
    },
    "execution": {
     "iopub.execute_input": "2023-06-20T11:06:50.230505Z",
     "iopub.status.busy": "2023-06-20T11:06:50.230060Z",
     "iopub.status.idle": "2023-06-20T18:59:09.801001Z",
     "shell.execute_reply": "2023-06-20T18:59:09.798325Z"
    },
    "id": "9dMZyFyGkZx2",
    "outputId": "e111b14c-9186-4966-d394-ae728a1f9580"
   },
   "outputs": [
    {
     "name": "stderr",
     "output_type": "stream",
     "text": [
      "/home/student2/.conda/envs/melanoma_nn/lib/python3.10/site-packages/albumentations/augmentations/blur/transforms.py:184: UserWarning: blur_limit and sigma_limit minimum value can not be both equal to 0. blur_limit minimum value changed to 3.\n",
      "  warnings.warn(\n"
     ]
    },
    {
     "name": "stdout",
     "output_type": "stream",
     "text": [
      "Epoch 1/25\n",
      "----------\n",
      "Train OvR: 0.6680 \t|\tTrain Loss: 1.4364 \t|\tTrain Acc: 0.5554\n",
      "Val OvR: 0.7674 \t|\tVal Loss: 1.1706 \t|\tVal Acc: 0.5925\n",
      "=> Saving a new checkpoint\n",
      "Epoch 2/25\n",
      "----------\n",
      "Train OvR: 0.7829 \t|\tTrain Loss: 1.1347 \t|\tTrain Acc: 0.6042\n",
      "Val OvR: 0.8854 \t|\tVal Loss: 1.0229 \t|\tVal Acc: 0.6433\n",
      "=> Saving a new checkpoint\n",
      "Epoch 3/25\n",
      "----------\n",
      "Train OvR: 0.7933 \t|\tTrain Loss: 1.0572 \t|\tTrain Acc: 0.6302\n",
      "Val OvR: 0.9236 \t|\tVal Loss: 0.9657 \t|\tVal Acc: 0.6590\n",
      "=> Saving a new checkpoint\n",
      "Epoch 4/25\n",
      "----------\n",
      "Train OvR: 0.7527 \t|\tTrain Loss: 1.0193 \t|\tTrain Acc: 0.6399\n",
      "Val OvR: 0.9479 \t|\tVal Loss: 0.9326 \t|\tVal Acc: 0.6686\n",
      "=> Saving a new checkpoint\n",
      "Epoch 5/25\n",
      "----------\n",
      "Train OvR: 0.7714 \t|\tTrain Loss: 0.9970 \t|\tTrain Acc: 0.6494\n",
      "Val OvR: 0.9583 \t|\tVal Loss: 0.9115 \t|\tVal Acc: 0.6721\n",
      "=> Saving a new checkpoint\n",
      "Epoch 6/25\n",
      "----------\n",
      "Train OvR: 0.7960 \t|\tTrain Loss: 0.9797 \t|\tTrain Acc: 0.6522\n",
      "Val OvR: 0.9583 \t|\tVal Loss: 0.8929 \t|\tVal Acc: 0.6766\n",
      "=> Saving a new checkpoint\n",
      "Epoch 7/25\n",
      "----------\n",
      "Train OvR: 0.7943 \t|\tTrain Loss: 0.9667 \t|\tTrain Acc: 0.6598\n",
      "Val OvR: 0.9479 \t|\tVal Loss: 0.8792 \t|\tVal Acc: 0.6807\n",
      "=> Saving a new checkpoint\n",
      "Epoch 8/25\n",
      "----------\n",
      "Train OvR: 0.7836 \t|\tTrain Loss: 0.9487 \t|\tTrain Acc: 0.6659\n",
      "Val OvR: 0.9479 \t|\tVal Loss: 0.8655 \t|\tVal Acc: 0.6862\n",
      "=> Saving a new checkpoint\n",
      "Epoch 9/25\n",
      "----------\n",
      "Train OvR: 0.7424 \t|\tTrain Loss: 0.9361 \t|\tTrain Acc: 0.6698\n",
      "Val OvR: 0.9583 \t|\tVal Loss: 0.8543 \t|\tVal Acc: 0.6932\n",
      "=> Saving a new checkpoint\n",
      "Epoch 10/25\n",
      "----------\n",
      "Train OvR: 0.8163 \t|\tTrain Loss: 0.9265 \t|\tTrain Acc: 0.6709\n",
      "Val OvR: 0.9583 \t|\tVal Loss: 0.8478 \t|\tVal Acc: 0.6887\n",
      "=> Saving a new checkpoint\n",
      "\n",
      "Early stopping after 10 epochs\n",
      "\n",
      "Training completed after: 472m 17s\n",
      "Best epoch: 5\n",
      "Best val OvR: 0.9583\n"
     ]
    }
   ],
   "source": [
    "from torchvision import models\n",
    "import torch\n",
    "import torch.nn as nn\n",
    "import torch.optim as optim\n",
    "from torch.optim import lr_scheduler\n",
    "from torchvision.models import (ResNet18_Weights)\n",
    "from torch.utils.data import DataLoader\n",
    "import torch\n",
    "import torchvision as tv\n",
    "import modular.dataset as m_dataset\n",
    "import modular.utility as m_utility\n",
    "import modular.engine as engine\n",
    "import modular.models as m_models\n",
    "\n",
    "# Set seed\n",
    "m_utility.set_seed(42)\n",
    "\n",
    "# Build the dataframes\n",
    "data_dir = 'data.etl'\n",
    "data_folder = '512'\n",
    "train_df, test_df, mapping = m_dataset.get_df(data_dir, data_folder)\n",
    "\n",
    "device = 'cuda' if torch.cuda.is_available() else 'cpu'\n",
    "\n",
    "out_features = len(mapping)\n",
    "model = m_models.ResNet18_Dropout_Melanoma(out_features)\n",
    "model = model.to(device)\n",
    "\n",
    "criterion = nn.CrossEntropyLoss()\n",
    "\n",
    "# Observe that all parameters are being optimized\n",
    "optimizer = optim.SGD(model.parameters(), lr=LEARNING_RATE, momentum=0.9)\n",
    "\n",
    "# Mapping from id to classname\n",
    "idx_to_class = { k : classname for classname, k in mapping.items() }\n",
    "\n",
    "# Train and validate dataset & dataloader\n",
    "train_df, validate_df = m_dataset.train_validate_split(train_df,\n",
    "                                                       random_state=42,\n",
    "                                                       validate_size=0.2)\n",
    "\n",
    "validate_df, test_df = m_dataset.train_validate_split(validate_df,\n",
    "                                                      random_state=42,\n",
    "                                                      validate_size=0.5)\n",
    "\n",
    "\n",
    "train_transforms, val_transforms = m_dataset.get_transforms(image_size=256)\n",
    "\n",
    "train_dataset = m_dataset.MelanomaDataset(train_df,\n",
    "                                          mode='train',\n",
    "                                          transforms=train_transforms,\n",
    "                                          idx_to_class=idx_to_class)\n",
    "validate_dataset = m_dataset.MelanomaDataset(validate_df,\n",
    "                                             mode='validate',\n",
    "                                             transforms=val_transforms,\n",
    "                                             idx_to_class=idx_to_class)\n",
    "\n",
    "batch_size = BATCH_SIZE\n",
    "\n",
    "train_dataloader = DataLoader(train_dataset, batch_size=batch_size, shuffle=True)\n",
    "validate_dataloader = DataLoader(validate_dataset, batch_size=batch_size, shuffle=False)\n",
    "\n",
    "# Test dataset and dataloader\n",
    "test_dataset = m_dataset.MelanomaDataset(test_df,\n",
    "                                         mode='test',\n",
    "                                         idx_to_class=idx_to_class)\n",
    "test_dataloader = DataLoader(test_dataset, batch_size=batch_size, shuffle=False)\n",
    "\n",
    "# Dataloaders\n",
    "dataloaders = {\n",
    "    'train': train_dataloader,\n",
    "    'val': validate_dataloader,\n",
    "}\n",
    "\n",
    "datasets_size = {\n",
    "    'train': len(train_dataset),\n",
    "    'val': len(validate_dataset),\n",
    "}\n",
    "\n",
    "about_data = {\n",
    "    'dataloaders': dataloaders,\n",
    "    'datasets': {\n",
    "        'size': datasets_size\n",
    "    }\n",
    "}\n",
    "\n",
    "MEL_IDX = 6 # Check data exploration notebook\n",
    "VAL_TIMES = 4\n",
    "\n",
    "model_ft, stats = engine.train_model(model,\n",
    "                                     MEL_IDX,\n",
    "                                     about_data,\n",
    "                                     device,\n",
    "                                     criterion,\n",
    "                                     optimizer,\n",
    "                                     num_epochs=EPOCHS,\n",
    "                                     writter=writter,\n",
    "                                     val_times=VAL_TIMES)"
   ]
  },
  {
   "cell_type": "code",
   "execution_count": 14,
   "metadata": {
    "execution": {
     "iopub.execute_input": "2023-06-20T18:59:09.810696Z",
     "iopub.status.busy": "2023-06-20T18:59:09.810010Z",
     "iopub.status.idle": "2023-06-20T18:59:14.702137Z",
     "shell.execute_reply": "2023-06-20T18:59:14.700529Z"
    },
    "id": "0mjcZPKNOkbf"
   },
   "outputs": [
    {
     "name": "stderr",
     "output_type": "stream",
     "text": [
      "\u001b[34m\u001b[1mwandb\u001b[0m: Waiting for W&B process to finish... \u001b[32m(success).\u001b[0m\n",
      "\u001b[34m\u001b[1mwandb\u001b[0m: \n",
      "\u001b[34m\u001b[1mwandb\u001b[0m: Run history:\n",
      "\u001b[34m\u001b[1mwandb\u001b[0m:  train_acc ▁▄▆▆▇▇▇███\n",
      "\u001b[34m\u001b[1mwandb\u001b[0m: train_loss █▄▃▂▂▂▂▁▁▁\n",
      "\u001b[34m\u001b[1mwandb\u001b[0m:  train_ovr ▁▆▇▅▆▇▇▆▅█\n",
      "\u001b[34m\u001b[1mwandb\u001b[0m:    val_acc ▁▅▆▆▇▇▇███\n",
      "\u001b[34m\u001b[1mwandb\u001b[0m:   val_loss █▅▄▃▂▂▂▁▁▁\n",
      "\u001b[34m\u001b[1mwandb\u001b[0m:    val_ovr ▁▅▇███████\n",
      "\u001b[34m\u001b[1mwandb\u001b[0m: \n",
      "\u001b[34m\u001b[1mwandb\u001b[0m: Run summary:\n",
      "\u001b[34m\u001b[1mwandb\u001b[0m:  train_acc 0.6709\n",
      "\u001b[34m\u001b[1mwandb\u001b[0m: train_loss 0.9265\n",
      "\u001b[34m\u001b[1mwandb\u001b[0m:  train_ovr 0.8163\n",
      "\u001b[34m\u001b[1mwandb\u001b[0m:    val_acc 0.6887\n",
      "\u001b[34m\u001b[1mwandb\u001b[0m:   val_loss 0.8478\n",
      "\u001b[34m\u001b[1mwandb\u001b[0m:    val_ovr 0.9583\n",
      "\u001b[34m\u001b[1mwandb\u001b[0m: \n",
      "\u001b[34m\u001b[1mwandb\u001b[0m: 🚀 View run \u001b[33mResNet18R_V0\u001b[0m at: \u001b[34m\u001b[4mhttps://wandb.ai/wilberquito/melanoma_thesis/runs/uvswut8x\u001b[0m\n",
      "\u001b[34m\u001b[1mwandb\u001b[0m: Synced 6 W&B file(s), 0 media file(s), 0 artifact file(s) and 0 other file(s)\n",
      "\u001b[34m\u001b[1mwandb\u001b[0m: Find logs at: \u001b[35m\u001b[1m./wandb/run-20230620_110644-uvswut8x/logs\u001b[0m\n"
     ]
    }
   ],
   "source": [
    "wandb.finish()"
   ]
  },
  {
   "cell_type": "code",
   "execution_count": 15,
   "metadata": {
    "execution": {
     "iopub.execute_input": "2023-06-20T18:59:14.708970Z",
     "iopub.status.busy": "2023-06-20T18:59:14.708435Z",
     "iopub.status.idle": "2023-06-20T18:59:16.220700Z",
     "shell.execute_reply": "2023-06-20T18:59:16.219317Z"
    },
    "id": "xb_ljGJnOmXr"
   },
   "outputs": [
    {
     "data": {
      "image/png": "[encoded data removed]",
      "text/plain": [
       "<Figure size 2100x700 with 3 Axes>"
      ]
     },
     "metadata": {},
     "output_type": "display_data"
    }
   ],
   "source": [
    "m_utility.plot_curves(stats)"
   ]
  },
  {
   "cell_type": "code",
   "execution_count": 16,
   "metadata": {
    "execution": {
     "iopub.execute_input": "2023-06-20T18:59:16.228045Z",
     "iopub.status.busy": "2023-06-20T18:59:16.227617Z",
     "iopub.status.idle": "2023-06-20T18:59:16.234882Z",
     "shell.execute_reply": "2023-06-20T18:59:16.233157Z"
    },
    "id": "Wigth2wsOoZJ"
   },
   "outputs": [],
   "source": [
    "if IN_COLAB:\n",
    "  from google.colab import files\n",
    "  files.download('resnet18regularization_v0.pth.tar')\n",
    "  files.download('resnet18regularization_v0.csv')"
   ]
  }
 ],
 "metadata": {
  "accelerator": "GPU",
  "colab": {
   "gpuType": "T4",
   "include_colab_link": true,
   "provenance": []
  },
  "kernelspec": {
   "display_name": "Python 3",
   "name": "python3"
  },
  "language_info": {
   "codemirror_mode": {
    "name": "ipython",
    "version": 3
   },
   "file_extension": ".py",
   "mimetype": "text/x-python",
   "name": "python",
   "nbconvert_exporter": "python",
   "pygments_lexer": "ipython3",
   "version": "3.10.11"
  }
 },
 "nbformat": 4,
 "nbformat_minor": 0
}
