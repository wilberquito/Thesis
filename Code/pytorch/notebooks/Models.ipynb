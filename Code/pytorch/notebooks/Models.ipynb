{
  "nbformat": 4,
  "nbformat_minor": 0,
  "metadata": {
    "colab": {
      "provenance": [],
      "authorship_tag": "ABX9TyMD/892FgXCtJuzn9TxEB6v",
      "include_colab_link": true
    },
    "kernelspec": {
      "name": "python3",
      "display_name": "Python 3"
    },
    "language_info": {
      "name": "python"
    }
  },
  "cells": [
    {
      "cell_type": "markdown",
      "metadata": {
        "id": "view-in-github",
        "colab_type": "text"
      },
      "source": [
        "<a href=\"https://colab.research.google.com/github/wilberquito/melanoma.thesis/blob/main/Code/pytorch/notebooks/Models.ipynb\" target=\"_parent\"><img src=\"https://colab.research.google.com/assets/colab-badge.svg\" alt=\"Open In Colab\"/></a>"
      ]
    },
    {
      "cell_type": "markdown",
      "source": [
        "# Models Analysis"
      ],
      "metadata": {
        "id": "dwrFOg7EUYSK"
      }
    },
    {
      "cell_type": "code",
      "source": [
        "!pip install wandb torchinfo >/dev/null 2>&1"
      ],
      "metadata": {
        "id": "dSyGAQGfUumq"
      },
      "execution_count": 9,
      "outputs": []
    },
    {
      "cell_type": "code",
      "source": [
        "try:\n",
        "    import torchmetrics, mlxtend\n",
        "    print(f\"mlxtend version: {mlxtend.__version__}\")\n",
        "    assert int(mlxtend.__version__.split(\".\")[1]) >= 19, \"mlxtend verison should be 0.19.0 or higher\"\n",
        "except:\n",
        "    !pip install -q torchmetrics -U mlxtend # <- Note: If you're using Google Colab, this may require restarting the runtime\n",
        "    import torchmetrics, mlxtend\n",
        "    print(f\"mlxtend version: {mlxtend.__version__}\")"
      ],
      "metadata": {
        "colab": {
          "base_uri": "https://localhost:8080/"
        },
        "id": "PUmMUZRsUsqq",
        "outputId": "73c21d00-b9a4-46c5-90b7-e67b56cb508e"
      },
      "execution_count": 10,
      "outputs": [
        {
          "output_type": "stream",
          "name": "stdout",
          "text": [
            "mlxtend version: 0.22.0\n"
          ]
        }
      ]
    },
    {
      "cell_type": "code",
      "source": [
        "import requests\n",
        "from pathlib import Path\n",
        "import pandas as pd\n",
        "import seaborn as sns\n",
        "from zipfile import ZipFile\n",
        "\n",
        "try:\n",
        "    import google.colab\n",
        "    from google.colab import drive\n",
        "    IN_COLAB = True\n",
        "    drive.mount('/content/drive')\n",
        "except:\n",
        "    IN_COLAB = False\n",
        "\n",
        "print(f\"In colab: {IN_COLAB}\")"
      ],
      "metadata": {
        "colab": {
          "base_uri": "https://localhost:8080/"
        },
        "id": "QmcTEn95VCGP",
        "outputId": "7868e71f-1f84-47b3-9eb7-2a3f54f018ae"
      },
      "execution_count": 11,
      "outputs": [
        {
          "output_type": "stream",
          "name": "stdout",
          "text": [
            "Drive already mounted at /content/drive; to attempt to forcibly remount, call drive.mount(\"/content/drive\", force_remount=True).\n",
            "In colab: True\n"
          ]
        }
      ]
    },
    {
      "cell_type": "code",
      "source": [
        "def pull_code():\n",
        "  print(\"Unzipping the code from google drive\")\n",
        "  !rm -rf modular/\n",
        "  !unzip ./drive/MyDrive/wilberquito_thesis/modular.zip -d . >/dev/null 2>&1\n",
        "\n",
        "if IN_COLAB:\n",
        "    pull_code()"
      ],
      "metadata": {
        "colab": {
          "base_uri": "https://localhost:8080/"
        },
        "id": "QzpiSlGgUzNw",
        "outputId": "b8b6abf7-d301-445b-ce10-06d672e16275"
      },
      "execution_count": 12,
      "outputs": [
        {
          "output_type": "stream",
          "name": "stdout",
          "text": [
            "Unzipping the code from google drive\n"
          ]
        }
      ]
    },
    {
      "cell_type": "markdown",
      "source": [
        "## ResNet-18"
      ],
      "metadata": {
        "id": "mRyoqkPjUhRs"
      }
    },
    {
      "cell_type": "code",
      "source": [
        "import torchinfo\n",
        "from torchvision.models import (resnet18,\n",
        "                                ResNet18_Weights)\n",
        "\n",
        "model = resnet18(weights=ResNet18_Weights.IMAGENET1K_V1)\n",
        "\n",
        "torchinfo.summary(model,\n",
        "                  (3, 256, 256),\n",
        "                  batch_dim = 0,\n",
        "                  depth=2,\n",
        "                  col_names = (\"input_size\", 'output_size', 'num_params'),\n",
        "                  verbose = 0)"
      ],
      "metadata": {
        "colab": {
          "base_uri": "https://localhost:8080/"
        },
        "id": "yRmgak13UhCJ",
        "outputId": "23301ab0-f3af-460c-b89c-043f85c9b35f"
      },
      "execution_count": 13,
      "outputs": [
        {
          "output_type": "execute_result",
          "data": {
            "text/plain": [
              "===================================================================================================================\n",
              "Layer (type:depth-idx)                   Input Shape               Output Shape              Param #\n",
              "===================================================================================================================\n",
              "ResNet                                   [1, 3, 256, 256]          [1, 1000]                 --\n",
              "├─Conv2d: 1-1                            [1, 3, 256, 256]          [1, 64, 128, 128]         9,408\n",
              "├─BatchNorm2d: 1-2                       [1, 64, 128, 128]         [1, 64, 128, 128]         128\n",
              "├─ReLU: 1-3                              [1, 64, 128, 128]         [1, 64, 128, 128]         --\n",
              "├─MaxPool2d: 1-4                         [1, 64, 128, 128]         [1, 64, 64, 64]           --\n",
              "├─Sequential: 1-5                        [1, 64, 64, 64]           [1, 64, 64, 64]           --\n",
              "│    └─BasicBlock: 2-1                   [1, 64, 64, 64]           [1, 64, 64, 64]           73,984\n",
              "│    └─BasicBlock: 2-2                   [1, 64, 64, 64]           [1, 64, 64, 64]           73,984\n",
              "├─Sequential: 1-6                        [1, 64, 64, 64]           [1, 128, 32, 32]          --\n",
              "│    └─BasicBlock: 2-3                   [1, 64, 64, 64]           [1, 128, 32, 32]          230,144\n",
              "│    └─BasicBlock: 2-4                   [1, 128, 32, 32]          [1, 128, 32, 32]          295,424\n",
              "├─Sequential: 1-7                        [1, 128, 32, 32]          [1, 256, 16, 16]          --\n",
              "│    └─BasicBlock: 2-5                   [1, 128, 32, 32]          [1, 256, 16, 16]          919,040\n",
              "│    └─BasicBlock: 2-6                   [1, 256, 16, 16]          [1, 256, 16, 16]          1,180,672\n",
              "├─Sequential: 1-8                        [1, 256, 16, 16]          [1, 512, 8, 8]            --\n",
              "│    └─BasicBlock: 2-7                   [1, 256, 16, 16]          [1, 512, 8, 8]            3,673,088\n",
              "│    └─BasicBlock: 2-8                   [1, 512, 8, 8]            [1, 512, 8, 8]            4,720,640\n",
              "├─AdaptiveAvgPool2d: 1-9                 [1, 512, 8, 8]            [1, 512, 1, 1]            --\n",
              "├─Linear: 1-10                           [1, 512]                  [1, 1000]                 513,000\n",
              "===================================================================================================================\n",
              "Total params: 11,689,512\n",
              "Trainable params: 11,689,512\n",
              "Non-trainable params: 0\n",
              "Total mult-adds (G): 2.37\n",
              "===================================================================================================================\n",
              "Input size (MB): 0.79\n",
              "Forward/backward pass size (MB): 51.91\n",
              "Params size (MB): 46.76\n",
              "Estimated Total Size (MB): 99.46\n",
              "==================================================================================================================="
            ]
          },
          "metadata": {},
          "execution_count": 13
        }
      ]
    },
    {
      "cell_type": "markdown",
      "source": [
        "## ResNet18_Melanoma"
      ],
      "metadata": {
        "id": "-uDM-VvhU3W3"
      }
    },
    {
      "cell_type": "code",
      "execution_count": 14,
      "metadata": {
        "colab": {
          "base_uri": "https://localhost:8080/"
        },
        "id": "zdOKpr-wUOkJ",
        "outputId": "48faf73b-c468-4efc-d265-9f1beef34a2b"
      },
      "outputs": [
        {
          "output_type": "execute_result",
          "data": {
            "text/plain": [
              "========================================================================================================================\n",
              "Layer (type:depth-idx)                        Input Shape               Output Shape              Param #\n",
              "========================================================================================================================\n",
              "ResNet18_Melanoma                             [1, 3, 256, 256]          [1, 8]                    --\n",
              "├─ResNet: 1-1                                 [1, 3, 256, 256]          [1, 512]                  --\n",
              "│    └─Conv2d: 2-1                            [1, 3, 256, 256]          [1, 64, 128, 128]         9,408\n",
              "│    └─BatchNorm2d: 2-2                       [1, 64, 128, 128]         [1, 64, 128, 128]         128\n",
              "│    └─ReLU: 2-3                              [1, 64, 128, 128]         [1, 64, 128, 128]         --\n",
              "│    └─MaxPool2d: 2-4                         [1, 64, 128, 128]         [1, 64, 64, 64]           --\n",
              "│    └─Sequential: 2-5                        [1, 64, 64, 64]           [1, 64, 64, 64]           147,968\n",
              "│    └─Sequential: 2-6                        [1, 64, 64, 64]           [1, 128, 32, 32]          525,568\n",
              "│    └─Sequential: 2-7                        [1, 128, 32, 32]          [1, 256, 16, 16]          2,099,712\n",
              "│    └─Sequential: 2-8                        [1, 256, 16, 16]          [1, 512, 8, 8]            8,393,728\n",
              "│    └─AdaptiveAvgPool2d: 2-9                 [1, 512, 8, 8]            [1, 512, 1, 1]            --\n",
              "│    └─Identity: 2-10                         [1, 512]                  [1, 512]                  --\n",
              "├─Linear: 1-2                                 [1, 512]                  [1, 8]                    4,104\n",
              "========================================================================================================================\n",
              "Total params: 11,180,616\n",
              "Trainable params: 11,180,616\n",
              "Non-trainable params: 0\n",
              "Total mult-adds (G): 2.37\n",
              "========================================================================================================================\n",
              "Input size (MB): 0.79\n",
              "Forward/backward pass size (MB): 51.90\n",
              "Params size (MB): 44.72\n",
              "Estimated Total Size (MB): 97.41\n",
              "========================================================================================================================"
            ]
          },
          "metadata": {},
          "execution_count": 14
        }
      ],
      "source": [
        "import torchinfo\n",
        "import modular.models as m_models\n",
        "\n",
        "out_size = 8\n",
        "model = m_models.ResNet18_Melanoma(out_size)\n",
        "\n",
        "torchinfo.summary(model,\n",
        "                  (3, 256, 256),\n",
        "                  batch_dim = 0,\n",
        "                  depth=2,\n",
        "                  col_names = (\"input_size\", 'output_size', 'num_params'),\n",
        "                  verbose = 0)"
      ]
    },
    {
      "cell_type": "markdown",
      "source": [
        "## ResNet18_Dropout_Melanoma"
      ],
      "metadata": {
        "id": "2RFfUWRvXhP5"
      }
    },
    {
      "cell_type": "code",
      "source": [
        "import torchinfo\n",
        "import modular.models as m_models\n",
        "\n",
        "out_size = 8\n",
        "model = m_models.ResNet18_Dropout_Melanoma(out_size)\n",
        "\n",
        "torchinfo.summary(model,\n",
        "                  (3, 256, 256),\n",
        "                  batch_dim = 0,\n",
        "                  depth=2,\n",
        "                  col_names = (\"input_size\", 'output_size', 'num_params'),\n",
        "                  verbose = 0)"
      ],
      "metadata": {
        "colab": {
          "base_uri": "https://localhost:8080/"
        },
        "id": "0ApurcmqVH7l",
        "outputId": "9b31adac-116f-4014-87d5-293808f7c5c2"
      },
      "execution_count": 15,
      "outputs": [
        {
          "output_type": "execute_result",
          "data": {
            "text/plain": [
              "========================================================================================================================\n",
              "Layer (type:depth-idx)                        Input Shape               Output Shape              Param #\n",
              "========================================================================================================================\n",
              "ResNet18_Dropout_Melanoma                     [1, 3, 256, 256]          [1, 8]                    --\n",
              "├─ResNet: 1-1                                 [1, 3, 256, 256]          [1, 512]                  --\n",
              "│    └─Conv2d: 2-1                            [1, 3, 256, 256]          [1, 64, 128, 128]         9,408\n",
              "│    └─BatchNorm2d: 2-2                       [1, 64, 128, 128]         [1, 64, 128, 128]         128\n",
              "│    └─ReLU: 2-3                              [1, 64, 128, 128]         [1, 64, 128, 128]         --\n",
              "│    └─MaxPool2d: 2-4                         [1, 64, 128, 128]         [1, 64, 64, 64]           --\n",
              "│    └─Sequential: 2-5                        [1, 64, 64, 64]           [1, 64, 64, 64]           147,968\n",
              "│    └─Sequential: 2-6                        [1, 64, 64, 64]           [1, 128, 32, 32]          525,568\n",
              "│    └─Sequential: 2-7                        [1, 128, 32, 32]          [1, 256, 16, 16]          2,099,712\n",
              "│    └─Sequential: 2-8                        [1, 256, 16, 16]          [1, 512, 8, 8]            8,393,728\n",
              "│    └─AdaptiveAvgPool2d: 2-9                 [1, 512, 8, 8]            [1, 512, 1, 1]            --\n",
              "│    └─Identity: 2-10                         [1, 512]                  [1, 512]                  --\n",
              "├─ModuleList: 1-10                            --                        --                        --\n",
              "│    └─Dropout: 2-11                          [1, 512]                  [1, 512]                  --\n",
              "├─Linear: 1-3                                 [1, 512]                  [1, 8]                    4,104\n",
              "├─ModuleList: 1-10                            --                        --                        --\n",
              "│    └─Dropout: 2-12                          [1, 512]                  [1, 512]                  --\n",
              "├─Linear: 1-5                                 [1, 512]                  [1, 8]                    (recursive)\n",
              "├─ModuleList: 1-10                            --                        --                        --\n",
              "│    └─Dropout: 2-13                          [1, 512]                  [1, 512]                  --\n",
              "├─Linear: 1-7                                 [1, 512]                  [1, 8]                    (recursive)\n",
              "├─ModuleList: 1-10                            --                        --                        --\n",
              "│    └─Dropout: 2-14                          [1, 512]                  [1, 512]                  --\n",
              "├─Linear: 1-9                                 [1, 512]                  [1, 8]                    (recursive)\n",
              "├─ModuleList: 1-10                            --                        --                        --\n",
              "│    └─Dropout: 2-15                          [1, 512]                  [1, 512]                  --\n",
              "├─Linear: 1-11                                [1, 512]                  [1, 8]                    (recursive)\n",
              "========================================================================================================================\n",
              "Total params: 11,180,616\n",
              "Trainable params: 11,180,616\n",
              "Non-trainable params: 0\n",
              "Total mult-adds (G): 2.37\n",
              "========================================================================================================================\n",
              "Input size (MB): 0.79\n",
              "Forward/backward pass size (MB): 51.90\n",
              "Params size (MB): 44.72\n",
              "Estimated Total Size (MB): 97.41\n",
              "========================================================================================================================"
            ]
          },
          "metadata": {},
          "execution_count": 15
        }
      ]
    }
  ]
}