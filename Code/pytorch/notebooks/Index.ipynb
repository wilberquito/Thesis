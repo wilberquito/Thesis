{
  "nbformat": 4,
  "nbformat_minor": 0,
  "metadata": {
    "colab": {
      "provenance": [],
      "include_colab_link": true
    },
    "kernelspec": {
      "name": "python3",
      "display_name": "Python 3"
    },
    "language_info": {
      "name": "python"
    }
  },
  "cells": [
    {
      "cell_type": "markdown",
      "metadata": {
        "id": "view-in-github",
        "colab_type": "text"
      },
      "source": [
        "<a href=\"https://colab.research.google.com/github/wilberquito/Thesis/blob/main/Code/nn/notebooks/Index.ipynb\" target=\"_parent\"><img src=\"https://colab.research.google.com/assets/colab-badge.svg\" alt=\"Open In Colab\"/></a>"
      ]
    },
    {
      "cell_type": "markdown",
      "source": [
        "# Index thesis"
      ],
      "metadata": {
        "id": "k1zBBGFuCB6e"
      }
    },
    {
      "cell_type": "markdown",
      "source": [
        "* [Data exploration](https://github.com/wilberquito/Thesis/blob/main/Code/nn/notebooks/DataExploration.ipynb)\n",
        "* [ResNet 18]()\n",
        "  * [V0](https://github.com/wilberquito/Thesis/blob/main/Code/nn/notebooks/resnet18/ResNet18_V0.ipynb)\n",
        "  * [V1](https://github.com/wilberquito/Thesis/blob/main/Code/nn/notebooks/resnet18/ResNet18_V1.ipynb)\n",
        "  * [V2](https://github.com/wilberquito/Thesis/blob/main/Code/nn/notebooks/resnet18/ResNet18_V2.ipynb)\n",
        "  * [V3](https://github.com/wilberquito/Thesis/blob/main/Code/nn/notebooks/resnet18/ResNet18_V3.ipynb)"
      ],
      "metadata": {
        "id": "NqMUyYPnCYEl"
      }
    },
    {
      "cell_type": "markdown",
      "source": [
        "## Data Exploration"
      ],
      "metadata": {
        "id": "ZZHjTUHCQlFI"
      }
    },
    {
      "cell_type": "markdown",
      "source": [
        "https://github.com/wilberquito/Thesis/blob/main/Code/nn/notebooks/DataExploration.ipynb"
      ],
      "metadata": {
        "id": "jXtz1A3PVfKI"
      }
    },
    {
      "cell_type": "markdown",
      "source": [
        "In this notebook we can see information about the images and it's metadata passed to the different trainned models."
      ],
      "metadata": {
        "id": "xtPhuIqyQnWp"
      }
    },
    {
      "cell_type": "markdown",
      "source": [
        "## ResNet 18"
      ],
      "metadata": {
        "id": "UT6n7U8WQ1Ix"
      }
    },
    {
      "cell_type": "markdown",
      "source": [
        "### V0"
      ],
      "metadata": {
        "id": "MunCpYYnUCX8"
      }
    },
    {
      "cell_type": "markdown",
      "source": [
        "https://github.com/wilberquito/Thesis/blob/main/Code/nn/notebooks/resnet18/ResNet18_V0.ipynb"
      ],
      "metadata": {
        "id": "YBXpLi1fVNQp"
      }
    },
    {
      "cell_type": "markdown",
      "source": [
        "- transfer learning type: fine tunning\n",
        "- model: ResNet18_Melanoma\n",
        "- base: resnet18, IMAGENET1K_V1\n",
        "- optimizer: SGD\n",
        " - lr: 0.001\n",
        "- scheduler: no\n",
        "- epochs: 20\n",
        "- early stop at: 20\n",
        "- best epoch at: 15\n",
        "- batch_size: 400\n",
        "- data augmentation: no\n",
        "- regularization: no\n",
        "- best OvR (AUC): 0.9050\n",
        "- GPU: Tesla T4\n",
        "- CUDA: 12.0\n",
        "- training completed after: ??\n",
        "\n",
        "\n"
      ],
      "metadata": {
        "id": "WufV3fiuUIuQ"
      }
    },
    {
      "cell_type": "markdown",
      "source": [
        "### V1"
      ],
      "metadata": {
        "id": "xRypiwB8Q45O"
      }
    },
    {
      "cell_type": "markdown",
      "source": [
        "https://github.com/wilberquito/Thesis/blob/main/Code/nn/notebooks/resnet18/ResNet18_V1.ipynb"
      ],
      "metadata": {
        "id": "2mPK6Q-9JgQl"
      }
    },
    {
      "cell_type": "markdown",
      "source": [
        "- transfer learning type: fine tunning\n",
        "- model: ResNet18_Melanoma\n",
        "- base: resnet18, IMAGENET1K_V1\n",
        "- optimizer: SGD\n",
        " - lr: 0.001\n",
        "- scheduler: StepLR\n",
        " - decay: 0.1\n",
        " - step_size: 15\n",
        "- epochs: 20\n",
        "- early stop at: 20\n",
        "- best epoch at: 15\n",
        "- batch_size: 400\n",
        "- data augmentation: no\n",
        "- regularization: no\n",
        "- best OvR (AUC): 0.9050\n",
        "- GPU: Tesla T4\n",
        "- CUDA: 12.0\n",
        "- training completed after: 106m 18s\n"
      ],
      "metadata": {
        "id": "WV7VTFzuRAPd"
      }
    },
    {
      "cell_type": "markdown",
      "source": [
        "### V2"
      ],
      "metadata": {
        "id": "AOsJA9nUJjyd"
      }
    },
    {
      "cell_type": "markdown",
      "source": [
        "https://github.com/wilberquito/Thesis/blob/main/Code/nn/notebooks/resnet18/ResNet18_V2.ipynb"
      ],
      "metadata": {
        "id": "SotENKxSKGDq"
      }
    },
    {
      "cell_type": "markdown",
      "source": [
        "- transfer learning type: fine tunning\n",
        "- model: ResNet18_Melanoma\n",
        "- base: resnet18, IMAGENET1K_V1\n",
        "- optimizer: SGD\n",
        " - lr: 0.001\n",
        "- scheduler: CosineAnnealingLR\n",
        " - ETA_MIN:  2e-4\n",
        "- epochs: 20\n",
        "- early stop at: 14\n",
        "- best epoch at: 9\n",
        "- batch_size: 400\n",
        "- data augmentation: no\n",
        "- regularization: no\n",
        "- best OvR (AUC): 0.9033\n",
        "- GPU: Tesla T4\n",
        "- CUDA: 12.0\n",
        "- training completed after: 81m 26s\n"
      ],
      "metadata": {
        "id": "uPTBpYE3Jnr9"
      }
    },
    {
      "cell_type": "markdown",
      "source": [
        "### V3"
      ],
      "metadata": {
        "id": "7uYCcUx5Sbd2"
      }
    },
    {
      "cell_type": "markdown",
      "source": [
        "https://github.com/wilberquito/Thesis/blob/main/Code/nn/notebooks/resnet18/ResNet18_V3.ipynb"
      ],
      "metadata": {
        "id": "shZ0XO_4SiOq"
      }
    },
    {
      "cell_type": "markdown",
      "source": [
        "- transfer learning type: fine tunning\n",
        "- model: ResNet18_Melanoma\n",
        "- base: resnet18, IMAGENET1K_V1\n",
        "- optimizer: SGD\n",
        " - lr: 0.001\n",
        "- scheduler: CosineAnnealingWarmRestarts\n",
        "  - T_0 = 5\n",
        "  - T_MULT = 1\n",
        "  - ETA_MIN = 1e-4\n",
        "- epochs: 20\n",
        "- early stop at: no\n",
        "- best epoch at: 19\n",
        "- batch_size: 400\n",
        "- data augmentation: no\n",
        "- regularization: no\n",
        "- best OvR (AUC): 0.9057\n",
        "- GPU: Tesla T4\n",
        "- CUDA: 12.0\n",
        "- training completed after: 108m 31s"
      ],
      "metadata": {
        "id": "1t6aNjgeSeHl"
      }
    }
  ]
}