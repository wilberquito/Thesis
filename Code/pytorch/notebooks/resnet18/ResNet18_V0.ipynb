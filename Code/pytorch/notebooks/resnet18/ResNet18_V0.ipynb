{
  "nbformat": 4,
  "nbformat_minor": 0,
  "metadata": {
    "colab": {
      "provenance": [],
      "gpuType": "T4",
      "include_colab_link": true
    },
    "kernelspec": {
      "name": "python3",
      "display_name": "Python 3"
    },
    "language_info": {
      "name": "python"
    },
    "accelerator": "GPU"
  },
  "cells": [
    {
      "cell_type": "markdown",
      "metadata": {
        "id": "view-in-github",
        "colab_type": "text"
      },
      "source": [
        "<a href=\"https://colab.research.google.com/github/wilberquito/Thesis/blob/main/Code/pytorch/notebooks/resnet18/ResNet18_V0.ipynb\" target=\"_parent\"><img src=\"https://colab.research.google.com/assets/colab-badge.svg\" alt=\"Open In Colab\"/></a>"
      ]
    },
    {
      "cell_type": "markdown",
      "source": [
        "# ResNet18, V0"
      ],
      "metadata": {
        "id": "SCQmC5kLPQT0"
      }
    },
    {
      "cell_type": "code",
      "source": [
        "!pip install wandb >/dev/null 2>&1"
      ],
      "metadata": {
        "id": "ro4IXfZJhDGd"
      },
      "execution_count": 1,
      "outputs": []
    },
    {
      "cell_type": "code",
      "execution_count": 2,
      "metadata": {
        "colab": {
          "base_uri": "https://localhost:8080/"
        },
        "id": "BKMCi7vmPGBB",
        "outputId": "52b95da3-1421-49f0-d10b-c76e6733704a"
      },
      "outputs": [
        {
          "output_type": "stream",
          "name": "stdout",
          "text": [
            "\u001b[2K     \u001b[90m━━━━━━━━━━━━━━━━━━━━━━━━━━━━━━━━━━━━━━\u001b[0m \u001b[32m519.2/519.2 kB\u001b[0m \u001b[31m11.7 MB/s\u001b[0m eta \u001b[36m0:00:00\u001b[0m\n",
            "\u001b[2K     \u001b[90m━━━━━━━━━━━━━━━━━━━━━━━━━━━━━━━━━━━━━━━━\u001b[0m \u001b[32m1.4/1.4 MB\u001b[0m \u001b[31m70.6 MB/s\u001b[0m eta \u001b[36m0:00:00\u001b[0m\n",
            "\u001b[?25hmlxtend version: 0.22.0\n"
          ]
        }
      ],
      "source": [
        "try:\n",
        "    import torchmetrics, mlxtend\n",
        "    print(f\"mlxtend version: {mlxtend.__version__}\")\n",
        "    assert int(mlxtend.__version__.split(\".\")[1]) >= 19, \"mlxtend verison should be 0.19.0 or higher\"\n",
        "except:\n",
        "    !pip install -q torchmetrics -U mlxtend # <- Note: If you're using Google Colab, this may require restarting the runtime\n",
        "    import torchmetrics, mlxtend\n",
        "    print(f\"mlxtend version: {mlxtend.__version__}\")"
      ]
    },
    {
      "cell_type": "code",
      "source": [
        "import requests\n",
        "from pathlib import Path\n",
        "import pandas as pd\n",
        "import seaborn as sns\n",
        "from zipfile import ZipFile\n",
        "\n",
        "try:\n",
        "    import google.colab\n",
        "    from google.colab import drive\n",
        "    IN_COLAB = True\n",
        "    drive.mount('/content/drive')\n",
        "except:\n",
        "    IN_COLAB = False\n",
        "\n",
        "print(f\"In colab: {IN_COLAB}\")"
      ],
      "metadata": {
        "colab": {
          "base_uri": "https://localhost:8080/"
        },
        "id": "ihhQPJWuPUTg",
        "outputId": "29df3c03-f53d-4314-923c-3481b13e9ffb"
      },
      "execution_count": 3,
      "outputs": [
        {
          "output_type": "stream",
          "name": "stdout",
          "text": [
            "Mounted at /content/drive\n",
            "In colab: True\n"
          ]
        }
      ]
    },
    {
      "cell_type": "code",
      "source": [
        "def pull_code():\n",
        "  print(\"Unzipping the code from google drive\")\n",
        "  !rm -rf modular/\n",
        "  !unzip ./drive/MyDrive/wilberquito_thesis/modular.zip -d . >/dev/null 2>&1\n",
        "\n",
        "if IN_COLAB:\n",
        "    pull_code()"
      ],
      "metadata": {
        "colab": {
          "base_uri": "https://localhost:8080/"
        },
        "id": "EMF_xpcFPWI7",
        "outputId": "8040ad91-3405-4ce4-c5f1-098b8cc3b6ca"
      },
      "execution_count": 4,
      "outputs": [
        {
          "output_type": "stream",
          "name": "stdout",
          "text": [
            "Unzipping the code from google drive\n"
          ]
        }
      ]
    },
    {
      "cell_type": "code",
      "source": [
        "def pull_data():\n",
        "  answer = input(\"You sure? Y/n\\n\")\n",
        "  if answer != \"Y\":\n",
        "    return\n",
        "\n",
        "  print(\"Unzipping the data from google drive\")\n",
        "  !rm -rf data.etl/\n",
        "  !unzip ./drive/MyDrive/wilberquito_thesis/data.zip -d . >/dev/null 2>&1\n",
        "\n",
        "if IN_COLAB:\n",
        "    pull_data()"
      ],
      "metadata": {
        "colab": {
          "base_uri": "https://localhost:8080/"
        },
        "id": "717hbqPVPYsZ",
        "outputId": "b68fe1a9-3de4-4058-f66e-5ee74e1f9947"
      },
      "execution_count": 5,
      "outputs": [
        {
          "output_type": "stream",
          "name": "stdout",
          "text": [
            "You sure? Y/n\n",
            "Y\n",
            "Unzipping the data from google drive\n"
          ]
        }
      ]
    },
    {
      "cell_type": "code",
      "source": [
        "!nvidia-smi"
      ],
      "metadata": {
        "colab": {
          "base_uri": "https://localhost:8080/"
        },
        "id": "pONAQx6IPadf",
        "outputId": "3e7b27e0-b4ec-4526-91f7-5f69f3ca220a"
      },
      "execution_count": 6,
      "outputs": [
        {
          "output_type": "stream",
          "name": "stdout",
          "text": [
            "Thu Jun 15 09:22:05 2023       \n",
            "+-----------------------------------------------------------------------------+\n",
            "| NVIDIA-SMI 525.85.12    Driver Version: 525.85.12    CUDA Version: 12.0     |\n",
            "|-------------------------------+----------------------+----------------------+\n",
            "| GPU  Name        Persistence-M| Bus-Id        Disp.A | Volatile Uncorr. ECC |\n",
            "| Fan  Temp  Perf  Pwr:Usage/Cap|         Memory-Usage | GPU-Util  Compute M. |\n",
            "|                               |                      |               MIG M. |\n",
            "|===============================+======================+======================|\n",
            "|   0  Tesla T4            Off  | 00000000:00:04.0 Off |                    0 |\n",
            "| N/A   46C    P8    12W /  70W |      0MiB / 15360MiB |      0%      Default |\n",
            "|                               |                      |                  N/A |\n",
            "+-------------------------------+----------------------+----------------------+\n",
            "                                                                               \n",
            "+-----------------------------------------------------------------------------+\n",
            "| Processes:                                                                  |\n",
            "|  GPU   GI   CI        PID   Type   Process name                  GPU Memory |\n",
            "|        ID   ID                                                   Usage      |\n",
            "|=============================================================================|\n",
            "|  No running processes found                                                 |\n",
            "+-----------------------------------------------------------------------------+\n"
          ]
        }
      ]
    },
    {
      "cell_type": "markdown",
      "source": [
        "## Scheduler"
      ],
      "metadata": {
        "id": "pwtFfi4CP-He"
      }
    },
    {
      "cell_type": "code",
      "source": [
        "LEARNING_RATE = 1e-3\n",
        "EPOCHS = 20"
      ],
      "metadata": {
        "id": "RA4-dIrWP9ha"
      },
      "execution_count": 7,
      "outputs": []
    },
    {
      "cell_type": "markdown",
      "source": [
        "## Batch Size"
      ],
      "metadata": {
        "id": "EC1Z49UMkZLG"
      }
    },
    {
      "cell_type": "code",
      "source": [
        "BATCH_SIZE=400"
      ],
      "metadata": {
        "id": "Gri_y8UxkbUA"
      },
      "execution_count": 8,
      "outputs": []
    },
    {
      "cell_type": "markdown",
      "source": [
        "## Weight and Biasses"
      ],
      "metadata": {
        "id": "M8IHGfZwLHCa"
      }
    },
    {
      "cell_type": "code",
      "source": [
        "import wandb\n",
        "\n",
        "key = \"c1121fe51146c1da87d1139239da7748c4e78665\"\n",
        "wandb.login(key=key)"
      ],
      "metadata": {
        "colab": {
          "base_uri": "https://localhost:8080/"
        },
        "id": "zlozvqgeLJ1O",
        "outputId": "b0caeaad-3a23-4a81-c68a-4d6381a78ff6"
      },
      "execution_count": 9,
      "outputs": [
        {
          "output_type": "stream",
          "name": "stderr",
          "text": [
            "\u001b[34m\u001b[1mwandb\u001b[0m: W&B API key is configured. Use \u001b[1m`wandb login --relogin`\u001b[0m to force relogin\n",
            "\u001b[34m\u001b[1mwandb\u001b[0m: \u001b[33mWARNING\u001b[0m If you're specifying your api key in code, ensure this code is not shared publicly.\n",
            "\u001b[34m\u001b[1mwandb\u001b[0m: \u001b[33mWARNING\u001b[0m Consider setting the WANDB_API_KEY environment variable, or running `wandb login` from the command line.\n",
            "\u001b[34m\u001b[1mwandb\u001b[0m: Appending key for api.wandb.ai to your netrc file: /root/.netrc\n"
          ]
        },
        {
          "output_type": "execute_result",
          "data": {
            "text/plain": [
              "True"
            ]
          },
          "metadata": {},
          "execution_count": 9
        }
      ]
    },
    {
      "cell_type": "code",
      "source": [
        "wandb.finish()"
      ],
      "metadata": {
        "id": "YrI347oKnoJ6"
      },
      "execution_count": 10,
      "outputs": []
    },
    {
      "cell_type": "code",
      "source": [
        "wandb.init(\n",
        "    project=\"melanoma_thesis\",\n",
        "    group=\"train_test\",\n",
        "    name=\"ResNet18_V0\",\n",
        "    config={\n",
        "      \"architecture\": \"ResNet18\",\n",
        "      \"scheduler\": \"None\",\n",
        "      \"dataset\": \"ISIC\",\n",
        "      \"epochs\": EPOCHS,\n",
        "      \"batch_size\": BATCH_SIZE,\n",
        "      \"learning_rate\": LEARNING_RATE,\n",
        "      }\n",
        ")"
      ],
      "metadata": {
        "colab": {
          "base_uri": "https://localhost:8080/",
          "height": 144
        },
        "id": "_VGk-rEEjwWY",
        "outputId": "d3afa2f7-5217-4cb1-c9d9-8b439b1df135"
      },
      "execution_count": 11,
      "outputs": [
        {
          "output_type": "stream",
          "name": "stderr",
          "text": [
            "\u001b[34m\u001b[1mwandb\u001b[0m: Currently logged in as: \u001b[33mwilberquto\u001b[0m (\u001b[33mwilberquito\u001b[0m). Use \u001b[1m`wandb login --relogin`\u001b[0m to force relogin\n"
          ]
        },
        {
          "output_type": "display_data",
          "data": {
            "text/plain": [
              "<IPython.core.display.HTML object>"
            ],
            "text/html": [
              "Tracking run with wandb version 0.15.4"
            ]
          },
          "metadata": {}
        },
        {
          "output_type": "display_data",
          "data": {
            "text/plain": [
              "<IPython.core.display.HTML object>"
            ],
            "text/html": [
              "Run data is saved locally in <code>/content/wandb/run-20230615_092231-j6i5r0gl</code>"
            ]
          },
          "metadata": {}
        },
        {
          "output_type": "display_data",
          "data": {
            "text/plain": [
              "<IPython.core.display.HTML object>"
            ],
            "text/html": [
              "Syncing run <strong><a href='https://wandb.ai/wilberquito/melanoma_thesis/runs/j6i5r0gl' target=\"_blank\">ResNet18_V0</a></strong> to <a href='https://wandb.ai/wilberquito/melanoma_thesis' target=\"_blank\">Weights & Biases</a> (<a href='https://wandb.me/run' target=\"_blank\">docs</a>)<br/>"
            ]
          },
          "metadata": {}
        },
        {
          "output_type": "display_data",
          "data": {
            "text/plain": [
              "<IPython.core.display.HTML object>"
            ],
            "text/html": [
              " View project at <a href='https://wandb.ai/wilberquito/melanoma_thesis' target=\"_blank\">https://wandb.ai/wilberquito/melanoma_thesis</a>"
            ]
          },
          "metadata": {}
        },
        {
          "output_type": "display_data",
          "data": {
            "text/plain": [
              "<IPython.core.display.HTML object>"
            ],
            "text/html": [
              " View run at <a href='https://wandb.ai/wilberquito/melanoma_thesis/runs/j6i5r0gl' target=\"_blank\">https://wandb.ai/wilberquito/melanoma_thesis/runs/j6i5r0gl</a>"
            ]
          },
          "metadata": {}
        },
        {
          "output_type": "execute_result",
          "data": {
            "text/html": [
              "<button onClick=\"this.nextSibling.style.display='block';this.style.display='none';\">Display W&B run</button><iframe src='https://wandb.ai/wilberquito/melanoma_thesis/runs/j6i5r0gl?jupyter=true' style='border:none;width:100%;height:420px;display:none;'></iframe>"
            ],
            "text/plain": [
              "<wandb.sdk.wandb_run.Run at 0x7f5a96d695d0>"
            ]
          },
          "metadata": {},
          "execution_count": 11
        }
      ]
    },
    {
      "cell_type": "markdown",
      "source": [
        "## Writter"
      ],
      "metadata": {
        "id": "uSJPNlzePtxU"
      }
    },
    {
      "cell_type": "code",
      "source": [
        "import modular.utility as m_utility\n",
        "\n",
        "writter = m_utility.model_writter('resnet18_v0')"
      ],
      "metadata": {
        "id": "ej88fTXiPhQX"
      },
      "execution_count": 12,
      "outputs": []
    },
    {
      "cell_type": "markdown",
      "source": [
        "## Train"
      ],
      "metadata": {
        "id": "uQGcGGcCP0TC"
      }
    },
    {
      "cell_type": "code",
      "source": [
        "from torchvision import models\n",
        "import torch\n",
        "import torch.nn as nn\n",
        "import torch.optim as optim\n",
        "from torch.optim import lr_scheduler\n",
        "from torchvision.models import (ResNet18_Weights)\n",
        "from torch.utils.data import DataLoader\n",
        "import torch\n",
        "import torchvision as tv\n",
        "import modular.dataset as m_dataset\n",
        "import modular.utility as m_utility\n",
        "import modular.engine as engine\n",
        "import modular.models as m_models\n",
        "\n",
        "# Set seed\n",
        "m_utility.set_seed(42)\n",
        "\n",
        "# Build the dataframes\n",
        "data_dir = 'data.etl'\n",
        "data_folder = '512'\n",
        "train_df, test_df, mapping = m_dataset.get_df(data_dir, data_folder)\n",
        "\n",
        "device = 'cuda' if torch.cuda.is_available() else 'cpu'\n",
        "\n",
        "out_features = len(mapping)\n",
        "model = m_models.ResNet18_Melanoma(out_features)\n",
        "model = model.to(device)\n",
        "\n",
        "criterion = nn.CrossEntropyLoss()\n",
        "\n",
        "# Observe that all parameters are being optimized\n",
        "optimizer = optim.SGD(model.parameters(), lr=LEARNING_RATE, momentum=0.9)\n",
        "\n",
        "# Mapping from id to classname\n",
        "idx_to_class = { k : classname for classname, k in mapping.items() }\n",
        "\n",
        "# Train and validate dataset & dataloader\n",
        "train_df, validate_df = m_dataset.train_validate_split(train_df,\n",
        "                                                       random_state=42,\n",
        "                                                       validate_size=0.2)\n",
        "\n",
        "validate_df, test_df = m_dataset.train_validate_split(validate_df,\n",
        "                                                      random_state=42,\n",
        "                                                      validate_size=0.5)\n",
        "\n",
        "\n",
        "train_transforms, val_transforms = m_dataset.get_transforms(image_size=256)\n",
        "train_transforms = val_transforms\n",
        "\n",
        "train_dataset = m_dataset.MelanomaDataset(train_df,\n",
        "                                          mode='train',\n",
        "                                          transforms=train_transforms,\n",
        "                                          idx_to_class=idx_to_class)\n",
        "validate_dataset = m_dataset.MelanomaDataset(validate_df,\n",
        "                                             mode='validate',\n",
        "                                             transforms=val_transforms,\n",
        "                                             idx_to_class=idx_to_class)\n",
        "\n",
        "batch_size = BATCH_SIZE\n",
        "\n",
        "train_dataloader = DataLoader(train_dataset, batch_size=batch_size, shuffle=True)\n",
        "validate_dataloader = DataLoader(validate_dataset, batch_size=batch_size, shuffle=False)\n",
        "\n",
        "# Test dataset and dataloader\n",
        "test_dataset = m_dataset.MelanomaDataset(test_df,\n",
        "                                         mode='test',\n",
        "                                         idx_to_class=idx_to_class)\n",
        "test_dataloader = DataLoader(test_dataset, batch_size=batch_size, shuffle=False)\n",
        "\n",
        "# Dataloaders\n",
        "dataloaders = {\n",
        "    'train': train_dataloader,\n",
        "    'val': validate_dataloader,\n",
        "}\n",
        "\n",
        "datasets_size = {\n",
        "    'train': len(train_dataset),\n",
        "    'val': len(validate_dataset),\n",
        "}\n",
        "\n",
        "about_data = {\n",
        "    'dataloaders': dataloaders,\n",
        "    'datasets': {\n",
        "        'size': datasets_size\n",
        "    }\n",
        "}\n",
        "\n",
        "MEL_IDX = 6 # Check data exploration notebook\n",
        "VAL_TIMES = 4\n",
        "\n",
        "model_ft, stats = engine.train_model(model,\n",
        "                                     MEL_IDX,\n",
        "                                     about_data,\n",
        "                                     device,\n",
        "                                     criterion,\n",
        "                                     optimizer,\n",
        "                                     num_epochs=EPOCHS,\n",
        "                                     writter=writter,\n",
        "                                     val_times=VAL_TIMES)"
      ],
      "metadata": {
        "colab": {
          "base_uri": "https://localhost:8080/"
        },
        "id": "Q94efm_APzMl",
        "outputId": "aca665e1-3a9f-4efc-e5f5-27ca03a2b5b9"
      },
      "execution_count": 13,
      "outputs": [
        {
          "output_type": "stream",
          "name": "stderr",
          "text": [
            "Downloading: \"https://download.pytorch.org/models/resnet18-f37072fd.pth\" to /root/.cache/torch/hub/checkpoints/resnet18-f37072fd.pth\n",
            "100%|██████████| 44.7M/44.7M [00:00<00:00, 141MB/s]\n",
            "/usr/local/lib/python3.10/dist-packages/albumentations/augmentations/transforms.py:1765: UserWarning: blur_limit and sigma_limit minimum value can not be both equal to 0. blur_limit minimum value changed to 3.\n",
            "  warnings.warn(\n"
          ]
        },
        {
          "output_type": "stream",
          "name": "stdout",
          "text": [
            "Epoch 1/20\n",
            "----------\n",
            "Train OvR: 0.8475 \t|\tTrain Loss: 1.1262 \t|\tTrain Acc: 0.6269\n",
            "Val OvR: 0.8483 \t|\tVal Loss: 0.9220 \t|\tVal Acc: 0.6734\n",
            "=> Saving a new checkpoint\n",
            "Epoch 2/20\n",
            "----------\n",
            "Train OvR: 0.8724 \t|\tTrain Loss: 0.8617 \t|\tTrain Acc: 0.6985\n",
            "Val OvR: 0.8735 \t|\tVal Loss: 0.8410 \t|\tVal Acc: 0.6977\n",
            "=> Saving a new checkpoint\n",
            "Epoch 3/20\n",
            "----------\n",
            "Train OvR: 0.8866 \t|\tTrain Loss: 0.7916 \t|\tTrain Acc: 0.7195\n",
            "Val OvR: 0.8844 \t|\tVal Loss: 0.8015 \t|\tVal Acc: 0.7095\n",
            "=> Saving a new checkpoint\n",
            "Epoch 4/20\n",
            "----------\n",
            "Train OvR: 0.8478 \t|\tTrain Loss: 0.7430 \t|\tTrain Acc: 0.7360\n",
            "Val OvR: 0.8908 \t|\tVal Loss: 0.7681 \t|\tVal Acc: 0.7220\n",
            "=> Saving a new checkpoint\n",
            "Epoch 5/20\n",
            "----------\n",
            "Train OvR: 0.8598 \t|\tTrain Loss: 0.7002 \t|\tTrain Acc: 0.7503\n",
            "Val OvR: 0.8956 \t|\tVal Loss: 0.7437 \t|\tVal Acc: 0.7306\n",
            "=> Saving a new checkpoint\n",
            "Epoch 6/20\n",
            "----------\n",
            "Train OvR: 0.8718 \t|\tTrain Loss: 0.6635 \t|\tTrain Acc: 0.7627\n",
            "Val OvR: 0.8982 \t|\tVal Loss: 0.7235 \t|\tVal Acc: 0.7364\n",
            "=> Saving a new checkpoint\n",
            "Epoch 7/20\n",
            "----------\n",
            "Train OvR: 0.9299 \t|\tTrain Loss: 0.6306 \t|\tTrain Acc: 0.7747\n",
            "Val OvR: 0.9020 \t|\tVal Loss: 0.7064 \t|\tVal Acc: 0.7422\n",
            "=> Saving a new checkpoint\n",
            "Epoch 8/20\n",
            "----------\n",
            "Train OvR: 0.9103 \t|\tTrain Loss: 0.5958 \t|\tTrain Acc: 0.7880\n",
            "Val OvR: 0.9035 \t|\tVal Loss: 0.6885 \t|\tVal Acc: 0.7521\n",
            "=> Saving a new checkpoint\n",
            "Epoch 9/20\n",
            "----------\n",
            "Train OvR: 0.9156 \t|\tTrain Loss: 0.5643 \t|\tTrain Acc: 0.7982\n",
            "Val OvR: 0.9047 \t|\tVal Loss: 0.6773 \t|\tVal Acc: 0.7540\n",
            "=> Saving a new checkpoint\n",
            "Epoch 10/20\n",
            "----------\n",
            "Train OvR: 0.9314 \t|\tTrain Loss: 0.5323 \t|\tTrain Acc: 0.8122\n",
            "Val OvR: 0.9079 \t|\tVal Loss: 0.6645 \t|\tVal Acc: 0.7582\n",
            "=> Saving a new checkpoint\n",
            "Epoch 11/20\n",
            "----------\n",
            "Train OvR: 0.9155 \t|\tTrain Loss: 0.5010 \t|\tTrain Acc: 0.8238\n",
            "Val OvR: 0.9096 \t|\tVal Loss: 0.6567 \t|\tVal Acc: 0.7604\n",
            "=> Saving a new checkpoint\n",
            "Epoch 12/20\n",
            "----------\n",
            "Train OvR: 0.9562 \t|\tTrain Loss: 0.4697 \t|\tTrain Acc: 0.8382\n",
            "Val OvR: 0.9128 \t|\tVal Loss: 0.6491 \t|\tVal Acc: 0.7614\n",
            "=> Saving a new checkpoint\n",
            "Epoch 13/20\n",
            "----------\n",
            "Train OvR: 0.9421 \t|\tTrain Loss: 0.4403 \t|\tTrain Acc: 0.8498\n",
            "Val OvR: 0.9092 \t|\tVal Loss: 0.6495 \t|\tVal Acc: 0.7662\n",
            "=> Saving a new checkpoint\n",
            "Epoch 14/20\n",
            "----------\n",
            "Train OvR: 0.9722 \t|\tTrain Loss: 0.4116 \t|\tTrain Acc: 0.8618\n",
            "Val OvR: 0.9098 \t|\tVal Loss: 0.6433 \t|\tVal Acc: 0.7745\n",
            "=> Saving a new checkpoint\n",
            "Epoch 15/20\n",
            "----------\n",
            "Train OvR: 0.9846 \t|\tTrain Loss: 0.3797 \t|\tTrain Acc: 0.8749\n",
            "Val OvR: 0.9146 \t|\tVal Loss: 0.6422 \t|\tVal Acc: 0.7732\n",
            "=> Saving a new checkpoint\n",
            "Epoch 16/20\n",
            "----------\n",
            "Train OvR: 0.9739 \t|\tTrain Loss: 0.3510 \t|\tTrain Acc: 0.8877\n",
            "Val OvR: 0.9084 \t|\tVal Loss: 0.6386 \t|\tVal Acc: 0.7761\n",
            "=> Saving a new checkpoint\n",
            "Epoch 17/20\n",
            "----------\n",
            "Train OvR: 0.9711 \t|\tTrain Loss: 0.3215 \t|\tTrain Acc: 0.9003\n",
            "Val OvR: 0.9158 \t|\tVal Loss: 0.6321 \t|\tVal Acc: 0.7767\n",
            "=> Saving a new checkpoint\n",
            "Epoch 18/20\n",
            "----------\n",
            "Train OvR: 0.9717 \t|\tTrain Loss: 0.2905 \t|\tTrain Acc: 0.9117\n",
            "Val OvR: 0.9166 \t|\tVal Loss: 0.6364 \t|\tVal Acc: 0.7790\n",
            "=> Saving a new checkpoint\n",
            "Epoch 19/20\n",
            "----------\n",
            "Train OvR: 0.9840 \t|\tTrain Loss: 0.2658 \t|\tTrain Acc: 0.9205\n",
            "Val OvR: 0.9097 \t|\tVal Loss: 0.6387 \t|\tVal Acc: 0.7866\n",
            "=> Saving a new checkpoint\n",
            "Epoch 20/20\n",
            "----------\n",
            "Train OvR: 0.9988 \t|\tTrain Loss: 0.2350 \t|\tTrain Acc: 0.9337\n",
            "Val OvR: 0.9128 \t|\tVal Loss: 0.6390 \t|\tVal Acc: 0.7834\n",
            "=> Saving a new checkpoint\n",
            "\n",
            "Training completed after: 107m 59s\n",
            "Best epoch: 18\n",
            "Best val OvR: 0.9166\n"
          ]
        }
      ]
    },
    {
      "cell_type": "code",
      "source": [
        "wandb.finish()"
      ],
      "metadata": {
        "colab": {
          "base_uri": "https://localhost:8080/",
          "height": 313
        },
        "id": "iHv8a0B2VGBw",
        "outputId": "2eb2f3ae-fc30-4d96-8e87-027f6ee0e9a6"
      },
      "execution_count": 14,
      "outputs": [
        {
          "output_type": "display_data",
          "data": {
            "text/plain": [
              "<IPython.core.display.HTML object>"
            ],
            "text/html": [
              "Waiting for W&B process to finish... <strong style=\"color:green\">(success).</strong>"
            ]
          },
          "metadata": {}
        },
        {
          "output_type": "display_data",
          "data": {
            "text/plain": [
              "<IPython.core.display.HTML object>"
            ],
            "text/html": [
              "<style>\n",
              "    table.wandb td:nth-child(1) { padding: 0 10px; text-align: left ; width: auto;} td:nth-child(2) {text-align: left ; width: 100%}\n",
              "    .wandb-row { display: flex; flex-direction: row; flex-wrap: wrap; justify-content: flex-start; width: 100% }\n",
              "    .wandb-col { display: flex; flex-direction: column; flex-basis: 100%; flex: 1; padding: 10px; }\n",
              "    </style>\n",
              "<div class=\"wandb-row\"><div class=\"wandb-col\"><h3>Run history:</h3><br/><table class=\"wandb\"><tr><td>train_acc</td><td>▁▃▃▃▄▄▄▅▅▅▅▆▆▆▇▇▇▇██</td></tr><tr><td>train_loss</td><td>█▆▅▅▅▄▄▄▄▃▃▃▃▂▂▂▂▁▁▁</td></tr><tr><td>train_ovr</td><td>▁▂▃▁▂▂▅▄▄▅▄▆▅▇▇▇▇▇▇█</td></tr><tr><td>val_acc</td><td>▁▃▃▄▅▅▅▆▆▆▆▆▇▇▇▇▇███</td></tr><tr><td>val_loss</td><td>█▆▅▄▄▃▃▂▂▂▂▁▁▁▁▁▁▁▁▁</td></tr><tr><td>val_ovr</td><td>▁▄▅▅▆▆▇▇▇▇▇█▇▇█▇██▇█</td></tr></table><br/></div><div class=\"wandb-col\"><h3>Run summary:</h3><br/><table class=\"wandb\"><tr><td>train_acc</td><td>0.9337</td></tr><tr><td>train_loss</td><td>0.235</td></tr><tr><td>train_ovr</td><td>0.9988</td></tr><tr><td>val_acc</td><td>0.7834</td></tr><tr><td>val_loss</td><td>0.639</td></tr><tr><td>val_ovr</td><td>0.9128</td></tr></table><br/></div></div>"
            ]
          },
          "metadata": {}
        },
        {
          "output_type": "display_data",
          "data": {
            "text/plain": [
              "<IPython.core.display.HTML object>"
            ],
            "text/html": [
              " View run <strong style=\"color:#cdcd00\">ResNet18_V0</strong> at: <a href='https://wandb.ai/wilberquito/melanoma_thesis/runs/j6i5r0gl' target=\"_blank\">https://wandb.ai/wilberquito/melanoma_thesis/runs/j6i5r0gl</a><br/>Synced 5 W&B file(s), 0 media file(s), 0 artifact file(s) and 0 other file(s)"
            ]
          },
          "metadata": {}
        },
        {
          "output_type": "display_data",
          "data": {
            "text/plain": [
              "<IPython.core.display.HTML object>"
            ],
            "text/html": [
              "Find logs at: <code>./wandb/run-20230615_092231-j6i5r0gl/logs</code>"
            ]
          },
          "metadata": {}
        }
      ]
    },
    {
      "cell_type": "code",
      "source": [
        "m_utility.plot_curves(stats)"
      ],
      "metadata": {
        "colab": {
          "base_uri": "https://localhost:8080/",
          "height": 570
        },
        "id": "tBT2QDO1Vi1q",
        "outputId": "ef226ac8-da1e-4f44-d594-35d0a66f7c0a"
      },
      "execution_count": 15,
      "outputs": [
        {
          "output_type": "display_data",
          "data": {
            "text/plain": [
              "<Figure size 2100x700 with 3 Axes>"
            ],
            "image/png": "[encoded data removed]"
          },
          "metadata": {}
        }
      ]
    },
    {
      "cell_type": "code",
      "source": [
        "if IN_COLAB:\n",
        "  from google.colab import files\n",
        "  files.download('resnet18_v0.pth.tar')\n",
        "  files.download('resnet18_v0.csv')"
      ],
      "metadata": {
        "id": "M7CzgagCVmtd",
        "colab": {
          "base_uri": "https://localhost:8080/",
          "height": 34
        },
        "outputId": "93d86343-591f-410d-e851-b40aac00d143"
      },
      "execution_count": 16,
      "outputs": [
        {
          "output_type": "display_data",
          "data": {
            "text/plain": [
              "<IPython.core.display.Javascript object>"
            ],
            "application/javascript": [
              "\n",
              "    async function download(id, filename, size) {\n",
              "      if (!google.colab.kernel.accessAllowed) {\n",
              "        return;\n",
              "      }\n",
              "      const div = document.createElement('div');\n",
              "      const label = document.createElement('label');\n",
              "      label.textContent = `Downloading \"${filename}\": `;\n",
              "      div.appendChild(label);\n",
              "      const progress = document.createElement('progress');\n",
              "      progress.max = size;\n",
              "      div.appendChild(progress);\n",
              "      document.body.appendChild(div);\n",
              "\n",
              "      const buffers = [];\n",
              "      let downloaded = 0;\n",
              "\n",
              "      const channel = await google.colab.kernel.comms.open(id);\n",
              "      // Send a message to notify the kernel that we're ready.\n",
              "      channel.send({})\n",
              "\n",
              "      for await (const message of channel.messages) {\n",
              "        // Send a message to notify the kernel that we're ready.\n",
              "        channel.send({})\n",
              "        if (message.buffers) {\n",
              "          for (const buffer of message.buffers) {\n",
              "            buffers.push(buffer);\n",
              "            downloaded += buffer.byteLength;\n",
              "            progress.value = downloaded;\n",
              "          }\n",
              "        }\n",
              "      }\n",
              "      const blob = new Blob(buffers, {type: 'application/binary'});\n",
              "      const a = document.createElement('a');\n",
              "      a.href = window.URL.createObjectURL(blob);\n",
              "      a.download = filename;\n",
              "      div.appendChild(a);\n",
              "      a.click();\n",
              "      div.remove();\n",
              "    }\n",
              "  "
            ]
          },
          "metadata": {}
        },
        {
          "output_type": "display_data",
          "data": {
            "text/plain": [
              "<IPython.core.display.Javascript object>"
            ],
            "application/javascript": [
              "download(\"download_64562a89-2f58-4b41-9d04-e2a0ecfa2e08\", \"resnet18_v0.pth.tar\", 89548001)"
            ]
          },
          "metadata": {}
        },
        {
          "output_type": "display_data",
          "data": {
            "text/plain": [
              "<IPython.core.display.Javascript object>"
            ],
            "application/javascript": [
              "\n",
              "    async function download(id, filename, size) {\n",
              "      if (!google.colab.kernel.accessAllowed) {\n",
              "        return;\n",
              "      }\n",
              "      const div = document.createElement('div');\n",
              "      const label = document.createElement('label');\n",
              "      label.textContent = `Downloading \"${filename}\": `;\n",
              "      div.appendChild(label);\n",
              "      const progress = document.createElement('progress');\n",
              "      progress.max = size;\n",
              "      div.appendChild(progress);\n",
              "      document.body.appendChild(div);\n",
              "\n",
              "      const buffers = [];\n",
              "      let downloaded = 0;\n",
              "\n",
              "      const channel = await google.colab.kernel.comms.open(id);\n",
              "      // Send a message to notify the kernel that we're ready.\n",
              "      channel.send({})\n",
              "\n",
              "      for await (const message of channel.messages) {\n",
              "        // Send a message to notify the kernel that we're ready.\n",
              "        channel.send({})\n",
              "        if (message.buffers) {\n",
              "          for (const buffer of message.buffers) {\n",
              "            buffers.push(buffer);\n",
              "            downloaded += buffer.byteLength;\n",
              "            progress.value = downloaded;\n",
              "          }\n",
              "        }\n",
              "      }\n",
              "      const blob = new Blob(buffers, {type: 'application/binary'});\n",
              "      const a = document.createElement('a');\n",
              "      a.href = window.URL.createObjectURL(blob);\n",
              "      a.download = filename;\n",
              "      div.appendChild(a);\n",
              "      a.click();\n",
              "      div.remove();\n",
              "    }\n",
              "  "
            ]
          },
          "metadata": {}
        },
        {
          "output_type": "display_data",
          "data": {
            "text/plain": [
              "<IPython.core.display.Javascript object>"
            ],
            "application/javascript": [
              "download(\"download_f57018e7-782e-4cc6-b7b8-287ad62d4010\", \"resnet18_v0.csv\", 933)"
            ]
          },
          "metadata": {}
        }
      ]
    }
  ]
}