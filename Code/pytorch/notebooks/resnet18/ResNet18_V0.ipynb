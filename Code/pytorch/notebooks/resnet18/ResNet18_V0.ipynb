{
  "nbformat": 4,
  "nbformat_minor": 0,
  "metadata": {
    "colab": {
      "provenance": [],
      "gpuType": "T4",
      "include_colab_link": true
    },
    "kernelspec": {
      "name": "python3",
      "display_name": "Python 3"
    },
    "language_info": {
      "name": "python"
    },
    "accelerator": "GPU"
  },
  "cells": [
    {
      "cell_type": "markdown",
      "metadata": {
        "id": "view-in-github",
        "colab_type": "text"
      },
      "source": [
        "<a href=\"https://colab.research.google.com/github/wilberquito/Thesis/blob/main/Code/pytorch/notebooks/resnet18/ResNet18_V0.ipynb\" target=\"_parent\"><img src=\"https://colab.research.google.com/assets/colab-badge.svg\" alt=\"Open In Colab\"/></a>"
      ]
    },
    {
      "cell_type": "markdown",
      "source": [
        "# ResNet18, V0"
      ],
      "metadata": {
        "id": "SCQmC5kLPQT0"
      }
    },
    {
      "cell_type": "code",
      "source": [
        "!pip install wandb >/dev/null 2>&1"
      ],
      "metadata": {
        "id": "ro4IXfZJhDGd"
      },
      "execution_count": 1,
      "outputs": []
    },
    {
      "cell_type": "code",
      "execution_count": 2,
      "metadata": {
        "colab": {
          "base_uri": "https://localhost:8080/"
        },
        "id": "BKMCi7vmPGBB",
        "outputId": "e2a430b2-8e32-41f7-ad57-1a573cef7634"
      },
      "outputs": [
        {
          "output_type": "stream",
          "name": "stdout",
          "text": [
            "\u001b[2K     \u001b[90m━━━━━━━━━━━━━━━━━━━━━━━━━━━━━━━━━━━━━━━\u001b[0m \u001b[32m519.2/519.2 kB\u001b[0m \u001b[31m8.7 MB/s\u001b[0m eta \u001b[36m0:00:00\u001b[0m\n",
            "\u001b[2K     \u001b[90m━━━━━━━━━━━━━━━━━━━━━━━━━━━━━━━━━━━━━━━━\u001b[0m \u001b[32m1.4/1.4 MB\u001b[0m \u001b[31m59.1 MB/s\u001b[0m eta \u001b[36m0:00:00\u001b[0m\n",
            "\u001b[?25hmlxtend version: 0.22.0\n"
          ]
        }
      ],
      "source": [
        "try:\n",
        "    import torchmetrics, mlxtend\n",
        "    print(f\"mlxtend version: {mlxtend.__version__}\")\n",
        "    assert int(mlxtend.__version__.split(\".\")[1]) >= 19, \"mlxtend verison should be 0.19.0 or higher\"\n",
        "except:\n",
        "    !pip install -q torchmetrics -U mlxtend # <- Note: If you're using Google Colab, this may require restarting the runtime\n",
        "    import torchmetrics, mlxtend\n",
        "    print(f\"mlxtend version: {mlxtend.__version__}\")"
      ]
    },
    {
      "cell_type": "code",
      "source": [
        "import requests\n",
        "from pathlib import Path\n",
        "import pandas as pd\n",
        "import seaborn as sns\n",
        "from zipfile import ZipFile\n",
        "\n",
        "try:\n",
        "    import google.colab\n",
        "    from google.colab import drive\n",
        "    IN_COLAB = True\n",
        "    drive.mount('/content/drive')\n",
        "except:\n",
        "    IN_COLAB = False\n",
        "\n",
        "print(f\"In colab: {IN_COLAB}\")"
      ],
      "metadata": {
        "colab": {
          "base_uri": "https://localhost:8080/"
        },
        "id": "ihhQPJWuPUTg",
        "outputId": "63ac809e-7d73-4fe9-c225-2a10125e099a"
      },
      "execution_count": 3,
      "outputs": [
        {
          "output_type": "stream",
          "name": "stdout",
          "text": [
            "Mounted at /content/drive\n",
            "In colab: True\n"
          ]
        }
      ]
    },
    {
      "cell_type": "code",
      "source": [
        "def pull_code():\n",
        "  print(\"Unzipping the code from google drive\")\n",
        "  !rm -rf modular/\n",
        "  !unzip ./drive/MyDrive/wilberquito_thesis/modular.zip -d . >/dev/null 2>&1\n",
        "\n",
        "if IN_COLAB:\n",
        "    pull_code()"
      ],
      "metadata": {
        "colab": {
          "base_uri": "https://localhost:8080/"
        },
        "id": "EMF_xpcFPWI7",
        "outputId": "ef7a6e96-db1d-4f97-91c0-46337d7cbea8"
      },
      "execution_count": 4,
      "outputs": [
        {
          "output_type": "stream",
          "name": "stdout",
          "text": [
            "Unzipping the code from google drive\n"
          ]
        }
      ]
    },
    {
      "cell_type": "code",
      "source": [
        "def pull_data():\n",
        "  answer = input(\"You sure? Y/n\\n\")\n",
        "  if answer != \"Y\":\n",
        "    return\n",
        "\n",
        "  print(\"Unzipping the data from google drive\")\n",
        "  !rm -rf data.etl/\n",
        "  !unzip ./drive/MyDrive/wilberquito_thesis/data.zip -d . >/dev/null 2>&1\n",
        "\n",
        "if IN_COLAB:\n",
        "    pull_data()"
      ],
      "metadata": {
        "colab": {
          "base_uri": "https://localhost:8080/"
        },
        "id": "717hbqPVPYsZ",
        "outputId": "4bc024dc-a8e9-4d4f-d505-22eecff5720e"
      },
      "execution_count": 5,
      "outputs": [
        {
          "output_type": "stream",
          "name": "stdout",
          "text": [
            "You sure? Y/n\n",
            "Y\n",
            "Unzipping the data from google drive\n"
          ]
        }
      ]
    },
    {
      "cell_type": "code",
      "source": [
        "!nvidia-smi"
      ],
      "metadata": {
        "colab": {
          "base_uri": "https://localhost:8080/"
        },
        "id": "pONAQx6IPadf",
        "outputId": "7129ee8e-d531-4e65-80f2-48fd637c5a41"
      },
      "execution_count": 6,
      "outputs": [
        {
          "output_type": "stream",
          "name": "stdout",
          "text": [
            "Thu Jun 22 08:23:29 2023       \n",
            "+-----------------------------------------------------------------------------+\n",
            "| NVIDIA-SMI 525.85.12    Driver Version: 525.85.12    CUDA Version: 12.0     |\n",
            "|-------------------------------+----------------------+----------------------+\n",
            "| GPU  Name        Persistence-M| Bus-Id        Disp.A | Volatile Uncorr. ECC |\n",
            "| Fan  Temp  Perf  Pwr:Usage/Cap|         Memory-Usage | GPU-Util  Compute M. |\n",
            "|                               |                      |               MIG M. |\n",
            "|===============================+======================+======================|\n",
            "|   0  Tesla T4            Off  | 00000000:00:04.0 Off |                    0 |\n",
            "| N/A   39C    P8     9W /  70W |      0MiB / 15360MiB |      0%      Default |\n",
            "|                               |                      |                  N/A |\n",
            "+-------------------------------+----------------------+----------------------+\n",
            "                                                                               \n",
            "+-----------------------------------------------------------------------------+\n",
            "| Processes:                                                                  |\n",
            "|  GPU   GI   CI        PID   Type   Process name                  GPU Memory |\n",
            "|        ID   ID                                                   Usage      |\n",
            "|=============================================================================|\n",
            "|  No running processes found                                                 |\n",
            "+-----------------------------------------------------------------------------+\n"
          ]
        }
      ]
    },
    {
      "cell_type": "markdown",
      "source": [
        "## Scheduler"
      ],
      "metadata": {
        "id": "pwtFfi4CP-He"
      }
    },
    {
      "cell_type": "code",
      "source": [
        "LEARNING_RATE = 1e-3\n",
        "EPOCHS = 20"
      ],
      "metadata": {
        "id": "RA4-dIrWP9ha"
      },
      "execution_count": 7,
      "outputs": []
    },
    {
      "cell_type": "markdown",
      "source": [
        "## Batch Size"
      ],
      "metadata": {
        "id": "EC1Z49UMkZLG"
      }
    },
    {
      "cell_type": "code",
      "source": [
        "BATCH_SIZE=400"
      ],
      "metadata": {
        "id": "Gri_y8UxkbUA"
      },
      "execution_count": 8,
      "outputs": []
    },
    {
      "cell_type": "markdown",
      "source": [
        "## Weight and Biasses"
      ],
      "metadata": {
        "id": "M8IHGfZwLHCa"
      }
    },
    {
      "cell_type": "code",
      "source": [
        "import wandb\n",
        "\n",
        "key = \"c1121fe51146c1da87d1139239da7748c4e78665\"\n",
        "wandb.login(key=key)"
      ],
      "metadata": {
        "colab": {
          "base_uri": "https://localhost:8080/"
        },
        "id": "zlozvqgeLJ1O",
        "outputId": "f934816c-01a0-4ec8-ecd8-94d8135e8a26"
      },
      "execution_count": 9,
      "outputs": [
        {
          "output_type": "stream",
          "name": "stderr",
          "text": [
            "\u001b[34m\u001b[1mwandb\u001b[0m: W&B API key is configured. Use \u001b[1m`wandb login --relogin`\u001b[0m to force relogin\n",
            "\u001b[34m\u001b[1mwandb\u001b[0m: \u001b[33mWARNING\u001b[0m If you're specifying your api key in code, ensure this code is not shared publicly.\n",
            "\u001b[34m\u001b[1mwandb\u001b[0m: \u001b[33mWARNING\u001b[0m Consider setting the WANDB_API_KEY environment variable, or running `wandb login` from the command line.\n",
            "\u001b[34m\u001b[1mwandb\u001b[0m: Appending key for api.wandb.ai to your netrc file: /root/.netrc\n"
          ]
        },
        {
          "output_type": "execute_result",
          "data": {
            "text/plain": [
              "True"
            ]
          },
          "metadata": {},
          "execution_count": 9
        }
      ]
    },
    {
      "cell_type": "code",
      "source": [
        "wandb.finish()"
      ],
      "metadata": {
        "id": "YrI347oKnoJ6"
      },
      "execution_count": 10,
      "outputs": []
    },
    {
      "cell_type": "code",
      "source": [
        "wandb.init(\n",
        "    project=\"melanoma_thesis\",\n",
        "    group=\"train_test\",\n",
        "    name=\"ResNet18_V0\",\n",
        "    config={\n",
        "      \"architecture\": \"ResNet18\",\n",
        "      \"scheduler\": \"None\",\n",
        "      \"dataset\": \"ISIC\",\n",
        "      \"epochs\": EPOCHS,\n",
        "      \"batch_size\": BATCH_SIZE,\n",
        "      \"learning_rate\": LEARNING_RATE,\n",
        "      }\n",
        ")"
      ],
      "metadata": {
        "colab": {
          "base_uri": "https://localhost:8080/",
          "height": 144
        },
        "id": "_VGk-rEEjwWY",
        "outputId": "fa30f101-542c-4557-ef1a-24d110ef51d6"
      },
      "execution_count": 11,
      "outputs": [
        {
          "output_type": "stream",
          "name": "stderr",
          "text": [
            "\u001b[34m\u001b[1mwandb\u001b[0m: Currently logged in as: \u001b[33mwilberquto\u001b[0m (\u001b[33mwilberquito\u001b[0m). Use \u001b[1m`wandb login --relogin`\u001b[0m to force relogin\n"
          ]
        },
        {
          "output_type": "display_data",
          "data": {
            "text/plain": [
              "<IPython.core.display.HTML object>"
            ],
            "text/html": [
              "Tracking run with wandb version 0.15.4"
            ]
          },
          "metadata": {}
        },
        {
          "output_type": "display_data",
          "data": {
            "text/plain": [
              "<IPython.core.display.HTML object>"
            ],
            "text/html": [
              "Run data is saved locally in <code>/content/wandb/run-20230622_082353-u1xg5f1p</code>"
            ]
          },
          "metadata": {}
        },
        {
          "output_type": "display_data",
          "data": {
            "text/plain": [
              "<IPython.core.display.HTML object>"
            ],
            "text/html": [
              "Syncing run <strong><a href='https://wandb.ai/wilberquito/melanoma_thesis/runs/u1xg5f1p' target=\"_blank\">ResNet18_V0</a></strong> to <a href='https://wandb.ai/wilberquito/melanoma_thesis' target=\"_blank\">Weights & Biases</a> (<a href='https://wandb.me/run' target=\"_blank\">docs</a>)<br/>"
            ]
          },
          "metadata": {}
        },
        {
          "output_type": "display_data",
          "data": {
            "text/plain": [
              "<IPython.core.display.HTML object>"
            ],
            "text/html": [
              " View project at <a href='https://wandb.ai/wilberquito/melanoma_thesis' target=\"_blank\">https://wandb.ai/wilberquito/melanoma_thesis</a>"
            ]
          },
          "metadata": {}
        },
        {
          "output_type": "display_data",
          "data": {
            "text/plain": [
              "<IPython.core.display.HTML object>"
            ],
            "text/html": [
              " View run at <a href='https://wandb.ai/wilberquito/melanoma_thesis/runs/u1xg5f1p' target=\"_blank\">https://wandb.ai/wilberquito/melanoma_thesis/runs/u1xg5f1p</a>"
            ]
          },
          "metadata": {}
        },
        {
          "output_type": "execute_result",
          "data": {
            "text/html": [
              "<button onClick=\"this.nextSibling.style.display='block';this.style.display='none';\">Display W&B run</button><iframe src='https://wandb.ai/wilberquito/melanoma_thesis/runs/u1xg5f1p?jupyter=true' style='border:none;width:100%;height:420px;display:none;'></iframe>"
            ],
            "text/plain": [
              "<wandb.sdk.wandb_run.Run at 0x7ff232c23ca0>"
            ]
          },
          "metadata": {},
          "execution_count": 11
        }
      ]
    },
    {
      "cell_type": "markdown",
      "source": [
        "## Writter"
      ],
      "metadata": {
        "id": "uSJPNlzePtxU"
      }
    },
    {
      "cell_type": "code",
      "source": [
        "import modular.utility as m_utility\n",
        "\n",
        "writter = m_utility.model_writter('resnet18_v0')"
      ],
      "metadata": {
        "id": "ej88fTXiPhQX"
      },
      "execution_count": 12,
      "outputs": []
    },
    {
      "cell_type": "markdown",
      "source": [
        "## Train"
      ],
      "metadata": {
        "id": "uQGcGGcCP0TC"
      }
    },
    {
      "cell_type": "code",
      "source": [
        "from torchvision import models\n",
        "import torch\n",
        "import torch.nn as nn\n",
        "import torch.optim as optim\n",
        "from torch.optim import lr_scheduler\n",
        "from torchvision.models import (ResNet18_Weights)\n",
        "from torch.utils.data import DataLoader\n",
        "import torch\n",
        "import torchvision as tv\n",
        "import modular.dataset as m_dataset\n",
        "import modular.utility as m_utility\n",
        "import modular.engine as engine\n",
        "import modular.models as m_models\n",
        "\n",
        "# Set seed\n",
        "m_utility.set_seed(42)\n",
        "\n",
        "# Build the dataframes\n",
        "data_dir = 'data.etl'\n",
        "data_folder = '512'\n",
        "train_df, test_df, mapping = m_dataset.get_df(data_dir, data_folder)\n",
        "\n",
        "device = 'cuda' if torch.cuda.is_available() else 'cpu'\n",
        "\n",
        "out_features = len(mapping)\n",
        "model = m_models.ResNet18_Melanoma(out_features)\n",
        "model = model.to(device)\n",
        "\n",
        "criterion = nn.CrossEntropyLoss()\n",
        "\n",
        "# Observe that all parameters are being optimized\n",
        "optimizer = optim.SGD(model.parameters(), lr=LEARNING_RATE, momentum=0.9)\n",
        "\n",
        "# Mapping from id to classname\n",
        "idx_to_class = { k : classname for classname, k in mapping.items() }\n",
        "\n",
        "# Train and validate dataset & dataloader\n",
        "train_df, validate_df = m_dataset.train_validate_split(train_df,\n",
        "                                                       random_state=42,\n",
        "                                                       validate_size=0.2)\n",
        "\n",
        "validate_df, test_df = m_dataset.train_validate_split(validate_df,\n",
        "                                                      random_state=42,\n",
        "                                                      validate_size=0.5)\n",
        "\n",
        "\n",
        "train_transforms, val_transforms = m_dataset.get_transforms(image_size=256)\n",
        "train_transforms = val_transforms\n",
        "\n",
        "train_dataset = m_dataset.MelanomaDataset(train_df,\n",
        "                                          mode='train',\n",
        "                                          transforms=train_transforms,\n",
        "                                          idx_to_class=idx_to_class)\n",
        "validate_dataset = m_dataset.MelanomaDataset(validate_df,\n",
        "                                             mode='validate',\n",
        "                                             transforms=val_transforms,\n",
        "                                             idx_to_class=idx_to_class)\n",
        "\n",
        "batch_size = BATCH_SIZE\n",
        "\n",
        "train_dataloader = DataLoader(train_dataset, batch_size=batch_size, shuffle=True)\n",
        "validate_dataloader = DataLoader(validate_dataset, batch_size=batch_size, shuffle=False)\n",
        "\n",
        "# Test dataset and dataloader\n",
        "test_dataset = m_dataset.MelanomaDataset(test_df,\n",
        "                                         mode='test',\n",
        "                                         idx_to_class=idx_to_class)\n",
        "test_dataloader = DataLoader(test_dataset, batch_size=batch_size, shuffle=False)\n",
        "\n",
        "# Dataloaders\n",
        "dataloaders = {\n",
        "    'train': train_dataloader,\n",
        "    'val': validate_dataloader,\n",
        "}\n",
        "\n",
        "datasets_size = {\n",
        "    'train': len(train_dataset),\n",
        "    'val': len(validate_dataset),\n",
        "}\n",
        "\n",
        "about_data = {\n",
        "    'dataloaders': dataloaders,\n",
        "    'datasets': {\n",
        "        'size': datasets_size\n",
        "    }\n",
        "}\n",
        "\n",
        "MEL_IDX = 6 # Check data exploration notebook\n",
        "VAL_TIMES = 4\n",
        "\n",
        "model_ft, stats = engine.train_model(model,\n",
        "                                     MEL_IDX,\n",
        "                                     about_data,\n",
        "                                     device,\n",
        "                                     criterion,\n",
        "                                     optimizer,\n",
        "                                     num_epochs=EPOCHS,\n",
        "                                     writter=writter,\n",
        "                                     val_times=VAL_TIMES)"
      ],
      "metadata": {
        "colab": {
          "base_uri": "https://localhost:8080/"
        },
        "id": "Q94efm_APzMl",
        "outputId": "33abd3b8-c400-42bd-ab16-b5b3be8d1234"
      },
      "execution_count": 13,
      "outputs": [
        {
          "metadata": {
            "tags": null
          },
          "name": "stderr",
          "output_type": "stream",
          "text": [
            "Downloading: \"https://download.pytorch.org/models/resnet18-f37072fd.pth\" to /root/.cache/torch/hub/checkpoints/resnet18-f37072fd.pth\n",
            "100%|██████████| 44.7M/44.7M [00:00<00:00, 169MB/s]\n",
            "/usr/local/lib/python3.10/dist-packages/albumentations/augmentations/transforms.py:1765: UserWarning: blur_limit and sigma_limit minimum value can not be both equal to 0. blur_limit minimum value changed to 3.\n",
            "  warnings.warn(\n"
          ]
        },
        {
          "output_type": "stream",
          "name": "stdout",
          "text": [
            "Epoch 1/20\n",
            "----------\n",
            "Train OvR: 0.7096 \t|\tTrain Loss: 1.1262 \t|\tTrain Acc: 0.6269\n",
            "Val OvR: 0.8126 \t|\tVal Loss: 0.9220 \t|\tVal Acc: 0.6734\n",
            "=> Saving a new checkpoint\n",
            "Epoch 2/20\n",
            "----------\n",
            "Train OvR: 0.8385 \t|\tTrain Loss: 0.8617 \t|\tTrain Acc: 0.6985\n",
            "Val OvR: 0.8419 \t|\tVal Loss: 0.8410 \t|\tVal Acc: 0.6977\n",
            "=> Saving a new checkpoint\n",
            "Epoch 3/20\n",
            "----------\n",
            "Train OvR: 0.8612 \t|\tTrain Loss: 0.7916 \t|\tTrain Acc: 0.7195\n",
            "Val OvR: 0.8540 \t|\tVal Loss: 0.8015 \t|\tVal Acc: 0.7095\n",
            "=> Saving a new checkpoint\n",
            "Epoch 4/20\n",
            "----------\n",
            "Train OvR: 0.8762 \t|\tTrain Loss: 0.7430 \t|\tTrain Acc: 0.7360\n",
            "Val OvR: 0.8624 \t|\tVal Loss: 0.7681 \t|\tVal Acc: 0.7220\n",
            "=> Saving a new checkpoint\n",
            "Epoch 5/20\n",
            "----------\n",
            "Train OvR: 0.8891 \t|\tTrain Loss: 0.7002 \t|\tTrain Acc: 0.7503\n",
            "Val OvR: 0.8684 \t|\tVal Loss: 0.7437 \t|\tVal Acc: 0.7306\n",
            "=> Saving a new checkpoint\n",
            "Epoch 6/20\n",
            "----------\n",
            "Train OvR: 0.8995 \t|\tTrain Loss: 0.6635 \t|\tTrain Acc: 0.7627\n",
            "Val OvR: 0.8746 \t|\tVal Loss: 0.7235 \t|\tVal Acc: 0.7364\n",
            "=> Saving a new checkpoint\n",
            "Epoch 7/20\n",
            "----------\n",
            "Train OvR: 0.9080 \t|\tTrain Loss: 0.6306 \t|\tTrain Acc: 0.7747\n",
            "Val OvR: 0.8786 \t|\tVal Loss: 0.7064 \t|\tVal Acc: 0.7422\n",
            "=> Saving a new checkpoint\n",
            "Epoch 8/20\n",
            "----------\n",
            "Train OvR: 0.9172 \t|\tTrain Loss: 0.5958 \t|\tTrain Acc: 0.7880\n",
            "Val OvR: 0.8836 \t|\tVal Loss: 0.6885 \t|\tVal Acc: 0.7521\n",
            "=> Saving a new checkpoint\n",
            "Epoch 9/20\n",
            "----------\n",
            "Train OvR: 0.9261 \t|\tTrain Loss: 0.5643 \t|\tTrain Acc: 0.7982\n",
            "Val OvR: 0.8868 \t|\tVal Loss: 0.6773 \t|\tVal Acc: 0.7540\n",
            "=> Saving a new checkpoint\n",
            "Epoch 10/20\n",
            "----------\n",
            "Train OvR: 0.9339 \t|\tTrain Loss: 0.5323 \t|\tTrain Acc: 0.8122\n",
            "Val OvR: 0.8907 \t|\tVal Loss: 0.6645 \t|\tVal Acc: 0.7582\n",
            "=> Saving a new checkpoint\n",
            "Epoch 11/20\n",
            "----------\n",
            "Train OvR: 0.9416 \t|\tTrain Loss: 0.5010 \t|\tTrain Acc: 0.8238\n",
            "Val OvR: 0.8928 \t|\tVal Loss: 0.6567 \t|\tVal Acc: 0.7604\n",
            "=> Saving a new checkpoint\n",
            "Epoch 12/20\n",
            "----------\n",
            "Train OvR: 0.9499 \t|\tTrain Loss: 0.4697 \t|\tTrain Acc: 0.8382\n",
            "Val OvR: 0.8929 \t|\tVal Loss: 0.6491 \t|\tVal Acc: 0.7614\n",
            "=> Saving a new checkpoint\n",
            "Epoch 13/20\n",
            "----------\n",
            "Train OvR: 0.9559 \t|\tTrain Loss: 0.4403 \t|\tTrain Acc: 0.8498\n",
            "Val OvR: 0.8953 \t|\tVal Loss: 0.6495 \t|\tVal Acc: 0.7662\n",
            "=> Saving a new checkpoint\n",
            "Epoch 14/20\n",
            "----------\n",
            "Train OvR: 0.9622 \t|\tTrain Loss: 0.4116 \t|\tTrain Acc: 0.8618\n",
            "Val OvR: 0.8953 \t|\tVal Loss: 0.6433 \t|\tVal Acc: 0.7745\n",
            "=> Saving a new checkpoint\n",
            "Epoch 15/20\n",
            "----------\n",
            "Train OvR: 0.9690 \t|\tTrain Loss: 0.3797 \t|\tTrain Acc: 0.8749\n",
            "Val OvR: 0.8961 \t|\tVal Loss: 0.6422 \t|\tVal Acc: 0.7732\n",
            "=> Saving a new checkpoint\n",
            "Epoch 16/20\n",
            "----------\n",
            "Train OvR: 0.9743 \t|\tTrain Loss: 0.3510 \t|\tTrain Acc: 0.8877\n",
            "Val OvR: 0.8966 \t|\tVal Loss: 0.6386 \t|\tVal Acc: 0.7761\n",
            "=> Saving a new checkpoint\n",
            "Epoch 17/20\n",
            "----------\n",
            "Train OvR: 0.9795 \t|\tTrain Loss: 0.3215 \t|\tTrain Acc: 0.9003\n",
            "Val OvR: 0.9014 \t|\tVal Loss: 0.6321 \t|\tVal Acc: 0.7767\n",
            "=> Saving a new checkpoint\n",
            "Epoch 18/20\n",
            "----------\n",
            "Train OvR: 0.9848 \t|\tTrain Loss: 0.2905 \t|\tTrain Acc: 0.9117\n",
            "Val OvR: 0.9027 \t|\tVal Loss: 0.6364 \t|\tVal Acc: 0.7790\n",
            "=> Saving a new checkpoint\n",
            "Epoch 19/20\n",
            "----------\n",
            "Train OvR: 0.9881 \t|\tTrain Loss: 0.2658 \t|\tTrain Acc: 0.9205\n",
            "Val OvR: 0.9010 \t|\tVal Loss: 0.6387 \t|\tVal Acc: 0.7866\n",
            "=> Saving a new checkpoint\n",
            "Epoch 20/20\n",
            "----------\n",
            "Train OvR: 0.9918 \t|\tTrain Loss: 0.2350 \t|\tTrain Acc: 0.9337\n",
            "Val OvR: 0.9013 \t|\tVal Loss: 0.6390 \t|\tVal Acc: 0.7834\n",
            "=> Saving a new checkpoint\n",
            "\n",
            "Training completed after: 104m 53s\n",
            "Best epoch: 18\n",
            "Best val OvR: 0.9027\n"
          ]
        }
      ]
    },
    {
      "cell_type": "code",
      "source": [
        "wandb.finish()"
      ],
      "metadata": {
        "colab": {
          "base_uri": "https://localhost:8080/",
          "height": 313
        },
        "id": "iHv8a0B2VGBw",
        "outputId": "b6521247-1d9b-4a53-b83e-586159a24055"
      },
      "execution_count": 14,
      "outputs": [
        {
          "output_type": "display_data",
          "data": {
            "text/plain": [
              "<IPython.core.display.HTML object>"
            ],
            "text/html": [
              "Waiting for W&B process to finish... <strong style=\"color:green\">(success).</strong>"
            ]
          },
          "metadata": {}
        },
        {
          "output_type": "display_data",
          "data": {
            "text/plain": [
              "<IPython.core.display.HTML object>"
            ],
            "text/html": [
              "<style>\n",
              "    table.wandb td:nth-child(1) { padding: 0 10px; text-align: left ; width: auto;} td:nth-child(2) {text-align: left ; width: 100%}\n",
              "    .wandb-row { display: flex; flex-direction: row; flex-wrap: wrap; justify-content: flex-start; width: 100% }\n",
              "    .wandb-col { display: flex; flex-direction: column; flex-basis: 100%; flex: 1; padding: 10px; }\n",
              "    </style>\n",
              "<div class=\"wandb-row\"><div class=\"wandb-col\"><h3>Run history:</h3><br/><table class=\"wandb\"><tr><td>train_acc</td><td>▁▃▃▃▄▄▄▅▅▅▅▆▆▆▇▇▇▇██</td></tr><tr><td>train_loss</td><td>█▆▅▅▅▄▄▄▄▃▃▃▃▂▂▂▂▁▁▁</td></tr><tr><td>train_ovr</td><td>▁▄▅▅▅▆▆▆▆▇▇▇▇▇▇█████</td></tr><tr><td>val_acc</td><td>▁▃▃▄▅▅▅▆▆▆▆▆▇▇▇▇▇███</td></tr><tr><td>val_loss</td><td>█▆▅▄▄▃▃▂▂▂▂▁▁▁▁▁▁▁▁▁</td></tr><tr><td>val_ovr</td><td>▁▃▄▅▅▆▆▇▇▇▇▇▇▇▇█████</td></tr></table><br/></div><div class=\"wandb-col\"><h3>Run summary:</h3><br/><table class=\"wandb\"><tr><td>train_acc</td><td>0.9337</td></tr><tr><td>train_loss</td><td>0.235</td></tr><tr><td>train_ovr</td><td>0.9918</td></tr><tr><td>val_acc</td><td>0.7834</td></tr><tr><td>val_loss</td><td>0.639</td></tr><tr><td>val_ovr</td><td>0.9013</td></tr></table><br/></div></div>"
            ]
          },
          "metadata": {}
        },
        {
          "output_type": "display_data",
          "data": {
            "text/plain": [
              "<IPython.core.display.HTML object>"
            ],
            "text/html": [
              " View run <strong style=\"color:#cdcd00\">ResNet18_V0</strong> at: <a href='https://wandb.ai/wilberquito/melanoma_thesis/runs/u1xg5f1p' target=\"_blank\">https://wandb.ai/wilberquito/melanoma_thesis/runs/u1xg5f1p</a><br/>Synced 5 W&B file(s), 0 media file(s), 0 artifact file(s) and 0 other file(s)"
            ]
          },
          "metadata": {}
        },
        {
          "output_type": "display_data",
          "data": {
            "text/plain": [
              "<IPython.core.display.HTML object>"
            ],
            "text/html": [
              "Find logs at: <code>./wandb/run-20230622_082353-u1xg5f1p/logs</code>"
            ]
          },
          "metadata": {}
        }
      ]
    },
    {
      "cell_type": "code",
      "source": [
        "m_utility.plot_curves(stats)"
      ],
      "metadata": {
        "colab": {
          "base_uri": "https://localhost:8080/",
          "height": 354
        },
        "id": "tBT2QDO1Vi1q",
        "outputId": "6b51ce07-85b4-49bd-f4ec-01d436379420"
      },
      "execution_count": 15,
      "outputs": [
        {
          "output_type": "display_data",
          "data": {
            "text/plain": [
              "<Figure size 2100x700 with 3 Axes>"
            ],
            "image/png": "[encoded data removed]"
          },
          "metadata": {}
        }
      ]
    },
    {
      "cell_type": "code",
      "source": [
        "if IN_COLAB:\n",
        "  from google.colab import files\n",
        "  files.download('resnet18_v0.pth.tar')\n",
        "  files.download('resnet18_v0.csv')"
      ],
      "metadata": {
        "id": "M7CzgagCVmtd",
        "colab": {
          "base_uri": "https://localhost:8080/",
          "height": 17
        },
        "outputId": "396e6e07-a1a8-4ecb-c2e1-c01ce4749d11"
      },
      "execution_count": 16,
      "outputs": [
        {
          "data": {
            "application/javascript": [
              "\n",
              "    async function download(id, filename, size) {\n",
              "      if (!google.colab.kernel.accessAllowed) {\n",
              "        return;\n",
              "      }\n",
              "      const div = document.createElement('div');\n",
              "      const label = document.createElement('label');\n",
              "      label.textContent = `Downloading \"${filename}\": `;\n",
              "      div.appendChild(label);\n",
              "      const progress = document.createElement('progress');\n",
              "      progress.max = size;\n",
              "      div.appendChild(progress);\n",
              "      document.body.appendChild(div);\n",
              "\n",
              "      const buffers = [];\n",
              "      let downloaded = 0;\n",
              "\n",
              "      const channel = await google.colab.kernel.comms.open(id);\n",
              "      // Send a message to notify the kernel that we're ready.\n",
              "      channel.send({})\n",
              "\n",
              "      for await (const message of channel.messages) {\n",
              "        // Send a message to notify the kernel that we're ready.\n",
              "        channel.send({})\n",
              "        if (message.buffers) {\n",
              "          for (const buffer of message.buffers) {\n",
              "            buffers.push(buffer);\n",
              "            downloaded += buffer.byteLength;\n",
              "            progress.value = downloaded;\n",
              "          }\n",
              "        }\n",
              "      }\n",
              "      const blob = new Blob(buffers, {type: 'application/binary'});\n",
              "      const a = document.createElement('a');\n",
              "      a.href = window.URL.createObjectURL(blob);\n",
              "      a.download = filename;\n",
              "      div.appendChild(a);\n",
              "      a.click();\n",
              "      div.remove();\n",
              "    }\n",
              "  "
            ],
            "text/plain": [
              "<IPython.core.display.Javascript object>"
            ]
          },
          "metadata": {},
          "output_type": "display_data"
        },
        {
          "data": {
            "application/javascript": [
              "download(\"download_7d2afb4c-dec7-404f-bed9-20aacd5ea555\", \"resnet18_v0.pth.tar\", 89548065)"
            ],
            "text/plain": [
              "<IPython.core.display.Javascript object>"
            ]
          },
          "metadata": {},
          "output_type": "display_data"
        },
        {
          "data": {
            "application/javascript": [
              "\n",
              "    async function download(id, filename, size) {\n",
              "      if (!google.colab.kernel.accessAllowed) {\n",
              "        return;\n",
              "      }\n",
              "      const div = document.createElement('div');\n",
              "      const label = document.createElement('label');\n",
              "      label.textContent = `Downloading \"${filename}\": `;\n",
              "      div.appendChild(label);\n",
              "      const progress = document.createElement('progress');\n",
              "      progress.max = size;\n",
              "      div.appendChild(progress);\n",
              "      document.body.appendChild(div);\n",
              "\n",
              "      const buffers = [];\n",
              "      let downloaded = 0;\n",
              "\n",
              "      const channel = await google.colab.kernel.comms.open(id);\n",
              "      // Send a message to notify the kernel that we're ready.\n",
              "      channel.send({})\n",
              "\n",
              "      for await (const message of channel.messages) {\n",
              "        // Send a message to notify the kernel that we're ready.\n",
              "        channel.send({})\n",
              "        if (message.buffers) {\n",
              "          for (const buffer of message.buffers) {\n",
              "            buffers.push(buffer);\n",
              "            downloaded += buffer.byteLength;\n",
              "            progress.value = downloaded;\n",
              "          }\n",
              "        }\n",
              "      }\n",
              "      const blob = new Blob(buffers, {type: 'application/binary'});\n",
              "      const a = document.createElement('a');\n",
              "      a.href = window.URL.createObjectURL(blob);\n",
              "      a.download = filename;\n",
              "      div.appendChild(a);\n",
              "      a.click();\n",
              "      div.remove();\n",
              "    }\n",
              "  "
            ],
            "text/plain": [
              "<IPython.core.display.Javascript object>"
            ]
          },
          "metadata": {},
          "output_type": "display_data"
        },
        {
          "data": {
            "application/javascript": [
              "download(\"download_fea683c7-484c-48ea-b38c-5d371c9d8725\", \"resnet18_v0.csv\", 931)"
            ],
            "text/plain": [
              "<IPython.core.display.Javascript object>"
            ]
          },
          "metadata": {},
          "output_type": "display_data"
        }
      ]
    }
  ]
}