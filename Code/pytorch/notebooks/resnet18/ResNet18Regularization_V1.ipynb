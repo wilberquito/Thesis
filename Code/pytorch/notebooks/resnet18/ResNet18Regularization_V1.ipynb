{
 "cells": [
  {
   "cell_type": "markdown",
   "metadata": {
    "colab_type": "text",
    "id": "view-in-github"
   },
   "source": [
    "<a href=\"https://colab.research.google.com/github/wilberquito/Thesis/blob/main/Code/pytorch/notebooks/resnet18/ResNet18Regularization_V1.ipynb\" target=\"_parent\"><img src=\"https://colab.research.google.com/assets/colab-badge.svg\" alt=\"Open In Colab\"/></a>"
   ]
  },
  {
   "cell_type": "markdown",
   "metadata": {
    "id": "Yx5mtXcxdyGj"
   },
   "source": [
    "# ResNet18 Regularization, V1"
   ]
  },
  {
   "cell_type": "code",
   "execution_count": 1,
   "metadata": {
    "execution": {
     "iopub.execute_input": "2023-06-23T08:19:59.006721Z",
     "iopub.status.busy": "2023-06-23T08:19:59.005748Z",
     "iopub.status.idle": "2023-06-23T08:20:02.041836Z",
     "shell.execute_reply": "2023-06-23T08:20:02.039264Z"
    },
    "id": "FN9ytHbRNXJx"
   },
   "outputs": [],
   "source": [
    "!pip install wandb >/dev/null 2>&1"
   ]
  },
  {
   "cell_type": "code",
   "execution_count": 2,
   "metadata": {
    "colab": {
     "base_uri": "https://localhost:8080/"
    },
    "execution": {
     "iopub.execute_input": "2023-06-23T08:20:02.050178Z",
     "iopub.status.busy": "2023-06-23T08:20:02.049545Z",
     "iopub.status.idle": "2023-06-23T08:20:07.421507Z",
     "shell.execute_reply": "2023-06-23T08:20:07.419194Z"
    },
    "id": "BBERnO1bdbqt",
    "outputId": "05c434d7-2467-4626-9965-c75dfbe65427"
   },
   "outputs": [
    {
     "name": "stdout",
     "output_type": "stream",
     "text": [
      "mlxtend version: 0.22.0\n"
     ]
    }
   ],
   "source": [
    "try:\n",
    "    import torchmetrics, mlxtend\n",
    "    print(f\"mlxtend version: {mlxtend.__version__}\")\n",
    "    assert int(mlxtend.__version__.split(\".\")[1]) >= 19, \"mlxtend verison should be 0.19.0 or higher\"\n",
    "except:\n",
    "    !pip install -q torchmetrics -U mlxtend # <- Note: If you're using Google Colab, this may require restarting the runtime\n",
    "    import torchmetrics, mlxtend\n",
    "    print(f\"mlxtend version: {mlxtend.__version__}\")"
   ]
  },
  {
   "cell_type": "code",
   "execution_count": 3,
   "metadata": {
    "colab": {
     "base_uri": "https://localhost:8080/"
    },
    "execution": {
     "iopub.execute_input": "2023-06-23T08:20:07.509472Z",
     "iopub.status.busy": "2023-06-23T08:20:07.508659Z",
     "iopub.status.idle": "2023-06-23T08:20:10.421966Z",
     "shell.execute_reply": "2023-06-23T08:20:10.420655Z"
    },
    "id": "QOX02PpQd3Mo",
    "outputId": "c0bee2e6-8d7f-4e95-d2ac-53dea9873de8"
   },
   "outputs": [
    {
     "name": "stdout",
     "output_type": "stream",
     "text": [
      "In colab: False\n"
     ]
    }
   ],
   "source": [
    "import requests\n",
    "from pathlib import Path\n",
    "import pandas as pd\n",
    "import seaborn as sns\n",
    "from zipfile import ZipFile\n",
    "\n",
    "try:\n",
    "    import google.colab\n",
    "    from google.colab import drive\n",
    "    IN_COLAB = True\n",
    "    drive.mount('/content/drive')\n",
    "except:\n",
    "    IN_COLAB = False\n",
    "\n",
    "print(f\"In colab: {IN_COLAB}\")"
   ]
  },
  {
   "cell_type": "code",
   "execution_count": 4,
   "metadata": {
    "colab": {
     "base_uri": "https://localhost:8080/"
    },
    "execution": {
     "iopub.execute_input": "2023-06-23T08:20:10.427912Z",
     "iopub.status.busy": "2023-06-23T08:20:10.427501Z",
     "iopub.status.idle": "2023-06-23T08:20:10.433623Z",
     "shell.execute_reply": "2023-06-23T08:20:10.432453Z"
    },
    "id": "m3an3-2Qd7ZU",
    "outputId": "7829d852-85ff-4be5-e98a-70a96afd3776"
   },
   "outputs": [],
   "source": [
    "def pull_code():\n",
    "  print(\"Unzipping the code from google drive\")\n",
    "  !rm -rf modular/\n",
    "  !unzip ./drive/MyDrive/wilberquito_thesis/modular.zip -d . >/dev/null 2>&1\n",
    "\n",
    "if IN_COLAB:\n",
    "    pull_code()"
   ]
  },
  {
   "cell_type": "code",
   "execution_count": 5,
   "metadata": {
    "colab": {
     "base_uri": "https://localhost:8080/"
    },
    "execution": {
     "iopub.execute_input": "2023-06-23T08:20:10.438599Z",
     "iopub.status.busy": "2023-06-23T08:20:10.438393Z",
     "iopub.status.idle": "2023-06-23T08:20:10.444467Z",
     "shell.execute_reply": "2023-06-23T08:20:10.443333Z"
    },
    "id": "Vsq0mCoqd_EX",
    "outputId": "a88f0643-d2fd-4e22-d690-a75f657ba47c"
   },
   "outputs": [],
   "source": [
    "def pull_data():\n",
    "  answer = input(\"You sure? Y/n\\n\")\n",
    "  if answer != \"Y\":\n",
    "    return\n",
    "\n",
    "  print(\"Unzipping the data from google drive\")\n",
    "  !rm -rf data.etl/\n",
    "  !unzip ./drive/MyDrive/wilberquito_thesis/data.zip -d . >/dev/null 2>&1\n",
    "\n",
    "if IN_COLAB:\n",
    "    pull_data()"
   ]
  },
  {
   "cell_type": "code",
   "execution_count": 6,
   "metadata": {
    "colab": {
     "base_uri": "https://localhost:8080/"
    },
    "execution": {
     "iopub.execute_input": "2023-06-23T08:20:10.449660Z",
     "iopub.status.busy": "2023-06-23T08:20:10.449451Z",
     "iopub.status.idle": "2023-06-23T08:20:11.580251Z",
     "shell.execute_reply": "2023-06-23T08:20:11.577877Z"
    },
    "id": "CSP01cifeCGp",
    "outputId": "488157d9-c491-4565-cb19-a629285b60fb"
   },
   "outputs": [
    {
     "name": "stdout",
     "output_type": "stream",
     "text": [
      "Fri Jun 23 08:20:10 2023       \r\n",
      "+-----------------------------------------------------------------------------+\r\n",
      "| NVIDIA-SMI 515.105.01   Driver Version: 515.105.01   CUDA Version: 11.7     |\r\n",
      "|-------------------------------+----------------------+----------------------+\r\n",
      "| GPU  Name        Persistence-M| Bus-Id        Disp.A | Volatile Uncorr. ECC |\r\n",
      "| Fan  Temp  Perf  Pwr:Usage/Cap|         Memory-Usage | GPU-Util  Compute M. |\r\n",
      "|                               |                      |               MIG M. |\r\n",
      "|===============================+======================+======================|\r\n",
      "|   0  NVIDIA A100 80G...  Off  | 00000000:31:00.0 Off |                   On |\r\n",
      "| N/A   43C    P0    47W / 300W |      0MiB / 81920MiB |     N/A      Default |\r\n",
      "|                               |                      |              Enabled |\r\n",
      "+-------------------------------+----------------------+----------------------+\r\n",
      "|   1  NVIDIA A100 80G...  Off  | 00000000:4B:00.0 Off |                   On |\r\n",
      "| N/A   55C    P0    48W / 300W |     45MiB / 81920MiB |     N/A      Default |\r\n",
      "|                               |                      |              Enabled |\r\n",
      "+-------------------------------+----------------------+----------------------+\r\n",
      "|   2  NVIDIA A100 80G...  Off  | 00000000:B1:00.0 Off |                    0 |\r\n",
      "| N/A   42C    P0    44W / 300W |      0MiB / 81920MiB |      0%      Default |\r\n",
      "|                               |                      |             Disabled |\r\n",
      "+-------------------------------+----------------------+----------------------+\r\n",
      "|   3  NVIDIA A100 80G...  Off  | 00000000:CA:00.0 Off |                    0 |\r\n",
      "| N/A   43C    P0    43W / 300W |      0MiB / 81920MiB |      0%      Default |\r\n",
      "|                               |                      |             Disabled |\r\n",
      "+-------------------------------+----------------------+----------------------+\r\n",
      "\r\n",
      "+-----------------------------------------------------------------------------+\r\n",
      "| MIG devices:                                                                |\r\n",
      "+------------------+----------------------+-----------+-----------------------+\r\n",
      "| GPU  GI  CI  MIG |         Memory-Usage |        Vol|         Shared        |\r\n",
      "|      ID  ID  Dev |           BAR1-Usage | SM     Unc| CE  ENC  DEC  OFA  JPG|\r\n",
      "|                  |                      |        ECC|                       |\r\n",
      "|==================+======================+===========+=======================|\r\n",
      "|  0    0   0   0  |      0MiB / 81111MiB | 98      0 |  7   0    5    1    1 |\r\n",
      "|                  |      1MiB / 13107... |           |                       |\r\n",
      "+------------------+----------------------+-----------+-----------------------+\r\n",
      "|  1    1   0   0  |     19MiB / 40192MiB | 42      0 |  3   0    2    0    0 |\r\n",
      "|                  |      0MiB / 65535MiB |           |                       |\r\n",
      "+------------------+----------------------+-----------+-----------------------+\r\n",
      "|  1    2   0   1  |     25MiB / 40192MiB | 56      0 |  4   0    2    0    0 |\r\n",
      "|                  |      0MiB / 65535MiB |           |                       |\r\n",
      "+------------------+----------------------+-----------+-----------------------+\r\n",
      "                                                                               \r\n",
      "+-----------------------------------------------------------------------------+\r\n",
      "| Processes:                                                                  |\r\n",
      "|  GPU   GI   CI        PID   Type   Process name                  GPU Memory |\r\n",
      "|        ID   ID                                                   Usage      |\r\n",
      "|=============================================================================|\r\n",
      "|  No running processes found                                                 |\r\n",
      "+-----------------------------------------------------------------------------+\r\n"
     ]
    }
   ],
   "source": [
    "!nvidia-smi"
   ]
  },
  {
   "cell_type": "markdown",
   "metadata": {
    "id": "1BpyFwiaee6b"
   },
   "source": [
    "## Scheduler"
   ]
  },
  {
   "cell_type": "code",
   "execution_count": 7,
   "metadata": {
    "execution": {
     "iopub.execute_input": "2023-06-23T08:20:11.588643Z",
     "iopub.status.busy": "2023-06-23T08:20:11.588025Z",
     "iopub.status.idle": "2023-06-23T08:20:11.596983Z",
     "shell.execute_reply": "2023-06-23T08:20:11.595078Z"
    },
    "id": "lO-e11eHegZ-"
   },
   "outputs": [],
   "source": [
    "LEARNING_RATE = 1e-3\n",
    "EPOCHS = 40\n",
    "PATIENCE = 10\n",
    "STEP_SIZE = 15\n",
    "GAMMA = 0.2"
   ]
  },
  {
   "cell_type": "code",
   "execution_count": 8,
   "metadata": {
    "colab": {
     "base_uri": "https://localhost:8080/",
     "height": 465
    },
    "execution": {
     "iopub.execute_input": "2023-06-23T08:20:11.604025Z",
     "iopub.status.busy": "2023-06-23T08:20:11.603449Z",
     "iopub.status.idle": "2023-06-23T08:20:14.540460Z",
     "shell.execute_reply": "2023-06-23T08:20:14.538835Z"
    },
    "id": "kESqol0Tekpo",
    "outputId": "406de2ef-bce3-4afb-8859-153c5c935376"
   },
   "outputs": [
    {
     "data": {
      "image/png": "[encoded data removed]",
      "text/plain": [
       "<Figure size 1000x500 with 1 Axes>"
      ]
     },
     "metadata": {},
     "output_type": "display_data"
    }
   ],
   "source": [
    "import torch\n",
    "import torch.optim.lr_scheduler as lr_scheduler # Import your choice of scheduler here\n",
    "import modular.utility as m_utility\n",
    "\n",
    "# Set model and optimizer\n",
    "model = torch.nn.Linear(2, 1)\n",
    "optimizer = torch.optim.SGD(model.parameters(), lr=LEARNING_RATE)\n",
    "\n",
    "# Define your scheduler here as described above\n",
    "scheduler = lr_scheduler.StepLR(optimizer, step_size=STEP_SIZE, gamma=GAMMA)\n",
    "\n",
    "m_utility.plot_learning_rate_scheduler(optimizer,\n",
    "                                       scheduler,\n",
    "                                       LEARNING_RATE,\n",
    "                                       EPOCHS)"
   ]
  },
  {
   "cell_type": "markdown",
   "metadata": {
    "id": "pN6BR4hGNya_"
   },
   "source": [
    "## Batch Size"
   ]
  },
  {
   "cell_type": "code",
   "execution_count": 9,
   "metadata": {
    "execution": {
     "iopub.execute_input": "2023-06-23T08:20:14.546669Z",
     "iopub.status.busy": "2023-06-23T08:20:14.546440Z",
     "iopub.status.idle": "2023-06-23T08:20:14.551630Z",
     "shell.execute_reply": "2023-06-23T08:20:14.550721Z"
    },
    "id": "mheRJ7ERNvVB"
   },
   "outputs": [],
   "source": [
    "BATCH_SIZE = 1024"
   ]
  },
  {
   "cell_type": "markdown",
   "metadata": {
    "id": "O9eZ76Z_OGlo"
   },
   "source": [
    "## WandB"
   ]
  },
  {
   "cell_type": "code",
   "execution_count": 10,
   "metadata": {
    "execution": {
     "iopub.execute_input": "2023-06-23T08:20:14.556723Z",
     "iopub.status.busy": "2023-06-23T08:20:14.556518Z",
     "iopub.status.idle": "2023-06-23T08:20:17.314171Z",
     "shell.execute_reply": "2023-06-23T08:20:17.312237Z"
    },
    "id": "9FJp8ViYOJJW"
   },
   "outputs": [
    {
     "name": "stderr",
     "output_type": "stream",
     "text": [
      "\u001b[34m\u001b[1mwandb\u001b[0m: Currently logged in as: \u001b[33mwilberquto\u001b[0m (\u001b[33mwilberquito\u001b[0m). Use \u001b[1m`wandb login --relogin`\u001b[0m to force relogin\n",
      "\u001b[34m\u001b[1mwandb\u001b[0m: \u001b[33mWARNING\u001b[0m If you're specifying your api key in code, ensure this code is not shared publicly.\n",
      "\u001b[34m\u001b[1mwandb\u001b[0m: \u001b[33mWARNING\u001b[0m Consider setting the WANDB_API_KEY environment variable, or running `wandb login` from the command line.\n",
      "\u001b[34m\u001b[1mwandb\u001b[0m: Appending key for api.wandb.ai to your netrc file: /home/student2/.netrc\n"
     ]
    },
    {
     "data": {
      "text/plain": [
       "True"
      ]
     },
     "execution_count": 10,
     "metadata": {},
     "output_type": "execute_result"
    }
   ],
   "source": [
    "import wandb\n",
    "\n",
    "key = \"c1121fe51146c1da87d1139239da7748c4e78665\"\n",
    "wandb.login(key=key)"
   ]
  },
  {
   "cell_type": "code",
   "execution_count": 11,
   "metadata": {
    "execution": {
     "iopub.execute_input": "2023-06-23T08:20:17.321321Z",
     "iopub.status.busy": "2023-06-23T08:20:17.320692Z",
     "iopub.status.idle": "2023-06-23T08:20:17.328268Z",
     "shell.execute_reply": "2023-06-23T08:20:17.326378Z"
    },
    "id": "cguyb8LLOK1p"
   },
   "outputs": [],
   "source": [
    "wandb.finish()"
   ]
  },
  {
   "cell_type": "code",
   "execution_count": 12,
   "metadata": {
    "execution": {
     "iopub.execute_input": "2023-06-23T08:20:17.335273Z",
     "iopub.status.busy": "2023-06-23T08:20:17.334701Z",
     "iopub.status.idle": "2023-06-23T08:20:29.471198Z",
     "shell.execute_reply": "2023-06-23T08:20:29.469463Z"
    },
    "id": "mZqJxtPaOMtj"
   },
   "outputs": [
    {
     "name": "stderr",
     "output_type": "stream",
     "text": [
      "\u001b[34m\u001b[1mwandb\u001b[0m: Tracking run with wandb version 0.15.4\n",
      "\u001b[34m\u001b[1mwandb\u001b[0m: Run data is saved locally in \u001b[35m\u001b[1m/home/student2/thesis/pytorch/wandb/run-20230623_082017-ugk29coa\u001b[0m\n",
      "\u001b[34m\u001b[1mwandb\u001b[0m: Run \u001b[1m`wandb offline`\u001b[0m to turn off syncing.\n",
      "\u001b[34m\u001b[1mwandb\u001b[0m: Syncing run \u001b[33mResNet18R_V1\u001b[0m\n",
      "\u001b[34m\u001b[1mwandb\u001b[0m: ⭐️ View project at \u001b[34m\u001b[4mhttps://wandb.ai/wilberquito/melanoma_thesis\u001b[0m\n",
      "\u001b[34m\u001b[1mwandb\u001b[0m: 🚀 View run at \u001b[34m\u001b[4mhttps://wandb.ai/wilberquito/melanoma_thesis/runs/ugk29coa\u001b[0m\n"
     ]
    },
    {
     "data": {
      "text/html": [
       "<button onClick=\"this.nextSibling.style.display='block';this.style.display='none';\">Display W&B run</button><iframe src='https://wandb.ai/wilberquito/melanoma_thesis/runs/ugk29coa?jupyter=true' style='border:none;width:100%;height:420px;display:none;'></iframe>"
      ],
      "text/plain": [
       "<wandb.sdk.wandb_run.Run at 0x7f4d391b4a00>"
      ]
     },
     "execution_count": 12,
     "metadata": {},
     "output_type": "execute_result"
    }
   ],
   "source": [
    "wandb.init(\n",
    "    # set the wandb project where this run will be logged\n",
    "    project=\"melanoma_thesis\",\n",
    "    group=\"train_test\",\n",
    "    name= \"ResNet18R_V1\",\n",
    "    config={\n",
    "      \"architecture\": \"ResNet18\",\n",
    "      \"scheduler\": \"StepLR\",\n",
    "      \"dataset\": \"ISIC\",\n",
    "      \"learning_rate\": LEARNING_RATE,\n",
    "      \"batch_size\": BATCH_SIZE,\n",
    "      \"epochs\": EPOCHS,\n",
    "      \"patience\": PATIENCE,\n",
    "      \"step_size\": STEP_SIZE,\n",
    "      \"gamma\": GAMMA,\n",
    "      \"regularization\": [\"Dropout\", \"Data augmentation\"]\n",
    "    }\n",
    ")"
   ]
  },
  {
   "cell_type": "markdown",
   "metadata": {
    "id": "uGPjFgXWen_k"
   },
   "source": [
    "## Writter"
   ]
  },
  {
   "cell_type": "code",
   "execution_count": 13,
   "metadata": {
    "execution": {
     "iopub.execute_input": "2023-06-23T08:20:29.478996Z",
     "iopub.status.busy": "2023-06-23T08:20:29.478160Z",
     "iopub.status.idle": "2023-06-23T08:20:29.486501Z",
     "shell.execute_reply": "2023-06-23T08:20:29.484760Z"
    },
    "id": "kHvHjbJKepXS"
   },
   "outputs": [],
   "source": [
    "import modular.utility as m_utility\n",
    "\n",
    "writter = m_utility.model_writter('resnet18regularization_v1')"
   ]
  },
  {
   "cell_type": "markdown",
   "metadata": {
    "id": "XmhA1pjRewAh"
   },
   "source": [
    "## Train"
   ]
  },
  {
   "cell_type": "code",
   "execution_count": 14,
   "metadata": {
    "colab": {
     "base_uri": "https://localhost:8080/"
    },
    "execution": {
     "iopub.execute_input": "2023-06-23T08:20:29.494158Z",
     "iopub.status.busy": "2023-06-23T08:20:29.493554Z",
     "iopub.status.idle": "2023-06-24T15:24:37.091843Z",
     "shell.execute_reply": "2023-06-24T15:24:37.089316Z"
    },
    "id": "K7aw6iyCevLa",
    "outputId": "d7567ccf-d4c5-41f4-9b71-ba884f505868"
   },
   "outputs": [
    {
     "name": "stderr",
     "output_type": "stream",
     "text": [
      "/home/student2/.conda/envs/melanoma_nn/lib/python3.10/site-packages/albumentations/augmentations/blur/transforms.py:184: UserWarning: blur_limit and sigma_limit minimum value can not be both equal to 0. blur_limit minimum value changed to 3.\n",
      "  warnings.warn(\n"
     ]
    },
    {
     "name": "stdout",
     "output_type": "stream",
     "text": [
      "Epoch 1/40\n",
      "----------\n",
      "Train OvR: 0.5600 \t|\tTrain Loss: 1.4364 \t|\tTrain Acc: 0.5554\n",
      "Val OvR: 0.7252 \t|\tVal Loss: 1.1706 \t|\tVal Acc: 0.5925\n",
      "=> Saving a new checkpoint\n",
      "Epoch 2/40\n",
      "----------\n",
      "Train OvR: 0.7198 \t|\tTrain Loss: 1.1347 \t|\tTrain Acc: 0.6042\n",
      "Val OvR: 0.7712 \t|\tVal Loss: 1.0229 \t|\tVal Acc: 0.6433\n",
      "=> Saving a new checkpoint\n",
      "Epoch 3/40\n",
      "----------\n",
      "Train OvR: 0.7555 \t|\tTrain Loss: 1.0572 \t|\tTrain Acc: 0.6302\n",
      "Val OvR: 0.7924 \t|\tVal Loss: 0.9657 \t|\tVal Acc: 0.6590\n",
      "=> Saving a new checkpoint\n",
      "Epoch 4/40\n",
      "----------\n",
      "Train OvR: 0.7689 \t|\tTrain Loss: 1.0193 \t|\tTrain Acc: 0.6399\n",
      "Val OvR: 0.8085 \t|\tVal Loss: 0.9326 \t|\tVal Acc: 0.6686\n",
      "=> Saving a new checkpoint\n",
      "Epoch 5/40\n",
      "----------\n",
      "Train OvR: 0.7811 \t|\tTrain Loss: 0.9970 \t|\tTrain Acc: 0.6494\n",
      "Val OvR: 0.8176 \t|\tVal Loss: 0.9115 \t|\tVal Acc: 0.6721\n",
      "=> Saving a new checkpoint\n",
      "Epoch 6/40\n",
      "----------\n",
      "Train OvR: 0.7907 \t|\tTrain Loss: 0.9797 \t|\tTrain Acc: 0.6522\n",
      "Val OvR: 0.8233 \t|\tVal Loss: 0.8929 \t|\tVal Acc: 0.6766\n",
      "=> Saving a new checkpoint\n",
      "Epoch 7/40\n",
      "----------\n",
      "Train OvR: 0.7931 \t|\tTrain Loss: 0.9667 \t|\tTrain Acc: 0.6598\n",
      "Val OvR: 0.8280 \t|\tVal Loss: 0.8792 \t|\tVal Acc: 0.6807\n",
      "=> Saving a new checkpoint\n",
      "Epoch 8/40\n",
      "----------\n",
      "Train OvR: 0.8003 \t|\tTrain Loss: 0.9487 \t|\tTrain Acc: 0.6659\n",
      "Val OvR: 0.8324 \t|\tVal Loss: 0.8655 \t|\tVal Acc: 0.6862\n",
      "=> Saving a new checkpoint\n",
      "Epoch 9/40\n",
      "----------\n",
      "Train OvR: 0.8047 \t|\tTrain Loss: 0.9361 \t|\tTrain Acc: 0.6698\n",
      "Val OvR: 0.8380 \t|\tVal Loss: 0.8543 \t|\tVal Acc: 0.6932\n",
      "=> Saving a new checkpoint\n",
      "Epoch 10/40\n",
      "----------\n",
      "Train OvR: 0.8073 \t|\tTrain Loss: 0.9265 \t|\tTrain Acc: 0.6709\n",
      "Val OvR: 0.8399 \t|\tVal Loss: 0.8478 \t|\tVal Acc: 0.6887\n",
      "=> Saving a new checkpoint\n",
      "Epoch 11/40\n",
      "----------\n",
      "Train OvR: 0.8115 \t|\tTrain Loss: 0.9147 \t|\tTrain Acc: 0.6738\n",
      "Val OvR: 0.8441 \t|\tVal Loss: 0.8329 \t|\tVal Acc: 0.6990\n",
      "=> Saving a new checkpoint\n",
      "Epoch 12/40\n",
      "----------\n",
      "Train OvR: 0.8167 \t|\tTrain Loss: 0.9042 \t|\tTrain Acc: 0.6800\n",
      "Val OvR: 0.8475 \t|\tVal Loss: 0.8238 \t|\tVal Acc: 0.7035\n",
      "=> Saving a new checkpoint\n",
      "Epoch 13/40\n",
      "----------\n",
      "Train OvR: 0.8134 \t|\tTrain Loss: 0.9056 \t|\tTrain Acc: 0.6802\n",
      "Val OvR: 0.8502 \t|\tVal Loss: 0.8159 \t|\tVal Acc: 0.7057\n",
      "=> Saving a new checkpoint\n",
      "Epoch 14/40\n",
      "----------\n",
      "Train OvR: 0.8154 \t|\tTrain Loss: 0.8930 \t|\tTrain Acc: 0.6843\n",
      "Val OvR: 0.8527 \t|\tVal Loss: 0.8097 \t|\tVal Acc: 0.7063\n",
      "=> Saving a new checkpoint\n",
      "Epoch 15/40\n",
      "----------\n",
      "Train OvR: 0.8192 \t|\tTrain Loss: 0.8833 \t|\tTrain Acc: 0.6857\n",
      "Val OvR: 0.8553 \t|\tVal Loss: 0.8018 \t|\tVal Acc: 0.7092\n",
      "=> Saving a new checkpoint\n",
      "Epoch 16/40\n",
      "----------\n",
      "Train OvR: 0.8173 \t|\tTrain Loss: 0.8846 \t|\tTrain Acc: 0.6856\n",
      "Val OvR: 0.8558 \t|\tVal Loss: 0.8020 \t|\tVal Acc: 0.7095\n",
      "=> Saving a new checkpoint\n",
      "Epoch 17/40\n",
      "----------\n",
      "Train OvR: 0.8207 \t|\tTrain Loss: 0.8809 \t|\tTrain Acc: 0.6881\n",
      "Val OvR: 0.8563 \t|\tVal Loss: 0.7990 \t|\tVal Acc: 0.7102\n",
      "=> Saving a new checkpoint\n",
      "Epoch 18/40\n",
      "----------\n",
      "Train OvR: 0.8215 \t|\tTrain Loss: 0.8780 \t|\tTrain Acc: 0.6863\n",
      "Val OvR: 0.8564 \t|\tVal Loss: 0.7981 \t|\tVal Acc: 0.7105\n",
      "=> Saving a new checkpoint\n",
      "Epoch 19/40\n",
      "----------\n",
      "Train OvR: 0.8184 \t|\tTrain Loss: 0.8798 \t|\tTrain Acc: 0.6870\n",
      "Val OvR: 0.8568 \t|\tVal Loss: 0.7966 \t|\tVal Acc: 0.7108\n",
      "=> Saving a new checkpoint\n",
      "Epoch 20/40\n",
      "----------\n",
      "Train OvR: 0.8258 \t|\tTrain Loss: 0.8749 \t|\tTrain Acc: 0.6875\n",
      "Val OvR: 0.8572 \t|\tVal Loss: 0.7954 \t|\tVal Acc: 0.7134\n",
      "=> Saving a new checkpoint\n",
      "Epoch 21/40\n",
      "----------\n",
      "Train OvR: 0.8242 \t|\tTrain Loss: 0.8733 \t|\tTrain Acc: 0.6873\n",
      "Val OvR: 0.8575 \t|\tVal Loss: 0.7936 \t|\tVal Acc: 0.7137\n",
      "=> Saving a new checkpoint\n",
      "Epoch 22/40\n",
      "----------\n",
      "Train OvR: 0.8238 \t|\tTrain Loss: 0.8768 \t|\tTrain Acc: 0.6879\n",
      "Val OvR: 0.8581 \t|\tVal Loss: 0.7927 \t|\tVal Acc: 0.7150\n",
      "=> Saving a new checkpoint\n",
      "Epoch 23/40\n",
      "----------\n",
      "Train OvR: 0.8219 \t|\tTrain Loss: 0.8761 \t|\tTrain Acc: 0.6885\n",
      "Val OvR: 0.8584 \t|\tVal Loss: 0.7912 \t|\tVal Acc: 0.7147\n",
      "=> Saving a new checkpoint\n",
      "Epoch 24/40\n",
      "----------\n",
      "Train OvR: 0.8288 \t|\tTrain Loss: 0.8670 \t|\tTrain Acc: 0.6898\n",
      "Val OvR: 0.8585 \t|\tVal Loss: 0.7904 \t|\tVal Acc: 0.7140\n",
      "=> Saving a new checkpoint\n",
      "Epoch 25/40\n",
      "----------\n",
      "Train OvR: 0.8244 \t|\tTrain Loss: 0.8689 \t|\tTrain Acc: 0.6905\n",
      "Val OvR: 0.8587 \t|\tVal Loss: 0.7893 \t|\tVal Acc: 0.7153\n",
      "=> Saving a new checkpoint\n",
      "Epoch 26/40\n",
      "----------\n",
      "Train OvR: 0.8260 \t|\tTrain Loss: 0.8675 \t|\tTrain Acc: 0.6905\n",
      "Val OvR: 0.8594 \t|\tVal Loss: 0.7878 \t|\tVal Acc: 0.7150\n",
      "=> Saving a new checkpoint\n",
      "Epoch 27/40\n",
      "----------\n",
      "Train OvR: 0.8239 \t|\tTrain Loss: 0.8714 \t|\tTrain Acc: 0.6895\n",
      "Val OvR: 0.8594 \t|\tVal Loss: 0.7864 \t|\tVal Acc: 0.7169\n",
      "=> Saving a new checkpoint\n",
      "Epoch 28/40\n",
      "----------\n",
      "Train OvR: 0.8268 \t|\tTrain Loss: 0.8704 \t|\tTrain Acc: 0.6884\n",
      "Val OvR: 0.8596 \t|\tVal Loss: 0.7848 \t|\tVal Acc: 0.7163\n",
      "=> Saving a new checkpoint\n",
      "Epoch 29/40\n",
      "----------\n",
      "Train OvR: 0.8263 \t|\tTrain Loss: 0.8667 \t|\tTrain Acc: 0.6919\n",
      "Val OvR: 0.8600 \t|\tVal Loss: 0.7840 \t|\tVal Acc: 0.7166\n",
      "=> Saving a new checkpoint\n",
      "Epoch 30/40\n",
      "----------\n",
      "Train OvR: 0.8272 \t|\tTrain Loss: 0.8642 \t|\tTrain Acc: 0.6896\n",
      "Val OvR: 0.8601 \t|\tVal Loss: 0.7826 \t|\tVal Acc: 0.7159\n",
      "=> Saving a new checkpoint\n",
      "Epoch 31/40\n",
      "----------\n",
      "Train OvR: 0.8224 \t|\tTrain Loss: 0.8703 \t|\tTrain Acc: 0.6901\n",
      "Val OvR: 0.8600 \t|\tVal Loss: 0.7826 \t|\tVal Acc: 0.7163\n",
      "=> Saving a new checkpoint\n",
      "Epoch 32/40\n",
      "----------\n",
      "Train OvR: 0.8286 \t|\tTrain Loss: 0.8644 \t|\tTrain Acc: 0.6911\n",
      "Val OvR: 0.8602 \t|\tVal Loss: 0.7823 \t|\tVal Acc: 0.7166\n",
      "=> Saving a new checkpoint\n",
      "Epoch 33/40\n",
      "----------\n",
      "Train OvR: 0.8259 \t|\tTrain Loss: 0.8669 \t|\tTrain Acc: 0.6901\n",
      "Val OvR: 0.8601 \t|\tVal Loss: 0.7823 \t|\tVal Acc: 0.7166\n",
      "=> Saving a new checkpoint\n",
      "Epoch 34/40\n",
      "----------\n",
      "Train OvR: 0.8254 \t|\tTrain Loss: 0.8654 \t|\tTrain Acc: 0.6921\n",
      "Val OvR: 0.8602 \t|\tVal Loss: 0.7816 \t|\tVal Acc: 0.7169\n",
      "=> Saving a new checkpoint\n",
      "Epoch 35/40\n",
      "----------\n",
      "Train OvR: 0.8298 \t|\tTrain Loss: 0.8605 \t|\tTrain Acc: 0.6942\n",
      "Val OvR: 0.8603 \t|\tVal Loss: 0.7814 \t|\tVal Acc: 0.7166\n",
      "=> Saving a new checkpoint\n",
      "Epoch 36/40\n",
      "----------\n",
      "Train OvR: 0.8273 \t|\tTrain Loss: 0.8644 \t|\tTrain Acc: 0.6921\n",
      "Val OvR: 0.8606 \t|\tVal Loss: 0.7807 \t|\tVal Acc: 0.7163\n",
      "=> Saving a new checkpoint\n",
      "Epoch 37/40\n",
      "----------\n",
      "Train OvR: 0.8309 \t|\tTrain Loss: 0.8607 \t|\tTrain Acc: 0.6926\n",
      "Val OvR: 0.8606 \t|\tVal Loss: 0.7808 \t|\tVal Acc: 0.7172\n",
      "=> Saving a new checkpoint\n",
      "Epoch 38/40\n",
      "----------\n",
      "Train OvR: 0.8288 \t|\tTrain Loss: 0.8620 \t|\tTrain Acc: 0.6928\n",
      "Val OvR: 0.8607 \t|\tVal Loss: 0.7807 \t|\tVal Acc: 0.7175\n",
      "=> Saving a new checkpoint\n",
      "Epoch 39/40\n",
      "----------\n",
      "Train OvR: 0.8262 \t|\tTrain Loss: 0.8604 \t|\tTrain Acc: 0.6945\n",
      "Val OvR: 0.8608 \t|\tVal Loss: 0.7804 \t|\tVal Acc: 0.7172\n",
      "=> Saving a new checkpoint\n",
      "Epoch 40/40\n",
      "----------\n",
      "Train OvR: 0.8287 \t|\tTrain Loss: 0.8608 \t|\tTrain Acc: 0.6940\n",
      "Val OvR: 0.8608 \t|\tVal Loss: 0.7802 \t|\tVal Acc: 0.7172\n",
      "=> Saving a new checkpoint\n",
      "\n",
      "Training completed after: 1864m 5s\n",
      "Best epoch: 39\n",
      "Best val OvR: 0.8608\n"
     ]
    }
   ],
   "source": [
    "from torchvision import models\n",
    "import torch\n",
    "import torch.nn as nn\n",
    "import torch.optim as optim\n",
    "from torch.optim import lr_scheduler\n",
    "from torchvision.models import (ResNet18_Weights)\n",
    "from torch.utils.data import DataLoader\n",
    "import torch\n",
    "import torchvision as tv\n",
    "import modular.dataset as m_dataset\n",
    "import modular.utility as m_utility\n",
    "import modular.engine as engine\n",
    "import modular.models as m_models\n",
    "\n",
    "# Set seed\n",
    "m_utility.set_seed(42)\n",
    "\n",
    "# Build the dataframes\n",
    "data_dir = 'data.etl'\n",
    "data_folder = '512'\n",
    "train_df, test_df, mapping = m_dataset.get_df(data_dir, data_folder)\n",
    "\n",
    "device = 'cuda' if torch.cuda.is_available() else 'cpu'\n",
    "\n",
    "out_features = len(mapping)\n",
    "model = m_models.ResNet18_Dropout_Melanoma(out_features)\n",
    "model = model.to(device)\n",
    "\n",
    "criterion = nn.CrossEntropyLoss()\n",
    "\n",
    "# Observe that all parameters are being optimized\n",
    "optimizer = optim.SGD(model.parameters(), lr=LEARNING_RATE, momentum=0.9)\n",
    "\n",
    "# Decay LR by a factor of 0.1 every 7 epochs\n",
    "scheduler = lr_scheduler.StepLR(optimizer, step_size=STEP_SIZE, gamma=GAMMA)\n",
    "\n",
    "\n",
    "# Mapping from id to classname\n",
    "idx_to_class = { k : classname for classname, k in mapping.items() }\n",
    "\n",
    "# Train and validate dataset & dataloader\n",
    "train_df, validate_df = m_dataset.train_validate_split(train_df,\n",
    "                                                       random_state=42,\n",
    "                                                       validate_size=0.2)\n",
    "\n",
    "validate_df, test_df = m_dataset.train_validate_split(validate_df,\n",
    "                                                      random_state=42,\n",
    "                                                      validate_size=0.5)\n",
    "\n",
    "\n",
    "train_transforms, val_transforms = m_dataset.get_transforms(image_size=256)\n",
    "\n",
    "train_dataset = m_dataset.MelanomaDataset(train_df,\n",
    "                                          mode='train',\n",
    "                                          transforms=train_transforms,\n",
    "                                          idx_to_class=idx_to_class)\n",
    "validate_dataset = m_dataset.MelanomaDataset(validate_df,\n",
    "                                             mode='validate',\n",
    "                                             transforms=val_transforms,\n",
    "                                             idx_to_class=idx_to_class)\n",
    "\n",
    "batch_size = BATCH_SIZE\n",
    "\n",
    "train_dataloader = DataLoader(train_dataset, batch_size=batch_size, shuffle=True)\n",
    "validate_dataloader = DataLoader(validate_dataset, batch_size=batch_size, shuffle=False)\n",
    "\n",
    "# Test dataset and dataloader\n",
    "test_dataset = m_dataset.MelanomaDataset(test_df,\n",
    "                                         mode='test',\n",
    "                                         idx_to_class=idx_to_class)\n",
    "test_dataloader = DataLoader(test_dataset, batch_size=batch_size, shuffle=False)\n",
    "\n",
    "# Dataloaders\n",
    "dataloaders = {\n",
    "    'train': train_dataloader,\n",
    "    'val': validate_dataloader,\n",
    "}\n",
    "\n",
    "datasets_size = {\n",
    "    'train': len(train_dataset),\n",
    "    'val': len(validate_dataset),\n",
    "}\n",
    "\n",
    "about_data = {\n",
    "    'dataloaders': dataloaders,\n",
    "    'datasets': {\n",
    "        'size': datasets_size\n",
    "    }\n",
    "}\n",
    "\n",
    "MEL_IDX = 6 # Check data exploration notebook\n",
    "VAL_TIMES = 4\n",
    "\n",
    "model_ft, stats = engine.train_model(model,\n",
    "                                     MEL_IDX,\n",
    "                                     about_data,\n",
    "                                     device,\n",
    "                                     criterion,\n",
    "                                     optimizer,\n",
    "                                     scheduler,\n",
    "                                     num_epochs=EPOCHS,\n",
    "                                     patience=PATIENCE,\n",
    "                                     writter=writter,\n",
    "                                     val_times=VAL_TIMES)"
   ]
  },
  {
   "cell_type": "code",
   "execution_count": 15,
   "metadata": {
    "execution": {
     "iopub.execute_input": "2023-06-24T15:24:37.100911Z",
     "iopub.status.busy": "2023-06-24T15:24:37.100265Z",
     "iopub.status.idle": "2023-06-24T15:24:44.923724Z",
     "shell.execute_reply": "2023-06-24T15:24:44.921770Z"
    },
    "id": "_FMHFQIDOxbM"
   },
   "outputs": [
    {
     "name": "stderr",
     "output_type": "stream",
     "text": [
      "\u001b[34m\u001b[1mwandb\u001b[0m: Waiting for W&B process to finish... \u001b[32m(success).\u001b[0m\n",
      "\u001b[34m\u001b[1mwandb\u001b[0m: \n",
      "\u001b[34m\u001b[1mwandb\u001b[0m: Run history:\n",
      "\u001b[34m\u001b[1mwandb\u001b[0m:  train_acc ▁▃▅▅▆▆▆▇▇▇▇▇▇▇██████████████████████████\n",
      "\u001b[34m\u001b[1mwandb\u001b[0m: train_loss █▄▃▃▃▂▂▂▂▂▂▂▂▁▁▁▁▁▁▁▁▁▁▁▁▁▁▁▁▁▁▁▁▁▁▁▁▁▁▁\n",
      "\u001b[34m\u001b[1mwandb\u001b[0m:  train_ovr ▁▅▆▆▇▇▇▇▇▇▇█████████████████████████████\n",
      "\u001b[34m\u001b[1mwandb\u001b[0m:    val_acc ▁▄▅▅▅▆▆▆▇▆▇▇▇▇██████████████████████████\n",
      "\u001b[34m\u001b[1mwandb\u001b[0m:   val_loss █▅▄▄▃▃▃▃▂▂▂▂▂▂▁▁▁▁▁▁▁▁▁▁▁▁▁▁▁▁▁▁▁▁▁▁▁▁▁▁\n",
      "\u001b[34m\u001b[1mwandb\u001b[0m:    val_ovr ▁▃▄▅▆▆▆▇▇▇▇▇▇███████████████████████████\n",
      "\u001b[34m\u001b[1mwandb\u001b[0m: \n",
      "\u001b[34m\u001b[1mwandb\u001b[0m: Run summary:\n",
      "\u001b[34m\u001b[1mwandb\u001b[0m:  train_acc 0.694\n",
      "\u001b[34m\u001b[1mwandb\u001b[0m: train_loss 0.8608\n",
      "\u001b[34m\u001b[1mwandb\u001b[0m:  train_ovr 0.8287\n",
      "\u001b[34m\u001b[1mwandb\u001b[0m:    val_acc 0.7172\n",
      "\u001b[34m\u001b[1mwandb\u001b[0m:   val_loss 0.7802\n",
      "\u001b[34m\u001b[1mwandb\u001b[0m:    val_ovr 0.8608\n",
      "\u001b[34m\u001b[1mwandb\u001b[0m: \n",
      "\u001b[34m\u001b[1mwandb\u001b[0m: 🚀 View run \u001b[33mResNet18R_V1\u001b[0m at: \u001b[34m\u001b[4mhttps://wandb.ai/wilberquito/melanoma_thesis/runs/ugk29coa\u001b[0m\n",
      "\u001b[34m\u001b[1mwandb\u001b[0m: Synced 6 W&B file(s), 0 media file(s), 0 artifact file(s) and 0 other file(s)\n",
      "\u001b[34m\u001b[1mwandb\u001b[0m: Find logs at: \u001b[35m\u001b[1m./wandb/run-20230623_082017-ugk29coa/logs\u001b[0m\n"
     ]
    }
   ],
   "source": [
    "wandb.finish()"
   ]
  },
  {
   "cell_type": "code",
   "execution_count": 16,
   "metadata": {
    "execution": {
     "iopub.execute_input": "2023-06-24T15:24:44.931444Z",
     "iopub.status.busy": "2023-06-24T15:24:44.930889Z",
     "iopub.status.idle": "2023-06-24T15:24:45.920875Z",
     "shell.execute_reply": "2023-06-24T15:24:45.919824Z"
    },
    "id": "V0AcwKJ1Oyph"
   },
   "outputs": [
    {
     "data": {
      "image/png": "[encoded data removed]",
      "text/plain": [
       "<Figure size 2100x700 with 3 Axes>"
      ]
     },
     "metadata": {},
     "output_type": "display_data"
    }
   ],
   "source": [
    "m_utility.plot_curves(stats)"
   ]
  },
  {
   "cell_type": "code",
   "execution_count": 17,
   "metadata": {
    "execution": {
     "iopub.execute_input": "2023-06-24T15:24:45.928148Z",
     "iopub.status.busy": "2023-06-24T15:24:45.927930Z",
     "iopub.status.idle": "2023-06-24T15:24:45.932811Z",
     "shell.execute_reply": "2023-06-24T15:24:45.931878Z"
    },
    "id": "8xKYLedLO0lM"
   },
   "outputs": [],
   "source": [
    "if IN_COLAB:\n",
    "  from google.colab import files\n",
    "  files.download('resnet18regularization_v1.pth.tar')\n",
    "  files.download('resnet18regularization_v1.csv')"
   ]
  }
 ],
 "metadata": {
  "accelerator": "GPU",
  "colab": {
   "gpuType": "T4",
   "include_colab_link": true,
   "provenance": []
  },
  "kernelspec": {
   "display_name": "Python 3",
   "name": "python3"
  },
  "language_info": {
   "codemirror_mode": {
    "name": "ipython",
    "version": 3
   },
   "file_extension": ".py",
   "mimetype": "text/x-python",
   "name": "python",
   "nbconvert_exporter": "python",
   "pygments_lexer": "ipython3",
   "version": "3.10.11"
  }
 },
 "nbformat": 4,
 "nbformat_minor": 0
}
