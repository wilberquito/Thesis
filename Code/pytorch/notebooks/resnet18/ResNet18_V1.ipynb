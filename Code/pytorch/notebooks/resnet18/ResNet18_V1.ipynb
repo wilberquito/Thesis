{
  "nbformat": 4,
  "nbformat_minor": 0,
  "metadata": {
    "colab": {
      "provenance": [],
      "gpuType": "T4",
      "include_colab_link": true
    },
    "kernelspec": {
      "name": "python3",
      "display_name": "Python 3"
    },
    "language_info": {
      "name": "python"
    },
    "accelerator": "GPU"
  },
  "cells": [
    {
      "cell_type": "markdown",
      "metadata": {
        "id": "view-in-github",
        "colab_type": "text"
      },
      "source": [
        "<a href=\"https://colab.research.google.com/github/wilberquito/Thesis/blob/main/Code/pytorch/notebooks/resnet18/ResNet18_V1.ipynb\" target=\"_parent\"><img src=\"https://colab.research.google.com/assets/colab-badge.svg\" alt=\"Open In Colab\"/></a>"
      ]
    },
    {
      "cell_type": "markdown",
      "source": [
        "# ResNet18, V1"
      ],
      "metadata": {
        "id": "pQ4e4uSMPOdU"
      }
    },
    {
      "cell_type": "code",
      "source": [
        "!pip install wandb >/dev/null 2>&1"
      ],
      "metadata": {
        "id": "vIXZ1NOzqzAy"
      },
      "execution_count": 1,
      "outputs": []
    },
    {
      "cell_type": "code",
      "source": [
        "try:\n",
        "    import torchmetrics, mlxtend\n",
        "    print(f\"mlxtend version: {mlxtend.__version__}\")\n",
        "    assert int(mlxtend.__version__.split(\".\")[1]) >= 19, \"mlxtend verison should be 0.19.0 or higher\"\n",
        "except:\n",
        "    !pip install -q torchmetrics -U mlxtend # <- Note: If you're using Google Colab, this may require restarting the runtime\n",
        "    import torchmetrics, mlxtend\n",
        "    print(f\"mlxtend version: {mlxtend.__version__}\")"
      ],
      "metadata": {
        "colab": {
          "base_uri": "https://localhost:8080/"
        },
        "id": "mMWW6J1_A13G",
        "outputId": "e91fffa3-4577-470f-80dc-e9320323de0a"
      },
      "execution_count": 2,
      "outputs": [
        {
          "output_type": "stream",
          "name": "stdout",
          "text": [
            "mlxtend version: 0.22.0\n"
          ]
        }
      ]
    },
    {
      "cell_type": "code",
      "execution_count": 3,
      "metadata": {
        "colab": {
          "base_uri": "https://localhost:8080/"
        },
        "id": "038j2pIRO7Pn",
        "outputId": "16c5e296-965b-4fce-b5f8-85c36d9d7705"
      },
      "outputs": [
        {
          "output_type": "stream",
          "name": "stdout",
          "text": [
            "Drive already mounted at /content/drive; to attempt to forcibly remount, call drive.mount(\"/content/drive\", force_remount=True).\n",
            "In colab: True\n"
          ]
        }
      ],
      "source": [
        "import requests\n",
        "from pathlib import Path\n",
        "import pandas as pd\n",
        "import seaborn as sns\n",
        "from zipfile import ZipFile\n",
        "\n",
        "try:\n",
        "    import google.colab\n",
        "    from google.colab import drive\n",
        "    IN_COLAB = True\n",
        "    drive.mount('/content/drive')\n",
        "except:\n",
        "    IN_COLAB = False\n",
        "\n",
        "print(f\"In colab: {IN_COLAB}\")"
      ]
    },
    {
      "cell_type": "code",
      "source": [
        "def pull_code():\n",
        "  print(\"Unzipping the code from google drive\")\n",
        "  !rm -rf modular/\n",
        "  !unzip ./drive/MyDrive/wilberquito_thesis/modular.zip -d . >/dev/null 2>&1\n",
        "\n",
        "if IN_COLAB:\n",
        "    pull_code()"
      ],
      "metadata": {
        "colab": {
          "base_uri": "https://localhost:8080/"
        },
        "id": "gJg-N2eTPYOj",
        "outputId": "0cf5fc20-0d02-49e5-820a-75d780d11681"
      },
      "execution_count": 12,
      "outputs": [
        {
          "output_type": "stream",
          "name": "stdout",
          "text": [
            "Unzipping the code from google drive\n"
          ]
        }
      ]
    },
    {
      "cell_type": "code",
      "source": [
        "def pull_data():\n",
        "  answer = input(\"You sure? Y/n\\n\")\n",
        "  if answer != \"Y\":\n",
        "    return\n",
        "\n",
        "  print(\"Unzipping the data from google drive\")\n",
        "  !rm -rf data.etl/\n",
        "  !unzip ./drive/MyDrive/wilberquito_thesis/data.zip -d . >/dev/null 2>&1\n",
        "\n",
        "if IN_COLAB:\n",
        "    pull_data()"
      ],
      "metadata": {
        "colab": {
          "base_uri": "https://localhost:8080/"
        },
        "id": "UU9tCVXlPbPf",
        "outputId": "6d760f59-2389-4937-f917-cab4bc57de56"
      },
      "execution_count": null,
      "outputs": [
        {
          "output_type": "stream",
          "name": "stdout",
          "text": [
            "You sure? Y/n\n",
            "Y\n",
            "Unzipping the data from google drive\n"
          ]
        }
      ]
    },
    {
      "cell_type": "code",
      "source": [
        "!nvidia-smi"
      ],
      "metadata": {
        "colab": {
          "base_uri": "https://localhost:8080/"
        },
        "id": "VuSumJ8NP44v",
        "outputId": "5c0c3207-1c8c-4ad5-ece2-5aebfa844438"
      },
      "execution_count": null,
      "outputs": [
        {
          "output_type": "stream",
          "name": "stdout",
          "text": [
            "Mon Jun 12 12:59:57 2023       \n",
            "+-----------------------------------------------------------------------------+\n",
            "| NVIDIA-SMI 525.85.12    Driver Version: 525.85.12    CUDA Version: 12.0     |\n",
            "|-------------------------------+----------------------+----------------------+\n",
            "| GPU  Name        Persistence-M| Bus-Id        Disp.A | Volatile Uncorr. ECC |\n",
            "| Fan  Temp  Perf  Pwr:Usage/Cap|         Memory-Usage | GPU-Util  Compute M. |\n",
            "|                               |                      |               MIG M. |\n",
            "|===============================+======================+======================|\n",
            "|   0  Tesla T4            Off  | 00000000:00:04.0 Off |                    0 |\n",
            "| N/A   44C    P8    11W /  70W |      0MiB / 15360MiB |      0%      Default |\n",
            "|                               |                      |                  N/A |\n",
            "+-------------------------------+----------------------+----------------------+\n",
            "                                                                               \n",
            "+-----------------------------------------------------------------------------+\n",
            "| Processes:                                                                  |\n",
            "|  GPU   GI   CI        PID   Type   Process name                  GPU Memory |\n",
            "|        ID   ID                                                   Usage      |\n",
            "|=============================================================================|\n",
            "|  No running processes found                                                 |\n",
            "+-----------------------------------------------------------------------------+\n"
          ]
        }
      ]
    },
    {
      "cell_type": "markdown",
      "source": [
        "## Scheduler"
      ],
      "metadata": {
        "id": "9hBlbZtRf-OA"
      }
    },
    {
      "cell_type": "code",
      "source": [
        "LEARNING_RATE = 1e-3\n",
        "EPOCHS = 20\n",
        "STEP_SIZE = 15\n",
        "GAMMA = 0.2"
      ],
      "metadata": {
        "id": "ih5FO6Dhhzme"
      },
      "execution_count": 4,
      "outputs": []
    },
    {
      "cell_type": "code",
      "source": [
        "import torch\n",
        "import torch.optim.lr_scheduler as lr_scheduler # Import your choice of scheduler here\n",
        "import modular.utility as m_utility\n",
        "\n",
        "# Set model and optimizer\n",
        "model = torch.nn.Linear(2, 1)\n",
        "optimizer = torch.optim.SGD(model.parameters(), lr=LEARNING_RATE)\n",
        "\n",
        "# Define your scheduler here as described above\n",
        "scheduler = lr_scheduler.StepLR(optimizer, step_size=STEP_SIZE, gamma=GAMMA)\n",
        "\n",
        "m_utility.plot_learning_rate_scheduler(optimizer,\n",
        "                                       scheduler,\n",
        "                                       LEARNING_RATE,\n",
        "                                       EPOCHS)"
      ],
      "metadata": {
        "colab": {
          "base_uri": "https://localhost:8080/",
          "height": 429
        },
        "id": "QvbAZFMvVY1v",
        "outputId": "817d1c83-9fab-41bc-bfdb-e003ef7fb64f"
      },
      "execution_count": null,
      "outputs": [
        {
          "output_type": "display_data",
          "data": {
            "text/plain": [
              "<Figure size 1000x500 with 1 Axes>"
            ],
            "image/png": "[encoded data removed]"
          },
          "metadata": {}
        }
      ]
    },
    {
      "cell_type": "markdown",
      "source": [
        "## Batch Size"
      ],
      "metadata": {
        "id": "xPJ1OUGIrLP6"
      }
    },
    {
      "cell_type": "code",
      "source": [
        "BATCH_SIZE=400"
      ],
      "metadata": {
        "id": "lZCb-7BZrI-A"
      },
      "execution_count": 5,
      "outputs": []
    },
    {
      "cell_type": "markdown",
      "source": [
        "## WANB"
      ],
      "metadata": {
        "id": "J2FTFqQSrRdq"
      }
    },
    {
      "cell_type": "code",
      "source": [
        "import wandb\n",
        "\n",
        "key = \"c1121fe51146c1da87d1139239da7748c4e78665\"\n",
        "wandb.login(key=key)"
      ],
      "metadata": {
        "colab": {
          "base_uri": "https://localhost:8080/"
        },
        "id": "lqRwc0J4rTce",
        "outputId": "548bb70e-ccd5-444e-87c7-031c8175573e"
      },
      "execution_count": 6,
      "outputs": [
        {
          "output_type": "stream",
          "name": "stderr",
          "text": [
            "\u001b[34m\u001b[1mwandb\u001b[0m: Currently logged in as: \u001b[33mwilberquto\u001b[0m (\u001b[33mwilberquito\u001b[0m). Use \u001b[1m`wandb login --relogin`\u001b[0m to force relogin\n",
            "\u001b[34m\u001b[1mwandb\u001b[0m: \u001b[33mWARNING\u001b[0m If you're specifying your api key in code, ensure this code is not shared publicly.\n",
            "\u001b[34m\u001b[1mwandb\u001b[0m: \u001b[33mWARNING\u001b[0m Consider setting the WANDB_API_KEY environment variable, or running `wandb login` from the command line.\n",
            "\u001b[34m\u001b[1mwandb\u001b[0m: Appending key for api.wandb.ai to your netrc file: /root/.netrc\n"
          ]
        },
        {
          "output_type": "execute_result",
          "data": {
            "text/plain": [
              "True"
            ]
          },
          "metadata": {},
          "execution_count": 6
        }
      ]
    },
    {
      "cell_type": "code",
      "source": [
        "wandb.finish()"
      ],
      "metadata": {
        "id": "PRT9XUR4rUta"
      },
      "execution_count": 7,
      "outputs": []
    },
    {
      "cell_type": "code",
      "source": [
        "wandb.init(\n",
        "    # set the wandb project where this run will be logged\n",
        "    project=\"melanoma_thesis\",\n",
        "    group=\"train_test\",\n",
        "    name= \"ResNet18_V1\",\n",
        "    config={\n",
        "      \"architecture\": \"ResNet18\",\n",
        "      \"scheduler\": \"StepLR\",\n",
        "      \"dataset\": \"ISIC\",\n",
        "      \"learning_rate\": LEARNING_RATE,\n",
        "      \"batch_size\": BATCH_SIZE,\n",
        "      \"epochs\": EPOCHS,\n",
        "      \"step_size\": STEP_SIZE,\n",
        "      \"gamma\": GAMMA\n",
        "    }\n",
        ")"
      ],
      "metadata": {
        "colab": {
          "base_uri": "https://localhost:8080/",
          "height": 525
        },
        "id": "Q5s1yTzQrWzu",
        "outputId": "823123bd-6659-40f8-e649-7419e2cc9c07"
      },
      "execution_count": 8,
      "outputs": [
        {
          "output_type": "display_data",
          "data": {
            "text/plain": [
              "<IPython.core.display.HTML object>"
            ],
            "text/html": [
              "Tracking run with wandb version 0.15.4"
            ]
          },
          "metadata": {}
        },
        {
          "output_type": "display_data",
          "data": {
            "text/plain": [
              "<IPython.core.display.HTML object>"
            ],
            "text/html": [
              "Run data is saved locally in <code>/content/wandb/run-20230615_090451-cgvh279o</code>"
            ]
          },
          "metadata": {}
        },
        {
          "output_type": "display_data",
          "data": {
            "text/plain": [
              "<IPython.core.display.HTML object>"
            ],
            "text/html": [
              "Syncing run <strong><a href='https://wandb.ai/wilberquito/melanoma_thesis/runs/cgvh279o' target=\"_blank\">ResNet18_V1</a></strong> to <a href='https://wandb.ai/wilberquito/melanoma_thesis' target=\"_blank\">Weights & Biases</a> (<a href='https://wandb.me/run' target=\"_blank\">docs</a>)<br/>"
            ]
          },
          "metadata": {}
        },
        {
          "output_type": "display_data",
          "data": {
            "text/plain": [
              "<IPython.core.display.HTML object>"
            ],
            "text/html": [
              " View project at <a href='https://wandb.ai/wilberquito/melanoma_thesis' target=\"_blank\">https://wandb.ai/wilberquito/melanoma_thesis</a>"
            ]
          },
          "metadata": {}
        },
        {
          "output_type": "display_data",
          "data": {
            "text/plain": [
              "<IPython.core.display.HTML object>"
            ],
            "text/html": [
              " View run at <a href='https://wandb.ai/wilberquito/melanoma_thesis/runs/cgvh279o' target=\"_blank\">https://wandb.ai/wilberquito/melanoma_thesis/runs/cgvh279o</a>"
            ]
          },
          "metadata": {}
        },
        {
          "output_type": "execute_result",
          "data": {
            "text/html": [
              "<button onClick=\"this.nextSibling.style.display='block';this.style.display='none';\">Display W&B run</button><iframe src='https://wandb.ai/wilberquito/melanoma_thesis/runs/cgvh279o?jupyter=true' style='border:none;width:100%;height:420px;display:none;'></iframe>"
            ],
            "text/plain": [
              "<wandb.sdk.wandb_run.Run at 0x7f9ff53bd630>"
            ]
          },
          "metadata": {},
          "execution_count": 8
        }
      ]
    },
    {
      "cell_type": "markdown",
      "source": [
        "## Writter"
      ],
      "metadata": {
        "id": "TUlvCizwC9qN"
      }
    },
    {
      "cell_type": "code",
      "source": [
        "import modular.utility as m_utility\n",
        "\n",
        "writter = m_utility.model_writter('resnet18_v1')"
      ],
      "metadata": {
        "id": "qavtzHwoC9Yd"
      },
      "execution_count": 9,
      "outputs": []
    },
    {
      "cell_type": "markdown",
      "source": [
        "## Train"
      ],
      "metadata": {
        "id": "QIQkjLZ3QUe2"
      }
    },
    {
      "cell_type": "code",
      "source": [
        "from torchvision import models\n",
        "import torch\n",
        "import torch.nn as nn\n",
        "import torch.optim as optim\n",
        "from torch.optim import lr_scheduler\n",
        "from torchvision.models import (ResNet18_Weights)\n",
        "from torch.utils.data import DataLoader\n",
        "import torch\n",
        "import torchvision as tv\n",
        "import modular.dataset as m_dataset\n",
        "import modular.utility as m_utility\n",
        "import modular.engine as engine\n",
        "import modular.models as m_models\n",
        "\n",
        "# Set seed\n",
        "m_utility.set_seed(42)\n",
        "\n",
        "# Build the dataframes\n",
        "data_dir = 'data.etl'\n",
        "data_folder = '512'\n",
        "train_df, _, mapping = m_dataset.get_df(data_dir, data_folder)\n",
        "\n",
        "device = 'cuda' if torch.cuda.is_available() else 'cpu'\n",
        "\n",
        "out_features = len(mapping)\n",
        "model = m_models.ResNet18_Melanoma(out_features)\n",
        "model = model.to(device)\n",
        "\n",
        "criterion = nn.CrossEntropyLoss()\n",
        "\n",
        "# Observe that all parameters are being optimized\n",
        "optimizer = optim.SGD(model.parameters(), lr=LEARNING_RATE, momentum=0.9)\n",
        "\n",
        "# Decay LR by a factor of 0.1 every 7 epochs\n",
        "scheduler = lr_scheduler.StepLR(optimizer, step_size=STEP_SIZE, gamma=GAMMA)\n",
        "\n",
        "\n",
        "# Mapping from id to classname\n",
        "idx_to_class = { k : classname for classname, k in mapping.items() }\n",
        "\n",
        "# Train and validate dataset & dataloader\n",
        "train_df, validate_df = m_dataset.train_validate_split(train_df,\n",
        "                                                       random_state=42,\n",
        "                                                       validate_size=0.2)\n",
        "\n",
        "validate_df, test_df = m_dataset.train_validate_split(validate_df,\n",
        "                                                      random_state=42,\n",
        "                                                      validate_size=0.5)\n",
        "\n",
        "\n",
        "train_transforms, val_transforms = m_dataset.get_transforms(image_size=256)\n",
        "train_transforms = val_transforms\n",
        "\n",
        "train_dataset = m_dataset.MelanomaDataset(train_df,\n",
        "                                          mode='train',\n",
        "                                          transforms=train_transforms,\n",
        "                                          idx_to_class=idx_to_class)\n",
        "validate_dataset = m_dataset.MelanomaDataset(validate_df,\n",
        "                                             mode='validate',\n",
        "                                             transforms=val_transforms,\n",
        "                                             idx_to_class=idx_to_class)\n",
        "\n",
        "batch_size = BATCH_SIZE\n",
        "\n",
        "train_dataloader = DataLoader(train_dataset, batch_size=batch_size, shuffle=True)\n",
        "validate_dataloader = DataLoader(validate_dataset, batch_size=batch_size, shuffle=False)\n",
        "\n",
        "# Dataloaders\n",
        "dataloaders = {\n",
        "    'train': train_dataloader,\n",
        "    'val': validate_dataloader,\n",
        "}\n",
        "\n",
        "datasets_size = {\n",
        "    'train': len(train_dataset),\n",
        "    'val': len(validate_dataset),\n",
        "}\n",
        "\n",
        "about_data = {\n",
        "    'dataloaders': dataloaders,\n",
        "    'datasets': {\n",
        "        'size': datasets_size\n",
        "    }\n",
        "}\n",
        "\n",
        "MEL_IDX = 6 # Check data exploration notebook\n",
        "VAL_TIMES = 4\n",
        "\n",
        "model_ft, stats = engine.train_model(model,\n",
        "                                     MEL_IDX,\n",
        "                                     about_data,\n",
        "                                     device,\n",
        "                                     criterion,\n",
        "                                     optimizer,\n",
        "                                     scheduler,\n",
        "                                     num_epochs=EPOCHS,\n",
        "                                     writter=writter,\n",
        "                                     val_times=VAL_TIMES)"
      ],
      "metadata": {
        "colab": {
          "base_uri": "https://localhost:8080/"
        },
        "id": "6V73HAnrP4Az",
        "outputId": "22192853-1ff1-44bc-967e-370c7fa241e5"
      },
      "execution_count": 10,
      "outputs": [
        {
          "output_type": "stream",
          "name": "stderr",
          "text": [
            "/usr/local/lib/python3.10/dist-packages/albumentations/augmentations/transforms.py:1765: UserWarning: blur_limit and sigma_limit minimum value can not be both equal to 0. blur_limit minimum value changed to 3.\n",
            "  warnings.warn(\n"
          ]
        },
        {
          "output_type": "stream",
          "name": "stdout",
          "text": [
            "Epoch 1/20\n",
            "----------\n",
            "Train OvR: 0.8475 \t|\tTrain Loss: 1.1262 \t|\tTrain Acc: 0.6269\n",
            "Val OvR: 0.8483 \t|\tVal Loss: 0.9220 \t|\tVal Acc: 0.6734\n",
            "=> Saving a new checkpoint\n",
            "Epoch 2/20\n",
            "----------\n",
            "Train OvR: 0.8724 \t|\tTrain Loss: 0.8617 \t|\tTrain Acc: 0.6985\n",
            "Val OvR: 0.8735 \t|\tVal Loss: 0.8410 \t|\tVal Acc: 0.6977\n",
            "=> Saving a new checkpoint\n",
            "Epoch 3/20\n",
            "----------\n",
            "Train OvR: 0.8866 \t|\tTrain Loss: 0.7916 \t|\tTrain Acc: 0.7195\n",
            "Val OvR: 0.8844 \t|\tVal Loss: 0.8015 \t|\tVal Acc: 0.7095\n",
            "=> Saving a new checkpoint\n",
            "Epoch 4/20\n",
            "----------\n",
            "Train OvR: 0.8478 \t|\tTrain Loss: 0.7430 \t|\tTrain Acc: 0.7360\n",
            "Val OvR: 0.8908 \t|\tVal Loss: 0.7681 \t|\tVal Acc: 0.7220\n",
            "=> Saving a new checkpoint\n",
            "Epoch 5/20\n",
            "----------\n",
            "Train OvR: 0.8598 \t|\tTrain Loss: 0.7002 \t|\tTrain Acc: 0.7503\n",
            "Val OvR: 0.8956 \t|\tVal Loss: 0.7437 \t|\tVal Acc: 0.7306\n",
            "=> Saving a new checkpoint\n",
            "Epoch 6/20\n",
            "----------\n",
            "Train OvR: 0.8718 \t|\tTrain Loss: 0.6635 \t|\tTrain Acc: 0.7627\n",
            "Val OvR: 0.8982 \t|\tVal Loss: 0.7235 \t|\tVal Acc: 0.7364\n",
            "=> Saving a new checkpoint\n",
            "Epoch 7/20\n",
            "----------\n",
            "Train OvR: 0.9299 \t|\tTrain Loss: 0.6306 \t|\tTrain Acc: 0.7747\n",
            "Val OvR: 0.9020 \t|\tVal Loss: 0.7064 \t|\tVal Acc: 0.7422\n",
            "=> Saving a new checkpoint\n",
            "Epoch 8/20\n",
            "----------\n",
            "Train OvR: 0.9103 \t|\tTrain Loss: 0.5958 \t|\tTrain Acc: 0.7880\n",
            "Val OvR: 0.9035 \t|\tVal Loss: 0.6885 \t|\tVal Acc: 0.7521\n",
            "=> Saving a new checkpoint\n",
            "Epoch 9/20\n",
            "----------\n",
            "Train OvR: 0.9156 \t|\tTrain Loss: 0.5643 \t|\tTrain Acc: 0.7982\n",
            "Val OvR: 0.9047 \t|\tVal Loss: 0.6773 \t|\tVal Acc: 0.7540\n",
            "=> Saving a new checkpoint\n",
            "Epoch 10/20\n",
            "----------\n",
            "Train OvR: 0.9314 \t|\tTrain Loss: 0.5323 \t|\tTrain Acc: 0.8122\n",
            "Val OvR: 0.9079 \t|\tVal Loss: 0.6645 \t|\tVal Acc: 0.7582\n",
            "=> Saving a new checkpoint\n",
            "Epoch 11/20\n",
            "----------\n",
            "Train OvR: 0.9155 \t|\tTrain Loss: 0.5010 \t|\tTrain Acc: 0.8238\n",
            "Val OvR: 0.9096 \t|\tVal Loss: 0.6567 \t|\tVal Acc: 0.7604\n",
            "=> Saving a new checkpoint\n",
            "Epoch 12/20\n",
            "----------\n",
            "Train OvR: 0.9562 \t|\tTrain Loss: 0.4697 \t|\tTrain Acc: 0.8382\n",
            "Val OvR: 0.9128 \t|\tVal Loss: 0.6491 \t|\tVal Acc: 0.7614\n",
            "=> Saving a new checkpoint\n",
            "Epoch 13/20\n",
            "----------\n",
            "Train OvR: 0.9421 \t|\tTrain Loss: 0.4403 \t|\tTrain Acc: 0.8498\n",
            "Val OvR: 0.9092 \t|\tVal Loss: 0.6495 \t|\tVal Acc: 0.7662\n",
            "=> Saving a new checkpoint\n",
            "Epoch 14/20\n",
            "----------\n",
            "Train OvR: 0.9722 \t|\tTrain Loss: 0.4116 \t|\tTrain Acc: 0.8618\n",
            "Val OvR: 0.9098 \t|\tVal Loss: 0.6433 \t|\tVal Acc: 0.7745\n",
            "=> Saving a new checkpoint\n",
            "Epoch 15/20\n",
            "----------\n",
            "Train OvR: 0.9846 \t|\tTrain Loss: 0.3797 \t|\tTrain Acc: 0.8749\n",
            "Val OvR: 0.9146 \t|\tVal Loss: 0.6422 \t|\tVal Acc: 0.7732\n",
            "=> Saving a new checkpoint\n",
            "Epoch 16/20\n",
            "----------\n",
            "Train OvR: 0.9751 \t|\tTrain Loss: 0.3503 \t|\tTrain Acc: 0.8884\n",
            "Val OvR: 0.9130 \t|\tVal Loss: 0.6325 \t|\tVal Acc: 0.7761\n",
            "=> Saving a new checkpoint\n",
            "Epoch 17/20\n",
            "----------\n",
            "Train OvR: 0.9689 \t|\tTrain Loss: 0.3421 \t|\tTrain Acc: 0.8913\n",
            "Val OvR: 0.9149 \t|\tVal Loss: 0.6317 \t|\tVal Acc: 0.7767\n",
            "=> Saving a new checkpoint\n",
            "Epoch 18/20\n",
            "----------\n",
            "Train OvR: 0.9624 \t|\tTrain Loss: 0.3354 \t|\tTrain Acc: 0.8948\n",
            "Val OvR: 0.9139 \t|\tVal Loss: 0.6319 \t|\tVal Acc: 0.7754\n",
            "=> Saving a new checkpoint\n",
            "Epoch 19/20\n",
            "----------\n",
            "Train OvR: 0.9758 \t|\tTrain Loss: 0.3306 \t|\tTrain Acc: 0.8961\n",
            "Val OvR: 0.9135 \t|\tVal Loss: 0.6325 \t|\tVal Acc: 0.7780\n",
            "=> Saving a new checkpoint\n",
            "Epoch 20/20\n",
            "----------\n",
            "Train OvR: 0.9957 \t|\tTrain Loss: 0.3222 \t|\tTrain Acc: 0.9008\n",
            "Val OvR: 0.9133 \t|\tVal Loss: 0.6327 \t|\tVal Acc: 0.7774\n",
            "=> Saving a new checkpoint\n",
            "\n",
            "Training completed after: 99m 37s\n",
            "Best epoch: 17\n",
            "Best val OvR: 0.9149\n"
          ]
        }
      ]
    },
    {
      "cell_type": "code",
      "source": [
        "wandb.finish()"
      ],
      "metadata": {
        "id": "ka6lcM-fTu9k"
      },
      "execution_count": 12,
      "outputs": []
    },
    {
      "cell_type": "code",
      "source": [
        "m_utility.plot_curves(stats)"
      ],
      "metadata": {
        "colab": {
          "base_uri": "https://localhost:8080/",
          "height": 570
        },
        "id": "_0p-BzX4X7jK",
        "outputId": "2f7cbeab-6e9d-44ab-c8d7-0cc19d3439cf"
      },
      "execution_count": 13,
      "outputs": [
        {
          "output_type": "display_data",
          "data": {
            "text/plain": [
              "<Figure size 2100x700 with 3 Axes>"
            ],
            "image/png": "[encoded data removed]"
          },
          "metadata": {}
        }
      ]
    },
    {
      "cell_type": "code",
      "source": [
        "if IN_COLAB:\n",
        "  from google.colab import files\n",
        "  files.download('resnet18_v1.pth.tar')\n",
        "  files.download('resnet18_v1.csv')"
      ],
      "metadata": {
        "id": "Xe3CwpWaHG7S",
        "colab": {
          "base_uri": "https://localhost:8080/",
          "height": 17
        },
        "outputId": "f146ee8a-820a-4fea-8978-b2499770a288"
      },
      "execution_count": 14,
      "outputs": [
        {
          "output_type": "display_data",
          "data": {
            "text/plain": [
              "<IPython.core.display.Javascript object>"
            ],
            "application/javascript": [
              "\n",
              "    async function download(id, filename, size) {\n",
              "      if (!google.colab.kernel.accessAllowed) {\n",
              "        return;\n",
              "      }\n",
              "      const div = document.createElement('div');\n",
              "      const label = document.createElement('label');\n",
              "      label.textContent = `Downloading \"${filename}\": `;\n",
              "      div.appendChild(label);\n",
              "      const progress = document.createElement('progress');\n",
              "      progress.max = size;\n",
              "      div.appendChild(progress);\n",
              "      document.body.appendChild(div);\n",
              "\n",
              "      const buffers = [];\n",
              "      let downloaded = 0;\n",
              "\n",
              "      const channel = await google.colab.kernel.comms.open(id);\n",
              "      // Send a message to notify the kernel that we're ready.\n",
              "      channel.send({})\n",
              "\n",
              "      for await (const message of channel.messages) {\n",
              "        // Send a message to notify the kernel that we're ready.\n",
              "        channel.send({})\n",
              "        if (message.buffers) {\n",
              "          for (const buffer of message.buffers) {\n",
              "            buffers.push(buffer);\n",
              "            downloaded += buffer.byteLength;\n",
              "            progress.value = downloaded;\n",
              "          }\n",
              "        }\n",
              "      }\n",
              "      const blob = new Blob(buffers, {type: 'application/binary'});\n",
              "      const a = document.createElement('a');\n",
              "      a.href = window.URL.createObjectURL(blob);\n",
              "      a.download = filename;\n",
              "      div.appendChild(a);\n",
              "      a.click();\n",
              "      div.remove();\n",
              "    }\n",
              "  "
            ]
          },
          "metadata": {}
        },
        {
          "output_type": "display_data",
          "data": {
            "text/plain": [
              "<IPython.core.display.Javascript object>"
            ],
            "application/javascript": [
              "download(\"download_85d056bb-ea20-4af0-8a71-b611b32c17c5\", \"resnet18_v1.pth.tar\", 89548257)"
            ]
          },
          "metadata": {}
        },
        {
          "output_type": "display_data",
          "data": {
            "text/plain": [
              "<IPython.core.display.Javascript object>"
            ],
            "application/javascript": [
              "\n",
              "    async function download(id, filename, size) {\n",
              "      if (!google.colab.kernel.accessAllowed) {\n",
              "        return;\n",
              "      }\n",
              "      const div = document.createElement('div');\n",
              "      const label = document.createElement('label');\n",
              "      label.textContent = `Downloading \"${filename}\": `;\n",
              "      div.appendChild(label);\n",
              "      const progress = document.createElement('progress');\n",
              "      progress.max = size;\n",
              "      div.appendChild(progress);\n",
              "      document.body.appendChild(div);\n",
              "\n",
              "      const buffers = [];\n",
              "      let downloaded = 0;\n",
              "\n",
              "      const channel = await google.colab.kernel.comms.open(id);\n",
              "      // Send a message to notify the kernel that we're ready.\n",
              "      channel.send({})\n",
              "\n",
              "      for await (const message of channel.messages) {\n",
              "        // Send a message to notify the kernel that we're ready.\n",
              "        channel.send({})\n",
              "        if (message.buffers) {\n",
              "          for (const buffer of message.buffers) {\n",
              "            buffers.push(buffer);\n",
              "            downloaded += buffer.byteLength;\n",
              "            progress.value = downloaded;\n",
              "          }\n",
              "        }\n",
              "      }\n",
              "      const blob = new Blob(buffers, {type: 'application/binary'});\n",
              "      const a = document.createElement('a');\n",
              "      a.href = window.URL.createObjectURL(blob);\n",
              "      a.download = filename;\n",
              "      div.appendChild(a);\n",
              "      a.click();\n",
              "      div.remove();\n",
              "    }\n",
              "  "
            ]
          },
          "metadata": {}
        },
        {
          "output_type": "display_data",
          "data": {
            "text/plain": [
              "<IPython.core.display.Javascript object>"
            ],
            "application/javascript": [
              "download(\"download_8641e0de-16f6-498c-980a-57954ce2e424\", \"resnet18_v1.csv\", 936)"
            ]
          },
          "metadata": {}
        }
      ]
    }
  ]
}