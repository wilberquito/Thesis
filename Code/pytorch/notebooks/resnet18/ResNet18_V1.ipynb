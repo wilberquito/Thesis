{
 "cells": [
  {
   "cell_type": "markdown",
   "metadata": {
    "colab_type": "text",
    "id": "view-in-github"
   },
   "source": [
    "<a href=\"https://colab.research.google.com/github/wilberquito/Thesis/blob/main/Code/pytorch/notebooks/resnet18/ResNet18_V1.ipynb\" target=\"_parent\"><img src=\"https://colab.research.google.com/assets/colab-badge.svg\" alt=\"Open In Colab\"/></a>"
   ]
  },
  {
   "cell_type": "markdown",
   "metadata": {
    "id": "pQ4e4uSMPOdU"
   },
   "source": [
    "# ResNet18, V1"
   ]
  },
  {
   "cell_type": "code",
   "execution_count": 1,
   "metadata": {
    "execution": {
     "iopub.execute_input": "2023-06-22T08:24:48.875917Z",
     "iopub.status.busy": "2023-06-22T08:24:48.875352Z",
     "iopub.status.idle": "2023-06-22T08:24:51.892964Z",
     "shell.execute_reply": "2023-06-22T08:24:51.890439Z"
    },
    "id": "vIXZ1NOzqzAy"
   },
   "outputs": [],
   "source": [
    "!pip install wandb >/dev/null 2>&1"
   ]
  },
  {
   "cell_type": "code",
   "execution_count": 2,
   "metadata": {
    "colab": {
     "base_uri": "https://localhost:8080/"
    },
    "execution": {
     "iopub.execute_input": "2023-06-22T08:24:51.901611Z",
     "iopub.status.busy": "2023-06-22T08:24:51.900978Z",
     "iopub.status.idle": "2023-06-22T08:24:56.877780Z",
     "shell.execute_reply": "2023-06-22T08:24:56.876020Z"
    },
    "id": "mMWW6J1_A13G",
    "outputId": "e91fffa3-4577-470f-80dc-e9320323de0a"
   },
   "outputs": [
    {
     "name": "stdout",
     "output_type": "stream",
     "text": [
      "mlxtend version: 0.22.0\n"
     ]
    }
   ],
   "source": [
    "try:\n",
    "    import torchmetrics, mlxtend\n",
    "    print(f\"mlxtend version: {mlxtend.__version__}\")\n",
    "    assert int(mlxtend.__version__.split(\".\")[1]) >= 19, \"mlxtend verison should be 0.19.0 or higher\"\n",
    "except:\n",
    "    !pip install -q torchmetrics -U mlxtend # <- Note: If you're using Google Colab, this may require restarting the runtime\n",
    "    import torchmetrics, mlxtend\n",
    "    print(f\"mlxtend version: {mlxtend.__version__}\")"
   ]
  },
  {
   "cell_type": "code",
   "execution_count": 3,
   "metadata": {
    "colab": {
     "base_uri": "https://localhost:8080/"
    },
    "execution": {
     "iopub.execute_input": "2023-06-22T08:24:56.961145Z",
     "iopub.status.busy": "2023-06-22T08:24:56.960312Z",
     "iopub.status.idle": "2023-06-22T08:24:59.660666Z",
     "shell.execute_reply": "2023-06-22T08:24:59.659174Z"
    },
    "id": "038j2pIRO7Pn",
    "outputId": "16c5e296-965b-4fce-b5f8-85c36d9d7705"
   },
   "outputs": [
    {
     "name": "stdout",
     "output_type": "stream",
     "text": [
      "In colab: False\n"
     ]
    }
   ],
   "source": [
    "import requests\n",
    "from pathlib import Path\n",
    "import pandas as pd\n",
    "import seaborn as sns\n",
    "from zipfile import ZipFile\n",
    "\n",
    "try:\n",
    "    import google.colab\n",
    "    from google.colab import drive\n",
    "    IN_COLAB = True\n",
    "    drive.mount('/content/drive')\n",
    "except:\n",
    "    IN_COLAB = False\n",
    "\n",
    "print(f\"In colab: {IN_COLAB}\")"
   ]
  },
  {
   "cell_type": "code",
   "execution_count": 4,
   "metadata": {
    "colab": {
     "base_uri": "https://localhost:8080/"
    },
    "execution": {
     "iopub.execute_input": "2023-06-22T08:24:59.666746Z",
     "iopub.status.busy": "2023-06-22T08:24:59.666269Z",
     "iopub.status.idle": "2023-06-22T08:24:59.673081Z",
     "shell.execute_reply": "2023-06-22T08:24:59.672126Z"
    },
    "id": "gJg-N2eTPYOj",
    "outputId": "0cf5fc20-0d02-49e5-820a-75d780d11681"
   },
   "outputs": [],
   "source": [
    "def pull_code():\n",
    "  print(\"Unzipping the code from google drive\")\n",
    "  !rm -rf modular/\n",
    "  !unzip ./drive/MyDrive/wilberquito_thesis/modular.zip -d . >/dev/null 2>&1\n",
    "\n",
    "if IN_COLAB:\n",
    "    pull_code()"
   ]
  },
  {
   "cell_type": "code",
   "execution_count": 5,
   "metadata": {
    "colab": {
     "base_uri": "https://localhost:8080/"
    },
    "execution": {
     "iopub.execute_input": "2023-06-22T08:24:59.677896Z",
     "iopub.status.busy": "2023-06-22T08:24:59.677674Z",
     "iopub.status.idle": "2023-06-22T08:24:59.684271Z",
     "shell.execute_reply": "2023-06-22T08:24:59.683340Z"
    },
    "id": "UU9tCVXlPbPf",
    "outputId": "6d760f59-2389-4937-f917-cab4bc57de56"
   },
   "outputs": [],
   "source": [
    "def pull_data():\n",
    "  answer = input(\"You sure? Y/n\\n\")\n",
    "  if answer != \"Y\":\n",
    "    return\n",
    "\n",
    "  print(\"Unzipping the data from google drive\")\n",
    "  !rm -rf data.etl/\n",
    "  !unzip ./drive/MyDrive/wilberquito_thesis/data.zip -d . >/dev/null 2>&1\n",
    "\n",
    "if IN_COLAB:\n",
    "    pull_data()"
   ]
  },
  {
   "cell_type": "code",
   "execution_count": 6,
   "metadata": {
    "colab": {
     "base_uri": "https://localhost:8080/"
    },
    "execution": {
     "iopub.execute_input": "2023-06-22T08:24:59.689124Z",
     "iopub.status.busy": "2023-06-22T08:24:59.688905Z",
     "iopub.status.idle": "2023-06-22T08:25:00.838225Z",
     "shell.execute_reply": "2023-06-22T08:25:00.835834Z"
    },
    "id": "VuSumJ8NP44v",
    "outputId": "5c0c3207-1c8c-4ad5-ece2-5aebfa844438"
   },
   "outputs": [
    {
     "name": "stdout",
     "output_type": "stream",
     "text": [
      "Thu Jun 22 08:24:59 2023       \r\n",
      "+-----------------------------------------------------------------------------+\r\n",
      "| NVIDIA-SMI 515.105.01   Driver Version: 515.105.01   CUDA Version: 11.7     |\r\n",
      "|-------------------------------+----------------------+----------------------+\r\n",
      "| GPU  Name        Persistence-M| Bus-Id        Disp.A | Volatile Uncorr. ECC |\r\n",
      "| Fan  Temp  Perf  Pwr:Usage/Cap|         Memory-Usage | GPU-Util  Compute M. |\r\n",
      "|                               |                      |               MIG M. |\r\n",
      "|===============================+======================+======================|\r\n",
      "|   0  NVIDIA A100 80G...  Off  | 00000000:31:00.0 Off |                   On |\r\n",
      "| N/A   44C    P0    47W / 300W |      0MiB / 81920MiB |     N/A      Default |\r\n",
      "|                               |                      |              Enabled |\r\n",
      "+-------------------------------+----------------------+----------------------+\r\n",
      "|   1  NVIDIA A100 80G...  Off  | 00000000:4B:00.0 Off |                   On |\r\n",
      "| N/A   52C    P0    46W / 300W |     45MiB / 81920MiB |     N/A      Default |\r\n",
      "|                               |                      |              Enabled |\r\n",
      "+-------------------------------+----------------------+----------------------+\r\n",
      "|   2  NVIDIA A100 80G...  Off  | 00000000:B1:00.0 Off |                    0 |\r\n",
      "| N/A   42C    P0    44W / 300W |      0MiB / 81920MiB |      0%      Default |\r\n",
      "|                               |                      |             Disabled |\r\n",
      "+-------------------------------+----------------------+----------------------+\r\n",
      "|   3  NVIDIA A100 80G...  Off  | 00000000:CA:00.0 Off |                    0 |\r\n",
      "| N/A   44C    P0    43W / 300W |      0MiB / 81920MiB |      0%      Default |\r\n",
      "|                               |                      |             Disabled |\r\n",
      "+-------------------------------+----------------------+----------------------+\r\n",
      "\r\n",
      "+-----------------------------------------------------------------------------+\r\n",
      "| MIG devices:                                                                |\r\n",
      "+------------------+----------------------+-----------+-----------------------+\r\n",
      "| GPU  GI  CI  MIG |         Memory-Usage |        Vol|         Shared        |\r\n",
      "|      ID  ID  Dev |           BAR1-Usage | SM     Unc| CE  ENC  DEC  OFA  JPG|\r\n",
      "|                  |                      |        ECC|                       |\r\n",
      "|==================+======================+===========+=======================|\r\n",
      "|  0    0   0   0  |      0MiB / 81111MiB | 98      0 |  7   0    5    1    1 |\r\n",
      "|                  |      1MiB / 13107... |           |                       |\r\n",
      "+------------------+----------------------+-----------+-----------------------+\r\n",
      "|  1    1   0   0  |     19MiB / 40192MiB | 42      0 |  3   0    2    0    0 |\r\n",
      "|                  |      0MiB / 65535MiB |           |                       |\r\n",
      "+------------------+----------------------+-----------+-----------------------+\r\n",
      "|  1    2   0   1  |     25MiB / 40192MiB | 56      0 |  4   0    2    0    0 |\r\n",
      "|                  |      0MiB / 65535MiB |           |                       |\r\n",
      "+------------------+----------------------+-----------+-----------------------+\r\n",
      "                                                                               \r\n",
      "+-----------------------------------------------------------------------------+\r\n",
      "| Processes:                                                                  |\r\n",
      "|  GPU   GI   CI        PID   Type   Process name                  GPU Memory |\r\n",
      "|        ID   ID                                                   Usage      |\r\n",
      "|=============================================================================|\r\n",
      "|  No running processes found                                                 |\r\n",
      "+-----------------------------------------------------------------------------+\r\n"
     ]
    }
   ],
   "source": [
    "!nvidia-smi"
   ]
  },
  {
   "cell_type": "markdown",
   "metadata": {
    "id": "9hBlbZtRf-OA"
   },
   "source": [
    "## Scheduler"
   ]
  },
  {
   "cell_type": "code",
   "execution_count": 7,
   "metadata": {
    "execution": {
     "iopub.execute_input": "2023-06-22T08:25:00.847333Z",
     "iopub.status.busy": "2023-06-22T08:25:00.845706Z",
     "iopub.status.idle": "2023-06-22T08:25:00.854437Z",
     "shell.execute_reply": "2023-06-22T08:25:00.852574Z"
    },
    "id": "ih5FO6Dhhzme"
   },
   "outputs": [],
   "source": [
    "LEARNING_RATE = 1e-3\n",
    "EPOCHS = 20\n",
    "STEP_SIZE = 15\n",
    "GAMMA = 0.2"
   ]
  },
  {
   "cell_type": "code",
   "execution_count": 8,
   "metadata": {
    "colab": {
     "base_uri": "https://localhost:8080/",
     "height": 429
    },
    "execution": {
     "iopub.execute_input": "2023-06-22T08:25:00.861518Z",
     "iopub.status.busy": "2023-06-22T08:25:00.860785Z",
     "iopub.status.idle": "2023-06-22T08:25:03.940254Z",
     "shell.execute_reply": "2023-06-22T08:25:03.938455Z"
    },
    "id": "QvbAZFMvVY1v",
    "outputId": "817d1c83-9fab-41bc-bfdb-e003ef7fb64f"
   },
   "outputs": [
    {
     "data": {
      "image/png": "[encoded data removed]",
      "text/plain": [
       "<Figure size 1000x500 with 1 Axes>"
      ]
     },
     "metadata": {},
     "output_type": "display_data"
    }
   ],
   "source": [
    "import torch\n",
    "import torch.optim.lr_scheduler as lr_scheduler # Import your choice of scheduler here\n",
    "import modular.utility as m_utility\n",
    "\n",
    "# Set model and optimizer\n",
    "model = torch.nn.Linear(2, 1)\n",
    "optimizer = torch.optim.SGD(model.parameters(), lr=LEARNING_RATE)\n",
    "\n",
    "# Define your scheduler here as described above\n",
    "scheduler = lr_scheduler.StepLR(optimizer, step_size=STEP_SIZE, gamma=GAMMA)\n",
    "\n",
    "m_utility.plot_learning_rate_scheduler(optimizer,\n",
    "                                       scheduler,\n",
    "                                       LEARNING_RATE,\n",
    "                                       EPOCHS)"
   ]
  },
  {
   "cell_type": "markdown",
   "metadata": {
    "id": "xPJ1OUGIrLP6"
   },
   "source": [
    "## Batch Size"
   ]
  },
  {
   "cell_type": "code",
   "execution_count": 9,
   "metadata": {
    "execution": {
     "iopub.execute_input": "2023-06-22T08:25:03.946521Z",
     "iopub.status.busy": "2023-06-22T08:25:03.946281Z",
     "iopub.status.idle": "2023-06-22T08:25:03.952160Z",
     "shell.execute_reply": "2023-06-22T08:25:03.950777Z"
    },
    "id": "lZCb-7BZrI-A"
   },
   "outputs": [],
   "source": [
    "BATCH_SIZE=400"
   ]
  },
  {
   "cell_type": "markdown",
   "metadata": {
    "id": "J2FTFqQSrRdq"
   },
   "source": [
    "## WANB"
   ]
  },
  {
   "cell_type": "code",
   "execution_count": 10,
   "metadata": {
    "colab": {
     "base_uri": "https://localhost:8080/"
    },
    "execution": {
     "iopub.execute_input": "2023-06-22T08:25:03.957968Z",
     "iopub.status.busy": "2023-06-22T08:25:03.957715Z",
     "iopub.status.idle": "2023-06-22T08:25:11.446180Z",
     "shell.execute_reply": "2023-06-22T08:25:11.444011Z"
    },
    "id": "lqRwc0J4rTce",
    "outputId": "548bb70e-ccd5-444e-87c7-031c8175573e"
   },
   "outputs": [
    {
     "name": "stderr",
     "output_type": "stream",
     "text": [
      "\u001b[34m\u001b[1mwandb\u001b[0m: Currently logged in as: \u001b[33mwilberquto\u001b[0m (\u001b[33mwilberquito\u001b[0m). Use \u001b[1m`wandb login --relogin`\u001b[0m to force relogin\n",
      "\u001b[34m\u001b[1mwandb\u001b[0m: \u001b[33mWARNING\u001b[0m If you're specifying your api key in code, ensure this code is not shared publicly.\n",
      "\u001b[34m\u001b[1mwandb\u001b[0m: \u001b[33mWARNING\u001b[0m Consider setting the WANDB_API_KEY environment variable, or running `wandb login` from the command line.\n",
      "\u001b[34m\u001b[1mwandb\u001b[0m: Appending key for api.wandb.ai to your netrc file: /home/student2/.netrc\n"
     ]
    },
    {
     "data": {
      "text/plain": [
       "True"
      ]
     },
     "execution_count": 10,
     "metadata": {},
     "output_type": "execute_result"
    }
   ],
   "source": [
    "import wandb\n",
    "\n",
    "key = \"c1121fe51146c1da87d1139239da7748c4e78665\"\n",
    "wandb.login(key=key)"
   ]
  },
  {
   "cell_type": "code",
   "execution_count": 11,
   "metadata": {
    "execution": {
     "iopub.execute_input": "2023-06-22T08:25:11.454589Z",
     "iopub.status.busy": "2023-06-22T08:25:11.453987Z",
     "iopub.status.idle": "2023-06-22T08:25:11.462158Z",
     "shell.execute_reply": "2023-06-22T08:25:11.460029Z"
    },
    "id": "PRT9XUR4rUta"
   },
   "outputs": [],
   "source": [
    "wandb.finish()"
   ]
  },
  {
   "cell_type": "code",
   "execution_count": 12,
   "metadata": {
    "colab": {
     "base_uri": "https://localhost:8080/",
     "height": 525
    },
    "execution": {
     "iopub.execute_input": "2023-06-22T08:25:11.469842Z",
     "iopub.status.busy": "2023-06-22T08:25:11.469251Z",
     "iopub.status.idle": "2023-06-22T08:25:24.703049Z",
     "shell.execute_reply": "2023-06-22T08:25:24.701324Z"
    },
    "id": "Q5s1yTzQrWzu",
    "outputId": "823123bd-6659-40f8-e649-7419e2cc9c07"
   },
   "outputs": [
    {
     "name": "stderr",
     "output_type": "stream",
     "text": [
      "\u001b[34m\u001b[1mwandb\u001b[0m: W&B API key is configured. Use \u001b[1m`wandb login --relogin`\u001b[0m to force relogin\n",
      "\u001b[34m\u001b[1mwandb\u001b[0m: Tracking run with wandb version 0.15.4\n",
      "\u001b[34m\u001b[1mwandb\u001b[0m: Run data is saved locally in \u001b[35m\u001b[1m/home/student2/thesis/pytorch/wandb/run-20230622_082511-2npoo4gg\u001b[0m\n",
      "\u001b[34m\u001b[1mwandb\u001b[0m: Run \u001b[1m`wandb offline`\u001b[0m to turn off syncing.\n",
      "\u001b[34m\u001b[1mwandb\u001b[0m: Syncing run \u001b[33mResNet18_V1\u001b[0m\n",
      "\u001b[34m\u001b[1mwandb\u001b[0m: ⭐️ View project at \u001b[34m\u001b[4mhttps://wandb.ai/wilberquito/melanoma_thesis\u001b[0m\n",
      "\u001b[34m\u001b[1mwandb\u001b[0m: 🚀 View run at \u001b[34m\u001b[4mhttps://wandb.ai/wilberquito/melanoma_thesis/runs/2npoo4gg\u001b[0m\n"
     ]
    },
    {
     "data": {
      "text/html": [
       "<button onClick=\"this.nextSibling.style.display='block';this.style.display='none';\">Display W&B run</button><iframe src='https://wandb.ai/wilberquito/melanoma_thesis/runs/2npoo4gg?jupyter=true' style='border:none;width:100%;height:420px;display:none;'></iframe>"
      ],
      "text/plain": [
       "<wandb.sdk.wandb_run.Run at 0x7f0c9a7cf100>"
      ]
     },
     "execution_count": 12,
     "metadata": {},
     "output_type": "execute_result"
    }
   ],
   "source": [
    "wandb.init(\n",
    "    # set the wandb project where this run will be logged\n",
    "    project=\"melanoma_thesis\",\n",
    "    group=\"train_test\",\n",
    "    name= \"ResNet18_V1\",\n",
    "    config={\n",
    "      \"architecture\": \"ResNet18\",\n",
    "      \"scheduler\": \"StepLR\",\n",
    "      \"dataset\": \"ISIC\",\n",
    "      \"learning_rate\": LEARNING_RATE,\n",
    "      \"batch_size\": BATCH_SIZE,\n",
    "      \"epochs\": EPOCHS,\n",
    "      \"step_size\": STEP_SIZE,\n",
    "      \"gamma\": GAMMA\n",
    "    }\n",
    ")"
   ]
  },
  {
   "cell_type": "markdown",
   "metadata": {
    "id": "TUlvCizwC9qN"
   },
   "source": [
    "## Writter"
   ]
  },
  {
   "cell_type": "code",
   "execution_count": 13,
   "metadata": {
    "execution": {
     "iopub.execute_input": "2023-06-22T08:25:24.710775Z",
     "iopub.status.busy": "2023-06-22T08:25:24.709939Z",
     "iopub.status.idle": "2023-06-22T08:25:24.718357Z",
     "shell.execute_reply": "2023-06-22T08:25:24.716570Z"
    },
    "id": "qavtzHwoC9Yd"
   },
   "outputs": [],
   "source": [
    "import modular.utility as m_utility\n",
    "\n",
    "writter = m_utility.model_writter('resnet18_v1')"
   ]
  },
  {
   "cell_type": "markdown",
   "metadata": {
    "id": "QIQkjLZ3QUe2"
   },
   "source": [
    "## Train"
   ]
  },
  {
   "cell_type": "code",
   "execution_count": 14,
   "metadata": {
    "colab": {
     "base_uri": "https://localhost:8080/"
    },
    "execution": {
     "iopub.execute_input": "2023-06-22T08:25:24.725965Z",
     "iopub.status.busy": "2023-06-22T08:25:24.725375Z",
     "iopub.status.idle": "2023-06-22T09:47:21.778585Z",
     "shell.execute_reply": "2023-06-22T09:47:21.775994Z"
    },
    "id": "6V73HAnrP4Az",
    "outputId": "22192853-1ff1-44bc-967e-370c7fa241e5"
   },
   "outputs": [
    {
     "name": "stderr",
     "output_type": "stream",
     "text": [
      "/home/student2/.conda/envs/melanoma_nn/lib/python3.10/site-packages/albumentations/augmentations/blur/transforms.py:184: UserWarning: blur_limit and sigma_limit minimum value can not be both equal to 0. blur_limit minimum value changed to 3.\n",
      "  warnings.warn(\n"
     ]
    },
    {
     "name": "stdout",
     "output_type": "stream",
     "text": [
      "Epoch 1/20\n",
      "----------\n",
      "Train OvR: 0.7096 \t|\tTrain Loss: 1.1262 \t|\tTrain Acc: 0.6268\n",
      "Val OvR: 0.8131 \t|\tVal Loss: 0.9215 \t|\tVal Acc: 0.6740\n",
      "=> Saving a new checkpoint\n",
      "Epoch 2/20\n",
      "----------\n",
      "Train OvR: 0.8386 \t|\tTrain Loss: 0.8617 \t|\tTrain Acc: 0.6985\n",
      "Val OvR: 0.8420 \t|\tVal Loss: 0.8413 \t|\tVal Acc: 0.6983\n",
      "=> Saving a new checkpoint\n",
      "Epoch 3/20\n",
      "----------\n",
      "Train OvR: 0.8613 \t|\tTrain Loss: 0.7915 \t|\tTrain Acc: 0.7190\n",
      "Val OvR: 0.8541 \t|\tVal Loss: 0.8018 \t|\tVal Acc: 0.7092\n",
      "=> Saving a new checkpoint\n",
      "Epoch 4/20\n",
      "----------\n",
      "Train OvR: 0.8763 \t|\tTrain Loss: 0.7428 \t|\tTrain Acc: 0.7369\n",
      "Val OvR: 0.8628 \t|\tVal Loss: 0.7679 \t|\tVal Acc: 0.7210\n",
      "=> Saving a new checkpoint\n",
      "Epoch 5/20\n",
      "----------\n",
      "Train OvR: 0.8891 \t|\tTrain Loss: 0.7001 \t|\tTrain Acc: 0.7504\n",
      "Val OvR: 0.8688 \t|\tVal Loss: 0.7438 \t|\tVal Acc: 0.7297\n",
      "=> Saving a new checkpoint\n",
      "Epoch 6/20\n",
      "----------\n",
      "Train OvR: 0.8995 \t|\tTrain Loss: 0.6634 \t|\tTrain Acc: 0.7636\n",
      "Val OvR: 0.8745 \t|\tVal Loss: 0.7238 \t|\tVal Acc: 0.7351\n",
      "=> Saving a new checkpoint\n",
      "Epoch 7/20\n",
      "----------\n",
      "Train OvR: 0.9082 \t|\tTrain Loss: 0.6304 \t|\tTrain Acc: 0.7753\n",
      "Val OvR: 0.8783 \t|\tVal Loss: 0.7067 \t|\tVal Acc: 0.7425\n",
      "=> Saving a new checkpoint\n",
      "Epoch 8/20\n",
      "----------\n",
      "Train OvR: 0.9173 \t|\tTrain Loss: 0.5956 \t|\tTrain Acc: 0.7882\n",
      "Val OvR: 0.8833 \t|\tVal Loss: 0.6895 \t|\tVal Acc: 0.7514\n",
      "=> Saving a new checkpoint\n",
      "Epoch 9/20\n",
      "----------\n",
      "Train OvR: 0.9262 \t|\tTrain Loss: 0.5641 \t|\tTrain Acc: 0.7997\n",
      "Val OvR: 0.8863 \t|\tVal Loss: 0.6773 \t|\tVal Acc: 0.7530\n",
      "=> Saving a new checkpoint\n",
      "Epoch 10/20\n",
      "----------\n",
      "Train OvR: 0.9340 \t|\tTrain Loss: 0.5319 \t|\tTrain Acc: 0.8125\n",
      "Val OvR: 0.8908 \t|\tVal Loss: 0.6642 \t|\tVal Acc: 0.7572\n",
      "=> Saving a new checkpoint\n",
      "Epoch 11/20\n",
      "----------\n",
      "Train OvR: 0.9417 \t|\tTrain Loss: 0.5008 \t|\tTrain Acc: 0.8243\n",
      "Val OvR: 0.8927 \t|\tVal Loss: 0.6567 \t|\tVal Acc: 0.7591\n",
      "=> Saving a new checkpoint\n",
      "Epoch 12/20\n",
      "----------\n",
      "Train OvR: 0.9500 \t|\tTrain Loss: 0.4696 \t|\tTrain Acc: 0.8380\n",
      "Val OvR: 0.8932 \t|\tVal Loss: 0.6488 \t|\tVal Acc: 0.7607\n",
      "=> Saving a new checkpoint\n",
      "Epoch 13/20\n",
      "----------\n",
      "Train OvR: 0.9560 \t|\tTrain Loss: 0.4401 \t|\tTrain Acc: 0.8501\n",
      "Val OvR: 0.8954 \t|\tVal Loss: 0.6491 \t|\tVal Acc: 0.7687\n",
      "=> Saving a new checkpoint\n",
      "Epoch 14/20\n",
      "----------\n",
      "Train OvR: 0.9621 \t|\tTrain Loss: 0.4116 \t|\tTrain Acc: 0.8619\n",
      "Val OvR: 0.8958 \t|\tVal Loss: 0.6424 \t|\tVal Acc: 0.7748\n",
      "=> Saving a new checkpoint\n",
      "Epoch 15/20\n",
      "----------\n",
      "Train OvR: 0.9691 \t|\tTrain Loss: 0.3794 \t|\tTrain Acc: 0.8745\n",
      "Val OvR: 0.8967 \t|\tVal Loss: 0.6406 \t|\tVal Acc: 0.7738\n",
      "=> Saving a new checkpoint\n",
      "Epoch 16/20\n",
      "----------\n",
      "Train OvR: 0.9751 \t|\tTrain Loss: 0.3502 \t|\tTrain Acc: 0.8882\n",
      "Val OvR: 0.8993 \t|\tVal Loss: 0.6324 \t|\tVal Acc: 0.7767\n",
      "=> Saving a new checkpoint\n",
      "Epoch 17/20\n",
      "----------\n",
      "Train OvR: 0.9767 \t|\tTrain Loss: 0.3421 \t|\tTrain Acc: 0.8919\n",
      "Val OvR: 0.8995 \t|\tVal Loss: 0.6315 \t|\tVal Acc: 0.7786\n",
      "=> Saving a new checkpoint\n",
      "Epoch 18/20\n",
      "----------\n",
      "Train OvR: 0.9780 \t|\tTrain Loss: 0.3354 \t|\tTrain Acc: 0.8944\n",
      "Val OvR: 0.8994 \t|\tVal Loss: 0.6318 \t|\tVal Acc: 0.7758\n",
      "=> Saving a new checkpoint\n",
      "Epoch 19/20\n",
      "----------\n",
      "Train OvR: 0.9789 \t|\tTrain Loss: 0.3305 \t|\tTrain Acc: 0.8956\n",
      "Val OvR: 0.8991 \t|\tVal Loss: 0.6320 \t|\tVal Acc: 0.7786\n",
      "=> Saving a new checkpoint\n",
      "Epoch 20/20\n",
      "----------\n",
      "Train OvR: 0.9800 \t|\tTrain Loss: 0.3221 \t|\tTrain Acc: 0.9005\n",
      "Val OvR: 0.9003 \t|\tVal Loss: 0.6325 \t|\tVal Acc: 0.7796\n",
      "=> Saving a new checkpoint\n",
      "\n",
      "Training completed after: 81m 54s\n",
      "Best epoch: 20\n",
      "Best val OvR: 0.9003\n"
     ]
    }
   ],
   "source": [
    "from torchvision import models\n",
    "import torch\n",
    "import torch.nn as nn\n",
    "import torch.optim as optim\n",
    "from torch.optim import lr_scheduler\n",
    "from torchvision.models import (ResNet18_Weights)\n",
    "from torch.utils.data import DataLoader\n",
    "import torch\n",
    "import torchvision as tv\n",
    "import modular.dataset as m_dataset\n",
    "import modular.utility as m_utility\n",
    "import modular.engine as engine\n",
    "import modular.models as m_models\n",
    "\n",
    "# Set seed\n",
    "m_utility.set_seed(42)\n",
    "\n",
    "# Build the dataframes\n",
    "data_dir = 'data.etl'\n",
    "data_folder = '512'\n",
    "train_df, _, mapping = m_dataset.get_df(data_dir, data_folder)\n",
    "\n",
    "device = 'cuda' if torch.cuda.is_available() else 'cpu'\n",
    "\n",
    "out_features = len(mapping)\n",
    "model = m_models.ResNet18_Melanoma(out_features)\n",
    "model = model.to(device)\n",
    "\n",
    "criterion = nn.CrossEntropyLoss()\n",
    "\n",
    "# Observe that all parameters are being optimized\n",
    "optimizer = optim.SGD(model.parameters(), lr=LEARNING_RATE, momentum=0.9)\n",
    "\n",
    "# Decay LR by a factor of 0.1 every 7 epochs\n",
    "scheduler = lr_scheduler.StepLR(optimizer, step_size=STEP_SIZE, gamma=GAMMA)\n",
    "\n",
    "\n",
    "# Mapping from id to classname\n",
    "idx_to_class = { k : classname for classname, k in mapping.items() }\n",
    "\n",
    "# Train and validate dataset & dataloader\n",
    "train_df, validate_df = m_dataset.train_validate_split(train_df,\n",
    "                                                       random_state=42,\n",
    "                                                       validate_size=0.2)\n",
    "\n",
    "validate_df, test_df = m_dataset.train_validate_split(validate_df,\n",
    "                                                      random_state=42,\n",
    "                                                      validate_size=0.5)\n",
    "\n",
    "\n",
    "train_transforms, val_transforms = m_dataset.get_transforms(image_size=256)\n",
    "train_transforms = val_transforms\n",
    "\n",
    "train_dataset = m_dataset.MelanomaDataset(train_df,\n",
    "                                          mode='train',\n",
    "                                          transforms=train_transforms,\n",
    "                                          idx_to_class=idx_to_class)\n",
    "validate_dataset = m_dataset.MelanomaDataset(validate_df,\n",
    "                                             mode='validate',\n",
    "                                             transforms=val_transforms,\n",
    "                                             idx_to_class=idx_to_class)\n",
    "\n",
    "batch_size = BATCH_SIZE\n",
    "\n",
    "train_dataloader = DataLoader(train_dataset, batch_size=batch_size, shuffle=True)\n",
    "validate_dataloader = DataLoader(validate_dataset, batch_size=batch_size, shuffle=False)\n",
    "\n",
    "# Dataloaders\n",
    "dataloaders = {\n",
    "    'train': train_dataloader,\n",
    "    'val': validate_dataloader,\n",
    "}\n",
    "\n",
    "datasets_size = {\n",
    "    'train': len(train_dataset),\n",
    "    'val': len(validate_dataset),\n",
    "}\n",
    "\n",
    "about_data = {\n",
    "    'dataloaders': dataloaders,\n",
    "    'datasets': {\n",
    "        'size': datasets_size\n",
    "    }\n",
    "}\n",
    "\n",
    "MEL_IDX = 6 # Check data exploration notebook\n",
    "VAL_TIMES = 4\n",
    "\n",
    "model_ft, stats = engine.train_model(model,\n",
    "                                     MEL_IDX,\n",
    "                                     about_data,\n",
    "                                     device,\n",
    "                                     criterion,\n",
    "                                     optimizer,\n",
    "                                     scheduler,\n",
    "                                     num_epochs=EPOCHS,\n",
    "                                     writter=writter,\n",
    "                                     val_times=VAL_TIMES)"
   ]
  },
  {
   "cell_type": "code",
   "execution_count": 15,
   "metadata": {
    "execution": {
     "iopub.execute_input": "2023-06-22T09:47:21.787459Z",
     "iopub.status.busy": "2023-06-22T09:47:21.786844Z",
     "iopub.status.idle": "2023-06-22T09:47:38.332320Z",
     "shell.execute_reply": "2023-06-22T09:47:38.330908Z"
    },
    "id": "ka6lcM-fTu9k"
   },
   "outputs": [
    {
     "name": "stderr",
     "output_type": "stream",
     "text": [
      "\u001b[34m\u001b[1mwandb\u001b[0m: Waiting for W&B process to finish... \u001b[32m(success).\u001b[0m\n",
      "\u001b[34m\u001b[1mwandb\u001b[0m: \n",
      "\u001b[34m\u001b[1mwandb\u001b[0m: Run history:\n",
      "\u001b[34m\u001b[1mwandb\u001b[0m:  train_acc ▁▃▃▄▄▄▅▅▅▆▆▆▇▇▇█████\n",
      "\u001b[34m\u001b[1mwandb\u001b[0m: train_loss █▆▅▅▄▄▄▃▃▃▃▂▂▂▁▁▁▁▁▁\n",
      "\u001b[34m\u001b[1mwandb\u001b[0m:  train_ovr ▁▄▅▅▆▆▆▆▇▇▇▇▇███████\n",
      "\u001b[34m\u001b[1mwandb\u001b[0m:    val_acc ▁▃▃▄▅▅▆▆▆▇▇▇▇███████\n",
      "\u001b[34m\u001b[1mwandb\u001b[0m:   val_loss █▆▅▄▄▃▃▂▂▂▂▁▁▁▁▁▁▁▁▁\n",
      "\u001b[34m\u001b[1mwandb\u001b[0m:    val_ovr ▁▃▄▅▅▆▆▇▇▇▇▇████████\n",
      "\u001b[34m\u001b[1mwandb\u001b[0m: \n",
      "\u001b[34m\u001b[1mwandb\u001b[0m: Run summary:\n",
      "\u001b[34m\u001b[1mwandb\u001b[0m:  train_acc 0.9005\n",
      "\u001b[34m\u001b[1mwandb\u001b[0m: train_loss 0.3221\n",
      "\u001b[34m\u001b[1mwandb\u001b[0m:  train_ovr 0.98\n",
      "\u001b[34m\u001b[1mwandb\u001b[0m:    val_acc 0.7796\n",
      "\u001b[34m\u001b[1mwandb\u001b[0m:   val_loss 0.6325\n",
      "\u001b[34m\u001b[1mwandb\u001b[0m:    val_ovr 0.9003\n",
      "\u001b[34m\u001b[1mwandb\u001b[0m: \n",
      "\u001b[34m\u001b[1mwandb\u001b[0m: 🚀 View run \u001b[33mResNet18_V1\u001b[0m at: \u001b[34m\u001b[4mhttps://wandb.ai/wilberquito/melanoma_thesis/runs/2npoo4gg\u001b[0m\n",
      "\u001b[34m\u001b[1mwandb\u001b[0m: Synced 6 W&B file(s), 0 media file(s), 0 artifact file(s) and 0 other file(s)\n",
      "\u001b[34m\u001b[1mwandb\u001b[0m: Find logs at: \u001b[35m\u001b[1m./wandb/run-20230622_082511-2npoo4gg/logs\u001b[0m\n"
     ]
    }
   ],
   "source": [
    "wandb.finish()"
   ]
  },
  {
   "cell_type": "code",
   "execution_count": 16,
   "metadata": {
    "colab": {
     "base_uri": "https://localhost:8080/",
     "height": 570
    },
    "execution": {
     "iopub.execute_input": "2023-06-22T09:47:38.339359Z",
     "iopub.status.busy": "2023-06-22T09:47:38.338613Z",
     "iopub.status.idle": "2023-06-22T09:47:39.125183Z",
     "shell.execute_reply": "2023-06-22T09:47:39.124309Z"
    },
    "id": "_0p-BzX4X7jK",
    "outputId": "2f7cbeab-6e9d-44ab-c8d7-0cc19d3439cf"
   },
   "outputs": [
    {
     "data": {
      "image/png": "[encoded data removed]",
      "text/plain": [
       "<Figure size 2100x700 with 3 Axes>"
      ]
     },
     "metadata": {},
     "output_type": "display_data"
    }
   ],
   "source": [
    "m_utility.plot_curves(stats)"
   ]
  },
  {
   "cell_type": "code",
   "execution_count": 17,
   "metadata": {
    "colab": {
     "base_uri": "https://localhost:8080/",
     "height": 17
    },
    "execution": {
     "iopub.execute_input": "2023-06-22T09:47:39.132469Z",
     "iopub.status.busy": "2023-06-22T09:47:39.132252Z",
     "iopub.status.idle": "2023-06-22T09:47:39.137043Z",
     "shell.execute_reply": "2023-06-22T09:47:39.136133Z"
    },
    "id": "Xe3CwpWaHG7S",
    "outputId": "f146ee8a-820a-4fea-8978-b2499770a288"
   },
   "outputs": [],
   "source": [
    "if IN_COLAB:\n",
    "  from google.colab import files\n",
    "  files.download('resnet18_v1.pth.tar')\n",
    "  files.download('resnet18_v1.csv')"
   ]
  }
 ],
 "metadata": {
  "accelerator": "GPU",
  "colab": {
   "gpuType": "T4",
   "include_colab_link": true,
   "provenance": []
  },
  "kernelspec": {
   "display_name": "Python 3",
   "name": "python3"
  },
  "language_info": {
   "codemirror_mode": {
    "name": "ipython",
    "version": 3
   },
   "file_extension": ".py",
   "mimetype": "text/x-python",
   "name": "python",
   "nbconvert_exporter": "python",
   "pygments_lexer": "ipython3",
   "version": "3.10.11"
  }
 },
 "nbformat": 4,
 "nbformat_minor": 0
}
