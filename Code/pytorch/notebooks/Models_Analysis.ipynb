{
  "nbformat": 4,
  "nbformat_minor": 0,
  "metadata": {
    "colab": {
      "provenance": [],
      "authorship_tag": "ABX9TyMDsDNLGgH3mPoDLMZfr5wE",
      "include_colab_link": true
    },
    "kernelspec": {
      "name": "python3",
      "display_name": "Python 3"
    },
    "language_info": {
      "name": "python"
    }
  },
  "cells": [
    {
      "cell_type": "markdown",
      "metadata": {
        "id": "view-in-github",
        "colab_type": "text"
      },
      "source": [
        "<a href=\"https://colab.research.google.com/github/wilberquito/melanoma.thesis/blob/main/Code/pytorch/notebooks/Models_Analysis.ipynb\" target=\"_parent\"><img src=\"https://colab.research.google.com/assets/colab-badge.svg\" alt=\"Open In Colab\"/></a>"
      ]
    },
    {
      "cell_type": "markdown",
      "source": [
        "# Models Analysis"
      ],
      "metadata": {
        "id": "dwrFOg7EUYSK"
      }
    },
    {
      "cell_type": "code",
      "source": [
        "!pip install wandb torchinfo >/dev/null 2>&1"
      ],
      "metadata": {
        "id": "dSyGAQGfUumq"
      },
      "execution_count": 1,
      "outputs": []
    },
    {
      "cell_type": "code",
      "source": [
        "try:\n",
        "    import torchmetrics, mlxtend\n",
        "    print(f\"mlxtend version: {mlxtend.__version__}\")\n",
        "    assert int(mlxtend.__version__.split(\".\")[1]) >= 19, \"mlxtend verison should be 0.19.0 or higher\"\n",
        "except:\n",
        "    !pip install -q torchmetrics -U mlxtend # <- Note: If you're using Google Colab, this may require restarting the runtime\n",
        "    import torchmetrics, mlxtend\n",
        "    print(f\"mlxtend version: {mlxtend.__version__}\")"
      ],
      "metadata": {
        "colab": {
          "base_uri": "https://localhost:8080/"
        },
        "id": "PUmMUZRsUsqq",
        "outputId": "83182487-0f96-498a-ee65-64f232fe9521"
      },
      "execution_count": 2,
      "outputs": [
        {
          "output_type": "stream",
          "name": "stdout",
          "text": [
            "\u001b[?25l     \u001b[90m━━━━━━━━━━━━━━━━━━━━━━━━━━━━━━━━━━━━━━━━\u001b[0m \u001b[32m0.0/729.2 kB\u001b[0m \u001b[31m?\u001b[0m eta \u001b[36m-:--:--\u001b[0m\r\u001b[2K     \u001b[91m━━━━━━━━━━━━━━\u001b[0m\u001b[91m╸\u001b[0m\u001b[90m━━━━━━━━━━━━━━━━━━━━━━━━\u001b[0m \u001b[32m276.5/729.2 kB\u001b[0m \u001b[31m8.0 MB/s\u001b[0m eta \u001b[36m0:00:01\u001b[0m\r\u001b[2K     \u001b[91m━━━━━━━━━━━━━━━━━━━━━━━━━━━━━━━━━━━━━\u001b[0m\u001b[91m╸\u001b[0m \u001b[32m727.0/729.2 kB\u001b[0m \u001b[31m11.4 MB/s\u001b[0m eta \u001b[36m0:00:01\u001b[0m\r\u001b[2K     \u001b[90m━━━━━━━━━━━━━━━━━━━━━━━━━━━━━━━━━━━━━━━\u001b[0m \u001b[32m729.2/729.2 kB\u001b[0m \u001b[31m8.8 MB/s\u001b[0m eta \u001b[36m0:00:00\u001b[0m\n",
            "\u001b[?25hmlxtend version: 0.22.0\n"
          ]
        }
      ]
    },
    {
      "cell_type": "code",
      "source": [
        "import requests\n",
        "from pathlib import Path\n",
        "import pandas as pd\n",
        "import seaborn as sns\n",
        "from zipfile import ZipFile\n",
        "\n",
        "try:\n",
        "    import google.colab\n",
        "    from google.colab import drive\n",
        "    IN_COLAB = True\n",
        "    drive.mount('/content/drive')\n",
        "except:\n",
        "    IN_COLAB = False\n",
        "\n",
        "print(f\"In colab: {IN_COLAB}\")"
      ],
      "metadata": {
        "colab": {
          "base_uri": "https://localhost:8080/"
        },
        "id": "QmcTEn95VCGP",
        "outputId": "a58c8de0-9149-4377-9813-702cab1a43f8"
      },
      "execution_count": 4,
      "outputs": [
        {
          "output_type": "stream",
          "name": "stdout",
          "text": [
            "Mounted at /content/drive\n",
            "In colab: True\n"
          ]
        }
      ]
    },
    {
      "cell_type": "code",
      "source": [
        "def pull_code():\n",
        "  print(\"Unzipping the code from google drive\")\n",
        "  !rm -rf modular/\n",
        "  !unzip ./drive/MyDrive/wilberquito_thesis/modular.zip -d . >/dev/null 2>&1\n",
        "\n",
        "if IN_COLAB:\n",
        "    pull_code()"
      ],
      "metadata": {
        "colab": {
          "base_uri": "https://localhost:8080/"
        },
        "id": "QzpiSlGgUzNw",
        "outputId": "d8ce360a-e554-430e-fa83-b009b8d29b2f"
      },
      "execution_count": 5,
      "outputs": [
        {
          "output_type": "stream",
          "name": "stdout",
          "text": [
            "Unzipping the code from google drive\n"
          ]
        }
      ]
    },
    {
      "cell_type": "markdown",
      "source": [
        "## Transfer Learning Model (ResNet-18)"
      ],
      "metadata": {
        "id": "mRyoqkPjUhRs"
      }
    },
    {
      "cell_type": "code",
      "source": [
        "import torchinfo\n",
        "from torchvision.models import (resnet18,\n",
        "                                ResNet18_Weights)\n",
        "\n",
        "model = resnet18(weights=ResNet18_Weights.IMAGENET1K_V1)\n",
        "\n",
        "torchinfo.summary(model,\n",
        "                  (3, 256, 256),\n",
        "                  batch_dim = 0,\n",
        "                  depth=2,\n",
        "                  col_names = (\"input_size\", 'output_size', 'num_params'),\n",
        "                  verbose = 0)"
      ],
      "metadata": {
        "colab": {
          "base_uri": "https://localhost:8080/"
        },
        "id": "yRmgak13UhCJ",
        "outputId": "e801dcf3-3b79-4fcf-e181-d49b75a14eb5"
      },
      "execution_count": 6,
      "outputs": [
        {
          "output_type": "stream",
          "name": "stderr",
          "text": [
            "Downloading: \"https://download.pytorch.org/models/resnet18-f37072fd.pth\" to /root/.cache/torch/hub/checkpoints/resnet18-f37072fd.pth\n",
            "100%|██████████| 44.7M/44.7M [00:00<00:00, 111MB/s]\n"
          ]
        },
        {
          "output_type": "execute_result",
          "data": {
            "text/plain": [
              "===================================================================================================================\n",
              "Layer (type:depth-idx)                   Input Shape               Output Shape              Param #\n",
              "===================================================================================================================\n",
              "ResNet                                   [1, 3, 256, 256]          [1, 1000]                 --\n",
              "├─Conv2d: 1-1                            [1, 3, 256, 256]          [1, 64, 128, 128]         9,408\n",
              "├─BatchNorm2d: 1-2                       [1, 64, 128, 128]         [1, 64, 128, 128]         128\n",
              "├─ReLU: 1-3                              [1, 64, 128, 128]         [1, 64, 128, 128]         --\n",
              "├─MaxPool2d: 1-4                         [1, 64, 128, 128]         [1, 64, 64, 64]           --\n",
              "├─Sequential: 1-5                        [1, 64, 64, 64]           [1, 64, 64, 64]           --\n",
              "│    └─BasicBlock: 2-1                   [1, 64, 64, 64]           [1, 64, 64, 64]           73,984\n",
              "│    └─BasicBlock: 2-2                   [1, 64, 64, 64]           [1, 64, 64, 64]           73,984\n",
              "├─Sequential: 1-6                        [1, 64, 64, 64]           [1, 128, 32, 32]          --\n",
              "│    └─BasicBlock: 2-3                   [1, 64, 64, 64]           [1, 128, 32, 32]          230,144\n",
              "│    └─BasicBlock: 2-4                   [1, 128, 32, 32]          [1, 128, 32, 32]          295,424\n",
              "├─Sequential: 1-7                        [1, 128, 32, 32]          [1, 256, 16, 16]          --\n",
              "│    └─BasicBlock: 2-5                   [1, 128, 32, 32]          [1, 256, 16, 16]          919,040\n",
              "│    └─BasicBlock: 2-6                   [1, 256, 16, 16]          [1, 256, 16, 16]          1,180,672\n",
              "├─Sequential: 1-8                        [1, 256, 16, 16]          [1, 512, 8, 8]            --\n",
              "│    └─BasicBlock: 2-7                   [1, 256, 16, 16]          [1, 512, 8, 8]            3,673,088\n",
              "│    └─BasicBlock: 2-8                   [1, 512, 8, 8]            [1, 512, 8, 8]            4,720,640\n",
              "├─AdaptiveAvgPool2d: 1-9                 [1, 512, 8, 8]            [1, 512, 1, 1]            --\n",
              "├─Linear: 1-10                           [1, 512]                  [1, 1000]                 513,000\n",
              "===================================================================================================================\n",
              "Total params: 11,689,512\n",
              "Trainable params: 11,689,512\n",
              "Non-trainable params: 0\n",
              "Total mult-adds (G): 2.37\n",
              "===================================================================================================================\n",
              "Input size (MB): 0.79\n",
              "Forward/backward pass size (MB): 51.91\n",
              "Params size (MB): 46.76\n",
              "Estimated Total Size (MB): 99.46\n",
              "==================================================================================================================="
            ]
          },
          "metadata": {},
          "execution_count": 6
        }
      ]
    },
    {
      "cell_type": "markdown",
      "source": [
        "## ResNet18_Melanoma"
      ],
      "metadata": {
        "id": "-uDM-VvhU3W3"
      }
    },
    {
      "cell_type": "code",
      "execution_count": 7,
      "metadata": {
        "colab": {
          "base_uri": "https://localhost:8080/"
        },
        "id": "zdOKpr-wUOkJ",
        "outputId": "ae2fa02d-153e-4c32-e3e2-78f328b30ebf"
      },
      "outputs": [
        {
          "output_type": "execute_result",
          "data": {
            "text/plain": [
              "========================================================================================================================\n",
              "Layer (type:depth-idx)                        Input Shape               Output Shape              Param #\n",
              "========================================================================================================================\n",
              "ResNet18_Melanoma                             [1, 3, 256, 256]          [1, 8]                    --\n",
              "├─ResNet: 1-1                                 [1, 3, 256, 256]          [1, 512]                  --\n",
              "│    └─Conv2d: 2-1                            [1, 3, 256, 256]          [1, 64, 128, 128]         9,408\n",
              "│    └─BatchNorm2d: 2-2                       [1, 64, 128, 128]         [1, 64, 128, 128]         128\n",
              "│    └─ReLU: 2-3                              [1, 64, 128, 128]         [1, 64, 128, 128]         --\n",
              "│    └─MaxPool2d: 2-4                         [1, 64, 128, 128]         [1, 64, 64, 64]           --\n",
              "│    └─Sequential: 2-5                        [1, 64, 64, 64]           [1, 64, 64, 64]           147,968\n",
              "│    └─Sequential: 2-6                        [1, 64, 64, 64]           [1, 128, 32, 32]          525,568\n",
              "│    └─Sequential: 2-7                        [1, 128, 32, 32]          [1, 256, 16, 16]          2,099,712\n",
              "│    └─Sequential: 2-8                        [1, 256, 16, 16]          [1, 512, 8, 8]            8,393,728\n",
              "│    └─AdaptiveAvgPool2d: 2-9                 [1, 512, 8, 8]            [1, 512, 1, 1]            --\n",
              "│    └─Identity: 2-10                         [1, 512]                  [1, 512]                  --\n",
              "├─Linear: 1-2                                 [1, 512]                  [1, 8]                    4,104\n",
              "========================================================================================================================\n",
              "Total params: 11,180,616\n",
              "Trainable params: 11,180,616\n",
              "Non-trainable params: 0\n",
              "Total mult-adds (G): 2.37\n",
              "========================================================================================================================\n",
              "Input size (MB): 0.79\n",
              "Forward/backward pass size (MB): 51.90\n",
              "Params size (MB): 44.72\n",
              "Estimated Total Size (MB): 97.41\n",
              "========================================================================================================================"
            ]
          },
          "metadata": {},
          "execution_count": 7
        }
      ],
      "source": [
        "import torchinfo\n",
        "import modular.models as m_models\n",
        "\n",
        "out_size = 8\n",
        "model = m_models.ResNet18_Melanoma(out_size)\n",
        "\n",
        "torchinfo.summary(model,\n",
        "                  (3, 256, 256),\n",
        "                  batch_dim = 0,\n",
        "                  depth=2,\n",
        "                  col_names = (\"input_size\", 'output_size', 'num_params'),\n",
        "                  verbose = 0)"
      ]
    },
    {
      "cell_type": "code",
      "source": [
        "import torchinfo\n",
        "import modular.models as m_models\n",
        "\n",
        "out_size = 8\n",
        "model = m_models.ResNet18_Dropout_Melanoma(out_size)\n",
        "\n",
        "torchinfo.summary(model,\n",
        "                  (3, 256, 256),\n",
        "                  batch_dim = 0,\n",
        "                  depth=2,\n",
        "                  col_names = (\"input_size\", 'output_size', 'num_params'),\n",
        "                  verbose = 0)"
      ],
      "metadata": {
        "colab": {
          "base_uri": "https://localhost:8080/"
        },
        "id": "0ApurcmqVH7l",
        "outputId": "28489cf5-3387-4a53-ec56-3e61058a8414"
      },
      "execution_count": 8,
      "outputs": [
        {
          "output_type": "execute_result",
          "data": {
            "text/plain": [
              "========================================================================================================================\n",
              "Layer (type:depth-idx)                        Input Shape               Output Shape              Param #\n",
              "========================================================================================================================\n",
              "ResNet18_Dropout_Melanoma                     [1, 3, 256, 256]          [1, 8]                    --\n",
              "├─ResNet: 1-1                                 [1, 3, 256, 256]          [1, 512]                  --\n",
              "│    └─Conv2d: 2-1                            [1, 3, 256, 256]          [1, 64, 128, 128]         9,408\n",
              "│    └─BatchNorm2d: 2-2                       [1, 64, 128, 128]         [1, 64, 128, 128]         128\n",
              "│    └─ReLU: 2-3                              [1, 64, 128, 128]         [1, 64, 128, 128]         --\n",
              "│    └─MaxPool2d: 2-4                         [1, 64, 128, 128]         [1, 64, 64, 64]           --\n",
              "│    └─Sequential: 2-5                        [1, 64, 64, 64]           [1, 64, 64, 64]           147,968\n",
              "│    └─Sequential: 2-6                        [1, 64, 64, 64]           [1, 128, 32, 32]          525,568\n",
              "│    └─Sequential: 2-7                        [1, 128, 32, 32]          [1, 256, 16, 16]          2,099,712\n",
              "│    └─Sequential: 2-8                        [1, 256, 16, 16]          [1, 512, 8, 8]            8,393,728\n",
              "│    └─AdaptiveAvgPool2d: 2-9                 [1, 512, 8, 8]            [1, 512, 1, 1]            --\n",
              "│    └─Identity: 2-10                         [1, 512]                  [1, 512]                  --\n",
              "├─ModuleList: 1-10                            --                        --                        --\n",
              "│    └─Dropout: 2-11                          [1, 512]                  [1, 512]                  --\n",
              "├─Linear: 1-3                                 [1, 512]                  [1, 8]                    4,104\n",
              "├─ModuleList: 1-10                            --                        --                        --\n",
              "│    └─Dropout: 2-12                          [1, 512]                  [1, 512]                  --\n",
              "├─Linear: 1-5                                 [1, 512]                  [1, 8]                    (recursive)\n",
              "├─ModuleList: 1-10                            --                        --                        --\n",
              "│    └─Dropout: 2-13                          [1, 512]                  [1, 512]                  --\n",
              "├─Linear: 1-7                                 [1, 512]                  [1, 8]                    (recursive)\n",
              "├─ModuleList: 1-10                            --                        --                        --\n",
              "│    └─Dropout: 2-14                          [1, 512]                  [1, 512]                  --\n",
              "├─Linear: 1-9                                 [1, 512]                  [1, 8]                    (recursive)\n",
              "├─ModuleList: 1-10                            --                        --                        --\n",
              "│    └─Dropout: 2-15                          [1, 512]                  [1, 512]                  --\n",
              "├─Linear: 1-11                                [1, 512]                  [1, 8]                    (recursive)\n",
              "========================================================================================================================\n",
              "Total params: 11,180,616\n",
              "Trainable params: 11,180,616\n",
              "Non-trainable params: 0\n",
              "Total mult-adds (G): 2.37\n",
              "========================================================================================================================\n",
              "Input size (MB): 0.79\n",
              "Forward/backward pass size (MB): 51.90\n",
              "Params size (MB): 44.72\n",
              "Estimated Total Size (MB): 97.41\n",
              "========================================================================================================================"
            ]
          },
          "metadata": {},
          "execution_count": 8
        }
      ]
    }
  ]
}