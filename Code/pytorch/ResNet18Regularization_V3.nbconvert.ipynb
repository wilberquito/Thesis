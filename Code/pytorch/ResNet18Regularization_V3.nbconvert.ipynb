{
 "cells": [
  {
   "cell_type": "markdown",
   "metadata": {
    "colab_type": "text",
    "id": "view-in-github"
   },
   "source": [
    "<a href=\"https://colab.research.google.com/github/wilberquito/Thesis/blob/main/Code/pytorch/notebooks/resnet18/ResNet18Regularization_V3.ipynb\" target=\"_parent\"><img src=\"https://colab.research.google.com/assets/colab-badge.svg\" alt=\"Open In Colab\"/></a>"
   ]
  },
  {
   "cell_type": "code",
   "execution_count": 1,
   "metadata": {
    "execution": {
     "iopub.execute_input": "2023-06-28T07:56:49.534787Z",
     "iopub.status.busy": "2023-06-28T07:56:49.534065Z",
     "iopub.status.idle": "2023-06-28T07:56:51.661140Z",
     "shell.execute_reply": "2023-06-28T07:56:51.659714Z"
    },
    "id": "x0yf8OXuYKe-"
   },
   "outputs": [],
   "source": [
    "!pip install wandb >/dev/null 2>&1"
   ]
  },
  {
   "cell_type": "code",
   "execution_count": 2,
   "metadata": {
    "execution": {
     "iopub.execute_input": "2023-06-28T07:56:51.668060Z",
     "iopub.status.busy": "2023-06-28T07:56:51.667517Z",
     "iopub.status.idle": "2023-06-28T07:56:54.742326Z",
     "shell.execute_reply": "2023-06-28T07:56:54.741311Z"
    },
    "id": "TMY_Bn5cYWxR"
   },
   "outputs": [
    {
     "name": "stdout",
     "output_type": "stream",
     "text": [
      "mlxtend version: 0.22.0\n"
     ]
    }
   ],
   "source": [
    "try:\n",
    "    import torchmetrics, mlxtend\n",
    "    print(f\"mlxtend version: {mlxtend.__version__}\")\n",
    "    assert int(mlxtend.__version__.split(\".\")[1]) >= 19, \"mlxtend verison should be 0.19.0 or higher\"\n",
    "except:\n",
    "    !pip install -q torchmetrics -U mlxtend # <- Note: If you're using Google Colab, this may require restarting the runtime\n",
    "    import torchmetrics, mlxtend\n",
    "    print(f\"mlxtend version: {mlxtend.__version__}\")"
   ]
  },
  {
   "cell_type": "code",
   "execution_count": 3,
   "metadata": {
    "execution": {
     "iopub.execute_input": "2023-06-28T07:56:54.786776Z",
     "iopub.status.busy": "2023-06-28T07:56:54.786568Z",
     "iopub.status.idle": "2023-06-28T07:56:56.285209Z",
     "shell.execute_reply": "2023-06-28T07:56:56.283846Z"
    },
    "id": "Moi9AJc3YYch"
   },
   "outputs": [
    {
     "name": "stdout",
     "output_type": "stream",
     "text": [
      "In colab: False\n"
     ]
    }
   ],
   "source": [
    "import requests\n",
    "from pathlib import Path\n",
    "import pandas as pd\n",
    "import seaborn as sns\n",
    "from zipfile import ZipFile\n",
    "\n",
    "try:\n",
    "    import google.colab\n",
    "    from google.colab import drive\n",
    "    IN_COLAB = True\n",
    "    drive.mount('/content/drive')\n",
    "except:\n",
    "    IN_COLAB = False\n",
    "\n",
    "print(f\"In colab: {IN_COLAB}\")"
   ]
  },
  {
   "cell_type": "code",
   "execution_count": 4,
   "metadata": {
    "execution": {
     "iopub.execute_input": "2023-06-28T07:56:56.288439Z",
     "iopub.status.busy": "2023-06-28T07:56:56.288234Z",
     "iopub.status.idle": "2023-06-28T07:56:56.294392Z",
     "shell.execute_reply": "2023-06-28T07:56:56.293384Z"
    },
    "id": "WkSOCpJ0YZ3f"
   },
   "outputs": [],
   "source": [
    "def pull_code():\n",
    "  print(\"Unzipping the code from google drive\")\n",
    "  !rm -rf modular/\n",
    "  !unzip ./drive/MyDrive/wilberquito_thesis/modular.zip -d . >/dev/null 2>&1\n",
    "\n",
    "if IN_COLAB:\n",
    "    pull_code()"
   ]
  },
  {
   "cell_type": "code",
   "execution_count": 5,
   "metadata": {
    "execution": {
     "iopub.execute_input": "2023-06-28T07:56:56.297265Z",
     "iopub.status.busy": "2023-06-28T07:56:56.297100Z",
     "iopub.status.idle": "2023-06-28T07:56:56.303826Z",
     "shell.execute_reply": "2023-06-28T07:56:56.302870Z"
    },
    "id": "wglDxVr2Ybqw"
   },
   "outputs": [],
   "source": [
    "def pull_data():\n",
    "  answer = input(\"You sure? Y/n\\n\")\n",
    "  if answer != \"Y\":\n",
    "    return\n",
    "\n",
    "  print(\"Unzipping the data from google drive\")\n",
    "  !rm -rf data.etl/\n",
    "  !unzip ./drive/MyDrive/wilberquito_thesis/data.zip -d . >/dev/null 2>&1\n",
    "\n",
    "if IN_COLAB:\n",
    "    pull_data()"
   ]
  },
  {
   "cell_type": "code",
   "execution_count": 6,
   "metadata": {
    "execution": {
     "iopub.execute_input": "2023-06-28T07:56:56.306596Z",
     "iopub.status.busy": "2023-06-28T07:56:56.306423Z",
     "iopub.status.idle": "2023-06-28T07:56:57.272145Z",
     "shell.execute_reply": "2023-06-28T07:56:57.270286Z"
    },
    "id": "FEkHHlfiYdOz"
   },
   "outputs": [
    {
     "name": "stdout",
     "output_type": "stream",
     "text": [
      "Wed Jun 28 07:56:56 2023       \r\n",
      "+-----------------------------------------------------------------------------+\r\n",
      "| NVIDIA-SMI 515.105.01   Driver Version: 515.105.01   CUDA Version: 11.7     |\r\n",
      "|-------------------------------+----------------------+----------------------+\r\n",
      "| GPU  Name        Persistence-M| Bus-Id        Disp.A | Volatile Uncorr. ECC |\r\n",
      "| Fan  Temp  Perf  Pwr:Usage/Cap|         Memory-Usage | GPU-Util  Compute M. |\r\n",
      "|                               |                      |               MIG M. |\r\n",
      "|===============================+======================+======================|\r\n",
      "|   0  NVIDIA A100 80G...  Off  | 00000000:31:00.0 Off |                   On |\r\n",
      "| N/A   45C    P0    47W / 300W |      0MiB / 81920MiB |     N/A      Default |\r\n",
      "|                               |                      |              Enabled |\r\n",
      "+-------------------------------+----------------------+----------------------+\r\n",
      "|   1  NVIDIA A100 80G...  Off  | 00000000:4B:00.0 Off |                   On |\r\n",
      "| N/A   49C    P0    45W / 300W |      0MiB / 81920MiB |     N/A      Default |\r\n",
      "|                               |                      |              Enabled |\r\n",
      "+-------------------------------+----------------------+----------------------+\r\n",
      "|   2  NVIDIA A100 80G...  Off  | 00000000:B1:00.0 Off |                    0 |\r\n",
      "| N/A   43C    P0    44W / 300W |      0MiB / 81920MiB |      0%      Default |\r\n",
      "|                               |                      |             Disabled |\r\n",
      "+-------------------------------+----------------------+----------------------+\r\n",
      "|   3  NVIDIA A100 80G...  Off  | 00000000:CA:00.0 Off |                    0 |\r\n",
      "| N/A   45C    P0    44W / 300W |      0MiB / 81920MiB |      0%      Default |\r\n",
      "|                               |                      |             Disabled |\r\n",
      "+-------------------------------+----------------------+----------------------+\r\n",
      "\r\n",
      "+-----------------------------------------------------------------------------+\r\n",
      "| MIG devices:                                                                |\r\n",
      "+------------------+----------------------+-----------+-----------------------+\r\n",
      "| GPU  GI  CI  MIG |         Memory-Usage |        Vol|         Shared        |\r\n",
      "|      ID  ID  Dev |           BAR1-Usage | SM     Unc| CE  ENC  DEC  OFA  JPG|\r\n",
      "|                  |                      |        ECC|                       |\r\n",
      "|==================+======================+===========+=======================|\r\n",
      "|  No MIG devices found                                                       |\r\n",
      "+-----------------------------------------------------------------------------+\r\n",
      "                                                                               \r\n",
      "+-----------------------------------------------------------------------------+\r\n",
      "| Processes:                                                                  |\r\n",
      "|  GPU   GI   CI        PID   Type   Process name                  GPU Memory |\r\n",
      "|        ID   ID                                                   Usage      |\r\n",
      "|=============================================================================|\r\n",
      "|  No running processes found                                                 |\r\n",
      "+-----------------------------------------------------------------------------+\r\n"
     ]
    }
   ],
   "source": [
    "!nvidia-smi"
   ]
  },
  {
   "cell_type": "markdown",
   "metadata": {
    "id": "XXyohae1Ye2i"
   },
   "source": [
    "## Scheduler"
   ]
  },
  {
   "cell_type": "code",
   "execution_count": 7,
   "metadata": {
    "execution": {
     "iopub.execute_input": "2023-06-28T07:56:57.279254Z",
     "iopub.status.busy": "2023-06-28T07:56:57.278820Z",
     "iopub.status.idle": "2023-06-28T07:56:57.286856Z",
     "shell.execute_reply": "2023-06-28T07:56:57.285096Z"
    },
    "id": "H4CjcuAeY06l"
   },
   "outputs": [],
   "source": [
    "LEARNING_RATE = 1e-3\n",
    "EPOCHS = 40\n",
    "T_0 = 5\n",
    "T_MULT = 1\n",
    "ETA_MIN = 1e-4\n",
    "PATIENCE = 10"
   ]
  },
  {
   "cell_type": "code",
   "execution_count": 8,
   "metadata": {
    "execution": {
     "iopub.execute_input": "2023-06-28T07:56:57.293148Z",
     "iopub.status.busy": "2023-06-28T07:56:57.292736Z",
     "iopub.status.idle": "2023-06-28T07:56:58.347732Z",
     "shell.execute_reply": "2023-06-28T07:56:58.347038Z"
    },
    "id": "HICfCCisYu0w"
   },
   "outputs": [
    {
     "name": "stderr",
     "output_type": "stream",
     "text": [
      "/home/student2/.local/lib/python3.9/site-packages/torch/cuda/__init__.py:107: UserWarning: CUDA initialization: CUDA driver initialization failed, you might not have a CUDA gpu. (Triggered internally at ../c10/cuda/CUDAFunctions.cpp:109.)\n",
      "  return torch._C._cuda_getDeviceCount() > 0\n"
     ]
    },
    {
     "data": {
      "image/png": "[encoded data removed]",
      "text/plain": [
       "<Figure size 720x360 with 1 Axes>"
      ]
     },
     "metadata": {
      "needs_background": "light"
     },
     "output_type": "display_data"
    }
   ],
   "source": [
    "import torch\n",
    "import torch.optim.lr_scheduler as lr_scheduler # Import your choice of scheduler here\n",
    "import modular.utility as m_utility\n",
    "\n",
    "import matplotlib.pyplot as plt\n",
    "\n",
    "# Set model and optimizer\n",
    "model = torch.nn.Linear(2, 1)\n",
    "optimizer = torch.optim.SGD(model.parameters(), lr=LEARNING_RATE)\n",
    "\n",
    "# Define your scheduler here as described above\n",
    "scheduler = lr_scheduler.CosineAnnealingWarmRestarts(optimizer,\n",
    "                                                     T_0 = T_0,# Number of iterations for the first restart\n",
    "                                                     T_mult = T_MULT, # A factor increases TiTi​ after a restart\n",
    "                                                     eta_min = ETA_MIN) # Minimum learning rate\n",
    "\n",
    "m_utility.plot_learning_rate_scheduler(optimizer,\n",
    "                                       scheduler,\n",
    "                                       LEARNING_RATE,\n",
    "                                       EPOCHS)"
   ]
  },
  {
   "cell_type": "markdown",
   "metadata": {
    "id": "ga6bbWAcY3Fc"
   },
   "source": [
    "## Batch Size"
   ]
  },
  {
   "cell_type": "code",
   "execution_count": 9,
   "metadata": {
    "execution": {
     "iopub.execute_input": "2023-06-28T07:56:58.354268Z",
     "iopub.status.busy": "2023-06-28T07:56:58.354092Z",
     "iopub.status.idle": "2023-06-28T07:56:58.359621Z",
     "shell.execute_reply": "2023-06-28T07:56:58.358346Z"
    },
    "id": "mM3acDSnY2ny"
   },
   "outputs": [],
   "source": [
    "BATCH_SIZE = 1024"
   ]
  },
  {
   "cell_type": "markdown",
   "metadata": {
    "id": "RDD3ODnIY-mx"
   },
   "source": [
    "## WandB"
   ]
  },
  {
   "cell_type": "code",
   "execution_count": 10,
   "metadata": {
    "execution": {
     "iopub.execute_input": "2023-06-28T07:56:58.364721Z",
     "iopub.status.busy": "2023-06-28T07:56:58.364557Z",
     "iopub.status.idle": "2023-06-28T07:56:59.110288Z",
     "shell.execute_reply": "2023-06-28T07:56:59.108540Z"
    },
    "id": "0WKKorQZZAZJ"
   },
   "outputs": [
    {
     "name": "stderr",
     "output_type": "stream",
     "text": [
      "Failed to detect the name of this notebook, you can set it manually with the WANDB_NOTEBOOK_NAME environment variable to enable code saving.\n",
      "\u001b[34m\u001b[1mwandb\u001b[0m: Currently logged in as: \u001b[33mwilberquto\u001b[0m (\u001b[33mwilberquito\u001b[0m). Use \u001b[1m`wandb login --relogin`\u001b[0m to force relogin\n",
      "\u001b[34m\u001b[1mwandb\u001b[0m: \u001b[33mWARNING\u001b[0m If you're specifying your api key in code, ensure this code is not shared publicly.\n",
      "\u001b[34m\u001b[1mwandb\u001b[0m: \u001b[33mWARNING\u001b[0m Consider setting the WANDB_API_KEY environment variable, or running `wandb login` from the command line.\n",
      "\u001b[34m\u001b[1mwandb\u001b[0m: Appending key for api.wandb.ai to your netrc file: /home/student2/.netrc\n"
     ]
    },
    {
     "data": {
      "text/plain": [
       "True"
      ]
     },
     "execution_count": 10,
     "metadata": {},
     "output_type": "execute_result"
    }
   ],
   "source": [
    "import wandb\n",
    "\n",
    "key = \"c1121fe51146c1da87d1139239da7748c4e78665\"\n",
    "wandb.login(key=key)"
   ]
  },
  {
   "cell_type": "code",
   "execution_count": 11,
   "metadata": {
    "execution": {
     "iopub.execute_input": "2023-06-28T07:56:59.117095Z",
     "iopub.status.busy": "2023-06-28T07:56:59.116663Z",
     "iopub.status.idle": "2023-06-28T07:56:59.123432Z",
     "shell.execute_reply": "2023-06-28T07:56:59.121806Z"
    },
    "id": "NWlG8U4VZCck"
   },
   "outputs": [],
   "source": [
    "wandb.finish()"
   ]
  },
  {
   "cell_type": "code",
   "execution_count": 12,
   "metadata": {
    "execution": {
     "iopub.execute_input": "2023-06-28T07:56:59.130043Z",
     "iopub.status.busy": "2023-06-28T07:56:59.129617Z",
     "iopub.status.idle": "2023-06-28T07:57:05.243520Z",
     "shell.execute_reply": "2023-06-28T07:57:05.242472Z"
    },
    "id": "lCpHCc9tZD38"
   },
   "outputs": [
    {
     "data": {
      "text/html": [
       "wandb version 0.15.4 is available!  To upgrade, please run:\n",
       " $ pip install wandb --upgrade"
      ],
      "text/plain": [
       "<IPython.core.display.HTML object>"
      ]
     },
     "metadata": {},
     "output_type": "display_data"
    },
    {
     "data": {
      "text/html": [
       "Tracking run with wandb version 0.12.17"
      ],
      "text/plain": [
       "<IPython.core.display.HTML object>"
      ]
     },
     "metadata": {},
     "output_type": "display_data"
    },
    {
     "data": {
      "text/html": [
       "Run data is saved locally in <code>/home/student2/thesis/pytorch/wandb/run-20230628_075659-19stpuqb</code>"
      ],
      "text/plain": [
       "<IPython.core.display.HTML object>"
      ]
     },
     "metadata": {},
     "output_type": "display_data"
    },
    {
     "data": {
      "text/html": [
       "Syncing run <strong><a href=\"https://wandb.ai/wilberquito/melanoma_thesis/runs/19stpuqb\" target=\"_blank\">ResNet18R_V3</a></strong> to <a href=\"https://wandb.ai/wilberquito/melanoma_thesis\" target=\"_blank\">Weights & Biases</a> (<a href=\"https://wandb.me/run\" target=\"_blank\">docs</a>)<br/>"
      ],
      "text/plain": [
       "<IPython.core.display.HTML object>"
      ]
     },
     "metadata": {},
     "output_type": "display_data"
    },
    {
     "data": {
      "text/html": [
       "<button onClick=\"this.nextSibling.style.display='block';this.style.display='none';\">Display W&B run</button><iframe src=\"https://wandb.ai/wilberquito/melanoma_thesis/runs/19stpuqb?jupyter=true\" style=\"border:none;width:100%;height:420px;display:none;\"></iframe>"
      ],
      "text/plain": [
       "<wandb.sdk.wandb_run.Run at 0x7f5a840efeb0>"
      ]
     },
     "execution_count": 12,
     "metadata": {},
     "output_type": "execute_result"
    }
   ],
   "source": [
    "wandb.init(\n",
    "    # set the wandb project where this run will be logged\n",
    "    project=\"melanoma_thesis\",\n",
    "    group=\"train_test\",\n",
    "    name=\"ResNet18R_V3\",\n",
    "    config={\n",
    "      \"architecture\": \"ResNet18\",\n",
    "      \"scheduler\": \"CosineAnnealingWarmRestarts\",\n",
    "      \"dataset\": \"ISIC\",\n",
    "      \"learning_rate\": LEARNING_RATE,\n",
    "      \"batch_size\": BATCH_SIZE,\n",
    "      \"epochs\": EPOCHS,\n",
    "      \"patience\": PATIENCE,\n",
    "      \"eta_min\": ETA_MIN,\n",
    "      \"t_0\": T_0,\n",
    "      \"t_mult\": T_MULT\n",
    "    }\n",
    ")"
   ]
  },
  {
   "cell_type": "markdown",
   "metadata": {
    "id": "0T1TvEvTZJjw"
   },
   "source": [
    "## Writter"
   ]
  },
  {
   "cell_type": "code",
   "execution_count": 13,
   "metadata": {
    "execution": {
     "iopub.execute_input": "2023-06-28T07:57:05.249552Z",
     "iopub.status.busy": "2023-06-28T07:57:05.248762Z",
     "iopub.status.idle": "2023-06-28T07:57:05.256979Z",
     "shell.execute_reply": "2023-06-28T07:57:05.256023Z"
    },
    "id": "TL0nsjHEZH8R"
   },
   "outputs": [],
   "source": [
    "import modular.utility as m_utility\n",
    "\n",
    "writter = m_utility.model_writter('resnet18regularization_v3')"
   ]
  },
  {
   "cell_type": "markdown",
   "metadata": {
    "id": "xcDaZwD2ZW5r"
   },
   "source": [
    "## Train"
   ]
  },
  {
   "cell_type": "code",
   "execution_count": 14,
   "metadata": {
    "execution": {
     "iopub.execute_input": "2023-06-28T07:57:05.262629Z",
     "iopub.status.busy": "2023-06-28T07:57:05.261802Z",
     "iopub.status.idle": "2023-06-29T20:52:20.718145Z",
     "shell.execute_reply": "2023-06-29T20:52:20.717354Z"
    },
    "id": "SytCLpEXZVJs"
   },
   "outputs": [
    {
     "name": "stderr",
     "output_type": "stream",
     "text": [
      "/home/student2/.local/lib/python3.9/site-packages/albumentations/augmentations/blur/transforms.py:184: UserWarning: blur_limit and sigma_limit minimum value can not be both equal to 0. blur_limit minimum value changed to 3.\n",
      "  warnings.warn(\n"
     ]
    },
    {
     "name": "stdout",
     "output_type": "stream",
     "text": [
      "Epoch 1/40\n",
      "----------\n",
      "Train OvR: 0.5634 \t|\tTrain Loss: 1.4104 \t|\tTrain Acc: 0.5655\n",
      "Val OvR: 0.7253 \t|\tVal Loss: 1.1726 \t|\tVal Acc: 0.5937\n",
      "=> Saving a new checkpoint\n",
      "Epoch 2/40\n",
      "----------\n",
      "Train OvR: 0.7301 \t|\tTrain Loss: 1.1183 \t|\tTrain Acc: 0.6101\n",
      "Val OvR: 0.7693 \t|\tVal Loss: 1.0302 \t|\tVal Acc: 0.6404\n",
      "=> Saving a new checkpoint\n",
      "Epoch 3/40\n",
      "----------\n",
      "Train OvR: 0.7629 \t|\tTrain Loss: 1.0494 \t|\tTrain Acc: 0.6333\n",
      "Val OvR: 0.7865 \t|\tVal Loss: 0.9834 \t|\tVal Acc: 0.6536\n",
      "=> Saving a new checkpoint\n",
      "Epoch 4/40\n",
      "----------\n",
      "Train OvR: 0.7722 \t|\tTrain Loss: 1.0236 \t|\tTrain Acc: 0.6417\n",
      "Val OvR: 0.7945 \t|\tVal Loss: 0.9666 \t|\tVal Acc: 0.6590\n",
      "=> Saving a new checkpoint\n",
      "Epoch 5/40\n",
      "----------\n",
      "Train OvR: 0.7781 \t|\tTrain Loss: 1.0143 \t|\tTrain Acc: 0.6484\n",
      "Val OvR: 0.7985 \t|\tVal Loss: 0.9600 \t|\tVal Acc: 0.6580\n",
      "=> Saving a new checkpoint\n",
      "Epoch 6/40\n",
      "----------\n",
      "Train OvR: 0.7855 \t|\tTrain Loss: 0.9991 \t|\tTrain Acc: 0.6500\n",
      "Val OvR: 0.8110 \t|\tVal Loss: 0.9274 \t|\tVal Acc: 0.6676\n",
      "=> Saving a new checkpoint\n",
      "Epoch 7/40\n",
      "----------\n",
      "Train OvR: 0.7910 \t|\tTrain Loss: 0.9789 \t|\tTrain Acc: 0.6576\n",
      "Val OvR: 0.8191 \t|\tVal Loss: 0.9084 \t|\tVal Acc: 0.6718\n",
      "=> Saving a new checkpoint\n",
      "Epoch 8/40\n",
      "----------\n",
      "Train OvR: 0.8000 \t|\tTrain Loss: 0.9598 \t|\tTrain Acc: 0.6650\n",
      "Val OvR: 0.8231 \t|\tVal Loss: 0.8961 \t|\tVal Acc: 0.6743\n",
      "=> Saving a new checkpoint\n",
      "Epoch 9/40\n",
      "----------\n",
      "Train OvR: 0.8024 \t|\tTrain Loss: 0.9495 \t|\tTrain Acc: 0.6674\n",
      "Val OvR: 0.8259 \t|\tVal Loss: 0.8897 \t|\tVal Acc: 0.6772\n",
      "=> Saving a new checkpoint\n",
      "Epoch 10/40\n",
      "----------\n",
      "Train OvR: 0.8053 \t|\tTrain Loss: 0.9436 \t|\tTrain Acc: 0.6652\n",
      "Val OvR: 0.8264 \t|\tVal Loss: 0.8868 \t|\tVal Acc: 0.6814\n",
      "=> Saving a new checkpoint\n",
      "Epoch 11/40\n",
      "----------\n",
      "Train OvR: 0.8071 \t|\tTrain Loss: 0.9368 \t|\tTrain Acc: 0.6672\n",
      "Val OvR: 0.8313 \t|\tVal Loss: 0.8699 \t|\tVal Acc: 0.6868\n",
      "=> Saving a new checkpoint\n",
      "Epoch 12/40\n",
      "----------\n",
      "Train OvR: 0.8122 \t|\tTrain Loss: 0.9244 \t|\tTrain Acc: 0.6744\n",
      "Val OvR: 0.8359 \t|\tVal Loss: 0.8581 \t|\tVal Acc: 0.6887\n",
      "=> Saving a new checkpoint\n",
      "Epoch 13/40\n",
      "----------\n",
      "Train OvR: 0.8129 \t|\tTrain Loss: 0.9192 \t|\tTrain Acc: 0.6748\n",
      "Val OvR: 0.8390 \t|\tVal Loss: 0.8507 \t|\tVal Acc: 0.6907\n",
      "=> Saving a new checkpoint\n",
      "Epoch 14/40\n",
      "----------\n",
      "Train OvR: 0.8128 \t|\tTrain Loss: 0.9103 \t|\tTrain Acc: 0.6824\n",
      "Val OvR: 0.8408 \t|\tVal Loss: 0.8483 \t|\tVal Acc: 0.6910\n",
      "=> Saving a new checkpoint\n",
      "Epoch 15/40\n",
      "----------\n",
      "Train OvR: 0.8148 \t|\tTrain Loss: 0.9059 \t|\tTrain Acc: 0.6795\n",
      "Val OvR: 0.8419 \t|\tVal Loss: 0.8448 \t|\tVal Acc: 0.6919\n",
      "=> Saving a new checkpoint\n",
      "Epoch 16/40\n",
      "----------\n",
      "Train OvR: 0.8119 \t|\tTrain Loss: 0.9062 \t|\tTrain Acc: 0.6782\n",
      "Val OvR: 0.8442 \t|\tVal Loss: 0.8349 \t|\tVal Acc: 0.6939\n",
      "=> Saving a new checkpoint\n",
      "Epoch 17/40\n",
      "----------\n",
      "Train OvR: 0.8194 \t|\tTrain Loss: 0.8939 \t|\tTrain Acc: 0.6842\n",
      "Val OvR: 0.8479 \t|\tVal Loss: 0.8266 \t|\tVal Acc: 0.7006\n",
      "=> Saving a new checkpoint\n",
      "Epoch 18/40\n",
      "----------\n",
      "Train OvR: 0.8217 \t|\tTrain Loss: 0.8877 \t|\tTrain Acc: 0.6851\n",
      "Val OvR: 0.8490 \t|\tVal Loss: 0.8213 \t|\tVal Acc: 0.7025\n",
      "=> Saving a new checkpoint\n",
      "Epoch 19/40\n",
      "----------\n",
      "Train OvR: 0.8211 \t|\tTrain Loss: 0.8859 \t|\tTrain Acc: 0.6842\n",
      "Val OvR: 0.8505 \t|\tVal Loss: 0.8178 \t|\tVal Acc: 0.7057\n",
      "=> Saving a new checkpoint\n",
      "Epoch 20/40\n",
      "----------\n",
      "Train OvR: 0.8264 \t|\tTrain Loss: 0.8791 \t|\tTrain Acc: 0.6883\n",
      "Val OvR: 0.8509 \t|\tVal Loss: 0.8157 \t|\tVal Acc: 0.7057\n",
      "=> Saving a new checkpoint\n",
      "Epoch 21/40\n",
      "----------\n",
      "Train OvR: 0.8253 \t|\tTrain Loss: 0.8754 \t|\tTrain Acc: 0.6894\n",
      "Val OvR: 0.8531 \t|\tVal Loss: 0.8064 \t|\tVal Acc: 0.7073\n",
      "=> Saving a new checkpoint\n",
      "Epoch 22/40\n",
      "----------\n",
      "Train OvR: 0.8269 \t|\tTrain Loss: 0.8726 \t|\tTrain Acc: 0.6896\n",
      "Val OvR: 0.8557 \t|\tVal Loss: 0.8011 \t|\tVal Acc: 0.7124\n",
      "=> Saving a new checkpoint\n",
      "Epoch 23/40\n",
      "----------\n",
      "Train OvR: 0.8263 \t|\tTrain Loss: 0.8687 \t|\tTrain Acc: 0.6923\n",
      "Val OvR: 0.8564 \t|\tVal Loss: 0.7966 \t|\tVal Acc: 0.7131\n",
      "=> Saving a new checkpoint\n",
      "Epoch 24/40\n",
      "----------\n",
      "Train OvR: 0.8335 \t|\tTrain Loss: 0.8589 \t|\tTrain Acc: 0.6935\n",
      "Val OvR: 0.8569 \t|\tVal Loss: 0.7943 \t|\tVal Acc: 0.7137\n",
      "=> Saving a new checkpoint\n",
      "Epoch 25/40\n",
      "----------\n",
      "Train OvR: 0.8316 \t|\tTrain Loss: 0.8565 \t|\tTrain Acc: 0.6940\n",
      "Val OvR: 0.8572 \t|\tVal Loss: 0.7929 \t|\tVal Acc: 0.7131\n",
      "=> Saving a new checkpoint\n",
      "Epoch 26/40\n",
      "----------\n",
      "Train OvR: 0.8326 \t|\tTrain Loss: 0.8562 \t|\tTrain Acc: 0.6927\n",
      "Val OvR: 0.8595 \t|\tVal Loss: 0.7849 \t|\tVal Acc: 0.7143\n",
      "=> Saving a new checkpoint\n",
      "Epoch 27/40\n",
      "----------\n",
      "Train OvR: 0.8315 \t|\tTrain Loss: 0.8550 \t|\tTrain Acc: 0.6953\n",
      "Val OvR: 0.8598 \t|\tVal Loss: 0.7805 \t|\tVal Acc: 0.7156\n",
      "=> Saving a new checkpoint\n",
      "Epoch 28/40\n",
      "----------\n",
      "Train OvR: 0.8339 \t|\tTrain Loss: 0.8502 \t|\tTrain Acc: 0.6988\n",
      "Val OvR: 0.8612 \t|\tVal Loss: 0.7772 \t|\tVal Acc: 0.7201\n",
      "=> Saving a new checkpoint\n",
      "Epoch 29/40\n",
      "----------\n",
      "Train OvR: 0.8348 \t|\tTrain Loss: 0.8446 \t|\tTrain Acc: 0.6985\n",
      "Val OvR: 0.8618 \t|\tVal Loss: 0.7739 \t|\tVal Acc: 0.7204\n",
      "=> Saving a new checkpoint\n",
      "Epoch 30/40\n",
      "----------\n",
      "Train OvR: 0.8373 \t|\tTrain Loss: 0.8410 \t|\tTrain Acc: 0.6981\n",
      "Val OvR: 0.8619 \t|\tVal Loss: 0.7729 \t|\tVal Acc: 0.7210\n",
      "=> Saving a new checkpoint\n",
      "Epoch 31/40\n",
      "----------\n",
      "Train OvR: 0.8342 \t|\tTrain Loss: 0.8436 \t|\tTrain Acc: 0.7006\n",
      "Val OvR: 0.8633 \t|\tVal Loss: 0.7688 \t|\tVal Acc: 0.7210\n",
      "=> Saving a new checkpoint\n",
      "Epoch 32/40\n",
      "----------\n",
      "Train OvR: 0.8372 \t|\tTrain Loss: 0.8372 \t|\tTrain Acc: 0.7021\n",
      "Val OvR: 0.8646 \t|\tVal Loss: 0.7637 \t|\tVal Acc: 0.7236\n",
      "=> Saving a new checkpoint\n",
      "Epoch 33/40\n",
      "----------\n",
      "Train OvR: 0.8368 \t|\tTrain Loss: 0.8347 \t|\tTrain Acc: 0.7012\n",
      "Val OvR: 0.8643 \t|\tVal Loss: 0.7601 \t|\tVal Acc: 0.7246\n",
      "=> Saving a new checkpoint\n",
      "Epoch 34/40\n",
      "----------\n",
      "Train OvR: 0.8387 \t|\tTrain Loss: 0.8298 \t|\tTrain Acc: 0.7029\n",
      "Val OvR: 0.8652 \t|\tVal Loss: 0.7570 \t|\tVal Acc: 0.7249\n",
      "=> Saving a new checkpoint\n",
      "Epoch 35/40\n",
      "----------\n",
      "Train OvR: 0.8414 \t|\tTrain Loss: 0.8243 \t|\tTrain Acc: 0.7073\n",
      "Val OvR: 0.8656 \t|\tVal Loss: 0.7553 \t|\tVal Acc: 0.7268\n",
      "=> Saving a new checkpoint\n",
      "Epoch 36/40\n",
      "----------\n",
      "Train OvR: 0.8406 \t|\tTrain Loss: 0.8261 \t|\tTrain Acc: 0.7037\n",
      "Val OvR: 0.8661 \t|\tVal Loss: 0.7510 \t|\tVal Acc: 0.7281\n",
      "=> Saving a new checkpoint\n",
      "Epoch 37/40\n",
      "----------\n",
      "Train OvR: 0.8431 \t|\tTrain Loss: 0.8202 \t|\tTrain Acc: 0.7057\n",
      "Val OvR: 0.8686 \t|\tVal Loss: 0.7466 \t|\tVal Acc: 0.7290\n",
      "=> Saving a new checkpoint\n",
      "Epoch 38/40\n",
      "----------\n",
      "Train OvR: 0.8432 \t|\tTrain Loss: 0.8164 \t|\tTrain Acc: 0.7066\n",
      "Val OvR: 0.8689 \t|\tVal Loss: 0.7425 \t|\tVal Acc: 0.7303\n",
      "=> Saving a new checkpoint\n",
      "Epoch 39/40\n",
      "----------\n",
      "Train OvR: 0.8402 \t|\tTrain Loss: 0.8125 \t|\tTrain Acc: 0.7099\n",
      "Val OvR: 0.8691 \t|\tVal Loss: 0.7408 \t|\tVal Acc: 0.7332\n",
      "=> Saving a new checkpoint\n",
      "Epoch 40/40\n",
      "----------\n",
      "Train OvR: 0.8438 \t|\tTrain Loss: 0.8133 \t|\tTrain Acc: 0.7072\n",
      "Val OvR: 0.8692 \t|\tVal Loss: 0.7403 \t|\tVal Acc: 0.7319\n",
      "=> Saving a new checkpoint\n",
      "\n",
      "Training completed after: 2215m 15s\n",
      "Best epoch: 40\n",
      "Best val OvR: 0.8692\n"
     ]
    }
   ],
   "source": [
    "from torchvision import models\n",
    "import torch\n",
    "import torch.nn as nn\n",
    "import torch.optim as optim\n",
    "from torch.optim import lr_scheduler\n",
    "from torchvision.models import (ResNet18_Weights)\n",
    "from torch.utils.data import DataLoader\n",
    "import torch\n",
    "import torchvision as tv\n",
    "import modular.dataset as m_dataset\n",
    "import modular.utility as m_utility\n",
    "import modular.engine as engine\n",
    "import modular.models as m_models\n",
    "\n",
    "# Set seed\n",
    "m_utility.set_seed(42)\n",
    "\n",
    "# Build the dataframes\n",
    "data_dir = 'data.etl'\n",
    "data_folder = '512'\n",
    "train_df, test_df, mapping = m_dataset.get_df(data_dir, data_folder)\n",
    "\n",
    "device = 'cuda' if torch.cuda.is_available() else 'cpu'\n",
    "\n",
    "out_features = len(mapping)\n",
    "model = m_models.ResNet18_Melanoma(out_features)\n",
    "model = model.to(device)\n",
    "\n",
    "criterion = nn.CrossEntropyLoss()\n",
    "\n",
    "# Observe that all parameters are being optimized\n",
    "optimizer = optim.SGD(model.parameters(), lr=LEARNING_RATE, momentum=0.9)\n",
    "\n",
    "scheduler = lr_scheduler.CosineAnnealingWarmRestarts(optimizer,\n",
    "                                                     T_0 = T_0,# Number of iterations for the first restart\n",
    "                                                     T_mult = T_MULT, # A factor increases TiTi​ after a restart\n",
    "                                                     eta_min = ETA_MIN) # Minimum learning rat\n",
    "\n",
    "# Mapping from id to classname\n",
    "idx_to_class = { k : classname for classname, k in mapping.items() }\n",
    "\n",
    "# Train and validate dataset & dataloader\n",
    "train_df, validate_df = m_dataset.train_validate_split(train_df,\n",
    "                                                       random_state=42,\n",
    "                                                       validate_size=0.2)\n",
    "\n",
    "validate_df, test_df = m_dataset.train_validate_split(validate_df,\n",
    "                                                      random_state=42,\n",
    "                                                      validate_size=0.5)\n",
    "\n",
    "\n",
    "train_transforms, val_transforms = m_dataset.get_transforms(image_size=256)\n",
    "\n",
    "train_dataset = m_dataset.MelanomaDataset(train_df,\n",
    "                                          mode='train',\n",
    "                                          transforms=train_transforms,\n",
    "                                          idx_to_class=idx_to_class)\n",
    "validate_dataset = m_dataset.MelanomaDataset(validate_df,\n",
    "                                             mode='validate',\n",
    "                                             transforms=val_transforms,\n",
    "                                             idx_to_class=idx_to_class)\n",
    "\n",
    "batch_size = BATCH_SIZE\n",
    "\n",
    "train_dataloader = DataLoader(train_dataset, batch_size=batch_size, shuffle=True)\n",
    "validate_dataloader = DataLoader(validate_dataset, batch_size=batch_size, shuffle=False)\n",
    "\n",
    "# Test dataset and dataloader\n",
    "test_dataset = m_dataset.MelanomaDataset(test_df,\n",
    "                                         mode='test',\n",
    "                                         idx_to_class=idx_to_class)\n",
    "test_dataloader = DataLoader(test_dataset, batch_size=batch_size, shuffle=False)\n",
    "\n",
    "# Dataloaders\n",
    "dataloaders = {\n",
    "    'train': train_dataloader,\n",
    "    'val': validate_dataloader,\n",
    "}\n",
    "\n",
    "datasets_size = {\n",
    "    'train': len(train_dataset),\n",
    "    'val': len(validate_dataset),\n",
    "}\n",
    "\n",
    "about_data = {\n",
    "    'dataloaders': dataloaders,\n",
    "    'datasets': {\n",
    "        'size': datasets_size\n",
    "    }\n",
    "}\n",
    "\n",
    "MEL_IDX = 6 # Check data exploration notebook\n",
    "VAL_TIMES = 4\n",
    "\n",
    "model_ft, stats = engine.train_model(model,\n",
    "                                     MEL_IDX,\n",
    "                                     about_data,\n",
    "                                     device,\n",
    "                                     criterion,\n",
    "                                     optimizer,\n",
    "                                     scheduler,\n",
    "                                     num_epochs=EPOCHS,\n",
    "                                     patience=PATIENCE,\n",
    "                                     writter=writter,\n",
    "                                     val_times=VAL_TIMES)"
   ]
  },
  {
   "cell_type": "code",
   "execution_count": 15,
   "metadata": {
    "execution": {
     "iopub.execute_input": "2023-06-29T20:52:20.723511Z",
     "iopub.status.busy": "2023-06-29T20:52:20.723331Z",
     "iopub.status.idle": "2023-06-29T20:52:25.881309Z",
     "shell.execute_reply": "2023-06-29T20:52:25.880361Z"
    },
    "id": "sE1XSoiPZcSO"
   },
   "outputs": [
    {
     "data": {
      "text/html": [
       "Waiting for W&B process to finish... <strong style=\"color:green\">(success).</strong>"
      ],
      "text/plain": [
       "<IPython.core.display.HTML object>"
      ]
     },
     "metadata": {},
     "output_type": "display_data"
    },
    {
     "data": {
      "application/vnd.jupyter.widget-view+json": {
       "model_id": "bda9b559423f45e7b893abe900fc2df0",
       "version_major": 2,
       "version_minor": 0
      },
      "text/plain": [
       "VBox(children=(Label(value='0.000 MB of 0.000 MB uploaded (0.000 MB deduped)\\r'), FloatProgress(value=1.0, max…"
      ]
     },
     "metadata": {},
     "output_type": "display_data"
    },
    {
     "data": {
      "text/html": [
       "<style>\n",
       "    table.wandb td:nth-child(1) { padding: 0 10px; text-align: left ; width: auto;} td:nth-child(2) {text-align: left ; width: 100%}\n",
       "    .wandb-row { display: flex; flex-direction: row; flex-wrap: wrap; justify-content: flex-start; width: 100% }\n",
       "    .wandb-col { display: flex; flex-direction: column; flex-basis: 100%; flex: 1; padding: 10px; }\n",
       "    </style>\n",
       "<div class=\"wandb-row\"><div class=\"wandb-col\"><h3>Run history:</h3><br/><table class=\"wandb\"><tr><td>train_acc</td><td>▁▃▄▅▅▅▅▆▆▆▆▆▆▇▇▆▇▇▇▇▇▇▇▇▇▇▇▇▇▇██████████</td></tr><tr><td>train_loss</td><td>█▅▄▃▃▃▃▃▃▃▂▂▂▂▂▂▂▂▂▂▂▂▂▂▂▂▁▁▁▁▁▁▁▁▁▁▁▁▁▁</td></tr><tr><td>train_ovr</td><td>▁▅▆▆▆▇▇▇▇▇▇▇▇▇▇▇▇▇▇█████████████████████</td></tr><tr><td>val_acc</td><td>▁▃▄▄▄▅▅▅▅▅▆▆▆▆▆▆▆▆▇▇▇▇▇▇▇▇▇▇▇▇▇█████████</td></tr><tr><td>val_loss</td><td>█▆▅▅▅▄▄▄▃▃▃▃▃▃▃▃▂▂▂▂▂▂▂▂▂▂▂▂▂▂▁▁▁▁▁▁▁▁▁▁</td></tr><tr><td>val_ovr</td><td>▁▃▄▄▅▅▆▆▆▆▆▆▇▇▇▇▇▇▇▇▇▇▇▇▇███████████████</td></tr></table><br/></div><div class=\"wandb-col\"><h3>Run summary:</h3><br/><table class=\"wandb\"><tr><td>train_acc</td><td>0.7072</td></tr><tr><td>train_loss</td><td>0.8133</td></tr><tr><td>train_ovr</td><td>0.8438</td></tr><tr><td>val_acc</td><td>0.7319</td></tr><tr><td>val_loss</td><td>0.7403</td></tr><tr><td>val_ovr</td><td>0.8692</td></tr></table><br/></div></div>"
      ],
      "text/plain": [
       "<IPython.core.display.HTML object>"
      ]
     },
     "metadata": {},
     "output_type": "display_data"
    },
    {
     "data": {
      "text/html": [
       "Synced <strong style=\"color:#cdcd00\">ResNet18R_V3</strong>: <a href=\"https://wandb.ai/wilberquito/melanoma_thesis/runs/19stpuqb\" target=\"_blank\">https://wandb.ai/wilberquito/melanoma_thesis/runs/19stpuqb</a><br/>Synced 6 W&B file(s), 0 media file(s), 0 artifact file(s) and 0 other file(s)"
      ],
      "text/plain": [
       "<IPython.core.display.HTML object>"
      ]
     },
     "metadata": {},
     "output_type": "display_data"
    },
    {
     "data": {
      "text/html": [
       "Find logs at: <code>./wandb/run-20230628_075659-19stpuqb/logs</code>"
      ],
      "text/plain": [
       "<IPython.core.display.HTML object>"
      ]
     },
     "metadata": {},
     "output_type": "display_data"
    }
   ],
   "source": [
    "wandb.finish()"
   ]
  },
  {
   "cell_type": "code",
   "execution_count": 16,
   "metadata": {
    "execution": {
     "iopub.execute_input": "2023-06-29T20:52:25.887095Z",
     "iopub.status.busy": "2023-06-29T20:52:25.886234Z",
     "iopub.status.idle": "2023-06-29T20:52:26.190710Z",
     "shell.execute_reply": "2023-06-29T20:52:26.190196Z"
    },
    "id": "hw8-nOK9Zey-"
   },
   "outputs": [
    {
     "data": {
      "image/png": "[encoded data removed]",
      "text/plain": [
       "<Figure size 1512x504 with 3 Axes>"
      ]
     },
     "metadata": {
      "needs_background": "light"
     },
     "output_type": "display_data"
    }
   ],
   "source": [
    "m_utility.plot_curves(stats)"
   ]
  },
  {
   "cell_type": "code",
   "execution_count": 17,
   "metadata": {
    "execution": {
     "iopub.execute_input": "2023-06-29T20:52:26.197174Z",
     "iopub.status.busy": "2023-06-29T20:52:26.197068Z",
     "iopub.status.idle": "2023-06-29T20:52:26.200192Z",
     "shell.execute_reply": "2023-06-29T20:52:26.199679Z"
    },
    "id": "YleIeCTYZgOA"
   },
   "outputs": [],
   "source": [
    "if IN_COLAB:\n",
    "  from google.colab import files\n",
    "  files.download('resnet18regularization_v3.pth.tar')\n",
    "  files.download('resnet18regularization_v3.csv')"
   ]
  }
 ],
 "metadata": {
  "colab": {
   "include_colab_link": true,
   "provenance": []
  },
  "kernelspec": {
   "display_name": "Python 3",
   "name": "python3"
  },
  "language_info": {
   "codemirror_mode": {
    "name": "ipython",
    "version": 3
   },
   "file_extension": ".py",
   "mimetype": "text/x-python",
   "name": "python",
   "nbconvert_exporter": "python",
   "pygments_lexer": "ipython3",
   "version": "3.9.12"
  },
  "widgets": {
   "application/vnd.jupyter.widget-state+json": {
    "state": {
     "1c5d34c980944cd2bd7a79023faf7723": {
      "model_module": "@jupyter-widgets/base",
      "model_module_version": "1.2.0",
      "model_name": "LayoutModel",
      "state": {
       "_model_module": "@jupyter-widgets/base",
       "_model_module_version": "1.2.0",
       "_model_name": "LayoutModel",
       "_view_count": null,
       "_view_module": "@jupyter-widgets/base",
       "_view_module_version": "1.2.0",
       "_view_name": "LayoutView",
       "align_content": null,
       "align_items": null,
       "align_self": null,
       "border": null,
       "bottom": null,
       "display": null,
       "flex": null,
       "flex_flow": null,
       "grid_area": null,
       "grid_auto_columns": null,
       "grid_auto_flow": null,
       "grid_auto_rows": null,
       "grid_column": null,
       "grid_gap": null,
       "grid_row": null,
       "grid_template_areas": null,
       "grid_template_columns": null,
       "grid_template_rows": null,
       "height": null,
       "justify_content": null,
       "justify_items": null,
       "left": null,
       "margin": null,
       "max_height": null,
       "max_width": null,
       "min_height": null,
       "min_width": null,
       "object_fit": null,
       "object_position": null,
       "order": null,
       "overflow": null,
       "overflow_x": null,
       "overflow_y": null,
       "padding": null,
       "right": null,
       "top": null,
       "visibility": null,
       "width": null
      }
     },
     "2910de058e27421eb0391cb5790063e1": {
      "model_module": "@jupyter-widgets/base",
      "model_module_version": "1.2.0",
      "model_name": "LayoutModel",
      "state": {
       "_model_module": "@jupyter-widgets/base",
       "_model_module_version": "1.2.0",
       "_model_name": "LayoutModel",
       "_view_count": null,
       "_view_module": "@jupyter-widgets/base",
       "_view_module_version": "1.2.0",
       "_view_name": "LayoutView",
       "align_content": null,
       "align_items": null,
       "align_self": null,
       "border": null,
       "bottom": null,
       "display": null,
       "flex": null,
       "flex_flow": null,
       "grid_area": null,
       "grid_auto_columns": null,
       "grid_auto_flow": null,
       "grid_auto_rows": null,
       "grid_column": null,
       "grid_gap": null,
       "grid_row": null,
       "grid_template_areas": null,
       "grid_template_columns": null,
       "grid_template_rows": null,
       "height": null,
       "justify_content": null,
       "justify_items": null,
       "left": null,
       "margin": null,
       "max_height": null,
       "max_width": null,
       "min_height": null,
       "min_width": null,
       "object_fit": null,
       "object_position": null,
       "order": null,
       "overflow": null,
       "overflow_x": null,
       "overflow_y": null,
       "padding": null,
       "right": null,
       "top": null,
       "visibility": null,
       "width": null
      }
     },
     "345ba0d083624df8bee646e447707798": {
      "model_module": "@jupyter-widgets/controls",
      "model_module_version": "1.5.0",
      "model_name": "LabelModel",
      "state": {
       "_dom_classes": [],
       "_model_module": "@jupyter-widgets/controls",
       "_model_module_version": "1.5.0",
       "_model_name": "LabelModel",
       "_view_count": null,
       "_view_module": "@jupyter-widgets/controls",
       "_view_module_version": "1.5.0",
       "_view_name": "LabelView",
       "description": "",
       "description_tooltip": null,
       "layout": "IPY_MODEL_e832b71c1296404ba4b6b86045a1b031",
       "placeholder": "​",
       "style": "IPY_MODEL_e2fcb76fa1404e17afc77ed0c030f93d",
       "value": ""
      }
     },
     "41f2819f50b1491ab25c3ecf8a2e8f0a": {
      "model_module": "@jupyter-widgets/controls",
      "model_module_version": "1.5.0",
      "model_name": "VBoxModel",
      "state": {
       "_dom_classes": [],
       "_model_module": "@jupyter-widgets/controls",
       "_model_module_version": "1.5.0",
       "_model_name": "VBoxModel",
       "_view_count": null,
       "_view_module": "@jupyter-widgets/controls",
       "_view_module_version": "1.5.0",
       "_view_name": "VBoxView",
       "box_style": "",
       "children": [
        "IPY_MODEL_345ba0d083624df8bee646e447707798",
        "IPY_MODEL_744af649d2e4462183cc8d7808de205d"
       ],
       "layout": "IPY_MODEL_1c5d34c980944cd2bd7a79023faf7723"
      }
     },
     "46f72d4539614756a5cb968c404b869c": {
      "model_module": "@jupyter-widgets/base",
      "model_module_version": "1.2.0",
      "model_name": "LayoutModel",
      "state": {
       "_model_module": "@jupyter-widgets/base",
       "_model_module_version": "1.2.0",
       "_model_name": "LayoutModel",
       "_view_count": null,
       "_view_module": "@jupyter-widgets/base",
       "_view_module_version": "1.2.0",
       "_view_name": "LayoutView",
       "align_content": null,
       "align_items": null,
       "align_self": null,
       "border": null,
       "bottom": null,
       "display": null,
       "flex": null,
       "flex_flow": null,
       "grid_area": null,
       "grid_auto_columns": null,
       "grid_auto_flow": null,
       "grid_auto_rows": null,
       "grid_column": null,
       "grid_gap": null,
       "grid_row": null,
       "grid_template_areas": null,
       "grid_template_columns": null,
       "grid_template_rows": null,
       "height": null,
       "justify_content": null,
       "justify_items": null,
       "left": null,
       "margin": null,
       "max_height": null,
       "max_width": null,
       "min_height": null,
       "min_width": null,
       "object_fit": null,
       "object_position": null,
       "order": null,
       "overflow": null,
       "overflow_x": null,
       "overflow_y": null,
       "padding": null,
       "right": null,
       "top": null,
       "visibility": null,
       "width": null
      }
     },
     "4e114045fedb4e8d898fbee8e9d6a8fb": {
      "model_module": "@jupyter-widgets/controls",
      "model_module_version": "1.5.0",
      "model_name": "ProgressStyleModel",
      "state": {
       "_model_module": "@jupyter-widgets/controls",
       "_model_module_version": "1.5.0",
       "_model_name": "ProgressStyleModel",
       "_view_count": null,
       "_view_module": "@jupyter-widgets/base",
       "_view_module_version": "1.2.0",
       "_view_name": "StyleView",
       "bar_color": null,
       "description_width": ""
      }
     },
     "744af649d2e4462183cc8d7808de205d": {
      "model_module": "@jupyter-widgets/controls",
      "model_module_version": "1.5.0",
      "model_name": "FloatProgressModel",
      "state": {
       "_dom_classes": [],
       "_model_module": "@jupyter-widgets/controls",
       "_model_module_version": "1.5.0",
       "_model_name": "FloatProgressModel",
       "_view_count": null,
       "_view_module": "@jupyter-widgets/controls",
       "_view_module_version": "1.5.0",
       "_view_name": "ProgressView",
       "bar_style": "",
       "description": "",
       "description_tooltip": null,
       "layout": "IPY_MODEL_c0cb95a407c84915997f47586f43e48a",
       "max": 1.0,
       "min": 0.0,
       "orientation": "horizontal",
       "style": "IPY_MODEL_82beb32250944b6e8153f7fc47519d09",
       "value": 0.0
      }
     },
     "82beb32250944b6e8153f7fc47519d09": {
      "model_module": "@jupyter-widgets/controls",
      "model_module_version": "1.5.0",
      "model_name": "ProgressStyleModel",
      "state": {
       "_model_module": "@jupyter-widgets/controls",
       "_model_module_version": "1.5.0",
       "_model_name": "ProgressStyleModel",
       "_view_count": null,
       "_view_module": "@jupyter-widgets/base",
       "_view_module_version": "1.2.0",
       "_view_name": "StyleView",
       "bar_color": null,
       "description_width": ""
      }
     },
     "8466159c098d4d24a81f5cc922f17042": {
      "model_module": "@jupyter-widgets/base",
      "model_module_version": "1.2.0",
      "model_name": "LayoutModel",
      "state": {
       "_model_module": "@jupyter-widgets/base",
       "_model_module_version": "1.2.0",
       "_model_name": "LayoutModel",
       "_view_count": null,
       "_view_module": "@jupyter-widgets/base",
       "_view_module_version": "1.2.0",
       "_view_name": "LayoutView",
       "align_content": null,
       "align_items": null,
       "align_self": null,
       "border": null,
       "bottom": null,
       "display": null,
       "flex": null,
       "flex_flow": null,
       "grid_area": null,
       "grid_auto_columns": null,
       "grid_auto_flow": null,
       "grid_auto_rows": null,
       "grid_column": null,
       "grid_gap": null,
       "grid_row": null,
       "grid_template_areas": null,
       "grid_template_columns": null,
       "grid_template_rows": null,
       "height": null,
       "justify_content": null,
       "justify_items": null,
       "left": null,
       "margin": null,
       "max_height": null,
       "max_width": null,
       "min_height": null,
       "min_width": null,
       "object_fit": null,
       "object_position": null,
       "order": null,
       "overflow": null,
       "overflow_x": null,
       "overflow_y": null,
       "padding": null,
       "right": null,
       "top": null,
       "visibility": null,
       "width": null
      }
     },
     "8c9d8f2c791f40c1b34b25b6e98c0bb7": {
      "model_module": "@jupyter-widgets/controls",
      "model_module_version": "1.5.0",
      "model_name": "DescriptionStyleModel",
      "state": {
       "_model_module": "@jupyter-widgets/controls",
       "_model_module_version": "1.5.0",
       "_model_name": "DescriptionStyleModel",
       "_view_count": null,
       "_view_module": "@jupyter-widgets/base",
       "_view_module_version": "1.2.0",
       "_view_name": "StyleView",
       "description_width": ""
      }
     },
     "bc0c7656986f4de0a40bda9a12bd861b": {
      "model_module": "@jupyter-widgets/controls",
      "model_module_version": "1.5.0",
      "model_name": "FloatProgressModel",
      "state": {
       "_dom_classes": [],
       "_model_module": "@jupyter-widgets/controls",
       "_model_module_version": "1.5.0",
       "_model_name": "FloatProgressModel",
       "_view_count": null,
       "_view_module": "@jupyter-widgets/controls",
       "_view_module_version": "1.5.0",
       "_view_name": "ProgressView",
       "bar_style": "",
       "description": "",
       "description_tooltip": null,
       "layout": "IPY_MODEL_2910de058e27421eb0391cb5790063e1",
       "max": 1.0,
       "min": 0.0,
       "orientation": "horizontal",
       "style": "IPY_MODEL_4e114045fedb4e8d898fbee8e9d6a8fb",
       "value": 1.0
      }
     },
     "bda9b559423f45e7b893abe900fc2df0": {
      "model_module": "@jupyter-widgets/controls",
      "model_module_version": "1.5.0",
      "model_name": "VBoxModel",
      "state": {
       "_dom_classes": [],
       "_model_module": "@jupyter-widgets/controls",
       "_model_module_version": "1.5.0",
       "_model_name": "VBoxModel",
       "_view_count": null,
       "_view_module": "@jupyter-widgets/controls",
       "_view_module_version": "1.5.0",
       "_view_name": "VBoxView",
       "box_style": "",
       "children": [
        "IPY_MODEL_c32b33bdaa1a40328a380cf9725fac4c",
        "IPY_MODEL_bc0c7656986f4de0a40bda9a12bd861b"
       ],
       "layout": "IPY_MODEL_46f72d4539614756a5cb968c404b869c"
      }
     },
     "c0cb95a407c84915997f47586f43e48a": {
      "model_module": "@jupyter-widgets/base",
      "model_module_version": "1.2.0",
      "model_name": "LayoutModel",
      "state": {
       "_model_module": "@jupyter-widgets/base",
       "_model_module_version": "1.2.0",
       "_model_name": "LayoutModel",
       "_view_count": null,
       "_view_module": "@jupyter-widgets/base",
       "_view_module_version": "1.2.0",
       "_view_name": "LayoutView",
       "align_content": null,
       "align_items": null,
       "align_self": null,
       "border": null,
       "bottom": null,
       "display": null,
       "flex": null,
       "flex_flow": null,
       "grid_area": null,
       "grid_auto_columns": null,
       "grid_auto_flow": null,
       "grid_auto_rows": null,
       "grid_column": null,
       "grid_gap": null,
       "grid_row": null,
       "grid_template_areas": null,
       "grid_template_columns": null,
       "grid_template_rows": null,
       "height": null,
       "justify_content": null,
       "justify_items": null,
       "left": null,
       "margin": null,
       "max_height": null,
       "max_width": null,
       "min_height": null,
       "min_width": null,
       "object_fit": null,
       "object_position": null,
       "order": null,
       "overflow": null,
       "overflow_x": null,
       "overflow_y": null,
       "padding": null,
       "right": null,
       "top": null,
       "visibility": null,
       "width": null
      }
     },
     "c32b33bdaa1a40328a380cf9725fac4c": {
      "model_module": "@jupyter-widgets/controls",
      "model_module_version": "1.5.0",
      "model_name": "LabelModel",
      "state": {
       "_dom_classes": [],
       "_model_module": "@jupyter-widgets/controls",
       "_model_module_version": "1.5.0",
       "_model_name": "LabelModel",
       "_view_count": null,
       "_view_module": "@jupyter-widgets/controls",
       "_view_module_version": "1.5.0",
       "_view_name": "LabelView",
       "description": "",
       "description_tooltip": null,
       "layout": "IPY_MODEL_8466159c098d4d24a81f5cc922f17042",
       "placeholder": "​",
       "style": "IPY_MODEL_8c9d8f2c791f40c1b34b25b6e98c0bb7",
       "value": "0.029 MB of 0.029 MB uploaded (0.000 MB deduped)\r"
      }
     },
     "e2fcb76fa1404e17afc77ed0c030f93d": {
      "model_module": "@jupyter-widgets/controls",
      "model_module_version": "1.5.0",
      "model_name": "DescriptionStyleModel",
      "state": {
       "_model_module": "@jupyter-widgets/controls",
       "_model_module_version": "1.5.0",
       "_model_name": "DescriptionStyleModel",
       "_view_count": null,
       "_view_module": "@jupyter-widgets/base",
       "_view_module_version": "1.2.0",
       "_view_name": "StyleView",
       "description_width": ""
      }
     },
     "e832b71c1296404ba4b6b86045a1b031": {
      "model_module": "@jupyter-widgets/base",
      "model_module_version": "1.2.0",
      "model_name": "LayoutModel",
      "state": {
       "_model_module": "@jupyter-widgets/base",
       "_model_module_version": "1.2.0",
       "_model_name": "LayoutModel",
       "_view_count": null,
       "_view_module": "@jupyter-widgets/base",
       "_view_module_version": "1.2.0",
       "_view_name": "LayoutView",
       "align_content": null,
       "align_items": null,
       "align_self": null,
       "border": null,
       "bottom": null,
       "display": null,
       "flex": null,
       "flex_flow": null,
       "grid_area": null,
       "grid_auto_columns": null,
       "grid_auto_flow": null,
       "grid_auto_rows": null,
       "grid_column": null,
       "grid_gap": null,
       "grid_row": null,
       "grid_template_areas": null,
       "grid_template_columns": null,
       "grid_template_rows": null,
       "height": null,
       "justify_content": null,
       "justify_items": null,
       "left": null,
       "margin": null,
       "max_height": null,
       "max_width": null,
       "min_height": null,
       "min_width": null,
       "object_fit": null,
       "object_position": null,
       "order": null,
       "overflow": null,
       "overflow_x": null,
       "overflow_y": null,
       "padding": null,
       "right": null,
       "top": null,
       "visibility": null,
       "width": null
      }
     }
    },
    "version_major": 2,
    "version_minor": 0
   }
  }
 },
 "nbformat": 4,
 "nbformat_minor": 0
}
