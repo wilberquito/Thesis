{
  "nbformat": 4,
  "nbformat_minor": 0,
  "metadata": {
    "colab": {
      "provenance": [],
      "toc_visible": true,
      "authorship_tag": "ABX9TyPyF5w6gMBpeW1IURqV2NbX",
      "include_colab_link": true
    },
    "kernelspec": {
      "name": "python3",
      "display_name": "Python 3"
    },
    "language_info": {
      "name": "python"
    }
  },
  "cells": [
    {
      "cell_type": "markdown",
      "metadata": {
        "id": "view-in-github",
        "colab_type": "text"
      },
      "source": [
        "<a href=\"https://colab.research.google.com/github/wilberquito/ds-thesis/blob/main/Code/NN/MelanomaClassifier.ipynb\" target=\"_parent\"><img src=\"https://colab.research.google.com/assets/colab-badge.svg\" alt=\"Open In Colab\"/></a>"
      ]
    },
    {
      "cell_type": "markdown",
      "source": [
        "# Melanoma classifier with Pytorch\n"
      ],
      "metadata": {
        "id": "M3eJvi_bkgvc"
      }
    },
    {
      "cell_type": "code",
      "source": [
        "try:\n",
        "  import google.colab\n",
        "  IN_COLAB = True\n",
        "except:\n",
        "  IN_COLAB = False\n",
        "\n",
        "print(f\"You are corrently running the notebook in {'Google colab' if IN_COLAB else 'your OWN instance'}\")"
      ],
      "metadata": {
        "id": "3uSoIgzhagEy",
        "outputId": "ef0e708b-a0ae-402a-b1d5-16cc6d981eb0",
        "colab": {
          "base_uri": "https://localhost:8080/"
        }
      },
      "execution_count": 1,
      "outputs": [
        {
          "output_type": "stream",
          "name": "stdout",
          "text": [
            "You are corrently running the notebook in Google colab\n"
          ]
        }
      ]
    },
    {
      "cell_type": "code",
      "source": [
        "import requests\n",
        "from pathlib import Path\n",
        "import pandas as pd"
      ],
      "metadata": {
        "id": "m_eHkfN_9jS2"
      },
      "execution_count": 2,
      "outputs": []
    },
    {
      "cell_type": "code",
      "source": [
        "def pull_kaggle_auth():\n",
        "  kaggle_json_url = 'https://raw.githubusercontent.com/wilberquito/ds-thesis/main/Code/NN/kaggle.json'\n",
        "  kaggle_json = '/root/.kaggle/kaggle.json'\n",
        "  \n",
        "  if Path(kaggle_json).exists():\n",
        "    print('Kaggle auth already configured')\n",
        "  else:\n",
        "    Path('/root/.kaggle').mkdir(parents=True, exist_ok=True)\n",
        "    with open(kaggle_json, 'wb') as f:\n",
        "      print('Configuring kaggle auth...')\n",
        "      request = requests.get(kaggle_json_url)\n",
        "      f.write(request.content)\n",
        "      print(request.content)\n",
        "      !chmod 600 ~/.kaggle/kaggle.json\n",
        "\n",
        "pull_kaggle_auth()"
      ],
      "metadata": {
        "colab": {
          "base_uri": "https://localhost:8080/"
        },
        "id": "9zUT1MGBAbcI",
        "outputId": "8462828f-ac9d-4332-8e32-03dd94fc3094"
      },
      "execution_count": 3,
      "outputs": [
        {
          "output_type": "stream",
          "name": "stdout",
          "text": [
            "Configuring kaggle auth...\n",
            "b'{\"username\":\"wilberquito\",\"key\":\"a1cef5be103afee00ae036396afa6cbe\"}'\n"
          ]
        }
      ]
    },
    {
      "cell_type": "code",
      "source": [
        "def pull_scripts():\n",
        "  if not IN_COLAB:\n",
        "    print('No script will be downloaded as you are working in a local machine...')\n",
        "    return\n",
        "    \n",
        "  dataset_scripts = Path('datasets.py')\n",
        "  if not dataset_scripts.exists():\n",
        "    print('Downloading dataset.py script...')\n",
        "    with open(dataset_scripts, 'wb') as f:\n",
        "      req = requests.get('https://raw.githubusercontent.com/wilberquito/ds-thesis/main/Code/NN/datasets.py')\n",
        "      f.write(req.content)\n",
        "      \n",
        "pull_scripts()"
      ],
      "metadata": {
        "id": "sWUl-HwHbDis",
        "outputId": "1469a350-04bb-4d21-bbe0-9e996e20862d",
        "colab": {
          "base_uri": "https://localhost:8080/"
        }
      },
      "execution_count": 4,
      "outputs": [
        {
          "output_type": "stream",
          "name": "stdout",
          "text": [
            "Downloading dataset.py script...\n"
          ]
        }
      ]
    },
    {
      "cell_type": "code",
      "execution_count": 5,
      "metadata": {
        "id": "XHtK9yz88rGm",
        "outputId": "bcf2937d-edc2-48e9-cad1-1e738ad54a4d",
        "colab": {
          "base_uri": "https://localhost:8080/"
        }
      },
      "outputs": [
        {
          "output_type": "stream",
          "name": "stdout",
          "text": [
            "Downloading script downloader...\n",
            "Downloading data using the downloader script...\n",
            "Downloading jpeg-isic2019-512x512.zip to /content/data\n",
            " 99% 1.36G/1.38G [00:11<00:00, 127MB/s]\n",
            "100% 1.38G/1.38G [00:11<00:00, 131MB/s]\n",
            "Downloading jpeg-melanoma-512x512.zip to /content/data\n",
            " 99% 2.62G/2.63G [00:27<00:00, 102MB/s]\n",
            "100% 2.63G/2.63G [00:27<00:00, 102MB/s]\n",
            "Downloading jpeg-isic2019-768x768.zip to /content/data\n",
            " 99% 2.73G/2.74G [00:19<00:00, 138MB/s]\n",
            "100% 2.74G/2.74G [00:19<00:00, 152MB/s]\n",
            "Downloading jpeg-melanoma-768x768.zip to /content/data\n",
            "100% 5.31G/5.32G [00:37<00:00, 186MB/s]\n",
            "100% 5.32G/5.32G [00:37<00:00, 152MB/s]\n",
            "Downloading jpeg-isic2019-1024x1024.zip to /content/data\n",
            "100% 4.71G/4.72G [00:35<00:00, 173MB/s]\n",
            "100% 4.72G/4.72G [00:35<00:00, 144MB/s]\n",
            "Downloading jpeg-melanoma-1024x1024.zip to /content/data\n",
            "100% 8.84G/8.85G [00:57<00:00, 192MB/s]\n",
            "100% 8.85G/8.85G [00:57<00:00, 164MB/s]\n"
          ]
        }
      ],
      "source": [
        "def pull_data():\n",
        "  downloader_script_url = 'https://raw.githubusercontent.com/wilberquito/ds-thesis/main/Code/NN/downloader.sh'\n",
        "  downloader_script = 'downloader.sh'\n",
        "\n",
        "  if not Path(downloader_script).exists():\n",
        "    print('Downloading script downloader...')\n",
        "    with open(downloader_script, 'wb') as f:\n",
        "      request = requests.get(downloader_script_url)\n",
        "      f.write(request.content)\n",
        "    print('Downloading data using the downloader script...')\n",
        "    !sh downloader.sh\n",
        "\n",
        "pull_data() "
      ]
    },
    {
      "cell_type": "markdown",
      "source": [
        "## Exploratory data analysis"
      ],
      "metadata": {
        "id": "w1P5XD81X3m8"
      }
    },
    {
      "cell_type": "code",
      "source": [
        "path = Path(f'./data/jpeg-melanoma-{512}x{512}/train.csv')\n",
        "df = pd.read_csv(path)\n",
        "df.head()"
      ],
      "metadata": {
        "id": "-6J0S-AXX0nk",
        "outputId": "fca9d4c8-73a8-4261-ed05-281e80085241",
        "colab": {
          "base_uri": "https://localhost:8080/",
          "height": 208
        }
      },
      "execution_count": 6,
      "outputs": [
        {
          "output_type": "error",
          "ename": "NameError",
          "evalue": "ignored",
          "traceback": [
            "\u001b[0;31m---------------------------------------------------------------------------\u001b[0m",
            "\u001b[0;31mNameError\u001b[0m                                 Traceback (most recent call last)",
            "\u001b[0;32m<ipython-input-6-59f089fe5310>\u001b[0m in \u001b[0;36m<module>\u001b[0;34m\u001b[0m\n\u001b[1;32m      1\u001b[0m \u001b[0mpath\u001b[0m \u001b[0;34m=\u001b[0m \u001b[0mPath\u001b[0m\u001b[0;34m(\u001b[0m\u001b[0;34mf'./data/jpeg-melanoma-{512}x{512}/train.csv'\u001b[0m\u001b[0;34m)\u001b[0m\u001b[0;34m\u001b[0m\u001b[0;34m\u001b[0m\u001b[0m\n\u001b[0;32m----> 2\u001b[0;31m \u001b[0mdf\u001b[0m \u001b[0;34m=\u001b[0m \u001b[0mpd\u001b[0m\u001b[0;34m.\u001b[0m\u001b[0mread_csv\u001b[0m\u001b[0;34m(\u001b[0m\u001b[0mpath\u001b[0m\u001b[0;34m)\u001b[0m\u001b[0;34m\u001b[0m\u001b[0;34m\u001b[0m\u001b[0m\n\u001b[0m\u001b[1;32m      3\u001b[0m \u001b[0mdf\u001b[0m\u001b[0;34m.\u001b[0m\u001b[0mhead\u001b[0m\u001b[0;34m(\u001b[0m\u001b[0;34m)\u001b[0m\u001b[0;34m\u001b[0m\u001b[0;34m\u001b[0m\u001b[0m\n",
            "\u001b[0;31mNameError\u001b[0m: name 'pd' is not defined"
          ]
        }
      ]
    },
    {
      "cell_type": "code",
      "source": [
        "df.info()"
      ],
      "metadata": {
        "id": "3EIqEcUBYly7"
      },
      "execution_count": null,
      "outputs": []
    },
    {
      "cell_type": "code",
      "source": [
        "df.describe()"
      ],
      "metadata": {
        "id": "nowLh2F9b5ZA"
      },
      "execution_count": null,
      "outputs": []
    },
    {
      "cell_type": "markdown",
      "source": [
        "### Diagnosis"
      ],
      "metadata": {
        "id": "vp_GKtyvbMLx"
      }
    },
    {
      "cell_type": "markdown",
      "source": [
        "Here I notice that the are a lot of `unknown` diagnosis. \n",
        "\n",
        "There are also few examples of `solar lentigo`, `cafe-au-lait macule` and `atypical melanocytic proliferation`. "
      ],
      "metadata": {
        "id": "NNLoAJsXbQg5"
      }
    },
    {
      "cell_type": "code",
      "source": [
        "diagnosis_freq = df['diagnosis'].value_counts()\n",
        "diagnosis_freq"
      ],
      "metadata": {
        "id": "HKJRQJMtaXUS"
      },
      "execution_count": null,
      "outputs": []
    },
    {
      "cell_type": "code",
      "source": [
        "_ = sns.barplot(x=diagnosis_freq.values, y=diagnosis_freq.index)"
      ],
      "metadata": {
        "id": "Dl3jVpiJaIOi"
      },
      "execution_count": null,
      "outputs": []
    },
    {
      "cell_type": "markdown",
      "source": [
        "### TfRecord"
      ],
      "metadata": {
        "id": "o02ct1BwcTXo"
      }
    },
    {
      "cell_type": "markdown",
      "source": [
        "There are some entries that it's `tfrecord` features are labeled as -1"
      ],
      "metadata": {
        "id": "hQsKG37zcmPv"
      }
    },
    {
      "cell_type": "code",
      "source": [
        "\n",
        "tfrecord_freq = df['tfrecord'].value_counts()\n",
        "_ = sns.barplot(y=tfrecord_freq.values, x=tfrecord_freq.index)"
      ],
      "metadata": {
        "id": "H-xzAuaMcYJq"
      },
      "execution_count": null,
      "outputs": []
    },
    {
      "cell_type": "code",
      "source": [
        "import seaborn as sns\n",
        "import matplotlib.pyplot as plt\n",
        "\n",
        "sns.set_theme(style=\"ticks\")\n",
        "\n",
        "# Initialize the figure with a logarithmic x axis\n",
        "f, ax = plt.subplots(figsize=(7, 6))\n",
        "ax.set_xscale(\"log\")\n",
        "\n",
        "# Plot the orbital period with horizontal boxes\n",
        "sns.boxplot(x=\"tfrecord\", y=\"diagnosis\", data=df,\n",
        "            whis=[0, 100], width=.6, palette=\"vlag\")\n",
        "\n",
        "# # Add in points to show each observation\n",
        "# sns.stripplot(x=\"distance\", y=\"method\", data=df,\n",
        "#               size=4, color=\".3\", linewidth=0)\n",
        "\n",
        "# Tweak the visual presentation\n",
        "ax.xaxis.grid(True)\n",
        "ax.set(ylabel=\"\")\n",
        "sns.despine(trim=True, left=True)"
      ],
      "metadata": {
        "id": "tQr5rIxHY7Nz"
      },
      "execution_count": null,
      "outputs": []
    },
    {
      "cell_type": "markdown",
      "source": [
        "## Generate dataset for trainning and testing"
      ],
      "metadata": {
        "id": "3ferNPTNffQo"
      }
    },
    {
      "cell_type": "code",
      "source": [
        "from datasets import get_df"
      ],
      "metadata": {
        "id": "Rm3h99DXfecA"
      },
      "execution_count": null,
      "outputs": []
    },
    {
      "cell_type": "code",
      "source": [
        "df_train, df_test, meta_features, n_meta_features, melanoma_id = get_df(8, './data', '512', True)\n",
        "df_train.head()"
      ],
      "metadata": {
        "id": "pO8114fhWINJ"
      },
      "execution_count": null,
      "outputs": []
    },
    {
      "cell_type": "code",
      "source": [
        "# You can notice that from anotom_site_general_challenge it generates onehot encoding of this categorical variable\n",
        "# and generates the features that start with site_\n",
        "df_train.columns"
      ],
      "metadata": {
        "id": "4-la_Gev-XUg"
      },
      "execution_count": null,
      "outputs": []
    },
    {
      "cell_type": "code",
      "source": [
        "diagnosis_freq = df_train['diagnosis'].value_counts()\n",
        "diagnosis_freq, len(diagnosis_freq)"
      ],
      "metadata": {
        "id": "WKEbVDTjWaVt"
      },
      "execution_count": null,
      "outputs": []
    },
    {
      "cell_type": "code",
      "source": [
        "diagnosis_freq = df_train['target'].value_counts()\n",
        "diagnosis_freq, len(diagnosis_freq)"
      ],
      "metadata": {
        "id": "fP0XAtcE_T4P"
      },
      "execution_count": null,
      "outputs": []
    },
    {
      "cell_type": "code",
      "source": [
        "melanoma_id"
      ],
      "metadata": {
        "id": "Jw9QaKda_NiP"
      },
      "execution_count": null,
      "outputs": []
    },
    {
      "cell_type": "code",
      "source": [],
      "metadata": {
        "id": "hc76VocKWaLS"
      },
      "execution_count": null,
      "outputs": []
    },
    {
      "cell_type": "code",
      "source": [],
      "metadata": {
        "id": "EU6ua3pqWaIw"
      },
      "execution_count": null,
      "outputs": []
    },
    {
      "cell_type": "code",
      "source": [],
      "metadata": {
        "id": "F_THCkh5WaGS"
      },
      "execution_count": null,
      "outputs": []
    },
    {
      "cell_type": "code",
      "source": [],
      "metadata": {
        "id": "UQQpq9bKWaD4"
      },
      "execution_count": null,
      "outputs": []
    },
    {
      "cell_type": "code",
      "source": [],
      "metadata": {
        "id": "oq6Z8c08WaBY"
      },
      "execution_count": null,
      "outputs": []
    },
    {
      "cell_type": "code",
      "source": [],
      "metadata": {
        "id": "8943xbgCWZ-4"
      },
      "execution_count": null,
      "outputs": []
    },
    {
      "cell_type": "code",
      "source": [],
      "metadata": {
        "id": "YjsQjJCfWZ8q"
      },
      "execution_count": null,
      "outputs": []
    },
    {
      "cell_type": "code",
      "source": [],
      "metadata": {
        "id": "6oVkJ_uqWZ6O"
      },
      "execution_count": null,
      "outputs": []
    },
    {
      "cell_type": "code",
      "source": [],
      "metadata": {
        "id": "OmRAv5EMWZ3p"
      },
      "execution_count": null,
      "outputs": []
    },
    {
      "cell_type": "code",
      "source": [],
      "metadata": {
        "id": "stvvE5HtWZ1J"
      },
      "execution_count": null,
      "outputs": []
    },
    {
      "cell_type": "code",
      "source": [],
      "metadata": {
        "id": "hkKeUaB4WZyf"
      },
      "execution_count": null,
      "outputs": []
    },
    {
      "cell_type": "code",
      "source": [],
      "metadata": {
        "id": "rh5p-XTzWZuj"
      },
      "execution_count": null,
      "outputs": []
    },
    {
      "cell_type": "code",
      "source": [],
      "metadata": {
        "id": "FZXLcFL3WZlq"
      },
      "execution_count": null,
      "outputs": []
    }
  ]
}