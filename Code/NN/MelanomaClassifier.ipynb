{
  "nbformat": 4,
  "nbformat_minor": 0,
  "metadata": {
    "colab": {
      "provenance": [],
      "authorship_tag": "ABX9TyOb7bkveBEjnYy79c7G2WTC",
      "include_colab_link": true
    },
    "kernelspec": {
      "name": "python3",
      "display_name": "Python 3"
    },
    "language_info": {
      "name": "python"
    }
  },
  "cells": [
    {
      "cell_type": "markdown",
      "metadata": {
        "id": "view-in-github",
        "colab_type": "text"
      },
      "source": [
        "<a href=\"https://colab.research.google.com/github/wilberquito/ds-thesis/blob/main/Code/NN/MelanomaClassifier.ipynb\" target=\"_parent\"><img src=\"https://colab.research.google.com/assets/colab-badge.svg\" alt=\"Open In Colab\"/></a>"
      ]
    },
    {
      "cell_type": "code",
      "source": [
        "import requests\n",
        "from pathlib import Path"
      ],
      "metadata": {
        "id": "m_eHkfN_9jS2"
      },
      "execution_count": 103,
      "outputs": []
    },
    {
      "cell_type": "code",
      "source": [
        "kaggle_json_url = 'https://raw.githubusercontent.com/wilberquito/ds-thesis/main/Code/NN/kaggle.json'\n",
        "kaggle_json = '/root/.kaggle/kaggle.json'\n",
        "\n",
        "if Path(kaggle_json).exists():\n",
        "  print('Kaggle auth already configured')\n",
        "else:\n",
        "  Path('/root/.kaggle').mkdir(parents=True, exist_ok=True)\n",
        "  with open(kaggle_json, 'wb') as f:\n",
        "    print('Configuring kaggle auth...')\n",
        "    request = requests.get(kaggle_json_url)\n",
        "    f.write(request.content)\n",
        "    print(request.content)\n",
        "    !chmod 600 ~/.kaggle/kaggle.json"
      ],
      "metadata": {
        "colab": {
          "base_uri": "https://localhost:8080/"
        },
        "id": "9zUT1MGBAbcI",
        "outputId": "25936a2a-1192-4128-febb-38ebc0b594a7"
      },
      "execution_count": 104,
      "outputs": [
        {
          "output_type": "stream",
          "name": "stdout",
          "text": [
            "Kaggle auth already configured\n"
          ]
        }
      ]
    },
    {
      "cell_type": "code",
      "execution_count": 105,
      "metadata": {
        "colab": {
          "base_uri": "https://localhost:8080/"
        },
        "id": "XHtK9yz88rGm",
        "outputId": "c6cafb38-5475-4bc1-c819-d190a8e6530c"
      },
      "outputs": [
        {
          "output_type": "stream",
          "name": "stdout",
          "text": [
            "Already downloaded script downloader\n"
          ]
        }
      ],
      "source": [
        "downloader_script_url = 'https://raw.githubusercontent.com/wilberquito/ds-thesis/main/Code/NN/downloader.sh'\n",
        "downloader_script = 'downloader.sh'\n",
        "\n",
        "if Path(downloader_script).exists():\n",
        "  print('Already downloaded script downloader')\n",
        "else:\n",
        "  print('Downloading script downloader...')\n",
        "  with open(downloader_script, 'wb') as f:\n",
        "    request = requests.get(downloader_script_url)\n",
        "    f.write(request.content)\n",
        "  print('Downloading data using the downloader script...')\n",
        "  !sh downloader.sh"
      ]
    },
    {
      "cell_type": "code",
      "source": [
        "from pathlib import Path\n",
        "import pandas as pd\n",
        "import numpy as np\n",
        "from tqdm import tqdm\n",
        "import os"
      ],
      "metadata": {
        "id": "v21nPqpIWGOK"
      },
      "execution_count": 106,
      "outputs": []
    },
    {
      "cell_type": "markdown",
      "source": [
        "## Exploratory data analysis"
      ],
      "metadata": {
        "id": "w1P5XD81X3m8"
      }
    },
    {
      "cell_type": "code",
      "source": [
        "path = Path(f'./data/jpeg-melanoma-{512}x{512}/train.csv')\n",
        "df = pd.read_csv(path)\n",
        "df.head()"
      ],
      "metadata": {
        "id": "-6J0S-AXX0nk",
        "outputId": "91825c4b-433b-4459-c37c-4ece0566b4a0",
        "colab": {
          "base_uri": "https://localhost:8080/",
          "height": 206
        }
      },
      "execution_count": 107,
      "outputs": [
        {
          "output_type": "execute_result",
          "data": {
            "text/plain": [
              "     image_name  patient_id     sex  age_approx anatom_site_general_challenge  \\\n",
              "0  ISIC_2637011  IP_7279968    male        45.0                     head/neck   \n",
              "1  ISIC_0015719  IP_3075186  female        45.0               upper extremity   \n",
              "2  ISIC_0052212  IP_2842074  female        50.0               lower extremity   \n",
              "3  ISIC_0068279  IP_6890425  female        45.0                     head/neck   \n",
              "4  ISIC_0074268  IP_8723313  female        55.0               upper extremity   \n",
              "\n",
              "  diagnosis benign_malignant  target  tfrecord  width  height  \n",
              "0   unknown           benign       0         0   6000    4000  \n",
              "1   unknown           benign       0         0   6000    4000  \n",
              "2     nevus           benign       0         6   1872    1053  \n",
              "3   unknown           benign       0         0   1872    1053  \n",
              "4   unknown           benign       0        11   6000    4000  "
            ],
            "text/html": [
              "\n",
              "  <div id=\"df-0bb01412-d88d-4841-a274-71bea851b188\">\n",
              "    <div class=\"colab-df-container\">\n",
              "      <div>\n",
              "<style scoped>\n",
              "    .dataframe tbody tr th:only-of-type {\n",
              "        vertical-align: middle;\n",
              "    }\n",
              "\n",
              "    .dataframe tbody tr th {\n",
              "        vertical-align: top;\n",
              "    }\n",
              "\n",
              "    .dataframe thead th {\n",
              "        text-align: right;\n",
              "    }\n",
              "</style>\n",
              "<table border=\"1\" class=\"dataframe\">\n",
              "  <thead>\n",
              "    <tr style=\"text-align: right;\">\n",
              "      <th></th>\n",
              "      <th>image_name</th>\n",
              "      <th>patient_id</th>\n",
              "      <th>sex</th>\n",
              "      <th>age_approx</th>\n",
              "      <th>anatom_site_general_challenge</th>\n",
              "      <th>diagnosis</th>\n",
              "      <th>benign_malignant</th>\n",
              "      <th>target</th>\n",
              "      <th>tfrecord</th>\n",
              "      <th>width</th>\n",
              "      <th>height</th>\n",
              "    </tr>\n",
              "  </thead>\n",
              "  <tbody>\n",
              "    <tr>\n",
              "      <th>0</th>\n",
              "      <td>ISIC_2637011</td>\n",
              "      <td>IP_7279968</td>\n",
              "      <td>male</td>\n",
              "      <td>45.0</td>\n",
              "      <td>head/neck</td>\n",
              "      <td>unknown</td>\n",
              "      <td>benign</td>\n",
              "      <td>0</td>\n",
              "      <td>0</td>\n",
              "      <td>6000</td>\n",
              "      <td>4000</td>\n",
              "    </tr>\n",
              "    <tr>\n",
              "      <th>1</th>\n",
              "      <td>ISIC_0015719</td>\n",
              "      <td>IP_3075186</td>\n",
              "      <td>female</td>\n",
              "      <td>45.0</td>\n",
              "      <td>upper extremity</td>\n",
              "      <td>unknown</td>\n",
              "      <td>benign</td>\n",
              "      <td>0</td>\n",
              "      <td>0</td>\n",
              "      <td>6000</td>\n",
              "      <td>4000</td>\n",
              "    </tr>\n",
              "    <tr>\n",
              "      <th>2</th>\n",
              "      <td>ISIC_0052212</td>\n",
              "      <td>IP_2842074</td>\n",
              "      <td>female</td>\n",
              "      <td>50.0</td>\n",
              "      <td>lower extremity</td>\n",
              "      <td>nevus</td>\n",
              "      <td>benign</td>\n",
              "      <td>0</td>\n",
              "      <td>6</td>\n",
              "      <td>1872</td>\n",
              "      <td>1053</td>\n",
              "    </tr>\n",
              "    <tr>\n",
              "      <th>3</th>\n",
              "      <td>ISIC_0068279</td>\n",
              "      <td>IP_6890425</td>\n",
              "      <td>female</td>\n",
              "      <td>45.0</td>\n",
              "      <td>head/neck</td>\n",
              "      <td>unknown</td>\n",
              "      <td>benign</td>\n",
              "      <td>0</td>\n",
              "      <td>0</td>\n",
              "      <td>1872</td>\n",
              "      <td>1053</td>\n",
              "    </tr>\n",
              "    <tr>\n",
              "      <th>4</th>\n",
              "      <td>ISIC_0074268</td>\n",
              "      <td>IP_8723313</td>\n",
              "      <td>female</td>\n",
              "      <td>55.0</td>\n",
              "      <td>upper extremity</td>\n",
              "      <td>unknown</td>\n",
              "      <td>benign</td>\n",
              "      <td>0</td>\n",
              "      <td>11</td>\n",
              "      <td>6000</td>\n",
              "      <td>4000</td>\n",
              "    </tr>\n",
              "  </tbody>\n",
              "</table>\n",
              "</div>\n",
              "      <button class=\"colab-df-convert\" onclick=\"convertToInteractive('df-0bb01412-d88d-4841-a274-71bea851b188')\"\n",
              "              title=\"Convert this dataframe to an interactive table.\"\n",
              "              style=\"display:none;\">\n",
              "        \n",
              "  <svg xmlns=\"http://www.w3.org/2000/svg\" height=\"24px\"viewBox=\"0 0 24 24\"\n",
              "       width=\"24px\">\n",
              "    <path d=\"M0 0h24v24H0V0z\" fill=\"none\"/>\n",
              "    <path d=\"M18.56 5.44l.94 2.06.94-2.06 2.06-.94-2.06-.94-.94-2.06-.94 2.06-2.06.94zm-11 1L8.5 8.5l.94-2.06 2.06-.94-2.06-.94L8.5 2.5l-.94 2.06-2.06.94zm10 10l.94 2.06.94-2.06 2.06-.94-2.06-.94-.94-2.06-.94 2.06-2.06.94z\"/><path d=\"M17.41 7.96l-1.37-1.37c-.4-.4-.92-.59-1.43-.59-.52 0-1.04.2-1.43.59L10.3 9.45l-7.72 7.72c-.78.78-.78 2.05 0 2.83L4 21.41c.39.39.9.59 1.41.59.51 0 1.02-.2 1.41-.59l7.78-7.78 2.81-2.81c.8-.78.8-2.07 0-2.86zM5.41 20L4 18.59l7.72-7.72 1.47 1.35L5.41 20z\"/>\n",
              "  </svg>\n",
              "      </button>\n",
              "      \n",
              "  <style>\n",
              "    .colab-df-container {\n",
              "      display:flex;\n",
              "      flex-wrap:wrap;\n",
              "      gap: 12px;\n",
              "    }\n",
              "\n",
              "    .colab-df-convert {\n",
              "      background-color: #E8F0FE;\n",
              "      border: none;\n",
              "      border-radius: 50%;\n",
              "      cursor: pointer;\n",
              "      display: none;\n",
              "      fill: #1967D2;\n",
              "      height: 32px;\n",
              "      padding: 0 0 0 0;\n",
              "      width: 32px;\n",
              "    }\n",
              "\n",
              "    .colab-df-convert:hover {\n",
              "      background-color: #E2EBFA;\n",
              "      box-shadow: 0px 1px 2px rgba(60, 64, 67, 0.3), 0px 1px 3px 1px rgba(60, 64, 67, 0.15);\n",
              "      fill: #174EA6;\n",
              "    }\n",
              "\n",
              "    [theme=dark] .colab-df-convert {\n",
              "      background-color: #3B4455;\n",
              "      fill: #D2E3FC;\n",
              "    }\n",
              "\n",
              "    [theme=dark] .colab-df-convert:hover {\n",
              "      background-color: #434B5C;\n",
              "      box-shadow: 0px 1px 3px 1px rgba(0, 0, 0, 0.15);\n",
              "      filter: drop-shadow(0px 1px 2px rgba(0, 0, 0, 0.3));\n",
              "      fill: #FFFFFF;\n",
              "    }\n",
              "  </style>\n",
              "\n",
              "      <script>\n",
              "        const buttonEl =\n",
              "          document.querySelector('#df-0bb01412-d88d-4841-a274-71bea851b188 button.colab-df-convert');\n",
              "        buttonEl.style.display =\n",
              "          google.colab.kernel.accessAllowed ? 'block' : 'none';\n",
              "\n",
              "        async function convertToInteractive(key) {\n",
              "          const element = document.querySelector('#df-0bb01412-d88d-4841-a274-71bea851b188');\n",
              "          const dataTable =\n",
              "            await google.colab.kernel.invokeFunction('convertToInteractive',\n",
              "                                                     [key], {});\n",
              "          if (!dataTable) return;\n",
              "\n",
              "          const docLinkHtml = 'Like what you see? Visit the ' +\n",
              "            '<a target=\"_blank\" href=https://colab.research.google.com/notebooks/data_table.ipynb>data table notebook</a>'\n",
              "            + ' to learn more about interactive tables.';\n",
              "          element.innerHTML = '';\n",
              "          dataTable['output_type'] = 'display_data';\n",
              "          await google.colab.output.renderOutput(dataTable, element);\n",
              "          const docLink = document.createElement('div');\n",
              "          docLink.innerHTML = docLinkHtml;\n",
              "          element.appendChild(docLink);\n",
              "        }\n",
              "      </script>\n",
              "    </div>\n",
              "  </div>\n",
              "  "
            ]
          },
          "metadata": {},
          "execution_count": 107
        }
      ]
    },
    {
      "cell_type": "code",
      "source": [
        "df.info()"
      ],
      "metadata": {
        "id": "3EIqEcUBYly7",
        "outputId": "80a825d5-115f-422d-d561-eefc1b12e84f",
        "colab": {
          "base_uri": "https://localhost:8080/"
        }
      },
      "execution_count": 108,
      "outputs": [
        {
          "output_type": "stream",
          "name": "stdout",
          "text": [
            "<class 'pandas.core.frame.DataFrame'>\n",
            "RangeIndex: 33126 entries, 0 to 33125\n",
            "Data columns (total 11 columns):\n",
            " #   Column                         Non-Null Count  Dtype  \n",
            "---  ------                         --------------  -----  \n",
            " 0   image_name                     33126 non-null  object \n",
            " 1   patient_id                     33126 non-null  object \n",
            " 2   sex                            33061 non-null  object \n",
            " 3   age_approx                     33058 non-null  float64\n",
            " 4   anatom_site_general_challenge  32599 non-null  object \n",
            " 5   diagnosis                      33126 non-null  object \n",
            " 6   benign_malignant               33126 non-null  object \n",
            " 7   target                         33126 non-null  int64  \n",
            " 8   tfrecord                       33126 non-null  int64  \n",
            " 9   width                          33126 non-null  int64  \n",
            " 10  height                         33126 non-null  int64  \n",
            "dtypes: float64(1), int64(4), object(6)\n",
            "memory usage: 2.8+ MB\n"
          ]
        }
      ]
    },
    {
      "cell_type": "code",
      "source": [
        "df.describe()"
      ],
      "metadata": {
        "id": "nowLh2F9b5ZA",
        "outputId": "bd148350-74a3-424c-84e5-9c7ffe2ae41d",
        "colab": {
          "base_uri": "https://localhost:8080/",
          "height": 300
        }
      },
      "execution_count": 109,
      "outputs": [
        {
          "output_type": "execute_result",
          "data": {
            "text/plain": [
              "         age_approx        target      tfrecord         width        height\n",
              "count  33058.000000  33126.000000  33126.000000  33126.000000  33126.000000\n",
              "mean      48.870016      0.017630      6.894826   4039.630381   2678.758256\n",
              "std       14.380360      0.131603      4.390486   2109.145590   1437.617626\n",
              "min        0.000000      0.000000     -1.000000    640.000000    480.000000\n",
              "25%       40.000000      0.000000      3.000000   1872.000000   1053.000000\n",
              "50%       50.000000      0.000000      7.000000   5184.000000   3456.000000\n",
              "75%       60.000000      0.000000     11.000000   6000.000000   4000.000000\n",
              "max       90.000000      1.000000     14.000000   6000.000000   6000.000000"
            ],
            "text/html": [
              "\n",
              "  <div id=\"df-5b4bcc91-6efe-4a70-86b4-c2596d2a5d44\">\n",
              "    <div class=\"colab-df-container\">\n",
              "      <div>\n",
              "<style scoped>\n",
              "    .dataframe tbody tr th:only-of-type {\n",
              "        vertical-align: middle;\n",
              "    }\n",
              "\n",
              "    .dataframe tbody tr th {\n",
              "        vertical-align: top;\n",
              "    }\n",
              "\n",
              "    .dataframe thead th {\n",
              "        text-align: right;\n",
              "    }\n",
              "</style>\n",
              "<table border=\"1\" class=\"dataframe\">\n",
              "  <thead>\n",
              "    <tr style=\"text-align: right;\">\n",
              "      <th></th>\n",
              "      <th>age_approx</th>\n",
              "      <th>target</th>\n",
              "      <th>tfrecord</th>\n",
              "      <th>width</th>\n",
              "      <th>height</th>\n",
              "    </tr>\n",
              "  </thead>\n",
              "  <tbody>\n",
              "    <tr>\n",
              "      <th>count</th>\n",
              "      <td>33058.000000</td>\n",
              "      <td>33126.000000</td>\n",
              "      <td>33126.000000</td>\n",
              "      <td>33126.000000</td>\n",
              "      <td>33126.000000</td>\n",
              "    </tr>\n",
              "    <tr>\n",
              "      <th>mean</th>\n",
              "      <td>48.870016</td>\n",
              "      <td>0.017630</td>\n",
              "      <td>6.894826</td>\n",
              "      <td>4039.630381</td>\n",
              "      <td>2678.758256</td>\n",
              "    </tr>\n",
              "    <tr>\n",
              "      <th>std</th>\n",
              "      <td>14.380360</td>\n",
              "      <td>0.131603</td>\n",
              "      <td>4.390486</td>\n",
              "      <td>2109.145590</td>\n",
              "      <td>1437.617626</td>\n",
              "    </tr>\n",
              "    <tr>\n",
              "      <th>min</th>\n",
              "      <td>0.000000</td>\n",
              "      <td>0.000000</td>\n",
              "      <td>-1.000000</td>\n",
              "      <td>640.000000</td>\n",
              "      <td>480.000000</td>\n",
              "    </tr>\n",
              "    <tr>\n",
              "      <th>25%</th>\n",
              "      <td>40.000000</td>\n",
              "      <td>0.000000</td>\n",
              "      <td>3.000000</td>\n",
              "      <td>1872.000000</td>\n",
              "      <td>1053.000000</td>\n",
              "    </tr>\n",
              "    <tr>\n",
              "      <th>50%</th>\n",
              "      <td>50.000000</td>\n",
              "      <td>0.000000</td>\n",
              "      <td>7.000000</td>\n",
              "      <td>5184.000000</td>\n",
              "      <td>3456.000000</td>\n",
              "    </tr>\n",
              "    <tr>\n",
              "      <th>75%</th>\n",
              "      <td>60.000000</td>\n",
              "      <td>0.000000</td>\n",
              "      <td>11.000000</td>\n",
              "      <td>6000.000000</td>\n",
              "      <td>4000.000000</td>\n",
              "    </tr>\n",
              "    <tr>\n",
              "      <th>max</th>\n",
              "      <td>90.000000</td>\n",
              "      <td>1.000000</td>\n",
              "      <td>14.000000</td>\n",
              "      <td>6000.000000</td>\n",
              "      <td>6000.000000</td>\n",
              "    </tr>\n",
              "  </tbody>\n",
              "</table>\n",
              "</div>\n",
              "      <button class=\"colab-df-convert\" onclick=\"convertToInteractive('df-5b4bcc91-6efe-4a70-86b4-c2596d2a5d44')\"\n",
              "              title=\"Convert this dataframe to an interactive table.\"\n",
              "              style=\"display:none;\">\n",
              "        \n",
              "  <svg xmlns=\"http://www.w3.org/2000/svg\" height=\"24px\"viewBox=\"0 0 24 24\"\n",
              "       width=\"24px\">\n",
              "    <path d=\"M0 0h24v24H0V0z\" fill=\"none\"/>\n",
              "    <path d=\"M18.56 5.44l.94 2.06.94-2.06 2.06-.94-2.06-.94-.94-2.06-.94 2.06-2.06.94zm-11 1L8.5 8.5l.94-2.06 2.06-.94-2.06-.94L8.5 2.5l-.94 2.06-2.06.94zm10 10l.94 2.06.94-2.06 2.06-.94-2.06-.94-.94-2.06-.94 2.06-2.06.94z\"/><path d=\"M17.41 7.96l-1.37-1.37c-.4-.4-.92-.59-1.43-.59-.52 0-1.04.2-1.43.59L10.3 9.45l-7.72 7.72c-.78.78-.78 2.05 0 2.83L4 21.41c.39.39.9.59 1.41.59.51 0 1.02-.2 1.41-.59l7.78-7.78 2.81-2.81c.8-.78.8-2.07 0-2.86zM5.41 20L4 18.59l7.72-7.72 1.47 1.35L5.41 20z\"/>\n",
              "  </svg>\n",
              "      </button>\n",
              "      \n",
              "  <style>\n",
              "    .colab-df-container {\n",
              "      display:flex;\n",
              "      flex-wrap:wrap;\n",
              "      gap: 12px;\n",
              "    }\n",
              "\n",
              "    .colab-df-convert {\n",
              "      background-color: #E8F0FE;\n",
              "      border: none;\n",
              "      border-radius: 50%;\n",
              "      cursor: pointer;\n",
              "      display: none;\n",
              "      fill: #1967D2;\n",
              "      height: 32px;\n",
              "      padding: 0 0 0 0;\n",
              "      width: 32px;\n",
              "    }\n",
              "\n",
              "    .colab-df-convert:hover {\n",
              "      background-color: #E2EBFA;\n",
              "      box-shadow: 0px 1px 2px rgba(60, 64, 67, 0.3), 0px 1px 3px 1px rgba(60, 64, 67, 0.15);\n",
              "      fill: #174EA6;\n",
              "    }\n",
              "\n",
              "    [theme=dark] .colab-df-convert {\n",
              "      background-color: #3B4455;\n",
              "      fill: #D2E3FC;\n",
              "    }\n",
              "\n",
              "    [theme=dark] .colab-df-convert:hover {\n",
              "      background-color: #434B5C;\n",
              "      box-shadow: 0px 1px 3px 1px rgba(0, 0, 0, 0.15);\n",
              "      filter: drop-shadow(0px 1px 2px rgba(0, 0, 0, 0.3));\n",
              "      fill: #FFFFFF;\n",
              "    }\n",
              "  </style>\n",
              "\n",
              "      <script>\n",
              "        const buttonEl =\n",
              "          document.querySelector('#df-5b4bcc91-6efe-4a70-86b4-c2596d2a5d44 button.colab-df-convert');\n",
              "        buttonEl.style.display =\n",
              "          google.colab.kernel.accessAllowed ? 'block' : 'none';\n",
              "\n",
              "        async function convertToInteractive(key) {\n",
              "          const element = document.querySelector('#df-5b4bcc91-6efe-4a70-86b4-c2596d2a5d44');\n",
              "          const dataTable =\n",
              "            await google.colab.kernel.invokeFunction('convertToInteractive',\n",
              "                                                     [key], {});\n",
              "          if (!dataTable) return;\n",
              "\n",
              "          const docLinkHtml = 'Like what you see? Visit the ' +\n",
              "            '<a target=\"_blank\" href=https://colab.research.google.com/notebooks/data_table.ipynb>data table notebook</a>'\n",
              "            + ' to learn more about interactive tables.';\n",
              "          element.innerHTML = '';\n",
              "          dataTable['output_type'] = 'display_data';\n",
              "          await google.colab.output.renderOutput(dataTable, element);\n",
              "          const docLink = document.createElement('div');\n",
              "          docLink.innerHTML = docLinkHtml;\n",
              "          element.appendChild(docLink);\n",
              "        }\n",
              "      </script>\n",
              "    </div>\n",
              "  </div>\n",
              "  "
            ]
          },
          "metadata": {},
          "execution_count": 109
        }
      ]
    },
    {
      "cell_type": "markdown",
      "source": [
        "### Diagnosis"
      ],
      "metadata": {
        "id": "vp_GKtyvbMLx"
      }
    },
    {
      "cell_type": "markdown",
      "source": [
        "Here I notice that the are a lot of `unknown` diagnosis. \n",
        "\n",
        "There are also few examples of `solar lentigo`, `cafe-au-lait macule` and `atypical melanocytic proliferation`. "
      ],
      "metadata": {
        "id": "NNLoAJsXbQg5"
      }
    },
    {
      "cell_type": "code",
      "source": [
        "diagnosis_freq = df['diagnosis'].value_counts()\n",
        "diagnosis_freq"
      ],
      "metadata": {
        "id": "HKJRQJMtaXUS",
        "outputId": "0dbffa00-9947-42d5-b7f8-a66e212a8997",
        "colab": {
          "base_uri": "https://localhost:8080/"
        }
      },
      "execution_count": 110,
      "outputs": [
        {
          "output_type": "execute_result",
          "data": {
            "text/plain": [
              "unknown                               27124\n",
              "nevus                                  5193\n",
              "melanoma                                584\n",
              "seborrheic keratosis                    135\n",
              "lentigo NOS                              44\n",
              "lichenoid keratosis                      37\n",
              "solar lentigo                             7\n",
              "cafe-au-lait macule                       1\n",
              "atypical melanocytic proliferation        1\n",
              "Name: diagnosis, dtype: int64"
            ]
          },
          "metadata": {},
          "execution_count": 110
        }
      ]
    },
    {
      "cell_type": "code",
      "source": [
        "_ = sns.barplot(x=diagnosis_freq.values, y=diagnosis_freq.index)"
      ],
      "metadata": {
        "id": "Dl3jVpiJaIOi",
        "outputId": "dd8d8edc-6c9d-4c26-8e77-9bdaeb5d7b15",
        "colab": {
          "base_uri": "https://localhost:8080/",
          "height": 268
        }
      },
      "execution_count": 111,
      "outputs": [
        {
          "output_type": "display_data",
          "data": {
            "text/plain": [
              "<Figure size 432x288 with 1 Axes>"
            ],
            "image/png": "[encoded data removed]"
          },
          "metadata": {}
        }
      ]
    },
    {
      "cell_type": "markdown",
      "source": [
        "### TfRecord"
      ],
      "metadata": {
        "id": "o02ct1BwcTXo"
      }
    },
    {
      "cell_type": "markdown",
      "source": [
        "There are some entries that it's `tfrecord` features are labeled as -1"
      ],
      "metadata": {
        "id": "hQsKG37zcmPv"
      }
    },
    {
      "cell_type": "code",
      "source": [
        "\n",
        "tfrecord_freq = df['tfrecord'].value_counts()\n",
        "_ = sns.barplot(y=tfrecord_freq.values, x=tfrecord_freq.index)"
      ],
      "metadata": {
        "id": "H-xzAuaMcYJq",
        "outputId": "9877e263-5fae-4ecd-f8ef-81ecb762a72a",
        "colab": {
          "base_uri": "https://localhost:8080/",
          "height": 268
        }
      },
      "execution_count": 112,
      "outputs": [
        {
          "output_type": "display_data",
          "data": {
            "text/plain": [
              "<Figure size 432x288 with 1 Axes>"
            ],
            "image/png": "[encoded data removed]"
          },
          "metadata": {}
        }
      ]
    },
    {
      "cell_type": "code",
      "source": [
        "import seaborn as sns\n",
        "import matplotlib.pyplot as plt\n",
        "\n",
        "sns.set_theme(style=\"ticks\")\n",
        "\n",
        "# Initialize the figure with a logarithmic x axis\n",
        "f, ax = plt.subplots(figsize=(7, 6))\n",
        "ax.set_xscale(\"log\")\n",
        "\n",
        "# Plot the orbital period with horizontal boxes\n",
        "sns.boxplot(x=\"tfrecord\", y=\"diagnosis\", data=df,\n",
        "            whis=[0, 100], width=.6, palette=\"vlag\")\n",
        "\n",
        "# # Add in points to show each observation\n",
        "# sns.stripplot(x=\"distance\", y=\"method\", data=df,\n",
        "#               size=4, color=\".3\", linewidth=0)\n",
        "\n",
        "# Tweak the visual presentation\n",
        "ax.xaxis.grid(True)\n",
        "ax.set(ylabel=\"\")\n",
        "sns.despine(trim=True, left=True)"
      ],
      "metadata": {
        "id": "tQr5rIxHY7Nz",
        "outputId": "2e0b470f-372c-43a8-dfff-756bb6d90641",
        "colab": {
          "base_uri": "https://localhost:8080/",
          "height": 400
        }
      },
      "execution_count": 113,
      "outputs": [
        {
          "output_type": "display_data",
          "data": {
            "text/plain": [
              "<Figure size 504x432 with 1 Axes>"
            ],
            "image/png": "[encoded data removed]"
          },
          "metadata": {}
        }
      ]
    },
    {
      "cell_type": "code",
      "source": [
        "def get_meta_data(df_train, df_test):\n",
        "\n",
        "    # One-hot encoding of anatom_site_general_challenge feature\n",
        "    concat = pd.concat([df_train['anatom_site_general_challenge'], df_test['anatom_site_general_challenge']], ignore_index=True)\n",
        "    dummies = pd.get_dummies(concat, dummy_na=True, dtype=np.uint8, prefix='site')\n",
        "    df_train = pd.concat([df_train, dummies.iloc[:df_train.shape[0]]], axis=1)\n",
        "    df_test = pd.concat([df_test, dummies.iloc[df_train.shape[0]:].reset_index(drop=True)], axis=1)\n",
        "\n",
        "    # Sex features\n",
        "    df_train['sex'] = df_train['sex'].map({'male': 1, 'female': 0})\n",
        "    df_test['sex'] = df_test['sex'].map({'male': 1, 'female': 0})\n",
        "    df_train['sex'] = df_train['sex'].fillna(-1)\n",
        "    df_test['sex'] = df_test['sex'].fillna(-1)\n",
        "\n",
        "    # Age features\n",
        "    df_train['age_approx'] /= 90\n",
        "    df_test['age_approx'] /= 90\n",
        "    df_train['age_approx'] = df_train['age_approx'].fillna(0)\n",
        "    df_test['age_approx'] = df_test['age_approx'].fillna(0)\n",
        "    df_train['patient_id'] = df_train['patient_id'].fillna(0)\n",
        "\n",
        "    # Compute the number of images that each user has\n",
        "    df_train['n_images'] = df_train['patient_id'].map(df_train.groupby(['patient_id']).image_name.count())\n",
        "    df_test['n_images'] = df_test['patient_id'].map(df_test.groupby(['patient_id']).image_name.count())\n",
        "    df_train.loc[df_train['patient_id'] == -1, 'n_images'] = 1\n",
        "    df_train['n_images'] = np.log1p(df_train['n_images'].values)\n",
        "    df_test['n_images'] = np.log1p(df_test['n_images'].values)\n",
        "    \n",
        "    # Compute train image size\n",
        "    train_images = df_train['filepath'].values\n",
        "    train_sizes = np.zeros(train_images.shape[0])\n",
        "    for i, img_path in enumerate(tqdm(train_images)):\n",
        "      if (not Path(img_path).exists()):\n",
        "        print(f\"Img {img_path} doen't exist\")\n",
        "      else:\n",
        "        train_sizes[i] = os.path.getsize(img_path)\n",
        "    df_train['image_size'] = np.log(train_sizes)\n",
        "\n",
        "    # Compute test image size\n",
        "    test_images = df_test['filepath'].values\n",
        "    test_sizes = np.zeros(test_images.shape[0])\n",
        "    for i, img_path in enumerate(tqdm(test_images)):\n",
        "      if (not Path(img_path).exists()):\n",
        "        print(f\"Img {img_path} doen't exist\")\n",
        "      else:\n",
        "        test_sizes[i] = os.path.getsize(img_path)\n",
        "    df_test['image_size'] = np.log(test_sizes)\n",
        "\n",
        "    meta_features = ['sex', 'age_approx', 'n_images', 'image_size'] + [col for col in df_train.columns if col.startswith('site_')]\n",
        "    n_meta_features = len(meta_features)\n",
        "\n",
        "    return df_train, df_test, meta_features, n_meta_features\n",
        "\n",
        "\n",
        "def get_df(out_dim: int, data_dir: str, data_folder: str, use_meta:bool = False):\n",
        "\n",
        "  # 2020 data\n",
        "  train_path = Path(data_dir) / Path(f'jpeg-melanoma-{data_folder}x{data_folder}/train.csv')\n",
        "  df_train = pd.read_csv(train_path)\n",
        "  \n",
        "  # Drops samples where tfrecord is -1\n",
        "  df_train = df_train[df_train['tfrecord'] >= 0].reset_index(drop=True)\n",
        "  df_train['fold'] = df_train['tfrecord']\n",
        "  df_train['filepath'] = df_train['image_name'].apply(lambda img : train_path.parents[0] / Path(f'train/{img}.jpg'))\n",
        "  df_train['is_ext'] = 0\n",
        "\n",
        "  # 2018 and 2019 data\n",
        "  train_path = Path(data_dir) / Path(f'jpeg-isic2019-{data_folder}x{data_folder}/train.csv')\n",
        "  df_train2 = pd.read_csv(train_path)\n",
        "  df_train2 = df_train2[df_train2['tfrecord'] >= 0].reset_index(drop=True)\n",
        "  df_train2['filepath'] = df_train2['image_name'].apply(lambda img: train_path.parents[0] / Path(f'train/{img}.jpg'))\n",
        "  df_train2['is_ext'] = 1\n",
        "\n",
        "  # Preprocess Target\n",
        "  df_train['diagnosis']  = df_train['diagnosis'].apply(lambda x: x.replace('seborrheic keratosis', 'BKL'))\n",
        "  df_train['diagnosis']  = df_train['diagnosis'].apply(lambda x: x.replace('lichenoid keratosis', 'BKL'))\n",
        "  df_train['diagnosis']  = df_train['diagnosis'].apply(lambda x: x.replace('solar lentigo', 'BKL'))\n",
        "  df_train['diagnosis']  = df_train['diagnosis'].apply(lambda x: x.replace('lentigo NOS', 'BKL'))\n",
        "\n",
        "  # Join categorical variables to adapt to the output of the nn\n",
        "  if out_dim == 8:\n",
        "    df_train2['diagnosis'] = df_train2['diagnosis'].apply(lambda x: x.replace('NV', 'nevus'))\n",
        "    df_train2['diagnosis'] = df_train2['diagnosis'].apply(lambda x: x.replace('MEL', 'melanoma'))\n",
        "  elif out_dim == 4:\n",
        "    df_train2['diagnosis'] = df_train2['diagnosis'].apply(lambda x: x.replace('NV', 'nevus'))\n",
        "    df_train2['diagnosis'] = df_train2['diagnosis'].apply(lambda x: x.replace('MEL', 'melanoma'))\n",
        "    df_train2['diagnosis'] = df_train2['diagnosis'].apply(lambda x: x.replace('DF', 'unknown'))\n",
        "    df_train2['diagnosis'] = df_train2['diagnosis'].apply(lambda x: x.replace('AK', 'unknown'))\n",
        "    df_train2['diagnosis'] = df_train2['diagnosis'].apply(lambda x: x.replace('SCC', 'unknown'))\n",
        "    df_train2['diagnosis'] = df_train2['diagnosis'].apply(lambda x: x.replace('VASC', 'unknown'))\n",
        "    df_train2['diagnosis'] = df_train2['diagnosis'].apply(lambda x: x.replace('BCC', 'unknown'))\n",
        "  else:\n",
        "    raise NotImplementedError()\n",
        "\n",
        "  # Definition of the hole train dataframe\n",
        "  df_train = pd.concat([df_train, df_train2]).reset_index(drop=True)\n",
        "\n",
        "  # Create target column that represents the diagnostic using a number\n",
        "  diagnosis2idx = {d: idx for idx, d in enumerate(sorted(df_train.diagnosis.unique()))}\n",
        "  df_train['target'] = df_train['diagnosis'].map(diagnosis2idx)\n",
        "\n",
        "  # Save which idx represent the melanoma\n",
        "  mel_idx = diagnosis2idx['melanoma']\n",
        "\n",
        "  # Test dataframe\n",
        "  test_path = Path(data_dir) / Path(f'jpeg-melanoma-{data_folder}x{data_folder}/test.csv')\n",
        "  df_test = pd.read_csv(test_path)\n",
        "  df_test['filepath'] = df_test['image_name'].apply(lambda img : test_path.parents[0] / Path(f'test/{img}.jpg'))\n",
        "\n",
        "  if use_meta:\n",
        "    df_train, df_test, meta_features, n_meta_features = get_meta_data(df_train, df_test)\n",
        "  else:\n",
        "    meta_features = None\n",
        "    n_meta_features = 0\n",
        "\n",
        "  return df_train, df_test, meta_features, n_meta_features, mel_idx"
      ],
      "metadata": {
        "id": "JfJMUHuf_f1Q"
      },
      "execution_count": 157,
      "outputs": []
    },
    {
      "cell_type": "code",
      "source": [
        "df_train, df_test, meta_features, n_meta_features, melanoma_id = get_df(8, './data', '512', True)\n",
        "df_train.head()"
      ],
      "metadata": {
        "id": "pO8114fhWINJ",
        "colab": {
          "base_uri": "https://localhost:8080/",
          "height": 352
        },
        "outputId": "bc7fac73-92eb-49b1-a69e-c4a37d4a16b7"
      },
      "execution_count": 158,
      "outputs": [
        {
          "output_type": "stream",
          "name": "stderr",
          "text": [
            "100%|██████████| 57964/57964 [00:01<00:00, 57628.57it/s]\n",
            "100%|██████████| 10982/10982 [00:00<00:00, 58263.29it/s]\n"
          ]
        },
        {
          "output_type": "execute_result",
          "data": {
            "text/plain": [
              "     image_name  patient_id  sex  age_approx anatom_site_general_challenge  \\\n",
              "0  ISIC_2637011  IP_7279968  1.0    0.500000                     head/neck   \n",
              "1  ISIC_0015719  IP_3075186  0.0    0.500000               upper extremity   \n",
              "2  ISIC_0052212  IP_2842074  0.0    0.555556               lower extremity   \n",
              "3  ISIC_0068279  IP_6890425  0.0    0.500000                     head/neck   \n",
              "4  ISIC_0074268  IP_8723313  0.0    0.611111               upper extremity   \n",
              "\n",
              "  diagnosis benign_malignant  target  tfrecord  width  ...  \\\n",
              "0   unknown           benign      10         0   6000  ...   \n",
              "1   unknown           benign      10         0   6000  ...   \n",
              "2     nevus           benign       9         6   1872  ...   \n",
              "3   unknown           benign      10         0   1872  ...   \n",
              "4   unknown           benign      10        11   6000  ...   \n",
              "\n",
              "   site_lateral torso  site_lower extremity site_oral/genital  \\\n",
              "0                   0                     0                 0   \n",
              "1                   0                     0                 0   \n",
              "2                   0                     1                 0   \n",
              "3                   0                     0                 0   \n",
              "4                   0                     0                 0   \n",
              "\n",
              "   site_palms/soles  site_posterior torso  site_torso  site_upper extremity  \\\n",
              "0                 0                     0           0                     0   \n",
              "1                 0                     0           0                     1   \n",
              "2                 0                     0           0                     0   \n",
              "3                 0                     0           0                     0   \n",
              "4                 0                     0           0                     1   \n",
              "\n",
              "   site_nan  n_images  image_size  \n",
              "0         0  4.753590   11.165139  \n",
              "1         0  3.218876   11.318394  \n",
              "2         0  1.791759   11.033292  \n",
              "3         0  3.135494   11.438105  \n",
              "4         0  3.044522   11.190928  \n",
              "\n",
              "[5 rows x 26 columns]"
            ],
            "text/html": [
              "\n",
              "  <div id=\"df-fd43f135-0b19-4d81-8f28-9b92dcead4c2\">\n",
              "    <div class=\"colab-df-container\">\n",
              "      <div>\n",
              "<style scoped>\n",
              "    .dataframe tbody tr th:only-of-type {\n",
              "        vertical-align: middle;\n",
              "    }\n",
              "\n",
              "    .dataframe tbody tr th {\n",
              "        vertical-align: top;\n",
              "    }\n",
              "\n",
              "    .dataframe thead th {\n",
              "        text-align: right;\n",
              "    }\n",
              "</style>\n",
              "<table border=\"1\" class=\"dataframe\">\n",
              "  <thead>\n",
              "    <tr style=\"text-align: right;\">\n",
              "      <th></th>\n",
              "      <th>image_name</th>\n",
              "      <th>patient_id</th>\n",
              "      <th>sex</th>\n",
              "      <th>age_approx</th>\n",
              "      <th>anatom_site_general_challenge</th>\n",
              "      <th>diagnosis</th>\n",
              "      <th>benign_malignant</th>\n",
              "      <th>target</th>\n",
              "      <th>tfrecord</th>\n",
              "      <th>width</th>\n",
              "      <th>...</th>\n",
              "      <th>site_lateral torso</th>\n",
              "      <th>site_lower extremity</th>\n",
              "      <th>site_oral/genital</th>\n",
              "      <th>site_palms/soles</th>\n",
              "      <th>site_posterior torso</th>\n",
              "      <th>site_torso</th>\n",
              "      <th>site_upper extremity</th>\n",
              "      <th>site_nan</th>\n",
              "      <th>n_images</th>\n",
              "      <th>image_size</th>\n",
              "    </tr>\n",
              "  </thead>\n",
              "  <tbody>\n",
              "    <tr>\n",
              "      <th>0</th>\n",
              "      <td>ISIC_2637011</td>\n",
              "      <td>IP_7279968</td>\n",
              "      <td>1.0</td>\n",
              "      <td>0.500000</td>\n",
              "      <td>head/neck</td>\n",
              "      <td>unknown</td>\n",
              "      <td>benign</td>\n",
              "      <td>10</td>\n",
              "      <td>0</td>\n",
              "      <td>6000</td>\n",
              "      <td>...</td>\n",
              "      <td>0</td>\n",
              "      <td>0</td>\n",
              "      <td>0</td>\n",
              "      <td>0</td>\n",
              "      <td>0</td>\n",
              "      <td>0</td>\n",
              "      <td>0</td>\n",
              "      <td>0</td>\n",
              "      <td>4.753590</td>\n",
              "      <td>11.165139</td>\n",
              "    </tr>\n",
              "    <tr>\n",
              "      <th>1</th>\n",
              "      <td>ISIC_0015719</td>\n",
              "      <td>IP_3075186</td>\n",
              "      <td>0.0</td>\n",
              "      <td>0.500000</td>\n",
              "      <td>upper extremity</td>\n",
              "      <td>unknown</td>\n",
              "      <td>benign</td>\n",
              "      <td>10</td>\n",
              "      <td>0</td>\n",
              "      <td>6000</td>\n",
              "      <td>...</td>\n",
              "      <td>0</td>\n",
              "      <td>0</td>\n",
              "      <td>0</td>\n",
              "      <td>0</td>\n",
              "      <td>0</td>\n",
              "      <td>0</td>\n",
              "      <td>1</td>\n",
              "      <td>0</td>\n",
              "      <td>3.218876</td>\n",
              "      <td>11.318394</td>\n",
              "    </tr>\n",
              "    <tr>\n",
              "      <th>2</th>\n",
              "      <td>ISIC_0052212</td>\n",
              "      <td>IP_2842074</td>\n",
              "      <td>0.0</td>\n",
              "      <td>0.555556</td>\n",
              "      <td>lower extremity</td>\n",
              "      <td>nevus</td>\n",
              "      <td>benign</td>\n",
              "      <td>9</td>\n",
              "      <td>6</td>\n",
              "      <td>1872</td>\n",
              "      <td>...</td>\n",
              "      <td>0</td>\n",
              "      <td>1</td>\n",
              "      <td>0</td>\n",
              "      <td>0</td>\n",
              "      <td>0</td>\n",
              "      <td>0</td>\n",
              "      <td>0</td>\n",
              "      <td>0</td>\n",
              "      <td>1.791759</td>\n",
              "      <td>11.033292</td>\n",
              "    </tr>\n",
              "    <tr>\n",
              "      <th>3</th>\n",
              "      <td>ISIC_0068279</td>\n",
              "      <td>IP_6890425</td>\n",
              "      <td>0.0</td>\n",
              "      <td>0.500000</td>\n",
              "      <td>head/neck</td>\n",
              "      <td>unknown</td>\n",
              "      <td>benign</td>\n",
              "      <td>10</td>\n",
              "      <td>0</td>\n",
              "      <td>1872</td>\n",
              "      <td>...</td>\n",
              "      <td>0</td>\n",
              "      <td>0</td>\n",
              "      <td>0</td>\n",
              "      <td>0</td>\n",
              "      <td>0</td>\n",
              "      <td>0</td>\n",
              "      <td>0</td>\n",
              "      <td>0</td>\n",
              "      <td>3.135494</td>\n",
              "      <td>11.438105</td>\n",
              "    </tr>\n",
              "    <tr>\n",
              "      <th>4</th>\n",
              "      <td>ISIC_0074268</td>\n",
              "      <td>IP_8723313</td>\n",
              "      <td>0.0</td>\n",
              "      <td>0.611111</td>\n",
              "      <td>upper extremity</td>\n",
              "      <td>unknown</td>\n",
              "      <td>benign</td>\n",
              "      <td>10</td>\n",
              "      <td>11</td>\n",
              "      <td>6000</td>\n",
              "      <td>...</td>\n",
              "      <td>0</td>\n",
              "      <td>0</td>\n",
              "      <td>0</td>\n",
              "      <td>0</td>\n",
              "      <td>0</td>\n",
              "      <td>0</td>\n",
              "      <td>1</td>\n",
              "      <td>0</td>\n",
              "      <td>3.044522</td>\n",
              "      <td>11.190928</td>\n",
              "    </tr>\n",
              "  </tbody>\n",
              "</table>\n",
              "<p>5 rows × 26 columns</p>\n",
              "</div>\n",
              "      <button class=\"colab-df-convert\" onclick=\"convertToInteractive('df-fd43f135-0b19-4d81-8f28-9b92dcead4c2')\"\n",
              "              title=\"Convert this dataframe to an interactive table.\"\n",
              "              style=\"display:none;\">\n",
              "        \n",
              "  <svg xmlns=\"http://www.w3.org/2000/svg\" height=\"24px\"viewBox=\"0 0 24 24\"\n",
              "       width=\"24px\">\n",
              "    <path d=\"M0 0h24v24H0V0z\" fill=\"none\"/>\n",
              "    <path d=\"M18.56 5.44l.94 2.06.94-2.06 2.06-.94-2.06-.94-.94-2.06-.94 2.06-2.06.94zm-11 1L8.5 8.5l.94-2.06 2.06-.94-2.06-.94L8.5 2.5l-.94 2.06-2.06.94zm10 10l.94 2.06.94-2.06 2.06-.94-2.06-.94-.94-2.06-.94 2.06-2.06.94z\"/><path d=\"M17.41 7.96l-1.37-1.37c-.4-.4-.92-.59-1.43-.59-.52 0-1.04.2-1.43.59L10.3 9.45l-7.72 7.72c-.78.78-.78 2.05 0 2.83L4 21.41c.39.39.9.59 1.41.59.51 0 1.02-.2 1.41-.59l7.78-7.78 2.81-2.81c.8-.78.8-2.07 0-2.86zM5.41 20L4 18.59l7.72-7.72 1.47 1.35L5.41 20z\"/>\n",
              "  </svg>\n",
              "      </button>\n",
              "      \n",
              "  <style>\n",
              "    .colab-df-container {\n",
              "      display:flex;\n",
              "      flex-wrap:wrap;\n",
              "      gap: 12px;\n",
              "    }\n",
              "\n",
              "    .colab-df-convert {\n",
              "      background-color: #E8F0FE;\n",
              "      border: none;\n",
              "      border-radius: 50%;\n",
              "      cursor: pointer;\n",
              "      display: none;\n",
              "      fill: #1967D2;\n",
              "      height: 32px;\n",
              "      padding: 0 0 0 0;\n",
              "      width: 32px;\n",
              "    }\n",
              "\n",
              "    .colab-df-convert:hover {\n",
              "      background-color: #E2EBFA;\n",
              "      box-shadow: 0px 1px 2px rgba(60, 64, 67, 0.3), 0px 1px 3px 1px rgba(60, 64, 67, 0.15);\n",
              "      fill: #174EA6;\n",
              "    }\n",
              "\n",
              "    [theme=dark] .colab-df-convert {\n",
              "      background-color: #3B4455;\n",
              "      fill: #D2E3FC;\n",
              "    }\n",
              "\n",
              "    [theme=dark] .colab-df-convert:hover {\n",
              "      background-color: #434B5C;\n",
              "      box-shadow: 0px 1px 3px 1px rgba(0, 0, 0, 0.15);\n",
              "      filter: drop-shadow(0px 1px 2px rgba(0, 0, 0, 0.3));\n",
              "      fill: #FFFFFF;\n",
              "    }\n",
              "  </style>\n",
              "\n",
              "      <script>\n",
              "        const buttonEl =\n",
              "          document.querySelector('#df-fd43f135-0b19-4d81-8f28-9b92dcead4c2 button.colab-df-convert');\n",
              "        buttonEl.style.display =\n",
              "          google.colab.kernel.accessAllowed ? 'block' : 'none';\n",
              "\n",
              "        async function convertToInteractive(key) {\n",
              "          const element = document.querySelector('#df-fd43f135-0b19-4d81-8f28-9b92dcead4c2');\n",
              "          const dataTable =\n",
              "            await google.colab.kernel.invokeFunction('convertToInteractive',\n",
              "                                                     [key], {});\n",
              "          if (!dataTable) return;\n",
              "\n",
              "          const docLinkHtml = 'Like what you see? Visit the ' +\n",
              "            '<a target=\"_blank\" href=https://colab.research.google.com/notebooks/data_table.ipynb>data table notebook</a>'\n",
              "            + ' to learn more about interactive tables.';\n",
              "          element.innerHTML = '';\n",
              "          dataTable['output_type'] = 'display_data';\n",
              "          await google.colab.output.renderOutput(dataTable, element);\n",
              "          const docLink = document.createElement('div');\n",
              "          docLink.innerHTML = docLinkHtml;\n",
              "          element.appendChild(docLink);\n",
              "        }\n",
              "      </script>\n",
              "    </div>\n",
              "  </div>\n",
              "  "
            ]
          },
          "metadata": {},
          "execution_count": 158
        }
      ]
    },
    {
      "cell_type": "code",
      "source": [
        "# You can notice that from anotom_site_general_challenge it generates onehot encoding of this categorical variable\n",
        "# and generates the features that start with site_\n",
        "df_train.columns"
      ],
      "metadata": {
        "colab": {
          "base_uri": "https://localhost:8080/"
        },
        "id": "4-la_Gev-XUg",
        "outputId": "e1a8a6a4-aa6f-47ff-d10b-50684e087043"
      },
      "execution_count": 156,
      "outputs": [
        {
          "output_type": "execute_result",
          "data": {
            "text/plain": [
              "Index(['image_name', 'patient_id', 'sex', 'age_approx',\n",
              "       'anatom_site_general_challenge', 'diagnosis', 'benign_malignant',\n",
              "       'target', 'tfrecord', 'width', 'height', 'fold', 'filepath', 'is_ext',\n",
              "       'site_anterior torso', 'site_head/neck', 'site_lateral torso',\n",
              "       'site_lower extremity', 'site_oral/genital', 'site_palms/soles',\n",
              "       'site_posterior torso', 'site_torso', 'site_upper extremity',\n",
              "       'site_nan', 'n_images', 'image_size'],\n",
              "      dtype='object')"
            ]
          },
          "metadata": {},
          "execution_count": 156
        }
      ]
    },
    {
      "cell_type": "code",
      "source": [
        "diagnosis_freq = df_train['diagnosis'].value_counts()\n",
        "diagnosis_freq, len(diagnosis_freq)"
      ],
      "metadata": {
        "id": "WKEbVDTjWaVt",
        "outputId": "4a3d81e8-e601-4c66-bf0c-35ad89cb2162",
        "colab": {
          "base_uri": "https://localhost:8080/"
        }
      },
      "execution_count": 159,
      "outputs": [
        {
          "output_type": "execute_result",
          "data": {
            "text/plain": [
              "(unknown                               26697\n",
              " nevus                                 18031\n",
              " melanoma                               5090\n",
              " BCC                                    3320\n",
              " BKL                                    2837\n",
              " AK                                      867\n",
              " SCC                                     628\n",
              " VASC                                    253\n",
              " DF                                      239\n",
              " cafe-au-lait macule                       1\n",
              " atypical melanocytic proliferation        1\n",
              " Name: diagnosis, dtype: int64, 11)"
            ]
          },
          "metadata": {},
          "execution_count": 159
        }
      ]
    },
    {
      "cell_type": "code",
      "source": [
        "diagnosis_freq = df_train['target'].value_counts()\n",
        "diagnosis_freq, len(diagnosis_freq)"
      ],
      "metadata": {
        "id": "fP0XAtcE_T4P",
        "outputId": "f1cdaf5c-f145-45fc-8dfc-0a53822c2274",
        "colab": {
          "base_uri": "https://localhost:8080/"
        }
      },
      "execution_count": 161,
      "outputs": [
        {
          "output_type": "execute_result",
          "data": {
            "text/plain": [
              "(10    26697\n",
              " 9     18031\n",
              " 8      5090\n",
              " 1      3320\n",
              " 2      2837\n",
              " 0       867\n",
              " 4       628\n",
              " 5       253\n",
              " 3       239\n",
              " 7         1\n",
              " 6         1\n",
              " Name: target, dtype: int64, 11)"
            ]
          },
          "metadata": {},
          "execution_count": 161
        }
      ]
    },
    {
      "cell_type": "code",
      "source": [
        "melanoma_id"
      ],
      "metadata": {
        "id": "Jw9QaKda_NiP",
        "outputId": "34e9c801-dd75-40e2-adf6-c8fc238b8dde",
        "colab": {
          "base_uri": "https://localhost:8080/"
        }
      },
      "execution_count": 162,
      "outputs": [
        {
          "output_type": "execute_result",
          "data": {
            "text/plain": [
              "8"
            ]
          },
          "metadata": {},
          "execution_count": 162
        }
      ]
    },
    {
      "cell_type": "code",
      "source": [],
      "metadata": {
        "id": "hc76VocKWaLS"
      },
      "execution_count": 156,
      "outputs": []
    },
    {
      "cell_type": "code",
      "source": [],
      "metadata": {
        "id": "EU6ua3pqWaIw"
      },
      "execution_count": 156,
      "outputs": []
    },
    {
      "cell_type": "code",
      "source": [],
      "metadata": {
        "id": "F_THCkh5WaGS"
      },
      "execution_count": 156,
      "outputs": []
    },
    {
      "cell_type": "code",
      "source": [],
      "metadata": {
        "id": "UQQpq9bKWaD4"
      },
      "execution_count": 156,
      "outputs": []
    },
    {
      "cell_type": "code",
      "source": [],
      "metadata": {
        "id": "oq6Z8c08WaBY"
      },
      "execution_count": 156,
      "outputs": []
    },
    {
      "cell_type": "code",
      "source": [],
      "metadata": {
        "id": "8943xbgCWZ-4"
      },
      "execution_count": 156,
      "outputs": []
    },
    {
      "cell_type": "code",
      "source": [],
      "metadata": {
        "id": "YjsQjJCfWZ8q"
      },
      "execution_count": 156,
      "outputs": []
    },
    {
      "cell_type": "code",
      "source": [],
      "metadata": {
        "id": "6oVkJ_uqWZ6O"
      },
      "execution_count": 156,
      "outputs": []
    },
    {
      "cell_type": "code",
      "source": [],
      "metadata": {
        "id": "OmRAv5EMWZ3p"
      },
      "execution_count": 156,
      "outputs": []
    },
    {
      "cell_type": "code",
      "source": [],
      "metadata": {
        "id": "stvvE5HtWZ1J"
      },
      "execution_count": 156,
      "outputs": []
    },
    {
      "cell_type": "code",
      "source": [],
      "metadata": {
        "id": "hkKeUaB4WZyf"
      },
      "execution_count": 156,
      "outputs": []
    },
    {
      "cell_type": "code",
      "source": [],
      "metadata": {
        "id": "rh5p-XTzWZuj"
      },
      "execution_count": 156,
      "outputs": []
    },
    {
      "cell_type": "code",
      "source": [],
      "metadata": {
        "id": "FZXLcFL3WZlq"
      },
      "execution_count": 156,
      "outputs": []
    }
  ]
}