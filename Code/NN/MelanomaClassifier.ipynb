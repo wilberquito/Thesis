{
  "nbformat": 4,
  "nbformat_minor": 0,
  "metadata": {
    "colab": {
      "provenance": [],
      "authorship_tag": "ABX9TyP9/xDWVsIr/lYj9A1uDq3U",
      "include_colab_link": true
    },
    "kernelspec": {
      "name": "python3",
      "display_name": "Python 3"
    },
    "language_info": {
      "name": "python"
    }
  },
  "cells": [
    {
      "cell_type": "markdown",
      "metadata": {
        "id": "view-in-github",
        "colab_type": "text"
      },
      "source": [
        "<a href=\"https://colab.research.google.com/github/wilberquito/ds-thesis/blob/main/Code/NN/MelanomaClassifier.ipynb\" target=\"_parent\"><img src=\"https://colab.research.google.com/assets/colab-badge.svg\" alt=\"Open In Colab\"/></a>"
      ]
    },
    {
      "cell_type": "code",
      "source": [
        "import requests\n",
        "from pathlib import Path"
      ],
      "metadata": {
        "id": "m_eHkfN_9jS2"
      },
      "execution_count": 1,
      "outputs": []
    },
    {
      "cell_type": "code",
      "source": [
        "kaggle_json_url = 'https://raw.githubusercontent.com/wilberquito/ds-thesis/main/Code/NN/kaggle.json'\n",
        "kaggle_json = '/root/.kaggle/kaggle.json'\n",
        "\n",
        "if Path(kaggle_json).exists():\n",
        "  print('Kaggle auth already configured')\n",
        "else:\n",
        "  Path(kaggle_json.parents[0]).mkdir(parents=True, exist_ok=True)\n",
        "  with open(kaggle_json, 'wb') as f:\n",
        "    print('Configuring kaggle auth...')\n",
        "    request = requests.get(kaggle_json_url)\n",
        "    f.write(request.content)\n",
        "    print(request.content)\n",
        "    !chmod 600 ~/.kaggle/kaggle.json"
      ],
      "metadata": {
        "colab": {
          "base_uri": "https://localhost:8080/"
        },
        "id": "9zUT1MGBAbcI",
        "outputId": "008a60c1-ab1a-434c-80ce-a534b5d2b920"
      },
      "execution_count": 7,
      "outputs": [
        {
          "output_type": "stream",
          "name": "stdout",
          "text": [
            "/root/.kaggle\n",
            "Kaggle auth already configured\n"
          ]
        }
      ]
    },
    {
      "cell_type": "code",
      "execution_count": 10,
      "metadata": {
        "colab": {
          "base_uri": "https://localhost:8080/"
        },
        "id": "XHtK9yz88rGm",
        "outputId": "a8c611f2-d939-4028-ddaf-1ef0c41bcd83"
      },
      "outputs": [
        {
          "output_type": "stream",
          "name": "stdout",
          "text": [
            "Downloading script downloader...\n",
            "Downloading data using the downloader script...\n",
            "mkdir: cannot create directory ‘./data’: File exists\n",
            "jpeg-isic2019-512x512.zip: Skipping, found more recently modified local copy (use --force to force download)\n",
            "Downloading jpeg-melanoma-512x512.zip to /content/data\n",
            "100% 2.62G/2.63G [00:20<00:00, 189MB/s]\n",
            "100% 2.63G/2.63G [00:20<00:00, 136MB/s]\n",
            "[jpeg-isic2019-512x512.zip]\n",
            "  End-of-central-directory signature not found.  Either this file is not\n",
            "  a zipfile, or it constitutes one disk of a multi-part archive.  In the\n",
            "  latter case the central directory and zipfile comment will be found on\n",
            "  the last disk(s) of this archive.\n",
            "unzip:  cannot find zipfile directory in one of jpeg-isic2019-512x512.zip or\n",
            "        jpeg-isic2019-512x512.zip.zip, and cannot find jpeg-isic2019-512x512.zip.ZIP, period.\n",
            "Downloading jpeg-isic2019-768x768.zip to /content/data\n",
            "100% 2.74G/2.74G [00:23<00:00, 142MB/s]\n",
            "100% 2.74G/2.74G [00:23<00:00, 127MB/s]\n",
            "Downloading jpeg-melanoma-768x768.zip to /content/data\n",
            "100% 5.31G/5.32G [00:43<00:00, 182MB/s]\n",
            "100% 5.32G/5.32G [00:43<00:00, 130MB/s]\n",
            "Downloading jpeg-isic2019-1024x1024.zip to /content/data\n",
            "100% 4.72G/4.72G [00:36<00:00, 167MB/s]\n",
            "100% 4.72G/4.72G [00:36<00:00, 140MB/s]\n",
            "Downloading jpeg-melanoma-1024x1024.zip to /content/data\n",
            "100% 8.84G/8.85G [01:03<00:00, 139MB/s]\n",
            "100% 8.85G/8.85G [01:03<00:00, 149MB/s]\n"
          ]
        }
      ],
      "source": [
        "downloader_script_url = 'https://raw.githubusercontent.com/wilberquito/ds-thesis/main/Code/NN/downloader.sh'\n",
        "downloader_script = 'downloader.sh'\n",
        "\n",
        "if Path(downloader_script).exists():\n",
        "  print('Already downloaded script downloader')\n",
        "else:\n",
        "  print('Downloading script downloader...')\n",
        "  with open(downloader_script, 'wb') as f:\n",
        "    request = requests.get(downloader_script_url)\n",
        "    f.write(request.content)\n",
        "  print('Downloading data using the downloader script...')\n",
        "  !sh downloader.sh"
      ]
    },
    {
      "cell_type": "code",
      "source": [],
      "metadata": {
        "id": "JfJMUHuf_f1Q"
      },
      "execution_count": null,
      "outputs": []
    }
  ]
}