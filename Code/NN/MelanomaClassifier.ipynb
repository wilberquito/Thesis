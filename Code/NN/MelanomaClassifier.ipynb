{
  "nbformat": 4,
  "nbformat_minor": 0,
  "metadata": {
    "colab": {
      "provenance": [],
      "authorship_tag": "ABX9TyOltv+4PytlI3TshDmRFDRJ",
      "include_colab_link": true
    },
    "kernelspec": {
      "name": "python3",
      "display_name": "Python 3"
    },
    "language_info": {
      "name": "python"
    }
  },
  "cells": [
    {
      "cell_type": "markdown",
      "metadata": {
        "id": "view-in-github",
        "colab_type": "text"
      },
      "source": [
        "<a href=\"https://colab.research.google.com/github/wilberquito/ds-thesis/blob/main/Code/NN/MelanomaClassifier.ipynb\" target=\"_parent\"><img src=\"https://colab.research.google.com/assets/colab-badge.svg\" alt=\"Open In Colab\"/></a>"
      ]
    },
    {
      "cell_type": "code",
      "source": [
        "import requests\n",
        "from pathlib import Path"
      ],
      "metadata": {
        "id": "m_eHkfN_9jS2"
      },
      "execution_count": 9,
      "outputs": []
    },
    {
      "cell_type": "code",
      "source": [
        "kaggle_json_url = 'https://raw.githubusercontent.com/wilberquito/ds-thesis/main/Code/NN/kaggle.json'\n",
        "kaggle_json = '/root/.kaggle/kaggle.json'\n",
        "\n",
        "if Path(kaggle_json).exists():\n",
        "  print('Kaggle auth already configured')\n",
        "else:\n",
        "  with open(kaggle_json, 'wb') as f:\n",
        "    print('Configuring kaggle auth...')\n",
        "    request = requests.get(kaggle_json_url)\n",
        "    f.write(request.content)\n",
        "    print(request.content)\n",
        "    !chmod 600 ~/.kaggle/kaggle.json"
      ],
      "metadata": {
        "colab": {
          "base_uri": "https://localhost:8080/"
        },
        "id": "9zUT1MGBAbcI",
        "outputId": "73f5266c-b28c-44ca-f020-9d8e1e417be3"
      },
      "execution_count": 21,
      "outputs": [
        {
          "output_type": "stream",
          "name": "stdout",
          "text": [
            "Configuring kaggle auth...\n",
            "b'{\"username\":\"wilberquito\",\"key\":\"a1cef5be103afee00ae036396afa6cbe\"}'\n"
          ]
        }
      ]
    },
    {
      "cell_type": "code",
      "execution_count": null,
      "metadata": {
        "colab": {
          "base_uri": "https://localhost:8080/"
        },
        "id": "XHtK9yz88rGm",
        "outputId": "634925e1-8f33-4ca3-bc96-7106e907076b"
      },
      "outputs": [
        {
          "output_type": "stream",
          "name": "stdout",
          "text": [
            "Already downloaded script downloader\n",
            "mkdir: cannot create directory ‘./data’: File exists\n",
            "Downloading jpeg-isic2019-512x512.zip to /content/data\n",
            "100% 1.38G/1.38G [00:15<00:00, 72.7MB/s]\n",
            "100% 1.38G/1.38G [00:15<00:00, 98.4MB/s]\n",
            "Downloading jpeg-melanoma-512x512.zip to /content/data\n",
            "100% 2.62G/2.63G [00:25<00:00, 176MB/s]\n",
            "100% 2.63G/2.63G [00:25<00:00, 110MB/s]\n"
          ]
        }
      ],
      "source": [
        "downloader_script_url = 'https://raw.githubusercontent.com/wilberquito/ds-thesis/main/Code/NN/downloader.sh'\n",
        "downloader_script = 'downloader.sh'\n",
        "\n",
        "if Path(downloader_script).exists():\n",
        "  print('Already downloaded script downloader')\n",
        "else:\n",
        "  print('Downloading script downloader...')\n",
        "  with open(downloader_script, 'wb') as f:\n",
        "    request = requests.get(downloader_script_url)\n",
        "    f.write(request.content)\n",
        "\n",
        "!sh downloader.sh"
      ]
    },
    {
      "cell_type": "code",
      "source": [],
      "metadata": {
        "colab": {
          "base_uri": "https://localhost:8080/"
        },
        "id": "9uZcF5Je9qwF",
        "outputId": "f0566a43-b5ad-472a-ad66-5ea1ff7276b6"
      },
      "execution_count": 14,
      "outputs": [
        {
          "output_type": "stream",
          "name": "stdout",
          "text": [
            "Traceback (most recent call last):\n",
            "  File \"/usr/local/bin/kaggle\", line 5, in <module>\n",
            "    from kaggle.cli import main\n",
            "  File \"/usr/local/lib/python3.8/dist-packages/kaggle/__init__.py\", line 23, in <module>\n",
            "    api.authenticate()\n",
            "  File \"/usr/local/lib/python3.8/dist-packages/kaggle/api/kaggle_api_extended.py\", line 164, in authenticate\n",
            "    raise IOError('Could not find {}. Make sure it\\'s located in'\n",
            "OSError: Could not find kaggle.json. Make sure it's located in /root/.kaggle. Or use the environment method.\n",
            "Traceback (most recent call last):\n",
            "  File \"/usr/local/bin/kaggle\", line 5, in <module>\n",
            "    from kaggle.cli import main\n",
            "  File \"/usr/local/lib/python3.8/dist-packages/kaggle/__init__.py\", line 23, in <module>\n",
            "    api.authenticate()\n",
            "  File \"/usr/local/lib/python3.8/dist-packages/kaggle/api/kaggle_api_extended.py\", line 164, in authenticate\n",
            "    raise IOError('Could not find {}. Make sure it\\'s located in'\n",
            "OSError: Could not find kaggle.json. Make sure it's located in /root/.kaggle. Or use the environment method.\n",
            "unzip:  cannot find or open jpeg-melanoma-512x512.zip, jpeg-melanoma-512x512.zip.zip or jpeg-melanoma-512x512.zip.ZIP.\n",
            "unzip:  cannot find or open jpeg-isic2019-512x512.zip, jpeg-isic2019-512x512.zip.zip or jpeg-isic2019-512x512.zip.ZIP.\n",
            "rm: cannot remove 'jpeg-melanoma-512x512.zip': No such file or directory\n",
            "rm: cannot remove 'jpeg-isic2019-512x512.zip': No such file or directory\n",
            "Traceback (most recent call last):\n",
            "  File \"/usr/local/bin/kaggle\", line 5, in <module>\n",
            "    from kaggle.cli import main\n",
            "  File \"/usr/local/lib/python3.8/dist-packages/kaggle/__init__.py\", line 23, in <module>\n",
            "    api.authenticate()\n",
            "  File \"/usr/local/lib/python3.8/dist-packages/kaggle/api/kaggle_api_extended.py\", line 164, in authenticate\n",
            "    raise IOError('Could not find {}. Make sure it\\'s located in'\n",
            "OSError: Could not find kaggle.json. Make sure it's located in /root/.kaggle. Or use the environment method.\n",
            "Traceback (most recent call last):\n",
            "  File \"/usr/local/bin/kaggle\", line 5, in <module>\n",
            "    from kaggle.cli import main\n",
            "  File \"/usr/local/lib/python3.8/dist-packages/kaggle/__init__.py\", line 23, in <module>\n",
            "    api.authenticate()\n",
            "  File \"/usr/local/lib/python3.8/dist-packages/kaggle/api/kaggle_api_extended.py\", line 164, in authenticate\n",
            "    raise IOError('Could not find {}. Make sure it\\'s located in'\n",
            "OSError: Could not find kaggle.json. Make sure it's located in /root/.kaggle. Or use the environment method.\n",
            "unzip:  cannot find or open jpeg-melanoma-768x768.zip, jpeg-melanoma-768x768.zip.zip or jpeg-melanoma-768x768.zip.ZIP.\n",
            "unzip:  cannot find or open jpeg-isic2019-768x768.zip, jpeg-isic2019-768x768.zip.zip or jpeg-isic2019-768x768.zip.ZIP.\n",
            "rm: cannot remove 'jpeg-melanoma-768x768.zip': No such file or directory\n",
            "rm: cannot remove 'jpeg-isic2019-768x768.zip': No such file or directory\n",
            "Traceback (most recent call last):\n",
            "  File \"/usr/local/bin/kaggle\", line 5, in <module>\n",
            "    from kaggle.cli import main\n",
            "  File \"/usr/local/lib/python3.8/dist-packages/kaggle/__init__.py\", line 23, in <module>\n",
            "    api.authenticate()\n",
            "  File \"/usr/local/lib/python3.8/dist-packages/kaggle/api/kaggle_api_extended.py\", line 164, in authenticate\n",
            "    raise IOError('Could not find {}. Make sure it\\'s located in'\n",
            "OSError: Could not find kaggle.json. Make sure it's located in /root/.kaggle. Or use the environment method.\n",
            "Traceback (most recent call last):\n",
            "  File \"/usr/local/bin/kaggle\", line 5, in <module>\n",
            "    from kaggle.cli import main\n",
            "  File \"/usr/local/lib/python3.8/dist-packages/kaggle/__init__.py\", line 23, in <module>\n",
            "    api.authenticate()\n",
            "  File \"/usr/local/lib/python3.8/dist-packages/kaggle/api/kaggle_api_extended.py\", line 164, in authenticate\n",
            "    raise IOError('Could not find {}. Make sure it\\'s located in'\n",
            "OSError: Could not find kaggle.json. Make sure it's located in /root/.kaggle. Or use the environment method.\n",
            "unzip:  cannot find or open jpeg-melanoma-1024x1024.zip, jpeg-melanoma-1024x1024.zip.zip or jpeg-melanoma-1024x1024.zip.ZIP.\n",
            "unzip:  cannot find or open jpeg-isic2019-1024x1024.zip, jpeg-isic2019-1024x1024.zip.zip or jpeg-isic2019-1024x1024.zip.ZIP.\n",
            "rm: cannot remove 'jpeg-melanoma-1024x1024.zip': No such file or directory\n",
            "rm: cannot remove 'jpeg-isic2019-1024x1024.zip': No such file or directory\n"
          ]
        }
      ]
    },
    {
      "cell_type": "code",
      "source": [],
      "metadata": {
        "id": "JfJMUHuf_f1Q"
      },
      "execution_count": null,
      "outputs": []
    }
  ]
}