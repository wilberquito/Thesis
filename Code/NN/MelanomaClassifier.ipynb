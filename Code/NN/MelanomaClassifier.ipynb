{
  "nbformat": 4,
  "nbformat_minor": 0,
  "metadata": {
    "colab": {
      "provenance": [],
      "authorship_tag": "ABX9TyPDa6XbAakC+zF4NAgZPCN+",
      "include_colab_link": true
    },
    "kernelspec": {
      "name": "python3",
      "display_name": "Python 3"
    },
    "language_info": {
      "name": "python"
    }
  },
  "cells": [
    {
      "cell_type": "markdown",
      "metadata": {
        "id": "view-in-github",
        "colab_type": "text"
      },
      "source": [
        "<a href=\"https://colab.research.google.com/github/wilberquito/ds-thesis/blob/main/Code/NN/MelanomaClassifier.ipynb\" target=\"_parent\"><img src=\"https://colab.research.google.com/assets/colab-badge.svg\" alt=\"Open In Colab\"/></a>"
      ]
    },
    {
      "cell_type": "markdown",
      "source": [
        "# Melanoma classifier with Pytorch\n"
      ],
      "metadata": {
        "id": "M3eJvi_bkgvc"
      }
    },
    {
      "cell_type": "code",
      "source": [
        "try:\n",
        "  import google.colab\n",
        "  IN_COLAB = True\n",
        "except:\n",
        "  IN_COLAB = False\n",
        "\n",
        "print(f\"In colab: {IN_COLAB}\")"
      ],
      "metadata": {
        "id": "3uSoIgzhagEy",
        "outputId": "b6095b51-5375-4346-df47-114d2ac0b5b3",
        "colab": {
          "base_uri": "https://localhost:8080/"
        }
      },
      "execution_count": 1,
      "outputs": [
        {
          "output_type": "stream",
          "name": "stdout",
          "text": [
            "In colab: True\n"
          ]
        }
      ]
    },
    {
      "cell_type": "code",
      "source": [
        "import requests\n",
        "from pathlib import Path\n",
        "import pandas as pd"
      ],
      "metadata": {
        "id": "m_eHkfN_9jS2"
      },
      "execution_count": 2,
      "outputs": []
    },
    {
      "cell_type": "code",
      "source": [
        "def pull_kaggle_auth():\n",
        "  kaggle_json_url = 'https://raw.githubusercontent.com/wilberquito/ds-thesis/main/Code/NN/kaggle.json'\n",
        "  kaggle_json = '/root/.kaggle/kaggle.json'\n",
        "  \n",
        "  if Path(kaggle_json).exists():\n",
        "    print('Kaggle auth already configured')\n",
        "  else:\n",
        "    Path('/root/.kaggle').mkdir(parents=True, exist_ok=True)\n",
        "    with open(kaggle_json, 'wb') as f:\n",
        "      print('Configuring kaggle auth...')\n",
        "      request = requests.get(kaggle_json_url)\n",
        "      f.write(request.content)\n",
        "      print(request.content)\n",
        "      !chmod 600 ~/.kaggle/kaggle.json\n",
        "\n",
        "pull_kaggle_auth()"
      ],
      "metadata": {
        "colab": {
          "base_uri": "https://localhost:8080/"
        },
        "id": "9zUT1MGBAbcI",
        "outputId": "c0072997-6bb5-4ef2-d308-89f63a4f12b5"
      },
      "execution_count": 3,
      "outputs": [
        {
          "output_type": "stream",
          "name": "stdout",
          "text": [
            "Configuring kaggle auth...\n",
            "b'{\"username\":\"wilberquito\",\"key\":\"a1cef5be103afee00ae036396afa6cbe\"}'\n"
          ]
        }
      ]
    },
    {
      "cell_type": "code",
      "source": [
        "def pull_scripts():\n",
        "  if not IN_COLAB:\n",
        "    print('No script will be downloaded as you are working in a local machine...')\n",
        "    return\n",
        "    \n",
        "  scripts = {\n",
        "      Path('dataset.py'): 'https://raw.githubusercontent.com/wilberquito/ds-thesis/main/Code/NN/dataset.py',\n",
        "      Path('predict_single_fold.py'): 'https://raw.githubusercontent.com/wilberquito/ds-thesis/main/Code/NN/predict_single_fold.py'\n",
        "  }\n",
        "\n",
        "  for script, url in scripts.items():\n",
        "    print(f'Downloading {script} script...')\n",
        "    with open(script, 'wb') as f:\n",
        "      req = requests.get(url)\n",
        "      f.write(req.content)\n",
        "\n",
        "pull_scripts()"
      ],
      "metadata": {
        "id": "sWUl-HwHbDis",
        "outputId": "ab47967f-d961-4c6b-f9d5-3081b28c514f",
        "colab": {
          "base_uri": "https://localhost:8080/"
        }
      },
      "execution_count": 13,
      "outputs": [
        {
          "output_type": "stream",
          "name": "stdout",
          "text": [
            "Downloading dataset.py script...\n",
            "Downloading predict_single_fold.py script...\n"
          ]
        }
      ]
    },
    {
      "cell_type": "code",
      "execution_count": 5,
      "metadata": {
        "id": "XHtK9yz88rGm",
        "outputId": "1a3b973a-72f1-44a9-a859-29ebd69747f5",
        "colab": {
          "base_uri": "https://localhost:8080/"
        }
      },
      "outputs": [
        {
          "output_type": "stream",
          "name": "stdout",
          "text": [
            "Downloading script downloader...\n",
            "Downloading data using the downloader script...\n",
            "Downloading jpeg-isic2019-512x512.zip to /content/data\n",
            "100% 1.37G/1.38G [00:12<00:00, 95.6MB/s]\n",
            "100% 1.38G/1.38G [00:12<00:00, 115MB/s] \n",
            "Downloading jpeg-melanoma-512x512.zip to /content/data\n",
            "100% 2.62G/2.63G [00:28<00:00, 127MB/s]\n",
            "100% 2.63G/2.63G [00:28<00:00, 100MB/s]\n",
            "Downloading jpeg-isic2019-768x768.zip to /content/data\n",
            " 99% 2.73G/2.74G [00:23<00:00, 89.5MB/s]\n",
            "100% 2.74G/2.74G [00:23<00:00, 123MB/s] \n",
            "Downloading jpeg-melanoma-768x768.zip to /content/data\n",
            "100% 5.32G/5.32G [00:38<00:00, 101MB/s] \n",
            "100% 5.32G/5.32G [00:38<00:00, 148MB/s]\n",
            "Downloading jpeg-isic2019-1024x1024.zip to /content/data\n",
            "100% 4.72G/4.72G [00:33<00:00, 197MB/s]\n",
            "100% 4.72G/4.72G [00:33<00:00, 153MB/s]\n",
            "Downloading jpeg-melanoma-1024x1024.zip to /content/data\n",
            "100% 8.83G/8.85G [01:08<00:00, 134MB/s]\n",
            "100% 8.85G/8.85G [01:08<00:00, 139MB/s]\n"
          ]
        }
      ],
      "source": [
        "def pull_data():\n",
        "  downloader_script_url = 'https://raw.githubusercontent.com/wilberquito/ds-thesis/main/Code/NN/downloader.sh'\n",
        "  downloader_script = 'downloader.sh'\n",
        "\n",
        "  if not Path(downloader_script).exists():\n",
        "    print('Downloading script downloader...')\n",
        "    with open(downloader_script, 'wb') as f:\n",
        "      request = requests.get(downloader_script_url)\n",
        "      f.write(request.content)\n",
        "    print('Downloading data using the downloader script...')\n",
        "    !sh downloader.sh\n",
        "\n",
        "pull_data() "
      ]
    },
    {
      "cell_type": "code",
      "source": [
        "def pull_weights():\n",
        "\n",
        "  if (Path('weights').exists()):\n",
        "    print('models already downloaded')\n",
        "  else:\n",
        "    Path('weights').mkdir(parents=True, exist_ok=True)\n",
        "    m1_url = 'https://github.com/wilberquito/ds-thesis/raw/vicorob_model/weights/8c_b3_768_512_18ep_best_20_fold0.pth'\n",
        "    m2_url = 'https://github.com/wilberquito/ds-thesis/raw/vicorob_model/weights/8c_b3_768_512_18ep_best_fold0.pth'\n",
        "    m3_url = 'https://github.com/wilberquito/ds-thesis/raw/vicorob_model/weights/8c_b3_768_512_18ep_final_fold0.pth'\n",
        "\n",
        "    for url in [m1_url, m2_url, m3_url]:\n",
        "      filename = url.split('/')[-1]\n",
        "      save_path = Path('weights') / Path(filename)\n",
        "      with open(save_path, 'wb') as f:\n",
        "        print(f'Downloading {url}...')\n",
        "        req = requests.get(url)\n",
        "        f.write(req.content)\n",
        "\n",
        "pull_weights()"
      ],
      "metadata": {
        "colab": {
          "base_uri": "https://localhost:8080/"
        },
        "id": "KkR3H0vzKEjb",
        "outputId": "c83b226e-1e8a-42bd-b5ab-30eb35509874"
      },
      "execution_count": 6,
      "outputs": [
        {
          "output_type": "stream",
          "name": "stdout",
          "text": [
            "Downloading https://github.com/wilberquito/ds-thesis/raw/vicorob_model/weights/8c_b3_768_512_18ep_best_20_fold0.pth...\n",
            "Downloading https://github.com/wilberquito/ds-thesis/raw/vicorob_model/weights/8c_b3_768_512_18ep_best_fold0.pth...\n",
            "Downloading https://github.com/wilberquito/ds-thesis/raw/vicorob_model/weights/8c_b3_768_512_18ep_final_fold0.pth...\n"
          ]
        }
      ]
    },
    {
      "cell_type": "markdown",
      "source": [
        "## Exploratory data analysis"
      ],
      "metadata": {
        "id": "w1P5XD81X3m8"
      }
    },
    {
      "cell_type": "code",
      "source": [
        "path = Path(f'./data/jpeg-melanoma-{512}x{512}/train.csv')\n",
        "df = pd.read_csv(path)\n",
        "df.head()"
      ],
      "metadata": {
        "id": "-6J0S-AXX0nk",
        "outputId": "1184e979-f2d6-4f2a-9016-875079bb79f4",
        "colab": {
          "base_uri": "https://localhost:8080/",
          "height": 206
        }
      },
      "execution_count": 7,
      "outputs": [
        {
          "output_type": "execute_result",
          "data": {
            "text/plain": [
              "     image_name  patient_id     sex  age_approx anatom_site_general_challenge  \\\n",
              "0  ISIC_2637011  IP_7279968    male        45.0                     head/neck   \n",
              "1  ISIC_0015719  IP_3075186  female        45.0               upper extremity   \n",
              "2  ISIC_0052212  IP_2842074  female        50.0               lower extremity   \n",
              "3  ISIC_0068279  IP_6890425  female        45.0                     head/neck   \n",
              "4  ISIC_0074268  IP_8723313  female        55.0               upper extremity   \n",
              "\n",
              "  diagnosis benign_malignant  target  tfrecord  width  height  \n",
              "0   unknown           benign       0         0   6000    4000  \n",
              "1   unknown           benign       0         0   6000    4000  \n",
              "2     nevus           benign       0         6   1872    1053  \n",
              "3   unknown           benign       0         0   1872    1053  \n",
              "4   unknown           benign       0        11   6000    4000  "
            ],
            "text/html": [
              "\n",
              "  <div id=\"df-9f79445a-a743-4ff0-9533-2d7b95d7bb9b\">\n",
              "    <div class=\"colab-df-container\">\n",
              "      <div>\n",
              "<style scoped>\n",
              "    .dataframe tbody tr th:only-of-type {\n",
              "        vertical-align: middle;\n",
              "    }\n",
              "\n",
              "    .dataframe tbody tr th {\n",
              "        vertical-align: top;\n",
              "    }\n",
              "\n",
              "    .dataframe thead th {\n",
              "        text-align: right;\n",
              "    }\n",
              "</style>\n",
              "<table border=\"1\" class=\"dataframe\">\n",
              "  <thead>\n",
              "    <tr style=\"text-align: right;\">\n",
              "      <th></th>\n",
              "      <th>image_name</th>\n",
              "      <th>patient_id</th>\n",
              "      <th>sex</th>\n",
              "      <th>age_approx</th>\n",
              "      <th>anatom_site_general_challenge</th>\n",
              "      <th>diagnosis</th>\n",
              "      <th>benign_malignant</th>\n",
              "      <th>target</th>\n",
              "      <th>tfrecord</th>\n",
              "      <th>width</th>\n",
              "      <th>height</th>\n",
              "    </tr>\n",
              "  </thead>\n",
              "  <tbody>\n",
              "    <tr>\n",
              "      <th>0</th>\n",
              "      <td>ISIC_2637011</td>\n",
              "      <td>IP_7279968</td>\n",
              "      <td>male</td>\n",
              "      <td>45.0</td>\n",
              "      <td>head/neck</td>\n",
              "      <td>unknown</td>\n",
              "      <td>benign</td>\n",
              "      <td>0</td>\n",
              "      <td>0</td>\n",
              "      <td>6000</td>\n",
              "      <td>4000</td>\n",
              "    </tr>\n",
              "    <tr>\n",
              "      <th>1</th>\n",
              "      <td>ISIC_0015719</td>\n",
              "      <td>IP_3075186</td>\n",
              "      <td>female</td>\n",
              "      <td>45.0</td>\n",
              "      <td>upper extremity</td>\n",
              "      <td>unknown</td>\n",
              "      <td>benign</td>\n",
              "      <td>0</td>\n",
              "      <td>0</td>\n",
              "      <td>6000</td>\n",
              "      <td>4000</td>\n",
              "    </tr>\n",
              "    <tr>\n",
              "      <th>2</th>\n",
              "      <td>ISIC_0052212</td>\n",
              "      <td>IP_2842074</td>\n",
              "      <td>female</td>\n",
              "      <td>50.0</td>\n",
              "      <td>lower extremity</td>\n",
              "      <td>nevus</td>\n",
              "      <td>benign</td>\n",
              "      <td>0</td>\n",
              "      <td>6</td>\n",
              "      <td>1872</td>\n",
              "      <td>1053</td>\n",
              "    </tr>\n",
              "    <tr>\n",
              "      <th>3</th>\n",
              "      <td>ISIC_0068279</td>\n",
              "      <td>IP_6890425</td>\n",
              "      <td>female</td>\n",
              "      <td>45.0</td>\n",
              "      <td>head/neck</td>\n",
              "      <td>unknown</td>\n",
              "      <td>benign</td>\n",
              "      <td>0</td>\n",
              "      <td>0</td>\n",
              "      <td>1872</td>\n",
              "      <td>1053</td>\n",
              "    </tr>\n",
              "    <tr>\n",
              "      <th>4</th>\n",
              "      <td>ISIC_0074268</td>\n",
              "      <td>IP_8723313</td>\n",
              "      <td>female</td>\n",
              "      <td>55.0</td>\n",
              "      <td>upper extremity</td>\n",
              "      <td>unknown</td>\n",
              "      <td>benign</td>\n",
              "      <td>0</td>\n",
              "      <td>11</td>\n",
              "      <td>6000</td>\n",
              "      <td>4000</td>\n",
              "    </tr>\n",
              "  </tbody>\n",
              "</table>\n",
              "</div>\n",
              "      <button class=\"colab-df-convert\" onclick=\"convertToInteractive('df-9f79445a-a743-4ff0-9533-2d7b95d7bb9b')\"\n",
              "              title=\"Convert this dataframe to an interactive table.\"\n",
              "              style=\"display:none;\">\n",
              "        \n",
              "  <svg xmlns=\"http://www.w3.org/2000/svg\" height=\"24px\"viewBox=\"0 0 24 24\"\n",
              "       width=\"24px\">\n",
              "    <path d=\"M0 0h24v24H0V0z\" fill=\"none\"/>\n",
              "    <path d=\"M18.56 5.44l.94 2.06.94-2.06 2.06-.94-2.06-.94-.94-2.06-.94 2.06-2.06.94zm-11 1L8.5 8.5l.94-2.06 2.06-.94-2.06-.94L8.5 2.5l-.94 2.06-2.06.94zm10 10l.94 2.06.94-2.06 2.06-.94-2.06-.94-.94-2.06-.94 2.06-2.06.94z\"/><path d=\"M17.41 7.96l-1.37-1.37c-.4-.4-.92-.59-1.43-.59-.52 0-1.04.2-1.43.59L10.3 9.45l-7.72 7.72c-.78.78-.78 2.05 0 2.83L4 21.41c.39.39.9.59 1.41.59.51 0 1.02-.2 1.41-.59l7.78-7.78 2.81-2.81c.8-.78.8-2.07 0-2.86zM5.41 20L4 18.59l7.72-7.72 1.47 1.35L5.41 20z\"/>\n",
              "  </svg>\n",
              "      </button>\n",
              "      \n",
              "  <style>\n",
              "    .colab-df-container {\n",
              "      display:flex;\n",
              "      flex-wrap:wrap;\n",
              "      gap: 12px;\n",
              "    }\n",
              "\n",
              "    .colab-df-convert {\n",
              "      background-color: #E8F0FE;\n",
              "      border: none;\n",
              "      border-radius: 50%;\n",
              "      cursor: pointer;\n",
              "      display: none;\n",
              "      fill: #1967D2;\n",
              "      height: 32px;\n",
              "      padding: 0 0 0 0;\n",
              "      width: 32px;\n",
              "    }\n",
              "\n",
              "    .colab-df-convert:hover {\n",
              "      background-color: #E2EBFA;\n",
              "      box-shadow: 0px 1px 2px rgba(60, 64, 67, 0.3), 0px 1px 3px 1px rgba(60, 64, 67, 0.15);\n",
              "      fill: #174EA6;\n",
              "    }\n",
              "\n",
              "    [theme=dark] .colab-df-convert {\n",
              "      background-color: #3B4455;\n",
              "      fill: #D2E3FC;\n",
              "    }\n",
              "\n",
              "    [theme=dark] .colab-df-convert:hover {\n",
              "      background-color: #434B5C;\n",
              "      box-shadow: 0px 1px 3px 1px rgba(0, 0, 0, 0.15);\n",
              "      filter: drop-shadow(0px 1px 2px rgba(0, 0, 0, 0.3));\n",
              "      fill: #FFFFFF;\n",
              "    }\n",
              "  </style>\n",
              "\n",
              "      <script>\n",
              "        const buttonEl =\n",
              "          document.querySelector('#df-9f79445a-a743-4ff0-9533-2d7b95d7bb9b button.colab-df-convert');\n",
              "        buttonEl.style.display =\n",
              "          google.colab.kernel.accessAllowed ? 'block' : 'none';\n",
              "\n",
              "        async function convertToInteractive(key) {\n",
              "          const element = document.querySelector('#df-9f79445a-a743-4ff0-9533-2d7b95d7bb9b');\n",
              "          const dataTable =\n",
              "            await google.colab.kernel.invokeFunction('convertToInteractive',\n",
              "                                                     [key], {});\n",
              "          if (!dataTable) return;\n",
              "\n",
              "          const docLinkHtml = 'Like what you see? Visit the ' +\n",
              "            '<a target=\"_blank\" href=https://colab.research.google.com/notebooks/data_table.ipynb>data table notebook</a>'\n",
              "            + ' to learn more about interactive tables.';\n",
              "          element.innerHTML = '';\n",
              "          dataTable['output_type'] = 'display_data';\n",
              "          await google.colab.output.renderOutput(dataTable, element);\n",
              "          const docLink = document.createElement('div');\n",
              "          docLink.innerHTML = docLinkHtml;\n",
              "          element.appendChild(docLink);\n",
              "        }\n",
              "      </script>\n",
              "    </div>\n",
              "  </div>\n",
              "  "
            ]
          },
          "metadata": {},
          "execution_count": 7
        }
      ]
    },
    {
      "cell_type": "code",
      "source": [
        "df.info()"
      ],
      "metadata": {
        "id": "3EIqEcUBYly7",
        "outputId": "c0a3c171-8904-4edf-fc4f-e59307948840",
        "colab": {
          "base_uri": "https://localhost:8080/"
        }
      },
      "execution_count": 8,
      "outputs": [
        {
          "output_type": "stream",
          "name": "stdout",
          "text": [
            "<class 'pandas.core.frame.DataFrame'>\n",
            "RangeIndex: 33126 entries, 0 to 33125\n",
            "Data columns (total 11 columns):\n",
            " #   Column                         Non-Null Count  Dtype  \n",
            "---  ------                         --------------  -----  \n",
            " 0   image_name                     33126 non-null  object \n",
            " 1   patient_id                     33126 non-null  object \n",
            " 2   sex                            33061 non-null  object \n",
            " 3   age_approx                     33058 non-null  float64\n",
            " 4   anatom_site_general_challenge  32599 non-null  object \n",
            " 5   diagnosis                      33126 non-null  object \n",
            " 6   benign_malignant               33126 non-null  object \n",
            " 7   target                         33126 non-null  int64  \n",
            " 8   tfrecord                       33126 non-null  int64  \n",
            " 9   width                          33126 non-null  int64  \n",
            " 10  height                         33126 non-null  int64  \n",
            "dtypes: float64(1), int64(4), object(6)\n",
            "memory usage: 2.8+ MB\n"
          ]
        }
      ]
    },
    {
      "cell_type": "code",
      "source": [
        "df.describe()"
      ],
      "metadata": {
        "id": "nowLh2F9b5ZA",
        "outputId": "18926ba7-27f2-4161-ca60-84102b15d2af",
        "colab": {
          "base_uri": "https://localhost:8080/",
          "height": 300
        }
      },
      "execution_count": 9,
      "outputs": [
        {
          "output_type": "execute_result",
          "data": {
            "text/plain": [
              "         age_approx        target      tfrecord         width        height\n",
              "count  33058.000000  33126.000000  33126.000000  33126.000000  33126.000000\n",
              "mean      48.870016      0.017630      6.894826   4039.630381   2678.758256\n",
              "std       14.380360      0.131603      4.390486   2109.145590   1437.617626\n",
              "min        0.000000      0.000000     -1.000000    640.000000    480.000000\n",
              "25%       40.000000      0.000000      3.000000   1872.000000   1053.000000\n",
              "50%       50.000000      0.000000      7.000000   5184.000000   3456.000000\n",
              "75%       60.000000      0.000000     11.000000   6000.000000   4000.000000\n",
              "max       90.000000      1.000000     14.000000   6000.000000   6000.000000"
            ],
            "text/html": [
              "\n",
              "  <div id=\"df-e613139b-df1a-4194-90f8-53cc889bfb28\">\n",
              "    <div class=\"colab-df-container\">\n",
              "      <div>\n",
              "<style scoped>\n",
              "    .dataframe tbody tr th:only-of-type {\n",
              "        vertical-align: middle;\n",
              "    }\n",
              "\n",
              "    .dataframe tbody tr th {\n",
              "        vertical-align: top;\n",
              "    }\n",
              "\n",
              "    .dataframe thead th {\n",
              "        text-align: right;\n",
              "    }\n",
              "</style>\n",
              "<table border=\"1\" class=\"dataframe\">\n",
              "  <thead>\n",
              "    <tr style=\"text-align: right;\">\n",
              "      <th></th>\n",
              "      <th>age_approx</th>\n",
              "      <th>target</th>\n",
              "      <th>tfrecord</th>\n",
              "      <th>width</th>\n",
              "      <th>height</th>\n",
              "    </tr>\n",
              "  </thead>\n",
              "  <tbody>\n",
              "    <tr>\n",
              "      <th>count</th>\n",
              "      <td>33058.000000</td>\n",
              "      <td>33126.000000</td>\n",
              "      <td>33126.000000</td>\n",
              "      <td>33126.000000</td>\n",
              "      <td>33126.000000</td>\n",
              "    </tr>\n",
              "    <tr>\n",
              "      <th>mean</th>\n",
              "      <td>48.870016</td>\n",
              "      <td>0.017630</td>\n",
              "      <td>6.894826</td>\n",
              "      <td>4039.630381</td>\n",
              "      <td>2678.758256</td>\n",
              "    </tr>\n",
              "    <tr>\n",
              "      <th>std</th>\n",
              "      <td>14.380360</td>\n",
              "      <td>0.131603</td>\n",
              "      <td>4.390486</td>\n",
              "      <td>2109.145590</td>\n",
              "      <td>1437.617626</td>\n",
              "    </tr>\n",
              "    <tr>\n",
              "      <th>min</th>\n",
              "      <td>0.000000</td>\n",
              "      <td>0.000000</td>\n",
              "      <td>-1.000000</td>\n",
              "      <td>640.000000</td>\n",
              "      <td>480.000000</td>\n",
              "    </tr>\n",
              "    <tr>\n",
              "      <th>25%</th>\n",
              "      <td>40.000000</td>\n",
              "      <td>0.000000</td>\n",
              "      <td>3.000000</td>\n",
              "      <td>1872.000000</td>\n",
              "      <td>1053.000000</td>\n",
              "    </tr>\n",
              "    <tr>\n",
              "      <th>50%</th>\n",
              "      <td>50.000000</td>\n",
              "      <td>0.000000</td>\n",
              "      <td>7.000000</td>\n",
              "      <td>5184.000000</td>\n",
              "      <td>3456.000000</td>\n",
              "    </tr>\n",
              "    <tr>\n",
              "      <th>75%</th>\n",
              "      <td>60.000000</td>\n",
              "      <td>0.000000</td>\n",
              "      <td>11.000000</td>\n",
              "      <td>6000.000000</td>\n",
              "      <td>4000.000000</td>\n",
              "    </tr>\n",
              "    <tr>\n",
              "      <th>max</th>\n",
              "      <td>90.000000</td>\n",
              "      <td>1.000000</td>\n",
              "      <td>14.000000</td>\n",
              "      <td>6000.000000</td>\n",
              "      <td>6000.000000</td>\n",
              "    </tr>\n",
              "  </tbody>\n",
              "</table>\n",
              "</div>\n",
              "      <button class=\"colab-df-convert\" onclick=\"convertToInteractive('df-e613139b-df1a-4194-90f8-53cc889bfb28')\"\n",
              "              title=\"Convert this dataframe to an interactive table.\"\n",
              "              style=\"display:none;\">\n",
              "        \n",
              "  <svg xmlns=\"http://www.w3.org/2000/svg\" height=\"24px\"viewBox=\"0 0 24 24\"\n",
              "       width=\"24px\">\n",
              "    <path d=\"M0 0h24v24H0V0z\" fill=\"none\"/>\n",
              "    <path d=\"M18.56 5.44l.94 2.06.94-2.06 2.06-.94-2.06-.94-.94-2.06-.94 2.06-2.06.94zm-11 1L8.5 8.5l.94-2.06 2.06-.94-2.06-.94L8.5 2.5l-.94 2.06-2.06.94zm10 10l.94 2.06.94-2.06 2.06-.94-2.06-.94-.94-2.06-.94 2.06-2.06.94z\"/><path d=\"M17.41 7.96l-1.37-1.37c-.4-.4-.92-.59-1.43-.59-.52 0-1.04.2-1.43.59L10.3 9.45l-7.72 7.72c-.78.78-.78 2.05 0 2.83L4 21.41c.39.39.9.59 1.41.59.51 0 1.02-.2 1.41-.59l7.78-7.78 2.81-2.81c.8-.78.8-2.07 0-2.86zM5.41 20L4 18.59l7.72-7.72 1.47 1.35L5.41 20z\"/>\n",
              "  </svg>\n",
              "      </button>\n",
              "      \n",
              "  <style>\n",
              "    .colab-df-container {\n",
              "      display:flex;\n",
              "      flex-wrap:wrap;\n",
              "      gap: 12px;\n",
              "    }\n",
              "\n",
              "    .colab-df-convert {\n",
              "      background-color: #E8F0FE;\n",
              "      border: none;\n",
              "      border-radius: 50%;\n",
              "      cursor: pointer;\n",
              "      display: none;\n",
              "      fill: #1967D2;\n",
              "      height: 32px;\n",
              "      padding: 0 0 0 0;\n",
              "      width: 32px;\n",
              "    }\n",
              "\n",
              "    .colab-df-convert:hover {\n",
              "      background-color: #E2EBFA;\n",
              "      box-shadow: 0px 1px 2px rgba(60, 64, 67, 0.3), 0px 1px 3px 1px rgba(60, 64, 67, 0.15);\n",
              "      fill: #174EA6;\n",
              "    }\n",
              "\n",
              "    [theme=dark] .colab-df-convert {\n",
              "      background-color: #3B4455;\n",
              "      fill: #D2E3FC;\n",
              "    }\n",
              "\n",
              "    [theme=dark] .colab-df-convert:hover {\n",
              "      background-color: #434B5C;\n",
              "      box-shadow: 0px 1px 3px 1px rgba(0, 0, 0, 0.15);\n",
              "      filter: drop-shadow(0px 1px 2px rgba(0, 0, 0, 0.3));\n",
              "      fill: #FFFFFF;\n",
              "    }\n",
              "  </style>\n",
              "\n",
              "      <script>\n",
              "        const buttonEl =\n",
              "          document.querySelector('#df-e613139b-df1a-4194-90f8-53cc889bfb28 button.colab-df-convert');\n",
              "        buttonEl.style.display =\n",
              "          google.colab.kernel.accessAllowed ? 'block' : 'none';\n",
              "\n",
              "        async function convertToInteractive(key) {\n",
              "          const element = document.querySelector('#df-e613139b-df1a-4194-90f8-53cc889bfb28');\n",
              "          const dataTable =\n",
              "            await google.colab.kernel.invokeFunction('convertToInteractive',\n",
              "                                                     [key], {});\n",
              "          if (!dataTable) return;\n",
              "\n",
              "          const docLinkHtml = 'Like what you see? Visit the ' +\n",
              "            '<a target=\"_blank\" href=https://colab.research.google.com/notebooks/data_table.ipynb>data table notebook</a>'\n",
              "            + ' to learn more about interactive tables.';\n",
              "          element.innerHTML = '';\n",
              "          dataTable['output_type'] = 'display_data';\n",
              "          await google.colab.output.renderOutput(dataTable, element);\n",
              "          const docLink = document.createElement('div');\n",
              "          docLink.innerHTML = docLinkHtml;\n",
              "          element.appendChild(docLink);\n",
              "        }\n",
              "      </script>\n",
              "    </div>\n",
              "  </div>\n",
              "  "
            ]
          },
          "metadata": {},
          "execution_count": 9
        }
      ]
    },
    {
      "cell_type": "markdown",
      "source": [
        "### Diagnosis"
      ],
      "metadata": {
        "id": "vp_GKtyvbMLx"
      }
    },
    {
      "cell_type": "markdown",
      "source": [
        "Here I notice that the are a lot of `unknown` diagnosis. \n",
        "\n",
        "There are also few examples of `solar lentigo`, `cafe-au-lait macule` and `atypical melanocytic proliferation`. "
      ],
      "metadata": {
        "id": "NNLoAJsXbQg5"
      }
    },
    {
      "cell_type": "code",
      "source": [
        "diagnosis_freq = df['diagnosis'].value_counts()\n",
        "diagnosis_freq"
      ],
      "metadata": {
        "id": "HKJRQJMtaXUS",
        "outputId": "9258f6fd-f334-483e-9f37-4b6c221b1ae6",
        "colab": {
          "base_uri": "https://localhost:8080/"
        }
      },
      "execution_count": 10,
      "outputs": [
        {
          "output_type": "execute_result",
          "data": {
            "text/plain": [
              "unknown                               27124\n",
              "nevus                                  5193\n",
              "melanoma                                584\n",
              "seborrheic keratosis                    135\n",
              "lentigo NOS                              44\n",
              "lichenoid keratosis                      37\n",
              "solar lentigo                             7\n",
              "cafe-au-lait macule                       1\n",
              "atypical melanocytic proliferation        1\n",
              "Name: diagnosis, dtype: int64"
            ]
          },
          "metadata": {},
          "execution_count": 10
        }
      ]
    },
    {
      "cell_type": "code",
      "source": [
        "_ = sns.barplot(x=diagnosis_freq.values, y=diagnosis_freq.index)"
      ],
      "metadata": {
        "id": "Dl3jVpiJaIOi",
        "outputId": "fd39d7c8-dc22-40e2-fa4c-0a99c60175cb",
        "colab": {
          "base_uri": "https://localhost:8080/",
          "height": 171
        }
      },
      "execution_count": 11,
      "outputs": [
        {
          "output_type": "error",
          "ename": "NameError",
          "evalue": "ignored",
          "traceback": [
            "\u001b[0;31m---------------------------------------------------------------------------\u001b[0m",
            "\u001b[0;31mNameError\u001b[0m                                 Traceback (most recent call last)",
            "\u001b[0;32m<ipython-input-11-4adb41d717d6>\u001b[0m in \u001b[0;36m<module>\u001b[0;34m\u001b[0m\n\u001b[0;32m----> 1\u001b[0;31m \u001b[0m_\u001b[0m \u001b[0;34m=\u001b[0m \u001b[0msns\u001b[0m\u001b[0;34m.\u001b[0m\u001b[0mbarplot\u001b[0m\u001b[0;34m(\u001b[0m\u001b[0mx\u001b[0m\u001b[0;34m=\u001b[0m\u001b[0mdiagnosis_freq\u001b[0m\u001b[0;34m.\u001b[0m\u001b[0mvalues\u001b[0m\u001b[0;34m,\u001b[0m \u001b[0my\u001b[0m\u001b[0;34m=\u001b[0m\u001b[0mdiagnosis_freq\u001b[0m\u001b[0;34m.\u001b[0m\u001b[0mindex\u001b[0m\u001b[0;34m)\u001b[0m\u001b[0;34m\u001b[0m\u001b[0;34m\u001b[0m\u001b[0m\n\u001b[0m",
            "\u001b[0;31mNameError\u001b[0m: name 'sns' is not defined"
          ]
        }
      ]
    },
    {
      "cell_type": "markdown",
      "source": [
        "### TfRecord"
      ],
      "metadata": {
        "id": "o02ct1BwcTXo"
      }
    },
    {
      "cell_type": "markdown",
      "source": [
        "There are some entries that it's `tfrecord` features are labeled as -1"
      ],
      "metadata": {
        "id": "hQsKG37zcmPv"
      }
    },
    {
      "cell_type": "code",
      "source": [
        "\n",
        "tfrecord_freq = df['tfrecord'].value_counts()\n",
        "_ = sns.barplot(y=tfrecord_freq.values, x=tfrecord_freq.index)"
      ],
      "metadata": {
        "id": "H-xzAuaMcYJq"
      },
      "execution_count": null,
      "outputs": []
    },
    {
      "cell_type": "code",
      "source": [
        "import seaborn as sns\n",
        "import matplotlib.pyplot as plt\n",
        "\n",
        "sns.set_theme(style=\"ticks\")\n",
        "\n",
        "# Initialize the figure with a logarithmic x axis\n",
        "f, ax = plt.subplots(figsize=(7, 6))\n",
        "ax.set_xscale(\"log\")\n",
        "\n",
        "# Plot the orbital period with horizontal boxes\n",
        "sns.boxplot(x=\"tfrecord\", y=\"diagnosis\", data=df,\n",
        "            whis=[0, 100], width=.6, palette=\"vlag\")\n",
        "\n",
        "# # Add in points to show each observation\n",
        "# sns.stripplot(x=\"distance\", y=\"method\", data=df,\n",
        "#               size=4, color=\".3\", linewidth=0)\n",
        "\n",
        "# Tweak the visual presentation\n",
        "ax.xaxis.grid(True)\n",
        "ax.set(ylabel=\"\")\n",
        "sns.despine(trim=True, left=True)"
      ],
      "metadata": {
        "id": "tQr5rIxHY7Nz"
      },
      "execution_count": null,
      "outputs": []
    },
    {
      "cell_type": "markdown",
      "source": [
        "## Generate dataset for trainning and testing"
      ],
      "metadata": {
        "id": "3ferNPTNffQo"
      }
    },
    {
      "cell_type": "code",
      "source": [
        "from datasets import get_df"
      ],
      "metadata": {
        "id": "Rm3h99DXfecA"
      },
      "execution_count": null,
      "outputs": []
    },
    {
      "cell_type": "code",
      "source": [
        "df_train, df_test, meta_features, n_meta_features, melanoma_id = get_df(8, './data', '512', True)\n",
        "df_train.head()"
      ],
      "metadata": {
        "id": "pO8114fhWINJ"
      },
      "execution_count": null,
      "outputs": []
    },
    {
      "cell_type": "code",
      "source": [
        "# You can notice that from anotom_site_general_challenge it generates onehot encoding of this categorical variable\n",
        "# and generates the features that start with site_\n",
        "df_train.columns"
      ],
      "metadata": {
        "id": "4-la_Gev-XUg"
      },
      "execution_count": null,
      "outputs": []
    },
    {
      "cell_type": "code",
      "source": [
        "diagnosis_freq = df_train['diagnosis'].value_counts()\n",
        "diagnosis_freq, len(diagnosis_freq)"
      ],
      "metadata": {
        "id": "WKEbVDTjWaVt"
      },
      "execution_count": null,
      "outputs": []
    },
    {
      "cell_type": "code",
      "source": [
        "diagnosis_freq = df_train['target'].value_counts()\n",
        "diagnosis_freq, len(diagnosis_freq)"
      ],
      "metadata": {
        "id": "fP0XAtcE_T4P"
      },
      "execution_count": null,
      "outputs": []
    },
    {
      "cell_type": "code",
      "source": [
        "melanoma_id"
      ],
      "metadata": {
        "id": "Jw9QaKda_NiP"
      },
      "execution_count": null,
      "outputs": []
    },
    {
      "cell_type": "code",
      "source": [],
      "metadata": {
        "id": "hc76VocKWaLS"
      },
      "execution_count": null,
      "outputs": []
    },
    {
      "cell_type": "code",
      "source": [],
      "metadata": {
        "id": "EU6ua3pqWaIw"
      },
      "execution_count": null,
      "outputs": []
    },
    {
      "cell_type": "code",
      "source": [],
      "metadata": {
        "id": "F_THCkh5WaGS"
      },
      "execution_count": null,
      "outputs": []
    },
    {
      "cell_type": "code",
      "source": [],
      "metadata": {
        "id": "UQQpq9bKWaD4"
      },
      "execution_count": null,
      "outputs": []
    },
    {
      "cell_type": "code",
      "source": [],
      "metadata": {
        "id": "oq6Z8c08WaBY"
      },
      "execution_count": null,
      "outputs": []
    },
    {
      "cell_type": "code",
      "source": [],
      "metadata": {
        "id": "8943xbgCWZ-4"
      },
      "execution_count": null,
      "outputs": []
    },
    {
      "cell_type": "code",
      "source": [],
      "metadata": {
        "id": "YjsQjJCfWZ8q"
      },
      "execution_count": null,
      "outputs": []
    },
    {
      "cell_type": "code",
      "source": [],
      "metadata": {
        "id": "6oVkJ_uqWZ6O"
      },
      "execution_count": null,
      "outputs": []
    },
    {
      "cell_type": "code",
      "source": [],
      "metadata": {
        "id": "OmRAv5EMWZ3p"
      },
      "execution_count": null,
      "outputs": []
    },
    {
      "cell_type": "code",
      "source": [],
      "metadata": {
        "id": "stvvE5HtWZ1J"
      },
      "execution_count": null,
      "outputs": []
    },
    {
      "cell_type": "code",
      "source": [],
      "metadata": {
        "id": "hkKeUaB4WZyf"
      },
      "execution_count": null,
      "outputs": []
    },
    {
      "cell_type": "code",
      "source": [],
      "metadata": {
        "id": "rh5p-XTzWZuj"
      },
      "execution_count": null,
      "outputs": []
    },
    {
      "cell_type": "code",
      "source": [],
      "metadata": {
        "id": "FZXLcFL3WZlq"
      },
      "execution_count": null,
      "outputs": []
    }
  ]
}